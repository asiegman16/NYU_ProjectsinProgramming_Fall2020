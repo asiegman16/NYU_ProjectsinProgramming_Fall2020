{
  "nbformat": 4,
  "nbformat_minor": 0,
  "metadata": {
    "kernelspec": {
      "display_name": "Python 3",
      "language": "python",
      "name": "python3"
    },
    "language_info": {
      "codemirror_mode": {
        "name": "ipython",
        "version": 3
      },
      "file_extension": ".py",
      "mimetype": "text/x-python",
      "name": "python",
      "nbconvert_exporter": "python",
      "pygments_lexer": "ipython3",
      "version": "3.7.3"
    },
    "colab": {
      "name": "Descriptive_Analysis_in_Python_Unsolved.ipynb",
      "provenance": []
    }
  },
  "cells": [
    {
      "cell_type": "markdown",
      "metadata": {
        "id": "z6LFPM4THY_7",
        "colab_type": "text"
      },
      "source": [
        "# Descriptive Analysis in Python"
      ]
    },
    {
      "cell_type": "markdown",
      "metadata": {
        "id": "lfcanQFTHY_8",
        "colab_type": "text"
      },
      "source": [
        "---"
      ]
    },
    {
      "cell_type": "markdown",
      "metadata": {
        "id": "ohXfZh3RHY_9",
        "colab_type": "text"
      },
      "source": [
        "Today we are going to use the NYC Vehicle Collisions 'accidents.csv' dataset from:\n",
        "https://data.cityofnewyork.us/Public-Safety/NYPD-Motor-Vehicle-Collisions-Crashes/h9gi-nx95\n",
        "\n",
        "Remember, in order to upload a csv to Goolge Colab, you can first download it to you own machine with the following code: \n",
        "\n",
        "1. `!curl 'https://data.cityofnewyork.us/api/views/h9gi-nx95/rows.csv?accessType=DOWNLOAD' -o accidents.csv`\n",
        "2. **In Colab, click on the little arrow on the left-hand side of the screen,**\n",
        "3. **Click on \"Files\" and then \"Upload\" to upload the .csv file,**\n",
        "4. **Select \".csv\" and click \"open\".**"
      ]
    },
    {
      "cell_type": "code",
      "metadata": {
        "id": "6QQyh1xDHpdf",
        "colab_type": "code",
        "colab": {
          "base_uri": "https://localhost:8080/",
          "height": 68
        },
        "outputId": "34c527b3-ab4d-4a3a-81aa-3d3cd568269e"
      },
      "source": [
        "!curl 'https://data.cityofnewyork.us/api/views/h9gi-nx95/rows.csv?accessType=DOWNLOAD' -o accidents.csv"
      ],
      "execution_count": null,
      "outputs": [
        {
          "output_type": "stream",
          "text": [
            "  % Total    % Received % Xferd  Average Speed   Time    Time     Time  Current\n",
            "                                 Dload  Upload   Total   Spent    Left  Speed\n",
            "100  353M    0  353M    0     0  4488k      0 --:--:--  0:01:20 --:--:-- 4795k\n"
          ],
          "name": "stdout"
        }
      ]
    },
    {
      "cell_type": "markdown",
      "metadata": {
        "id": "hLL1lr0XHY_9",
        "colab_type": "text"
      },
      "source": [
        "Now that we have our CSV uploaded into our Colab environment, we can 'read it in' using `pd.read_csv`"
      ]
    },
    {
      "cell_type": "markdown",
      "metadata": {
        "id": "yCZFfsmSHY_-",
        "colab_type": "text"
      },
      "source": [
        "---"
      ]
    },
    {
      "cell_type": "code",
      "metadata": {
        "id": "MBldYwhTHY__",
        "colab_type": "code",
        "colab": {}
      },
      "source": [
        ""
      ],
      "execution_count": null,
      "outputs": []
    },
    {
      "cell_type": "markdown",
      "metadata": {
        "id": "JE73j94NHZAE",
        "colab_type": "text"
      },
      "source": [
        "# Data Types\n",
        "\n",
        "Remember, Python is an object oriented programming language, meaning we can do different things to different objects. But how Python perceives our data (as a string, an integer, a float, a Boolean, a datetime value, et. cetera) deterimnes what we can do with our data. \n",
        "\n",
        "For instance, I can't take the average of a list of strings. So, let's use `df.dtypes` to see how Python is interpreting our data."
      ]
    },
    {
      "cell_type": "code",
      "metadata": {
        "scrolled": true,
        "id": "NnisoEqnHZAF",
        "colab_type": "code",
        "colab": {}
      },
      "source": [
        ""
      ],
      "execution_count": null,
      "outputs": []
    },
    {
      "cell_type": "markdown",
      "metadata": {
        "id": "aosIBfifHZAH",
        "colab_type": "text"
      },
      "source": [
        "It looks like our date and time columns are being read in as strings, not as datetimes, so let's adjust:"
      ]
    },
    {
      "cell_type": "code",
      "metadata": {
        "id": "H0RaFgWsHZAK",
        "colab_type": "code",
        "colab": {}
      },
      "source": [
        ""
      ],
      "execution_count": null,
      "outputs": []
    },
    {
      "cell_type": "markdown",
      "metadata": {
        "id": "9Fdic8jGHZAN",
        "colab_type": "text"
      },
      "source": [
        "We can also convert our original 'DATE' and 'TIME' columns to datetime format:"
      ]
    },
    {
      "cell_type": "code",
      "metadata": {
        "id": "RKHSBZRxHZAQ",
        "colab_type": "code",
        "colab": {}
      },
      "source": [
        ""
      ],
      "execution_count": null,
      "outputs": []
    },
    {
      "cell_type": "markdown",
      "metadata": {
        "id": "GwtMwT8LHZAS",
        "colab_type": "text"
      },
      "source": [
        "# Engineering New Columns\n",
        "\n",
        "Now, let's create a new column called \"INJURY\" and another called \"DEATH\" that only holds a True value if there was at least one injury or death in the incident:"
      ]
    },
    {
      "cell_type": "code",
      "metadata": {
        "id": "p4aA8GDlHZAS",
        "colab_type": "code",
        "colab": {}
      },
      "source": [
        ""
      ],
      "execution_count": null,
      "outputs": []
    },
    {
      "cell_type": "markdown",
      "metadata": {
        "id": "ayEe5QH4HZAW",
        "colab_type": "text"
      },
      "source": [
        "---"
      ]
    },
    {
      "cell_type": "markdown",
      "metadata": {
        "id": "neap8rmgHZAX",
        "colab_type": "text"
      },
      "source": [
        "# Exercise 1: What is the most common contributing factor to collisions?"
      ]
    },
    {
      "cell_type": "code",
      "metadata": {
        "id": "DXuvOttWHZAX",
        "colab_type": "code",
        "colab": {}
      },
      "source": [
        "# your code here"
      ],
      "execution_count": null,
      "outputs": []
    },
    {
      "cell_type": "markdown",
      "metadata": {
        "id": "5urcOdfiHZAa",
        "colab_type": "text"
      },
      "source": [
        "# Solution"
      ]
    },
    {
      "cell_type": "code",
      "metadata": {
        "id": "WHdyxG9kHZAa",
        "colab_type": "code",
        "colab": {}
      },
      "source": [
        ""
      ],
      "execution_count": null,
      "outputs": []
    },
    {
      "cell_type": "markdown",
      "metadata": {
        "id": "tFPA0JP7HZAc",
        "colab_type": "text"
      },
      "source": [
        "# Exercise 2: Break down the number of collisions by borough"
      ]
    },
    {
      "cell_type": "code",
      "metadata": {
        "id": "uMhDlsDmHZAd",
        "colab_type": "code",
        "colab": {}
      },
      "source": [
        "# your code here"
      ],
      "execution_count": null,
      "outputs": []
    },
    {
      "cell_type": "markdown",
      "metadata": {
        "id": "rh6XAOoIHZAf",
        "colab_type": "text"
      },
      "source": [
        "# Solution"
      ]
    },
    {
      "cell_type": "code",
      "metadata": {
        "id": "nXy-oCACI3Hp",
        "colab_type": "code",
        "colab": {}
      },
      "source": [
        ""
      ],
      "execution_count": null,
      "outputs": []
    },
    {
      "cell_type": "markdown",
      "metadata": {
        "id": "M1O3Bg-pHZAh",
        "colab_type": "text"
      },
      "source": [
        "---"
      ]
    },
    {
      "cell_type": "markdown",
      "metadata": {
        "id": "sqaPFhCcHZAi",
        "colab_type": "text"
      },
      "source": [
        "# Basic Data Viz / Plotting"
      ]
    },
    {
      "cell_type": "code",
      "metadata": {
        "id": "Uz-8YDwVHZAi",
        "colab_type": "code",
        "colab": {}
      },
      "source": [
        ""
      ],
      "execution_count": null,
      "outputs": []
    },
    {
      "cell_type": "markdown",
      "metadata": {
        "id": "faWNbRr2HZAk",
        "colab_type": "text"
      },
      "source": [
        "Immediately we see there are some erronenous values here. I don't think there were any accidents in NYC at longitude 0, latitude 40 (especially because that is somewhere in Spain, according to Google). \n",
        "\n",
        "So let's use what's known as a 'Mask' – a selection condition that only keeps the entries we determine to be valid.\n",
        "\n",
        "Another quick Google search tells us that the lat/long for NYC is between 40/41 and -72/-74.5, so let's use that."
      ]
    },
    {
      "cell_type": "code",
      "metadata": {
        "id": "rDPGW4gwHZAn",
        "colab_type": "code",
        "colab": {}
      },
      "source": [
        ""
      ],
      "execution_count": null,
      "outputs": []
    },
    {
      "cell_type": "markdown",
      "metadata": {
        "id": "Pk35HsKUHZAp",
        "colab_type": "text"
      },
      "source": [
        "Much better. Let's increase the figuresize a bit, too, just for ease of viewing. "
      ]
    },
    {
      "cell_type": "code",
      "metadata": {
        "id": "Diq13jCfHZAp",
        "colab_type": "code",
        "colab": {}
      },
      "source": [
        ""
      ],
      "execution_count": null,
      "outputs": []
    },
    {
      "cell_type": "markdown",
      "metadata": {
        "id": "H9yBhaVIHZAr",
        "colab_type": "text"
      },
      "source": [
        "# Overplotting\n",
        "\n",
        "Although cool, this isn't exactly helpful, because there are just so many datapoints. This is known as \"Overplotting.\"\n",
        "\n",
        "To get around overplotting, we can sample our data by either specifying the number of points we want to keep, or the percentage of our data set that we want to keep."
      ]
    },
    {
      "cell_type": "markdown",
      "metadata": {
        "id": "g8NQRIe4HZAr",
        "colab_type": "text"
      },
      "source": [
        "## `sample(n= ...)` \n",
        "\n",
        "let's us keep a specified number of data points to plot"
      ]
    },
    {
      "cell_type": "code",
      "metadata": {
        "id": "T5l8tmNgHZAs",
        "colab_type": "code",
        "colab": {}
      },
      "source": [
        ""
      ],
      "execution_count": null,
      "outputs": []
    },
    {
      "cell_type": "markdown",
      "metadata": {
        "id": "QWSox4WCHZAu",
        "colab_type": "text"
      },
      "source": [
        "## `sample(frac= ...)` \n",
        "\n",
        "let's us keep a specified percentage (fraction) of data points to plot"
      ]
    },
    {
      "cell_type": "code",
      "metadata": {
        "id": "iHahFm06HZAu",
        "colab_type": "code",
        "colab": {}
      },
      "source": [
        ""
      ],
      "execution_count": null,
      "outputs": []
    },
    {
      "cell_type": "markdown",
      "metadata": {
        "id": "tl6MEBBuHZAw",
        "colab_type": "text"
      },
      "source": [
        "## `s`\n",
        "\n",
        "let's us change the marker size"
      ]
    },
    {
      "cell_type": "code",
      "metadata": {
        "id": "KmRvnujaHZAw",
        "colab_type": "code",
        "colab": {}
      },
      "source": [
        ""
      ],
      "execution_count": null,
      "outputs": []
    },
    {
      "cell_type": "markdown",
      "metadata": {
        "id": "uywjToFpHZA0",
        "colab_type": "text"
      },
      "source": [
        "## `alpha`\n",
        "\n",
        "let's us change the transparency of the marker"
      ]
    },
    {
      "cell_type": "code",
      "metadata": {
        "id": "ihreVpXNHZA1",
        "colab_type": "code",
        "colab": {}
      },
      "source": [
        ""
      ],
      "execution_count": null,
      "outputs": []
    },
    {
      "cell_type": "markdown",
      "metadata": {
        "id": "_N8XJJ59HZA3",
        "colab_type": "text"
      },
      "source": [
        "---"
      ]
    },
    {
      "cell_type": "markdown",
      "metadata": {
        "id": "IoW1mBulHZA4",
        "colab_type": "text"
      },
      "source": [
        "# Datetimes \n",
        "\n",
        "Now, back to working with datetimes, in particular, time series data (data that is obtained at successive times, often with equal intervals between them).\n",
        "\n",
        "Pandas has proven very successful as a tool for working with time series data, especially in the financial data analysis space. Using the [NumPy](http://www.numpy.org/) `datetime64` and `timedelta64` dtypes, pandas consolidated a large number of features from other Python libraries as well as created a tremendous amount of new functionality for manipulating time series data.\n",
        "\n",
        "To illustrate, let's generate a list of datetime values for 3 neighboring days starting from `01/30/2017` with the interval equals to one hour. \n",
        "\n",
        "The [`date_range`](http://pandas.pydata.org/pandas-docs/version/0.19.1/generated/pandas.date_range.html) function can return such list in [`DatetimeIndex`](http://pandas.pydata.org/pandas-docs/stable/generated/pandas.DatetimeIndex.html) format. \n",
        "\n",
        "We simply should define the left bound for generating dates `start` (`\"01/30/2017\"` in our case), the right bound for generating dates `end` or the amount of intervals `periods` (`3*24` in our case, because we are going to cover three days) and preferable frequency `freq` (`'H'` in our case)"
      ]
    },
    {
      "cell_type": "code",
      "metadata": {
        "id": "D3X7BgnNHZA4",
        "colab_type": "code",
        "colab": {}
      },
      "source": [
        ""
      ],
      "execution_count": null,
      "outputs": []
    },
    {
      "cell_type": "markdown",
      "metadata": {
        "id": "25zc3KNfHZA6",
        "colab_type": "text"
      },
      "source": [
        "## `pd.to_datetime`"
      ]
    },
    {
      "cell_type": "markdown",
      "metadata": {
        "id": "ZsYosVQ8HZA6",
        "colab_type": "text"
      },
      "source": [
        "To convert a `Series` or list-like object of date-like objects e.g. strings, epochs, or a mixture, you can use the [`to_datetime`](http://pandas.pydata.org/pandas-docs/version/0.19.2/generated/pandas.to_datetime.html) function. When passed a `Series`, this returns a Series (with the same index), while a list-like is converted to a `DatetimeIndex`:"
      ]
    },
    {
      "cell_type": "code",
      "metadata": {
        "id": "jVqdNKe9HZA7",
        "colab_type": "code",
        "colab": {}
      },
      "source": [
        ""
      ],
      "execution_count": null,
      "outputs": []
    },
    {
      "cell_type": "markdown",
      "metadata": {
        "id": "SAiJ1mT6HZA9",
        "colab_type": "text"
      },
      "source": [
        "---"
      ]
    },
    {
      "cell_type": "markdown",
      "metadata": {
        "id": "XH5rz2hUHZA9",
        "colab_type": "text"
      },
      "source": [
        "# New Data!\n",
        "\n",
        "To better illustrate working with datetimes, let's look at the [Daily minimum temperatures in Melbourne data set from Kaggle](https://www.kaggle.com/paulbrabban/daily-minimum-temperatures-in-melbourne) \n",
        "\n",
        "You can download this dataset using the \"Download\" section. "
      ]
    },
    {
      "cell_type": "code",
      "metadata": {
        "scrolled": true,
        "id": "iKF8ZtSOHZA-",
        "colab_type": "code",
        "colab": {}
      },
      "source": [
        ""
      ],
      "execution_count": null,
      "outputs": []
    },
    {
      "cell_type": "markdown",
      "metadata": {
        "id": "CpgZu-eSHZA_",
        "colab_type": "text"
      },
      "source": [
        "Let's drop that final row (the one that appears to just be a description of the data set)."
      ]
    },
    {
      "cell_type": "code",
      "metadata": {
        "id": "CMeYCQaxHZBA",
        "colab_type": "code",
        "colab": {}
      },
      "source": [
        ""
      ],
      "execution_count": null,
      "outputs": []
    },
    {
      "cell_type": "markdown",
      "metadata": {
        "id": "k8tzi5mIHZBD",
        "colab_type": "text"
      },
      "source": [
        "## `to_numeric` \n",
        "\n",
        "Along with converting our 'date' column to a datetime dtype, we can also use `pd.to_numeric` to convert the temperatures in our data set to a numeric type. "
      ]
    },
    {
      "cell_type": "code",
      "metadata": {
        "id": "pVH3z8_8HZBE",
        "colab_type": "code",
        "colab": {}
      },
      "source": [
        ""
      ],
      "execution_count": null,
      "outputs": []
    },
    {
      "cell_type": "markdown",
      "metadata": {
        "id": "0WkATaVjHZBK",
        "colab_type": "text"
      },
      "source": [
        "---"
      ]
    },
    {
      "cell_type": "markdown",
      "metadata": {
        "id": "THf6zc5GHZBL",
        "colab_type": "text"
      },
      "source": [
        "# Exercise 1: Find the minimum temperture for all of the recorded history included in this data set:"
      ]
    },
    {
      "cell_type": "code",
      "metadata": {
        "id": "dnxppTV2HZBL",
        "colab_type": "code",
        "colab": {}
      },
      "source": [
        "# your code here"
      ],
      "execution_count": null,
      "outputs": []
    },
    {
      "cell_type": "markdown",
      "metadata": {
        "id": "WNW2YOXdHZBN",
        "colab_type": "text"
      },
      "source": [
        "# Solution"
      ]
    },
    {
      "cell_type": "code",
      "metadata": {
        "id": "Vx4NIpRnHZBO",
        "colab_type": "code",
        "colab": {}
      },
      "source": [
        ""
      ],
      "execution_count": null,
      "outputs": []
    },
    {
      "cell_type": "markdown",
      "metadata": {
        "id": "AUGhi8d2HZBP",
        "colab_type": "text"
      },
      "source": [
        "# Exercise 2: Find the temperature for every day in January, 1981:"
      ]
    },
    {
      "cell_type": "code",
      "metadata": {
        "id": "MzT6y7O0HZBQ",
        "colab_type": "code",
        "colab": {}
      },
      "source": [
        "# your code here"
      ],
      "execution_count": null,
      "outputs": []
    },
    {
      "cell_type": "markdown",
      "metadata": {
        "id": "yNc-xfNQHZBR",
        "colab_type": "text"
      },
      "source": [
        "# Solution"
      ]
    },
    {
      "cell_type": "code",
      "metadata": {
        "scrolled": true,
        "id": "EhYVCW6dHZBR",
        "colab_type": "code",
        "colab": {}
      },
      "source": [
        ""
      ],
      "execution_count": null,
      "outputs": []
    },
    {
      "cell_type": "markdown",
      "metadata": {
        "id": "xWjJCyTCHZBU",
        "colab_type": "text"
      },
      "source": [
        "# Exercise 3: Find the temperature for every day between Jan. 5, 1990 and Jan. 12, 1990:"
      ]
    },
    {
      "cell_type": "code",
      "metadata": {
        "id": "xXRG3fmcHZBU",
        "colab_type": "code",
        "colab": {}
      },
      "source": [
        "# your code here"
      ],
      "execution_count": null,
      "outputs": []
    },
    {
      "cell_type": "markdown",
      "metadata": {
        "id": "I3KT_EfxHZBX",
        "colab_type": "text"
      },
      "source": [
        "# Solution"
      ]
    },
    {
      "cell_type": "code",
      "metadata": {
        "id": "BcZDS2s7HZBX",
        "colab_type": "code",
        "colab": {}
      },
      "source": [
        ""
      ],
      "execution_count": null,
      "outputs": []
    },
    {
      "cell_type": "markdown",
      "metadata": {
        "id": "maCITJtDHZBZ",
        "colab_type": "text"
      },
      "source": [
        "# Exercise 4: Plot the temperature for every day in February, 1981:"
      ]
    },
    {
      "cell_type": "code",
      "metadata": {
        "id": "VoILVMQ4HZBa",
        "colab_type": "code",
        "colab": {}
      },
      "source": [
        "# your code here"
      ],
      "execution_count": null,
      "outputs": []
    },
    {
      "cell_type": "markdown",
      "metadata": {
        "id": "WGy1ppwFHZBc",
        "colab_type": "text"
      },
      "source": [
        "# Solution"
      ]
    },
    {
      "cell_type": "code",
      "metadata": {
        "id": "uBaD3narHZBc",
        "colab_type": "code",
        "colab": {}
      },
      "source": [
        ""
      ],
      "execution_count": null,
      "outputs": []
    },
    {
      "cell_type": "markdown",
      "metadata": {
        "id": "e1inMNgHHZBf",
        "colab_type": "text"
      },
      "source": [
        "# Exercise 5: Find the average temperature in February, 1981:"
      ]
    },
    {
      "cell_type": "code",
      "metadata": {
        "id": "4W3Z53z8HZBf",
        "colab_type": "code",
        "colab": {}
      },
      "source": [
        "# your code here"
      ],
      "execution_count": null,
      "outputs": []
    },
    {
      "cell_type": "markdown",
      "metadata": {
        "id": "-uUYHQu4HZBh",
        "colab_type": "text"
      },
      "source": [
        "# Solution"
      ]
    },
    {
      "cell_type": "code",
      "metadata": {
        "id": "ScUJ_78NHZBh",
        "colab_type": "code",
        "colab": {}
      },
      "source": [
        ""
      ],
      "execution_count": null,
      "outputs": []
    },
    {
      "cell_type": "markdown",
      "metadata": {
        "id": "eNN1d0YuHZBj",
        "colab_type": "text"
      },
      "source": [
        "# Exercise 6: Find how many days the temperature was less than 2 degress across the whole data set:"
      ]
    },
    {
      "cell_type": "code",
      "metadata": {
        "id": "1JxaFQvuHZBj",
        "colab_type": "code",
        "colab": {}
      },
      "source": [
        "# your code here"
      ],
      "execution_count": null,
      "outputs": []
    },
    {
      "cell_type": "markdown",
      "metadata": {
        "id": "E5Sp4FLiHZBl",
        "colab_type": "text"
      },
      "source": [
        "# Solution"
      ]
    },
    {
      "cell_type": "code",
      "metadata": {
        "id": "sTz6viVgHZBm",
        "colab_type": "code",
        "colab": {}
      },
      "source": [
        ""
      ],
      "execution_count": null,
      "outputs": []
    },
    {
      "cell_type": "markdown",
      "metadata": {
        "id": "J0l4I30WHZBo",
        "colab_type": "text"
      },
      "source": [
        "---"
      ]
    },
    {
      "cell_type": "markdown",
      "metadata": {
        "id": "hGDOFEUEHZBo",
        "colab_type": "text"
      },
      "source": [
        "# Resampling\n",
        "\n",
        "Resampling involves changing the frequency of your time series observations. \n",
        "\n",
        "- Upsampling means you increase the frequency of the samples (say, from minutes to seconds)\n",
        "- Downsampling means you decrease the frequency of the samples (say, from months to days)\n",
        "\n",
        "Imagine we are trying to determine the average weekly temperture from our Melbourne set, for instance. In that case, we would need to upsample the information from daily to weekly. "
      ]
    },
    {
      "cell_type": "code",
      "metadata": {
        "id": "BTw8HrRSHZBo",
        "colab_type": "code",
        "colab": {}
      },
      "source": [
        ""
      ],
      "execution_count": null,
      "outputs": []
    },
    {
      "cell_type": "markdown",
      "metadata": {
        "id": "-rpQ5sr7HZBs",
        "colab_type": "text"
      },
      "source": [
        "Resampling is also a fast way to smooth in some essence the time series. For instance, the time series of monthly averages has much less peaks or outliers and allows tracking the periodicity. \n",
        "\n",
        "One way to smooth a time series is to calculate a rolling average – the average value of the current point and `N` previous points. It can be calcualted using [`rolling`](http://pandas.pydata.org/pandas-docs/stable/generated/pandas.DataFrame.rolling.html) pandas's method."
      ]
    },
    {
      "cell_type": "code",
      "metadata": {
        "id": "2gKnfMxTHZBs",
        "colab_type": "code",
        "colab": {}
      },
      "source": [
        ""
      ],
      "execution_count": null,
      "outputs": []
    },
    {
      "cell_type": "markdown",
      "metadata": {
        "id": "KYvzY5QeHZBw",
        "colab_type": "text"
      },
      "source": [
        "If you set the hourly frequency in the [`resample()`](http://pandas.pydata.org/pandas-docs/version/0.17.0/generated/pandas.DataFrame.resample.html) function, then `NaN` values will be created, because there are no more tiny distribution of the temperature.\n",
        "\n",
        "This is upsampling."
      ]
    },
    {
      "cell_type": "code",
      "metadata": {
        "scrolled": true,
        "id": "V1ZGJWPyHZBw",
        "colab_type": "code",
        "colab": {}
      },
      "source": [
        ""
      ],
      "execution_count": null,
      "outputs": []
    },
    {
      "cell_type": "markdown",
      "metadata": {
        "id": "73dzLQllHZBx",
        "colab_type": "text"
      },
      "source": [
        "But we can interpolate the missing values at this new frequency.\n",
        "\n",
        "The `Series` pandas's object provides the [`interpolate`](http://pandas.pydata.org/pandas-docs/stable/generated/pandas.DataFrame.interpolate.html) function to interpolate missing values. A good starting point is to use a `linear interpolation`. This draws a straight line between available data and fills in values at the chosen frequency from this line."
      ]
    },
    {
      "cell_type": "code",
      "metadata": {
        "scrolled": true,
        "id": "qyI7o4UhHZBx",
        "colab_type": "code",
        "colab": {}
      },
      "source": [
        ""
      ],
      "execution_count": null,
      "outputs": []
    },
    {
      "cell_type": "code",
      "metadata": {
        "id": "SClqf16kJMWZ",
        "colab_type": "code",
        "colab": {}
      },
      "source": [
        ""
      ],
      "execution_count": null,
      "outputs": []
    }
  ]
}