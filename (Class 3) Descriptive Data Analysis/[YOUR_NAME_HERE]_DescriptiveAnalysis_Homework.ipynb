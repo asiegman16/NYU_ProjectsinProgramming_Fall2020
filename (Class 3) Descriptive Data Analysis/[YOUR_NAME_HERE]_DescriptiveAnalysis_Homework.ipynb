{
 "cells": [
  {
   "cell_type": "markdown",
   "metadata": {},
   "source": [
    "## To submit this assignment, please solve the following problem. Then, save your notebook with the format [YOUR_NAME_HERE]\\_DescriptiveAnalysis_Homework and submit via NYU Classes. "
   ]
  },
  {
   "cell_type": "markdown",
   "metadata": {},
   "source": [
    "---"
   ]
  },
  {
   "cell_type": "markdown",
   "metadata": {},
   "source": [
    "### For this assignment, you must: \n",
    "\n",
    "<br> 1. Download the CSV found here:\n",
    "https://data.cityofnewyork.us/Health/DOHMH-Childcare-Center-Inspections/dsg6-ifza <br>\n",
    "<br> 2. Create a Pandas DataFrame from said CSV. <br> \n",
    "<br> 3. Answer the following questions: \n",
    " - What is the most common program type inspected in 2018? \n",
    " - What is the violation status for every inspection that took place in May, 2018\n",
    "\n"
   ]
  },
  {
   "cell_type": "code",
   "execution_count": null,
   "metadata": {},
   "outputs": [],
   "source": []
  }
 ],
 "metadata": {
  "kernelspec": {
   "display_name": "Python 3",
   "language": "python",
   "name": "python3"
  },
  "language_info": {
   "codemirror_mode": {
    "name": "ipython",
    "version": 3
   },
   "file_extension": ".py",
   "mimetype": "text/x-python",
   "name": "python",
   "nbconvert_exporter": "python",
   "pygments_lexer": "ipython3",
   "version": "3.7.3"
  }
 },
 "nbformat": 4,
 "nbformat_minor": 2
}
