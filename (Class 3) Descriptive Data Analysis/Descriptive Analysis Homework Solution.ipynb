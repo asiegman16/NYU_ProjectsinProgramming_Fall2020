{
 "cells": [
  {
   "cell_type": "markdown",
   "metadata": {},
   "source": [
    "### For this assignment, you must: \n",
    "\n",
    "<br> 1. Download the CSV found here:\n",
    "https://data.cityofnewyork.us/Health/DOHMH-Childcare-Center-Inspections/dsg6-ifza <br>\n",
    "<br> 2. Create a Pandas DataFrame from said CSV. <br> \n",
    "<br> 3. Answer the following questions: \n",
    " - What is the most common program type inspected in 2018? \n",
    " - What is the violation status for every inspection that took place in May, 2018\n",
    "\n"
   ]
  },
  {
   "cell_type": "code",
   "execution_count": 52,
   "metadata": {},
   "outputs": [],
   "source": [
    "import pandas as pd\n",
    "\n",
    "data = pd.read_csv(\"./DOHMH_Childcare_Center_Inspections.csv\")\n",
    "\n",
    "pd.options.display.max_columns = 50"
   ]
  },
  {
   "cell_type": "code",
   "execution_count": 53,
   "metadata": {
    "scrolled": true
   },
   "outputs": [
    {
     "data": {
      "text/plain": [
       "PRESCHOOL         17055\n",
       "INFANT TODDLER     2588\n",
       "Preschool            14\n",
       "Name: Program Type, dtype: int64"
      ]
     },
     "execution_count": 53,
     "metadata": {},
     "output_type": "execute_result"
    }
   ],
   "source": [
    "# most common program type inspected in 2018\n",
    "\n",
    "data['Inspection Date'] = pd.to_datetime(data['Inspection Date'], format=\"%m/%d/%Y\")\n",
    "\n",
    "data.set_index('Inspection Date', inplace=True)\n",
    "\n",
    "data['2018']['Program Type'].value_counts()"
   ]
  },
  {
   "cell_type": "code",
   "execution_count": 60,
   "metadata": {},
   "outputs": [
    {
     "data": {
      "text/plain": [
       "CORRECTED    1923\n",
       "OPEN            4\n",
       "Name: Violation Status, dtype: int64"
      ]
     },
     "execution_count": 60,
     "metadata": {},
     "output_type": "execute_result"
    }
   ],
   "source": [
    "# violation status for every inspection in May 2018 \n",
    "\n",
    "data['05-2018']['Violation Status'].value_counts()"
   ]
  }
 ],
 "metadata": {
  "kernelspec": {
   "display_name": "Python 3",
   "language": "python",
   "name": "python3"
  },
  "language_info": {
   "codemirror_mode": {
    "name": "ipython",
    "version": 3
   },
   "file_extension": ".py",
   "mimetype": "text/x-python",
   "name": "python",
   "nbconvert_exporter": "python",
   "pygments_lexer": "ipython3",
   "version": "3.7.3"
  }
 },
 "nbformat": 4,
 "nbformat_minor": 2
}
