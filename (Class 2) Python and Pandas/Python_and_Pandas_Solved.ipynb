{
 "cells": [
  {
   "cell_type": "markdown",
   "metadata": {
    "colab_type": "text",
    "id": "E0odeRpxSuTH"
   },
   "source": [
    "# Data Analysis with Python and Pandas "
   ]
  },
  {
   "cell_type": "markdown",
   "metadata": {
    "colab_type": "text",
    "id": "PIJ1rI9YSuTI"
   },
   "source": [
    "---"
   ]
  },
  {
   "cell_type": "markdown",
   "metadata": {
    "colab": {},
    "colab_type": "code",
    "id": "F7ebCLi_SuTJ"
   },
   "source": [
    "```python \n",
    "\n",
    "import pandas as pd # importing the Pandas library\n",
    "\n",
    "```"
   ]
  },
  {
   "cell_type": "markdown",
   "metadata": {
    "colab_type": "text",
    "id": "v3Pl1P4cSuTN"
   },
   "source": [
    "---"
   ]
  },
  {
   "cell_type": "markdown",
   "metadata": {
    "colab_type": "text",
    "id": "_O-WZw-JSuTN"
   },
   "source": [
    "# Data Upload\n",
    "\n",
    "The first step of data analysis is to actually get your data in the right place. Remember that using Colab is like borrowing someone else's computer. So, in order to upload our csv (called \"SternTech_UserData.csv\") we need to: \n",
    "\n",
    "1. **Download the .zip file from the NYU Classes > Resources folder to your own computer,** \n",
    "\n",
    "2. **In Colab, click on the little arrow on the left-hand side of the screen,**\n",
    "\n",
    "3. **Click on \"Files\" and then \"Upload\" to upload the unzipped .csv file,**\n",
    "\n",
    "4. **Select \"SternTech_UserData.csv\" (again, the unzipped version) and click \"open\".**"
   ]
  },
  {
   "cell_type": "markdown",
   "metadata": {
    "colab_type": "text",
    "id": "6kj05ADmSuTO"
   },
   "source": [
    "---"
   ]
  },
  {
   "cell_type": "markdown",
   "metadata": {
    "colab_type": "text",
    "id": "ooYkrvKtSuTO"
   },
   "source": [
    "### Now that I have my csv in the right place, I can \"read it in\" using pd.read_csv.\n",
    "\n",
    "### First we are going to work with our 'SternTech_UserData.csv', a dataset of fake data that I created to illustrate the basic tenants of data analysis using Python and Pandas. \n",
    "\n",
    "### Below, we are setting our dataset equal to the variable 'df' (a commonplace variable name, standing for 'data frame'). "
   ]
  },
  {
   "cell_type": "markdown",
   "metadata": {
    "colab": {},
    "colab_type": "code",
    "id": "q2KSgr5SSuTP"
   },
   "source": [
    "``` python\n",
    "\n",
    "df = pd.read_csv('./SternTech_UserData.csv',encoding='utf-8') # read in the csv\n",
    "\n",
    "# you can ignore the 'encoding' piece for now, we'll get to that later on when we talk about web scraping. \n",
    "\n",
    "```"
   ]
  },
  {
   "cell_type": "markdown",
   "metadata": {
    "colab_type": "text",
    "id": "oEnTuqitSuTR"
   },
   "source": [
    "# Primary Analysis of our Data"
   ]
  },
  {
   "cell_type": "markdown",
   "metadata": {
    "colab": {},
    "colab_type": "code",
    "id": "ObdJvu2PSuTS"
   },
   "source": [
    "``` python\n",
    "\n",
    "pd.options.display.max_rows = 2000 # the way Jupyter Notebook tends to display the results of such queries isn't \n",
    "                                   # always helpful, but we can very easily change that.\n",
    "                                   # this will ensure we can view up to 2,000 rows without seeing elipses in the UI\n",
    "    \n",
    "pd.options.display.max_columns = 50 # try commenting out this last line ('max_columns =50') then run the cell below\n",
    "                                    # to see the difference this formatting makes \n",
    "    \n",
    "```"
   ]
  },
  {
   "cell_type": "markdown",
   "metadata": {
    "colab_type": "text",
    "id": "jJ-mJHNLSuTV"
   },
   "source": [
    "### `df.head()` will give us the first five rows of our data frame \n",
    "### `df.tail()` will give us the last five rows \n",
    "### `df.head(15)` will give us the first fifteen rows <br>"
   ]
  },
  {
   "cell_type": "markdown",
   "metadata": {
    "colab": {
     "base_uri": "https://localhost:8080/",
     "height": 484
    },
    "colab_type": "code",
    "id": "oNEpTyitSuTV",
    "outputId": "5046b8bc-d7b7-49bf-9126-b6f00b67f922"
   },
   "source": [
    "``` python \n",
    "\n",
    "df.head() \n",
    "\n",
    "```"
   ]
  },
  {
   "cell_type": "markdown",
   "metadata": {
    "colab_type": "text",
    "id": "HY_qhgFVSuTY"
   },
   "source": [
    "### `df.columns` will give us a list of all the column names in our data frame"
   ]
  },
  {
   "cell_type": "markdown",
   "metadata": {
    "colab": {
     "base_uri": "https://localhost:8080/",
     "height": 67
    },
    "colab_type": "code",
    "id": "tCU-IcRBSuTY",
    "outputId": "461e27e7-1d99-4238-815b-972660096cf9"
   },
   "source": [
    "``` python\n",
    "\n",
    "df.columns \n",
    "\n",
    "```"
   ]
  },
  {
   "cell_type": "markdown",
   "metadata": {
    "colab_type": "text",
    "id": "mJg-yATuSuTa"
   },
   "source": [
    "### `df.dtypes` is going to tell us how the computer is interpreting our data (for instance, as a string, integer, float, et. cetera). Please note that in Pandas, \"object\" is, for all intents and purposes, the same as a \"string\" in Python."
   ]
  },
  {
   "cell_type": "markdown",
   "metadata": {
    "colab": {
     "base_uri": "https://localhost:8080/",
     "height": 185
    },
    "colab_type": "code",
    "id": "qMnC4u1uSuTb",
    "outputId": "3432f005-e26f-4e0b-e642-3bb466be41b1"
   },
   "source": [
    "``` python\n",
    "\n",
    "df.dtypes \n",
    "\n",
    "```"
   ]
  },
  {
   "cell_type": "markdown",
   "metadata": {
    "colab_type": "text",
    "id": "Yeu0RgamSuTe"
   },
   "source": [
    "### Let's drop that \"unnamed\" column because it's not going to do us any good."
   ]
  },
  {
   "cell_type": "markdown",
   "metadata": {
    "colab": {},
    "colab_type": "code",
    "id": "ibQxOWIESuTe"
   },
   "source": [
    "``` python\n",
    "\n",
    "df = df.drop(df.columns[[0]],axis=1)\n",
    "\n",
    "# this is saying, \"drop the first column (the 0th index)\"\n",
    "# \"axis=1\" specifies that we want to drop a column. If we used \"axis=0\" we would be specifying a row to drop\n",
    "\n",
    "```"
   ]
  },
  {
   "cell_type": "markdown",
   "metadata": {
    "colab_type": "text",
    "id": "I-uIABteSuTh"
   },
   "source": [
    "### `df.describe` is going to give us the basic statistical metrics for our data frame"
   ]
  },
  {
   "cell_type": "markdown",
   "metadata": {
    "colab": {
     "base_uri": "https://localhost:8080/",
     "height": 443
    },
    "colab_type": "code",
    "id": "1vH2QwLASuTh",
    "outputId": "97d562bd-8156-4236-d7e8-878365d98cb1"
   },
   "source": [
    "``` python\n",
    "\n",
    "df.describe(include=\"all\")\n",
    "\n",
    "```"
   ]
  },
  {
   "cell_type": "markdown",
   "metadata": {
    "colab_type": "text",
    "id": "YlvZScvVSuTl"
   },
   "source": [
    "### `df.count()` is going to give us a count of the non-null cells in each column"
   ]
  },
  {
   "cell_type": "markdown",
   "metadata": {
    "colab": {
     "base_uri": "https://localhost:8080/",
     "height": 168
    },
    "colab_type": "code",
    "id": "S4-IzictSuTl",
    "outputId": "98928e91-0d9e-4618-e6d5-0231f687dbda"
   },
   "source": [
    "``` python\n",
    "\n",
    "df.count()\n",
    "\n",
    "```"
   ]
  },
  {
   "cell_type": "markdown",
   "metadata": {
    "colab_type": "text",
    "id": "3Sxwh9AYSuTp"
   },
   "source": [
    "### If we want to see the count of non-null cells for a particular column, we can use column indexing as such:"
   ]
  },
  {
   "cell_type": "markdown",
   "metadata": {
    "colab": {
     "base_uri": "https://localhost:8080/",
     "height": 84
    },
    "colab_type": "code",
    "id": "z32udslTSuTq",
    "outputId": "48213427-3128-4a37-e257-48cc8e9996a6",
    "scrolled": true
   },
   "source": [
    "``` python\n",
    "\n",
    "df['sex'].value_counts() \n",
    "\n",
    "```"
   ]
  },
  {
   "cell_type": "markdown",
   "metadata": {
    "colab_type": "text",
    "id": "5RUGtQrMSuTs"
   },
   "source": [
    "### Now, looking back at our `df.dtypes` result, we see that our timestamp values are being stored as 'non-null object's' and not as timestamps, as we'd like. \n",
    "\n",
    "### Remember, in Python, how your data is being perceived (the dtype) determines what you can do with it. If we want to do any sort of timeseries analysis in the future, we're going to need to convert our time data from object to timestamp. So, let's change that using `pd.to_datetime`"
   ]
  },
  {
   "cell_type": "markdown",
   "metadata": {
    "colab": {},
    "colab_type": "code",
    "id": "CEDrMxpKSuTu"
   },
   "source": [
    "``` python\n",
    "\n",
    "df['timestamp'] = pd.to_datetime(df['timestamp'])\n",
    "\n",
    "```"
   ]
  },
  {
   "cell_type": "markdown",
   "metadata": {
    "colab": {
     "base_uri": "https://localhost:8080/",
     "height": 467
    },
    "colab_type": "code",
    "id": "k0poE68bSuTw",
    "outputId": "763f0a9e-686c-4e22-cf16-f143a66a112b"
   },
   "source": [
    "``` python\n",
    "\n",
    "df.head() # let's check to make sure that nothing funky happened\n",
    "\n",
    "```"
   ]
  },
  {
   "cell_type": "markdown",
   "metadata": {
    "colab_type": "text",
    "id": "VTxxpM-dSuTy"
   },
   "source": [
    "# Primary Analysis of our Data, Continued"
   ]
  },
  {
   "cell_type": "markdown",
   "metadata": {
    "colab_type": "text",
    "id": "2YNjfek0SuTz"
   },
   "source": [
    "### `df.sample()` is going to give us a random row from our data frame"
   ]
  },
  {
   "cell_type": "markdown",
   "metadata": {
    "colab": {
     "base_uri": "https://localhost:8080/",
     "height": 147
    },
    "colab_type": "code",
    "id": "fwLT34LBSuTz",
    "outputId": "ceb69960-9044-4470-af84-9548eeea790c"
   },
   "source": [
    "``` python\n",
    "\n",
    "df.sample()\n",
    "\n",
    "```"
   ]
  },
  {
   "cell_type": "markdown",
   "metadata": {
    "colab_type": "text",
    "id": "4EsQGcbzSuT2"
   },
   "source": [
    "### To select a single column from our data frame, we can use column indexing again. "
   ]
  },
  {
   "cell_type": "markdown",
   "metadata": {
    "colab": {
     "base_uri": "https://localhost:8080/",
     "height": 218
    },
    "colab_type": "code",
    "id": "mPCrqtUnSuT2",
    "outputId": "3444e01e-63e9-4024-b459-3374a4350126"
   },
   "source": [
    "``` python\n",
    "\n",
    "df['age']\n",
    "\n",
    "```"
   ]
  },
  {
   "cell_type": "markdown",
   "metadata": {
    "colab_type": "text",
    "id": "J87yBtOVSuT4"
   },
   "source": [
    "### To select multiple columns, we can use `.loc` notation. \n",
    "\n",
    "### Note that `.loc` notation is used when you're sorting by column names, whereas `.iloc` is used when you're sorting by index number. For instance:"
   ]
  },
  {
   "cell_type": "markdown",
   "metadata": {
    "colab": {
     "base_uri": "https://localhost:8080/",
     "height": 402
    },
    "colab_type": "code",
    "id": "fOjd0EQZSuT5",
    "outputId": "13084b60-c3dc-4f97-efd9-c1a71e6164aa"
   },
   "source": [
    "``` python\n",
    "\n",
    "df.loc[:, ['age','sex']] \n",
    "\n",
    "```"
   ]
  },
  {
   "cell_type": "markdown",
   "metadata": {
    "colab": {
     "base_uri": "https://localhost:8080/",
     "height": 168
    },
    "colab_type": "code",
    "id": "xumunvW6SuT7",
    "outputId": "537c5109-c15e-48e3-a5cb-4b45c6f558e7"
   },
   "source": [
    "``` python\n",
    "\n",
    "df.iloc[3] \n",
    "\n",
    "```"
   ]
  },
  {
   "cell_type": "markdown",
   "metadata": {
    "colab": {
     "base_uri": "https://localhost:8080/",
     "height": 35
    },
    "colab_type": "code",
    "id": "EU-mwCdrSuT8",
    "outputId": "d95e3d72-d9ce-46ac-ef9a-624479421975"
   },
   "source": [
    "``` python\n",
    "\n",
    "df.iloc[3,6] # get the value of the 7th column (ad_type) for the 4th row (3rd index)\n",
    "\n",
    "```"
   ]
  },
  {
   "cell_type": "markdown",
   "metadata": {
    "colab_type": "text",
    "id": "lcJ18O10SuT_"
   },
   "source": [
    "### We can get the mean value of a column using `.mean()`"
   ]
  },
  {
   "cell_type": "markdown",
   "metadata": {
    "colab": {
     "base_uri": "https://localhost:8080/",
     "height": 34
    },
    "colab_type": "code",
    "id": "KclLhn4ISuT_",
    "outputId": "658724c5-e052-4b82-c743-de91c15118f5"
   },
   "source": [
    "``` python\n",
    "\n",
    "df['age'].mean() \n",
    "\n",
    "```"
   ]
  },
  {
   "cell_type": "markdown",
   "metadata": {
    "colab_type": "text",
    "id": "Li77xhEfSuUB"
   },
   "source": [
    "### We can also sort the values in our column using `df.sort_values(by=...)`"
   ]
  },
  {
   "cell_type": "markdown",
   "metadata": {
    "colab": {
     "base_uri": "https://localhost:8080/",
     "height": 926
    },
    "colab_type": "code",
    "id": "3OoVFGqUSuUC",
    "outputId": "5ab3023f-2b62-4d48-fd88-70bf8ffdd4e7"
   },
   "source": [
    "``` python\n",
    "\n",
    "df.sort_values(by=\"age\",ascending=False) \n",
    "\n",
    "# ascending=False means we want to have the greatest values at the top\n",
    "\n",
    "```"
   ]
  },
  {
   "cell_type": "markdown",
   "metadata": {
    "colab_type": "text",
    "id": "ILdla22ySuUE"
   },
   "source": [
    "### If we want to find any rows where a certain condition holds true, we can use column indexing as well as a comparative (such as `<` or `>` or `=`)."
   ]
  },
  {
   "cell_type": "markdown",
   "metadata": {
    "colab": {
     "base_uri": "https://localhost:8080/",
     "height": 1000
    },
    "colab_type": "code",
    "id": "YF1T67H_SuUE",
    "outputId": "fdc4e3a5-7c47-45f2-e9d1-e0b8812bc9c0",
    "scrolled": true
   },
   "source": [
    "``` python \n",
    "\n",
    "df[df['age'] < 21] \n",
    "\n",
    "# return any rows where age < 21\n",
    "\n",
    "```"
   ]
  },
  {
   "cell_type": "markdown",
   "metadata": {
    "colab_type": "text",
    "id": "gCs9DjyMSuUH"
   },
   "source": [
    "---"
   ]
  },
  {
   "cell_type": "markdown",
   "metadata": {
    "colab_type": "text",
    "id": "LrOE9qqoSuUH"
   },
   "source": [
    "# Exercise 1: How many 21 year-olds were served Culinary ads?"
   ]
  },
  {
   "cell_type": "markdown",
   "metadata": {
    "colab": {},
    "colab_type": "code",
    "id": "J-OCImonSuUI"
   },
   "source": [
    "``` python\n",
    "\n",
    "# your code here\n",
    "\n",
    "```"
   ]
  },
  {
   "cell_type": "markdown",
   "metadata": {
    "colab_type": "text",
    "id": "wfFBYbt6SuUK"
   },
   "source": [
    "# Solution"
   ]
  },
  {
   "cell_type": "markdown",
   "metadata": {
    "colab": {
     "base_uri": "https://localhost:8080/",
     "height": 168
    },
    "colab_type": "code",
    "id": "1CtqaKXISuUL",
    "outputId": "0a1fe9e8-2072-4472-a43e-9338ab5eef8f",
    "scrolled": true
   },
   "source": [
    "``` python\n",
    "\n",
    "df[(df['age']==21) & (df['ad_type']=='Culinary')].count()\n",
    "\n",
    "```"
   ]
  },
  {
   "cell_type": "markdown",
   "metadata": {
    "colab_type": "text",
    "id": "w77l4daZSuUN"
   },
   "source": [
    "---"
   ]
  },
  {
   "cell_type": "markdown",
   "metadata": {
    "colab_type": "text",
    "id": "htNGiENrSuUO"
   },
   "source": [
    "# Exercise 2: What is the most common company size in the SouthEast?"
   ]
  },
  {
   "cell_type": "markdown",
   "metadata": {
    "colab": {},
    "colab_type": "code",
    "id": "2sHgI0HFSuUO"
   },
   "source": [
    "``` python\n",
    "\n",
    "# your code here\n",
    "\n",
    "```"
   ]
  },
  {
   "cell_type": "markdown",
   "metadata": {
    "colab_type": "text",
    "id": "-1Kk9uG3SuUQ"
   },
   "source": [
    "# Solution"
   ]
  },
  {
   "cell_type": "markdown",
   "metadata": {
    "colab": {
     "base_uri": "https://localhost:8080/",
     "height": 926
    },
    "colab_type": "code",
    "id": "RtOeLbhWSuUQ",
    "outputId": "5237d9f4-8d87-4e73-a959-b6468da9e10d"
   },
   "source": [
    "``` python\n",
    "\n",
    "SouthEast_df = df[df['location'] == 'SouthEast']\n",
    "SouthEast_df\n",
    "\n",
    "```"
   ]
  },
  {
   "cell_type": "markdown",
   "metadata": {
    "colab": {
     "base_uri": "https://localhost:8080/",
     "height": 101
    },
    "colab_type": "code",
    "id": "n9RAuek4SuUS",
    "outputId": "8c37c0c6-b11a-46ff-9821-f5c18ffe6a13"
   },
   "source": [
    "``` python\n",
    "\n",
    "SouthEast_df['company_size'].describe()\n",
    "\n",
    "```"
   ]
  },
  {
   "cell_type": "markdown",
   "metadata": {
    "colab_type": "text",
    "id": "VXIcQ7KiSuUU"
   },
   "source": [
    "---"
   ]
  },
  {
   "cell_type": "markdown",
   "metadata": {
    "colab_type": "text",
    "id": "yfiPYLVpSuUU"
   },
   "source": [
    "# Working with More JSON\n",
    "\n",
    "### Moving on, let's look at a larger data set from https://data.cityofnewyork.us/Health/New-York-City-Leading-Causes-of-Death/jb7j-dtam that details the leading causes of dath in NYC."
   ]
  },
  {
   "cell_type": "markdown",
   "metadata": {
    "colab": {},
    "colab_type": "code",
    "id": "b7Og5gONSuUV"
   },
   "source": [
    "``` python\n",
    "\n",
    "import requests\n",
    "\n",
    "url = 'http://data.cityofnewyork.us/api/views/jb7j-dtam/rows.json'\n",
    "results = requests.get(url).json() # reading in the json just as we did with our citibike info last week\n",
    "\n",
    "```"
   ]
  },
  {
   "cell_type": "markdown",
   "metadata": {
    "colab_type": "text",
    "id": "EWhTEgLxSuUX"
   },
   "source": [
    "### Again, we're going to use the requests library to read the json from the given URL. You'll note that there are two main fields returned in the json – the \"meta\" that just describes the actual metadata, and the data itself. "
   ]
  },
  {
   "cell_type": "markdown",
   "metadata": {
    "colab": {
     "base_uri": "https://localhost:8080/",
     "height": 34
    },
    "colab_type": "code",
    "id": "FJIUUeECSuUX",
    "outputId": "8ca647b5-900a-4e58-8ac2-12cc8fd4fcbb"
   },
   "source": [
    "``` python\n",
    "\n",
    "results.keys()\n",
    "\n",
    "```"
   ]
  },
  {
   "cell_type": "markdown",
   "metadata": {
    "colab": {
     "base_uri": "https://localhost:8080/",
     "height": 1000
    },
    "colab_type": "code",
    "id": "6pBA60vZSuUZ",
    "outputId": "662f29b9-3215-4b74-a44f-a2d52d7ca3fc"
   },
   "source": [
    "``` python\n",
    "\n",
    "results['data']\n",
    "\n",
    "```"
   ]
  },
  {
   "cell_type": "markdown",
   "metadata": {
    "colab_type": "text",
    "id": "UnFj5gSjSuUb"
   },
   "source": [
    "### Now we'll create a DataFrame from our JSON again..."
   ]
  },
  {
   "cell_type": "markdown",
   "metadata": {
    "colab": {
     "base_uri": "https://localhost:8080/",
     "height": 434
    },
    "colab_type": "code",
    "id": "vdh7K4v7SuUc",
    "outputId": "797de342-ccc2-4596-cb1c-5f1431a6b4c4"
   },
   "source": [
    "``` python\n",
    "\n",
    "df = pd.DataFrame(results[\"data\"])\n",
    "df.head()\n",
    "\n",
    "```"
   ]
  },
  {
   "cell_type": "markdown",
   "metadata": {
    "colab_type": "text",
    "id": "MpVyQrHsSuUe"
   },
   "source": [
    "### And add some column names"
   ]
  },
  {
   "cell_type": "markdown",
   "metadata": {
    "colab": {
     "base_uri": "https://localhost:8080/",
     "height": 1000
    },
    "colab_type": "code",
    "id": "cuFWyB5sSuUe",
    "outputId": "022add17-398b-4715-ba3d-33724bbb555a"
   },
   "source": [
    "``` python\n",
    "\n",
    "columns = results[\"meta\"][\"view\"][\"columns\"] # this gives us the descriptions and names for the columns\n",
    "columns\n",
    "\n",
    "```"
   ]
  },
  {
   "cell_type": "markdown",
   "metadata": {
    "colab": {
     "base_uri": "https://localhost:8080/",
     "height": 269
    },
    "colab_type": "code",
    "id": "8eYFTUk3SuUh",
    "outputId": "605646b9-354e-401a-8096-28acf5d02a47"
   },
   "source": [
    "``` python\n",
    "\n",
    "headers = [i[\"fieldName\"] for i in columns] # we create a list of the column names \n",
    "headers\n",
    "\n",
    "```"
   ]
  },
  {
   "cell_type": "markdown",
   "metadata": {
    "colab": {
     "base_uri": "https://localhost:8080/",
     "height": 1000
    },
    "colab_type": "code",
    "id": "UxODyvwqSuUj",
    "outputId": "dcf7151b-f26c-4337-d98d-a5e6d3cee9ae"
   },
   "source": [
    "``` python\n",
    "\n",
    "df = pd.DataFrame(results[\"data\"], columns=headers) # and then pass in a list of those column names to our df\n",
    "df\n",
    "\n",
    "```"
   ]
  },
  {
   "cell_type": "markdown",
   "metadata": {
    "colab_type": "text",
    "id": "Pn_tPDHTSuUl"
   },
   "source": [
    "### There's a lot of extraneous information in this dataframe, so we can drop a few of them. \n",
    "\n",
    "### Note that here we are passing in a list of columns that we'd like to drop, and specifying that we want to drop the columns themselves. If we said \"axis=index\" we would be dropping the rows themselves. \n",
    "\n",
    "### Also note that \"inplace=True\" specifies that instead of creating a new dataframe, we want to replace it with the current one (the one with fewer columns). This means that the new, smaller dataframe will persist across our entire notebook – aka, it implies that we want the change to be permanent. "
   ]
  },
  {
   "cell_type": "markdown",
   "metadata": {
    "colab": {
     "base_uri": "https://localhost:8080/",
     "height": 1000
    },
    "colab_type": "code",
    "id": "EvAGICPDSuUm",
    "outputId": "b11289d3-b400-4507-c91c-3120b8f9b3f1"
   },
   "source": [
    "``` python\n",
    "\n",
    "df.drop(labels = [':sid', ':position', ':meta', ':created_meta', ':updated_meta'], axis=1, inplace=True)\n",
    "df\n",
    "\n",
    "```"
   ]
  },
  {
   "cell_type": "markdown",
   "metadata": {
    "colab_type": "text",
    "id": "8gxNVV2ySuUo"
   },
   "source": [
    "### It looks like our last three rows appear to be metadata and not actual data, so let's drop those rows as well."
   ]
  },
  {
   "cell_type": "markdown",
   "metadata": {
    "colab": {
     "base_uri": "https://localhost:8080/",
     "height": 1000
    },
    "colab_type": "code",
    "id": "dG47O_bzSuUo",
    "outputId": "f982a8b0-ab46-497d-eae4-4d95e23878b4"
   },
   "source": [
    "``` python\n",
    "\n",
    "df.drop(df.index[1094:], inplace=True)\n",
    "df\n",
    "\n",
    "```"
   ]
  },
  {
   "cell_type": "markdown",
   "metadata": {
    "colab_type": "text",
    "id": "HCzMCHHnSuUr"
   },
   "source": [
    "### It's important to note that we can always rename our columns using a dictionary:"
   ]
  },
  {
   "cell_type": "markdown",
   "metadata": {
    "colab": {
     "base_uri": "https://localhost:8080/",
     "height": 1000
    },
    "colab_type": "code",
    "id": "-4W7tdQJSuUs",
    "outputId": "c6346638-4691-4e63-ded1-7f240fc2aae2"
   },
   "source": [
    "``` python\n",
    "\n",
    "renaming_dict = {\n",
    "    ':id': 'key', \n",
    "    ':created_at': 'created_at', \n",
    "    ':updated_at': 'updated_at'\n",
    "}\n",
    "\n",
    "df.rename(columns=renaming_dict, inplace=True)\n",
    "df\n",
    "\n",
    "```"
   ]
  },
  {
   "cell_type": "markdown",
   "metadata": {
    "colab_type": "text",
    "id": "FFKTiyACSuUu"
   },
   "source": [
    "### We've spoken a bit about datatypes, and why it's important that our computer is viewing data as we need it to; for instance, a string as a string, an integer as an integer.  \n",
    "\n",
    "### Remember that 'object' is a string in this case..."
   ]
  },
  {
   "cell_type": "markdown",
   "metadata": {
    "colab": {
     "base_uri": "https://localhost:8080/",
     "height": 202
    },
    "colab_type": "code",
    "id": "b0X-xVD9SuUv",
    "outputId": "8a093f05-b58f-49c5-d279-a163091ab591"
   },
   "source": [
    "``` python\n",
    "\n",
    "df.dtypes\n",
    "\n",
    "```"
   ]
  },
  {
   "cell_type": "markdown",
   "metadata": {
    "colab_type": "text",
    "id": "Hv_j2EtFSuUx"
   },
   "source": [
    "### Let's change 'year' to an integer that way we can sort by year using `pd.to_numeric`:"
   ]
  },
  {
   "cell_type": "markdown",
   "metadata": {
    "colab": {
     "base_uri": "https://localhost:8080/",
     "height": 202
    },
    "colab_type": "code",
    "id": "z5Zqj3zZSuUy",
    "outputId": "30babf95-f959-4214-e8b8-786452608ec1"
   },
   "source": [
    "``` python\n",
    "\n",
    "df[\"year\"] = pd.to_numeric(df[\"year\"])\n",
    "df.dtypes\n",
    "\n",
    "```"
   ]
  },
  {
   "cell_type": "markdown",
   "metadata": {
    "colab_type": "text",
    "id": "rtt5dDRqSuU0"
   },
   "source": [
    "### We can also pass the `errors` command to specify what should happen if we anticipate Pandas is going to object to one of our changes. From the [documentation of to_numeric](http://pandas.pydata.org/pandas-docs/stable/generated/pandas.to_numeric.html), we get:\n",
    "\n",
    "* If ‘raise’, then invalid parsing will raise an exception\n",
    "* If ‘coerce’, then invalid parsing will be set as NaN\n",
    "* If ‘ignore’, then invalid parsing will return the input"
   ]
  },
  {
   "cell_type": "markdown",
   "metadata": {
    "colab": {
     "base_uri": "https://localhost:8080/",
     "height": 202
    },
    "colab_type": "code",
    "id": "Zhrdw8_fSuU0",
    "outputId": "aca5f841-5c1e-4054-9ca9-8cc77633edba"
   },
   "source": [
    "``` python\n",
    "\n",
    "df[\"deaths\"] = pd.to_numeric(df[\"deaths\"], errors='coerce')\n",
    "df[\"death_rate\"] = pd.to_numeric(df[\"death_rate\"], errors='coerce')\n",
    "df[\"age_adjusted_death_rate\"] = pd.to_numeric(df[\"age_adjusted_death_rate\"], errors='coerce')\n",
    "df.dtypes\n",
    "\n",
    "```"
   ]
  },
  {
   "cell_type": "markdown",
   "metadata": {
    "colab_type": "text",
    "id": "WhEXc0CYSuU3"
   },
   "source": [
    "### Last but not least, we can also mark some variables as categorical"
   ]
  },
  {
   "cell_type": "markdown",
   "metadata": {
    "colab": {
     "base_uri": "https://localhost:8080/",
     "height": 202
    },
    "colab_type": "code",
    "id": "zTQBIJlsSuU4",
    "outputId": "60fc15f0-3e6b-4630-eebb-8be2ad614175"
   },
   "source": [
    "``` python\n",
    "\n",
    "df[\"sex\"] = pd.Categorical(df[\"sex\"])\n",
    "df[\"race_ethnicity\"] = pd.Categorical(df[\"race_ethnicity\"])\n",
    "df[\"leading_cause\"] = pd.Categorical(df[\"leading_cause\"])\n",
    "df.dtypes\n",
    "\n",
    "```"
   ]
  },
  {
   "cell_type": "markdown",
   "metadata": {
    "colab_type": "text",
    "id": "TtR2czSdSuU5"
   },
   "source": [
    "---"
   ]
  },
  {
   "cell_type": "markdown",
   "metadata": {
    "colab_type": "text",
    "id": "1H6faRcpSuU6"
   },
   "source": [
    "# Exercise 3: What was the leading cause of death in 2014?"
   ]
  },
  {
   "cell_type": "markdown",
   "metadata": {
    "colab": {},
    "colab_type": "code",
    "id": "k5f6JnbHSuU7"
   },
   "source": [
    "``` python\n",
    "\n",
    "# your code here\n",
    "\n",
    "```"
   ]
  },
  {
   "cell_type": "markdown",
   "metadata": {
    "colab_type": "text",
    "id": "JmTmM0XqSuU-"
   },
   "source": [
    "# Solution"
   ]
  },
  {
   "cell_type": "markdown",
   "metadata": {
    "colab": {
     "base_uri": "https://localhost:8080/",
     "height": 1000
    },
    "colab_type": "code",
    "id": "GH8EmgrFSuU-",
    "outputId": "50193a8e-50a4-4625-cc46-bf4552f5782f"
   },
   "source": [
    "``` python\n",
    "\n",
    "df2014 = df[df['year'] == 2014]\n",
    "df2014\n",
    "\n",
    "```"
   ]
  },
  {
   "cell_type": "markdown",
   "metadata": {
    "colab": {
     "base_uri": "https://localhost:8080/",
     "height": 101
    },
    "colab_type": "code",
    "id": "nyvA25DpSuVC",
    "outputId": "3c44b33c-8069-48e7-8012-6bbd8ee5a10c"
   },
   "source": [
    "``` python\n",
    "\n",
    "df2014['leading_cause'].describe()\n",
    "\n",
    "```"
   ]
  },
  {
   "cell_type": "markdown",
   "metadata": {
    "colab_type": "text",
    "id": "elaZcu_ASuVF"
   },
   "source": [
    "---"
   ]
  },
  {
   "cell_type": "markdown",
   "metadata": {
    "colab_type": "text",
    "id": "fBRCc5NSSuVG"
   },
   "source": [
    "# Exercise 4: How many different causes of death were recorded in 2011?"
   ]
  },
  {
   "cell_type": "markdown",
   "metadata": {
    "colab": {},
    "colab_type": "code",
    "id": "wInb91OPSuVG"
   },
   "source": [
    "``` python\n",
    "\n",
    "# your code here\n",
    "\n",
    "```"
   ]
  },
  {
   "cell_type": "markdown",
   "metadata": {
    "colab_type": "text",
    "id": "kAlTQsQ4SuVI"
   },
   "source": [
    "# Solution"
   ]
  },
  {
   "cell_type": "markdown",
   "metadata": {
    "colab": {
     "base_uri": "https://localhost:8080/",
     "height": 34
    },
    "colab_type": "code",
    "id": "VM4_-zcZSuVI",
    "outputId": "caf8ecd4-76d3-44e3-9bc8-926dc1a127c1"
   },
   "source": [
    "``` python\n",
    "\n",
    "df2014['leading_cause'].nunique()\n",
    "\n",
    "```"
   ]
  },
  {
   "cell_type": "markdown",
   "metadata": {
    "colab_type": "text",
    "id": "AnNEPOCdSuVM"
   },
   "source": [
    "---"
   ]
  }
 ],
 "metadata": {
  "colab": {
   "name": "Python and Pandas Solved.ipynb",
   "provenance": [],
   "toc_visible": true
  },
  "kernelspec": {
   "display_name": "Python 3",
   "language": "python",
   "name": "python3"
  },
  "language_info": {
   "codemirror_mode": {
    "name": "ipython",
    "version": 3
   },
   "file_extension": ".py",
   "mimetype": "text/x-python",
   "name": "python",
   "nbconvert_exporter": "python",
   "pygments_lexer": "ipython3",
   "version": "3.7.3"
  }
 },
 "nbformat": 4,
 "nbformat_minor": 1
}
