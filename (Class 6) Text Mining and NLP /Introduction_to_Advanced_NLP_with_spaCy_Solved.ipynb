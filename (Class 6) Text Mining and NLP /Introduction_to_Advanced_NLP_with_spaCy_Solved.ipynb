{
  "nbformat": 4,
  "nbformat_minor": 0,
  "metadata": {
    "celltoolbar": "Raw Cell Format",
    "kernelspec": {
      "display_name": "Python 3",
      "language": "python",
      "name": "python3"
    },
    "language_info": {
      "codemirror_mode": {
        "name": "ipython",
        "version": 3
      },
      "file_extension": ".py",
      "mimetype": "text/x-python",
      "name": "python",
      "nbconvert_exporter": "python",
      "pygments_lexer": "ipython3",
      "version": "3.7.3"
    },
    "colab": {
      "name": "Introduction to Advanced NLP with spaCy Solved.ipynb",
      "provenance": []
    }
  },
  "cells": [
    {
      "cell_type": "markdown",
      "metadata": {
        "id": "J1rYXzJLpJGS"
      },
      "source": [
        "# Natural Language Processing with spaCy"
      ]
    },
    {
      "cell_type": "markdown",
      "metadata": {
        "id": "-sCfutrHpJGU"
      },
      "source": [
        "---"
      ]
    },
    {
      "cell_type": "markdown",
      "metadata": {
        "id": "0TdfW65mpJGU"
      },
      "source": [
        "Today we are going to learn about NLP (Natural Language Processing) using spaCy, an open source library for advanced NLP. \n",
        "\n",
        "For more on spaCy, you can check out their site: https://spacy.io/"
      ]
    },
    {
      "cell_type": "code",
      "metadata": {
        "scrolled": true,
        "id": "w5DgQXLrpJGV",
        "outputId": "7d844fdb-dc9f-4b9f-ca20-9e281626a972",
        "colab": {
          "base_uri": "https://localhost:8080/",
          "height": 496
        }
      },
      "source": [
        "!python -m spacy download en"
      ],
      "execution_count": 2,
      "outputs": [
        {
          "output_type": "stream",
          "text": [
            "Requirement already satisfied: en_core_web_sm==2.2.5 from https://github.com/explosion/spacy-models/releases/download/en_core_web_sm-2.2.5/en_core_web_sm-2.2.5.tar.gz#egg=en_core_web_sm==2.2.5 in /usr/local/lib/python3.6/dist-packages (2.2.5)\n",
            "Requirement already satisfied: spacy>=2.2.2 in /usr/local/lib/python3.6/dist-packages (from en_core_web_sm==2.2.5) (2.2.4)\n",
            "Requirement already satisfied: tqdm<5.0.0,>=4.38.0 in /usr/local/lib/python3.6/dist-packages (from spacy>=2.2.2->en_core_web_sm==2.2.5) (4.41.1)\n",
            "Requirement already satisfied: catalogue<1.1.0,>=0.0.7 in /usr/local/lib/python3.6/dist-packages (from spacy>=2.2.2->en_core_web_sm==2.2.5) (1.0.0)\n",
            "Requirement already satisfied: plac<1.2.0,>=0.9.6 in /usr/local/lib/python3.6/dist-packages (from spacy>=2.2.2->en_core_web_sm==2.2.5) (1.1.3)\n",
            "Requirement already satisfied: thinc==7.4.0 in /usr/local/lib/python3.6/dist-packages (from spacy>=2.2.2->en_core_web_sm==2.2.5) (7.4.0)\n",
            "Requirement already satisfied: wasabi<1.1.0,>=0.4.0 in /usr/local/lib/python3.6/dist-packages (from spacy>=2.2.2->en_core_web_sm==2.2.5) (0.8.0)\n",
            "Requirement already satisfied: murmurhash<1.1.0,>=0.28.0 in /usr/local/lib/python3.6/dist-packages (from spacy>=2.2.2->en_core_web_sm==2.2.5) (1.0.2)\n",
            "Requirement already satisfied: srsly<1.1.0,>=1.0.2 in /usr/local/lib/python3.6/dist-packages (from spacy>=2.2.2->en_core_web_sm==2.2.5) (1.0.2)\n",
            "Requirement already satisfied: preshed<3.1.0,>=3.0.2 in /usr/local/lib/python3.6/dist-packages (from spacy>=2.2.2->en_core_web_sm==2.2.5) (3.0.2)\n",
            "Requirement already satisfied: setuptools in /usr/local/lib/python3.6/dist-packages (from spacy>=2.2.2->en_core_web_sm==2.2.5) (50.3.0)\n",
            "Requirement already satisfied: numpy>=1.15.0 in /usr/local/lib/python3.6/dist-packages (from spacy>=2.2.2->en_core_web_sm==2.2.5) (1.18.5)\n",
            "Requirement already satisfied: requests<3.0.0,>=2.13.0 in /usr/local/lib/python3.6/dist-packages (from spacy>=2.2.2->en_core_web_sm==2.2.5) (2.23.0)\n",
            "Requirement already satisfied: cymem<2.1.0,>=2.0.2 in /usr/local/lib/python3.6/dist-packages (from spacy>=2.2.2->en_core_web_sm==2.2.5) (2.0.3)\n",
            "Requirement already satisfied: blis<0.5.0,>=0.4.0 in /usr/local/lib/python3.6/dist-packages (from spacy>=2.2.2->en_core_web_sm==2.2.5) (0.4.1)\n",
            "Requirement already satisfied: importlib-metadata>=0.20; python_version < \"3.8\" in /usr/local/lib/python3.6/dist-packages (from catalogue<1.1.0,>=0.0.7->spacy>=2.2.2->en_core_web_sm==2.2.5) (2.0.0)\n",
            "Requirement already satisfied: certifi>=2017.4.17 in /usr/local/lib/python3.6/dist-packages (from requests<3.0.0,>=2.13.0->spacy>=2.2.2->en_core_web_sm==2.2.5) (2020.6.20)\n",
            "Requirement already satisfied: idna<3,>=2.5 in /usr/local/lib/python3.6/dist-packages (from requests<3.0.0,>=2.13.0->spacy>=2.2.2->en_core_web_sm==2.2.5) (2.10)\n",
            "Requirement already satisfied: urllib3!=1.25.0,!=1.25.1,<1.26,>=1.21.1 in /usr/local/lib/python3.6/dist-packages (from requests<3.0.0,>=2.13.0->spacy>=2.2.2->en_core_web_sm==2.2.5) (1.24.3)\n",
            "Requirement already satisfied: chardet<4,>=3.0.2 in /usr/local/lib/python3.6/dist-packages (from requests<3.0.0,>=2.13.0->spacy>=2.2.2->en_core_web_sm==2.2.5) (3.0.4)\n",
            "Requirement already satisfied: zipp>=0.5 in /usr/local/lib/python3.6/dist-packages (from importlib-metadata>=0.20; python_version < \"3.8\"->catalogue<1.1.0,>=0.0.7->spacy>=2.2.2->en_core_web_sm==2.2.5) (3.2.0)\n",
            "\u001b[38;5;2m✔ Download and installation successful\u001b[0m\n",
            "You can now load the model via spacy.load('en_core_web_sm')\n",
            "\u001b[38;5;2m✔ Linking successful\u001b[0m\n",
            "/usr/local/lib/python3.6/dist-packages/en_core_web_sm -->\n",
            "/usr/local/lib/python3.6/dist-packages/spacy/data/en\n",
            "You can now load the model via spacy.load('en')\n"
          ],
          "name": "stdout"
        }
      ]
    },
    {
      "cell_type": "markdown",
      "metadata": {
        "id": "lwCL45EqpJGZ"
      },
      "source": [
        "Natural Language Processing (NLP) is a subfield of Artificial Intelligence that deals with the 'understanding' of language. \n",
        "\n",
        "For the purposes of this tutorial, we are going to look at the very basics of NLP, including using spaCy, an open-source NLP library. "
      ]
    },
    {
      "cell_type": "code",
      "metadata": {
        "id": "s3U2q8-tpJGa",
        "outputId": "8a5e0700-cdc4-4a99-d20b-11c04589a996",
        "colab": {
          "base_uri": "https://localhost:8080/",
          "height": 68
        }
      },
      "source": [
        "from spacy.lang.en import English # import the English language class\n",
        "\n",
        "nlp = English() # create an nlp object; this object contains the processing pipeline, which you \n",
        "                # ultimately use to analyze the text\n",
        "    \n",
        "doc = nlp(\"Hello world!\") # \"Hello world!\" becomes the text that we want to analyze\n",
        "                          # when you process a text with the nlp object, spaCy creates a Doc object\n",
        "    \n",
        "for token in doc: # for every token in our Doc object (a token being a word or character)...\n",
        "    print(token.text) # simply print out that token "
      ],
      "execution_count": 3,
      "outputs": [
        {
          "output_type": "stream",
          "text": [
            "Hello\n",
            "world\n",
            "!\n"
          ],
          "name": "stdout"
        }
      ]
    },
    {
      "cell_type": "markdown",
      "metadata": {
        "id": "0Az2OPxZpJGc"
      },
      "source": [
        "## Indexing\n",
        "\n",
        "Similar to how you index through a list in Python, you can index through a Doc to retreive tokens. "
      ]
    },
    {
      "cell_type": "code",
      "metadata": {
        "id": "koSez6H6pJGd",
        "outputId": "19d72c5c-18b9-41b8-a09a-3b4d8462feaa",
        "colab": {
          "base_uri": "https://localhost:8080/",
          "height": 51
        }
      },
      "source": [
        "print(doc) # print the full text \n",
        "print(doc[1].text) # print the second token (remember, Python is 0-index) in our Doc object"
      ],
      "execution_count": 4,
      "outputs": [
        {
          "output_type": "stream",
          "text": [
            "Hello world!\n",
            "world\n"
          ],
          "name": "stdout"
        }
      ]
    },
    {
      "cell_type": "markdown",
      "metadata": {
        "id": "7t5K7L1ypJGg"
      },
      "source": [
        "## Spans\n",
        "\n",
        "You can also use 'span' which lets you take a slice of the Doc"
      ]
    },
    {
      "cell_type": "code",
      "metadata": {
        "id": "k_9nGLjypJGg",
        "outputId": "6d41b448-456c-41f1-b64b-92884e5a9f38",
        "colab": {
          "base_uri": "https://localhost:8080/",
          "height": 51
        }
      },
      "source": [
        "span = doc[0:2] # this will give us the first and second (again, remember, Python is 0-index)\n",
        "                # the span is not inclusive, so we don't actually get the third token (second index)\n",
        "\n",
        "print(doc) # print the full text\n",
        "print(span.text) # print the second and third tokens "
      ],
      "execution_count": 5,
      "outputs": [
        {
          "output_type": "stream",
          "text": [
            "Hello world!\n",
            "Hello world\n"
          ],
          "name": "stdout"
        }
      ]
    },
    {
      "cell_type": "markdown",
      "metadata": {
        "id": "UXvSsRXtpJGj"
      },
      "source": [
        "## What else can we do with spaCy? \n",
        "\n",
        "Tokens have lots of attributes associated with them! For instance: \n",
        "\n",
        "1. is_alpha returns boolean indicating if a token consists of an alphanumeric value\n",
        "2. is_punct returns boolean indicating if a token is punctuation\n",
        "3. like_num returns boolean indicating if a token resembles a number \n",
        "\n",
        "These are all called \"lexical attributes\" – they refer to the entry in the vocabulary and don't depend on the token's context. (More on that later). "
      ]
    },
    {
      "cell_type": "code",
      "metadata": {
        "id": "J07gURfjpJGj",
        "outputId": "1eef79e1-cf5d-4d0c-9ee4-2ef0e86f1a65",
        "colab": {
          "base_uri": "https://localhost:8080/",
          "height": 119
        }
      },
      "source": [
        "doc = nlp(\"The earnings report will be released at 5 pm sharp.\") # the text we want to work with \n",
        "\n",
        "print('Index: ', [token.i for token in doc]) # i being the index of the token in the Doc\n",
        "print('Text: ', [token.text for token in doc]) # return the text of the token\n",
        "\n",
        "print(\" \") # just so we have some nice spacing in our results below...\n",
        "\n",
        "print('is_alpha:', [token.is_alpha for token in doc]) # if token consists of an alphanumeric value\n",
        "print('is_punct:', [token.is_punct for token in doc]) # if token is punctuation\n",
        "print('like_num:', [token.like_num for token in doc]) # if token resembles a number (e.g., '10' or 'TEN')"
      ],
      "execution_count": 6,
      "outputs": [
        {
          "output_type": "stream",
          "text": [
            "Index:  [0, 1, 2, 3, 4, 5, 6, 7, 8, 9, 10]\n",
            "Text:  ['The', 'earnings', 'report', 'will', 'be', 'released', 'at', '5', 'pm', 'sharp', '.']\n",
            " \n",
            "is_alpha: [True, True, True, True, True, True, True, False, True, True, False]\n",
            "is_punct: [False, False, False, False, False, False, False, False, False, False, True]\n",
            "like_num: [False, False, False, False, False, False, False, True, False, False, False]\n"
          ],
          "name": "stdout"
        }
      ]
    },
    {
      "cell_type": "markdown",
      "metadata": {
        "id": "m6SX2XH_pJGm"
      },
      "source": [
        "---"
      ]
    },
    {
      "cell_type": "markdown",
      "metadata": {
        "id": "s3aa28vlpJGm"
      },
      "source": [
        "# Exercise 1:\n",
        "\n",
        "Imagine you are charged with reporting on a long press release, and you just want to know where in the document a percent increase or percent decrease is mentioned..."
      ]
    },
    {
      "cell_type": "code",
      "metadata": {
        "id": "i8WOQyqRpJGn"
      },
      "source": [
        "doc = nlp(\"In 2012, earnings were hovering around 60%, verus in 2019 where they are less than 4% – a 93% decrease.\")"
      ],
      "execution_count": 7,
      "outputs": []
    },
    {
      "cell_type": "markdown",
      "metadata": {
        "id": "6bEST5CDpJGq"
      },
      "source": [
        "Use next_token, .like_num, .text, and find any percentage value mentiond in the doc."
      ]
    },
    {
      "cell_type": "markdown",
      "metadata": {
        "id": "kFGeMx_kpJGq"
      },
      "source": [
        "# Solution"
      ]
    },
    {
      "cell_type": "code",
      "metadata": {
        "id": "yXwgBoeepJGr",
        "outputId": "e6253e34-c86b-427d-ef2d-d0e68e7ab6ae",
        "colab": {
          "base_uri": "https://localhost:8080/",
          "height": 34
        }
      },
      "source": [
        "for token in doc: # for every token in our Doc object...\n",
        "    if token.like_num: # if the token resembles a numerical value...\n",
        "        next_token = doc[token.i + 1] # look at the token following that numerical value...\n",
        "        if next_token.text == \"%\": # if that token is a \"%\" sign...\n",
        "            next_token = doc[next_token.i + 1] # look at the token following the \"%\"\n",
        "            if next_token.text == \"increase\" or next_token.text == \"decrease\": # if the token after the % is the word \"decrease\" or \"increase\"...\n",
        "                print(\"Percentage found:\", token.text, next_token.text ) # we know we have found a percentage value"
      ],
      "execution_count": 8,
      "outputs": [
        {
          "output_type": "stream",
          "text": [
            "Percentage found: 93 decrease\n"
          ],
          "name": "stdout"
        }
      ]
    },
    {
      "cell_type": "markdown",
      "metadata": {
        "id": "a9YLUr0opJGt"
      },
      "source": [
        "---"
      ]
    },
    {
      "cell_type": "markdown",
      "metadata": {
        "id": "6ygs3MP9pJGu"
      },
      "source": [
        "## Pre-Built Models:"
      ]
    },
    {
      "cell_type": "code",
      "metadata": {
        "scrolled": true,
        "id": "7Tjw54WxpJGu",
        "outputId": "be727282-cae6-44bf-82d6-87b1c4cf7710",
        "colab": {
          "base_uri": "https://localhost:8080/",
          "height": 476
        }
      },
      "source": [
        "import spacy \n",
        "\n",
        "nlp = spacy.load('en') # loading in the package we just downloaded...\n",
        "\n",
        "doc = nlp(\"Adidas AG and Gap Inc. are among those at the end of the long supply chain that travel through \\\n",
        "           China’s northwest region of Xinjiang.\") # this is the text we want to analyze \n",
        "                                                   # that '\\' above just lets me split the text into a new \n",
        "                                                   # line in my notebook, and isn't part of the text itself\n",
        "\n",
        "for token in doc: # for each token in our Doc...\n",
        "    print(token.text, token.pos_, token.dep_, token.head.text) # print the following:\n",
        "    \n",
        "    # .pos_ will give us the parts of speech for each token\n",
        "    # .dep_ will give us the predicted dependency label \n",
        "    # .head.text will give us the 'syntactic head token' (think of it as the parent token this word is attached to)"
      ],
      "execution_count": 9,
      "outputs": [
        {
          "output_type": "stream",
          "text": [
            "Adidas PROPN compound AG\n",
            "AG PROPN nsubj are\n",
            "and CCONJ cc AG\n",
            "Gap PROPN compound Inc.\n",
            "Inc. PROPN conj AG\n",
            "are AUX ROOT are\n",
            "among ADP prep are\n",
            "those DET det region\n",
            "at ADP prep those\n",
            "the DET det end\n",
            "end NOUN pobj at\n",
            "of ADP prep end\n",
            "the DET det chain\n",
            "long ADJ amod chain\n",
            "supply NOUN compound chain\n",
            "chain NOUN pobj of\n",
            "that DET nsubj travel\n",
            "travel NOUN relcl chain\n",
            "through ADP prep travel\n",
            "            SPACE  through\n",
            "China PROPN pobj through\n",
            "’s PART punct those\n",
            "northwest ADJ compound region\n",
            "region NOUN pobj among\n",
            "of ADP prep region\n",
            "Xinjiang PROPN pobj of\n",
            ". PUNCT punct are\n"
          ],
          "name": "stdout"
        }
      ]
    },
    {
      "cell_type": "markdown",
      "metadata": {
        "id": "_smVjsGbpJGw"
      },
      "source": [
        "## `ent.label_`\n",
        "\n",
        "Can be used to decipher entities..."
      ]
    },
    {
      "cell_type": "code",
      "metadata": {
        "id": "p1Xx0vxppJGx",
        "outputId": "57b5820c-daef-4818-d005-35958b02d229",
        "colab": {
          "base_uri": "https://localhost:8080/",
          "height": 85
        }
      },
      "source": [
        "doc = nlp(\"Adidas AG and Gap Inc. are among those at the end of the long supply chain that travel through \\\n",
        "           China’s northwest region of Xinjiang.\")\n",
        "\n",
        "for ent in doc.ents: # for each entity in our Doc...\n",
        "    print(ent.text, ent.label_) # print it alongside its label"
      ],
      "execution_count": 10,
      "outputs": [
        {
          "output_type": "stream",
          "text": [
            "Adidas AG ORG\n",
            "Gap Inc. ORG\n",
            "China GPE\n",
            "Xinjiang GPE\n"
          ],
          "name": "stdout"
        }
      ]
    },
    {
      "cell_type": "markdown",
      "metadata": {
        "id": "FzkhLiz0pJGz"
      },
      "source": [
        "## `.explain`\n",
        "\n",
        "Can be used to get quick definitions of common tags and labels, you can use \".explain\""
      ]
    },
    {
      "cell_type": "code",
      "metadata": {
        "id": "7qhDfNC-pJG0",
        "outputId": "3a146d50-20ae-486d-dc75-0687e635b181",
        "colab": {
          "base_uri": "https://localhost:8080/",
          "height": 51
        }
      },
      "source": [
        "print(\"GPE = \" + spacy.explain('GPE'))\n",
        "print(\"ORG = \" + spacy.explain('ORG'))"
      ],
      "execution_count": 11,
      "outputs": [
        {
          "output_type": "stream",
          "text": [
            "GPE = Countries, cities, states\n",
            "ORG = Companies, agencies, institutions, etc.\n"
          ],
          "name": "stdout"
        }
      ]
    },
    {
      "cell_type": "markdown",
      "metadata": {
        "id": "Qv_FJguSpJG2"
      },
      "source": [
        "spaCy also lets you write rules to find words and/or phrases in a text. Similar to Regular Expressions, but with some major benefits unique to spaCy. \n",
        "\n",
        "In particular, it allows you to match on Doc objects (not just strings), use the model's prediction capabilities, and match on tokens and token attributes. Match patterns in spaCy are comprised of lists of dictionaries, and each dictionary describes one token. \n",
        "\n",
        "The keys in the dictionary are the names of the token attributes, and are mapped to their expected value. "
      ]
    },
    {
      "cell_type": "code",
      "metadata": {
        "id": "Vb3ZF4fopJG3",
        "outputId": "f5d83f62-3740-43ab-f468-393b3a3571a8",
        "colab": {
          "base_uri": "https://localhost:8080/",
          "height": 34
        }
      },
      "source": [
        "doc = nlp(\"New iPhone X release date leaked as Apple reveals pre-orders by mistake.\") # our text\n",
        "\n",
        "from spacy.matcher import Matcher # import the matcher\n",
        "matcher = Matcher(nlp.vocab) # initialize the matcher\n",
        "\n",
        "pattern = [{'TEXT':'iPhone'}, {'TEXT':'X'}]    # match these exact token texts\n",
        "\n",
        "matcher.add('IPHONE_PATTERN', None, pattern) # add the pattern to the matcher\n",
        "\n",
        "matches = matcher(doc) # call the matcher on our Doc and store the result as a list called 'matches'\n",
        "\n",
        "print(matches)"
      ],
      "execution_count": 12,
      "outputs": [
        {
          "output_type": "stream",
          "text": [
            "[(9528407286733565721, 1, 3)]\n"
          ],
          "name": "stdout"
        }
      ]
    },
    {
      "cell_type": "markdown",
      "metadata": {
        "id": "Mx77DRmGpJG5"
      },
      "source": [
        "You'll note that the matcher returns a list of tuples. Each tuple (an immutable list of fixed size) consists of three values: \n",
        "\n",
        "    1. The match ID\n",
        "    2. The start index of the matched span\n",
        "    3. The end index of the matched span\n",
        "    \n",
        "Fortunately, we can iterate over our matches"
      ]
    },
    {
      "cell_type": "code",
      "metadata": {
        "id": "WT1LHC_opJG5",
        "outputId": "7dbf6f0c-ffb3-4b88-90af-795b7fc5e23f",
        "colab": {
          "base_uri": "https://localhost:8080/",
          "height": 34
        }
      },
      "source": [
        "for match_id, start, end in matches: \n",
        "    matched_span = doc[start:end] # start = start index of matched span; end = end index of matched span\n",
        "    print(matched_span.text)"
      ],
      "execution_count": 13,
      "outputs": [
        {
          "output_type": "stream",
          "text": [
            "iPhone X\n"
          ],
          "name": "stdout"
        }
      ]
    },
    {
      "cell_type": "markdown",
      "metadata": {
        "id": "WrjqmLYppJG8"
      },
      "source": [
        "Remember, you can also match on lexical attributes and token attributions. For instance, below we are going to look for five tokens: \n",
        "\n",
        "1. A token consisting of only digits\n",
        "2. Two, case-insensitive tokens for the words \"revenue\" and \"up\"\n",
        "3. Another token that consists of only digits\n",
        "4. A punctuation token"
      ]
    },
    {
      "cell_type": "code",
      "metadata": {
        "id": "PPuFhRgJpJG8",
        "outputId": "039fe340-5782-411b-c7e4-84ebb27e4adc",
        "colab": {
          "base_uri": "https://localhost:8080/",
          "height": 34
        }
      },
      "source": [
        "doc = nlp(\"Earnings are in today! 2019 Revenue up 45%! This is the highest revenue in 5 years.\")\n",
        "\n",
        "pattern = [\n",
        "    {'IS_DIGIT': True}, # looking for a token consisting of only digits\n",
        "    {'LOWER': 'revenue'}, # looking for the word \"revenue\"\n",
        "    {'LOWER': 'up'}, # looking for the word \"up\"\n",
        "    {'IS_DIGIT': True}, # looking for a token consisting of only digits\n",
        "    {'IS_PUNCT': True} # looking for a punctuation token \n",
        "]\n",
        "\n",
        "matcher.add('REVENUE_PATTERN', None, pattern) # add the pattern to the matcher\n",
        "\n",
        "matches = matcher(doc)\n",
        "\n",
        "for match_id, start, end in matches: \n",
        "    matched_span = doc[start:end] # start = start index of matched span; end = end index of matched span\n",
        "    print(matched_span.text)"
      ],
      "execution_count": 14,
      "outputs": [
        {
          "output_type": "stream",
          "text": [
            "2019 Revenue up 45%\n"
          ],
          "name": "stdout"
        }
      ]
    },
    {
      "cell_type": "markdown",
      "metadata": {
        "id": "UsgBRhpRpJG_"
      },
      "source": [
        "## A note on Operators and Quantifiers.\n",
        "\n",
        "Operators and Quantifiers let you define how often a token should be matched. \n",
        "\n",
        "An Operator can have one of four values: \n",
        "\n",
        "1. An \"!\" negates the token, so it's matched 0 times\n",
        "2. A \"?\" makes the token optional, so it matches 0 or 1 times\n",
        "3. A \"+\" matches a token 1 or more times\n",
        "4. A \"*\" matches a token 0 or more times\n",
        "\n",
        "Below, the \"?\" Operator makes the determiner token optional."
      ]
    },
    {
      "cell_type": "code",
      "metadata": {
        "id": "d_sbJMSQpJHA",
        "outputId": "2900c9d1-faf3-4168-ceb5-72940648afb5",
        "colab": {
          "base_uri": "https://localhost:8080/",
          "height": 34
        }
      },
      "source": [
        "doc = nlp(\"Earnings are in today! 2019 Revenue up 45% for Company X. This is the highest revenue in 5 years.\")\n",
        "\n",
        "# note that our text above has changed... \n",
        "\n",
        "pattern = [\n",
        "    {'IS_DIGIT': True}, # looking for a token consisting of only digits\n",
        "    {'LOWER': 'revenue'}, # looking for the word \"revenue\"\n",
        "    {'LOWER': 'up'}, # looking for the word \"up\"\n",
        "    {'IS_DIGIT': True}, # looking for a token consisting of only digits\n",
        "    {'IS_PUNCT': True, 'OP' : '?'} # looking for an OPTIONAL punctuation token\n",
        "]\n",
        "\n",
        "matcher.add('REVENUE_PATTERN', None, pattern) # add the pattern to the matcher\n",
        "\n",
        "matches = matcher(doc)\n",
        "\n",
        "print(\"Matches:\", [doc[start:end].text for match_id, start, end in matches])"
      ],
      "execution_count": 17,
      "outputs": [
        {
          "output_type": "stream",
          "text": [
            "Matches: ['2019 Revenue up 45%', '2019 Revenue up 45']\n"
          ],
          "name": "stdout"
        }
      ]
    },
    {
      "cell_type": "markdown",
      "metadata": {
        "id": "5XD81Ac5pJHC"
      },
      "source": [
        "## Luckily, Spacy also allows us to use Regular Expressions."
      ]
    },
    {
      "cell_type": "code",
      "metadata": {
        "id": "5MFqope9pJHC",
        "outputId": "f8fe3989-b665-4a25-a742-d6a80dac8b57",
        "colab": {
          "base_uri": "https://localhost:8080/",
          "height": 34
        }
      },
      "source": [
        "import re\n",
        "\n",
        "doc = nlp(\"Earnings are in today! 2019 Revenue up 45% for Company X. This is the highest revenue in 5 years.\")\n",
        "\n",
        "expression = r'[Rr]evenue (up|down)' \n",
        "\n",
        "for match in re.finditer(expression, doc.text):\n",
        "    start, end = match.span()\n",
        "    span = doc.char_span(start, end)\n",
        "    print(\"Found match:\", span.text)"
      ],
      "execution_count": 18,
      "outputs": [
        {
          "output_type": "stream",
          "text": [
            "Found match: Revenue up\n"
          ],
          "name": "stdout"
        }
      ]
    },
    {
      "cell_type": "markdown",
      "metadata": {
        "id": "9THCLIYopJHE"
      },
      "source": [
        "---"
      ]
    },
    {
      "cell_type": "markdown",
      "metadata": {
        "id": "Zw7W4rappJHF"
      },
      "source": [
        "# Exercise 2\n",
        "\n",
        "Using the text provided below, create a pattern match that finds any news about a possible merger or acquisition."
      ]
    },
    {
      "cell_type": "code",
      "metadata": {
        "id": "fPbs2-6EpJHF"
      },
      "source": [
        "# your code here"
      ],
      "execution_count": 19,
      "outputs": []
    },
    {
      "cell_type": "markdown",
      "metadata": {
        "id": "2Hji0DrApJHH"
      },
      "source": [
        "# Solution"
      ]
    },
    {
      "cell_type": "code",
      "metadata": {
        "id": "zbtJ01jipJHI",
        "outputId": "088b9dbd-42fb-4117-b886-51c539a4fca2",
        "colab": {
          "base_uri": "https://localhost:8080/",
          "height": 68
        }
      },
      "source": [
        "doc = nlp(\"It is rumored that Google bought Apple.\")\n",
        "\n",
        "for ent in doc.ents:\n",
        "    if ent.label_ == 'ORG':\n",
        "        print(ent.text)\n",
        "        next_token = doc[ent.start + 1]\n",
        "        if next_token.text in (\"bought\", \"sold\", \"acquired\"):\n",
        "            print(next_token.text) "
      ],
      "execution_count": 20,
      "outputs": [
        {
          "output_type": "stream",
          "text": [
            "Google\n",
            "bought\n",
            "Apple\n"
          ],
          "name": "stdout"
        }
      ]
    },
    {
      "cell_type": "markdown",
      "metadata": {
        "id": "nEL716nlpJHK"
      },
      "source": [
        "---"
      ]
    },
    {
      "cell_type": "markdown",
      "metadata": {
        "id": "ll-RSr8ypJHK"
      },
      "source": [
        "## Vocabularies"
      ]
    },
    {
      "cell_type": "markdown",
      "metadata": {
        "id": "c-SST8H6pJHK"
      },
      "source": [
        "spaCy stores all shared data in a vocabulary, which includes words, as well as the labeled schemas for tags and entities. It also uses a hash function to generate an ID for each string, which is stored in a string store and is available via nlp.vocab.strings\n",
        "\n",
        "This string store is ultimately a lookup table whereby you can look up a string to get its hash, or, look up a hash to get the string. For instance:"
      ]
    },
    {
      "cell_type": "code",
      "metadata": {
        "id": "62WXJ47rpJHL",
        "outputId": "91b25e1e-05db-4075-f91f-2ff7bf44a8ff",
        "colab": {
          "base_uri": "https://localhost:8080/",
          "height": 51
        }
      },
      "source": [
        "doc = nlp(\"I love coffee\") # our text\n",
        "\n",
        "print('hash value:', nlp.vocab.strings['coffee']) # print the hash value given the text\n",
        "print('string value:', nlp.vocab.strings[3197928453018144401]) # print the text value given the hash "
      ],
      "execution_count": 21,
      "outputs": [
        {
          "output_type": "stream",
          "text": [
            "hash value: 3197928453018144401\n",
            "string value: coffee\n"
          ],
          "name": "stdout"
        }
      ]
    },
    {
      "cell_type": "markdown",
      "metadata": {
        "id": "X3Dh6U1HpJHN"
      },
      "source": [
        "spaCy even lets you compare two objects to predict how similar they are. \n",
        "\n",
        "These objects can be documents, spans, or single tokens. "
      ]
    },
    {
      "cell_type": "code",
      "metadata": {
        "id": "v2f6gT7PpJHN",
        "outputId": "90a0bfea-7e7b-4b18-b230-62c6202dded2",
        "colab": {
          "base_uri": "https://localhost:8080/",
          "height": 598
        }
      },
      "source": [
        "# !sudo python -m spacy download en_core_web_md\n",
        "\n",
        "!python -m spacy download en_core_web_md\n",
        "\n",
        "import en_core_web_md # you only have to download it in the line above if you didn't earlier\n",
        "\n",
        "nlp = en_core_web_md.load()\n",
        "\n",
        "# compare two documents\n",
        "\n",
        "doc1 = nlp(\"I like fast food\") # doc 1 to be compared\n",
        "doc2 = nlp(\"I like pizza\") # doc 2 to be compared\n",
        "\n",
        "print(doc1.similarity(doc2))"
      ],
      "execution_count": 23,
      "outputs": [
        {
          "output_type": "stream",
          "text": [
            "Collecting en_core_web_md==2.2.5\n",
            "\u001b[?25l  Downloading https://github.com/explosion/spacy-models/releases/download/en_core_web_md-2.2.5/en_core_web_md-2.2.5.tar.gz (96.4MB)\n",
            "\u001b[K     |████████████████████████████████| 96.4MB 1.2MB/s \n",
            "\u001b[?25hRequirement already satisfied: spacy>=2.2.2 in /usr/local/lib/python3.6/dist-packages (from en_core_web_md==2.2.5) (2.2.4)\n",
            "Requirement already satisfied: preshed<3.1.0,>=3.0.2 in /usr/local/lib/python3.6/dist-packages (from spacy>=2.2.2->en_core_web_md==2.2.5) (3.0.2)\n",
            "Requirement already satisfied: wasabi<1.1.0,>=0.4.0 in /usr/local/lib/python3.6/dist-packages (from spacy>=2.2.2->en_core_web_md==2.2.5) (0.8.0)\n",
            "Requirement already satisfied: blis<0.5.0,>=0.4.0 in /usr/local/lib/python3.6/dist-packages (from spacy>=2.2.2->en_core_web_md==2.2.5) (0.4.1)\n",
            "Requirement already satisfied: cymem<2.1.0,>=2.0.2 in /usr/local/lib/python3.6/dist-packages (from spacy>=2.2.2->en_core_web_md==2.2.5) (2.0.3)\n",
            "Requirement already satisfied: numpy>=1.15.0 in /usr/local/lib/python3.6/dist-packages (from spacy>=2.2.2->en_core_web_md==2.2.5) (1.18.5)\n",
            "Requirement already satisfied: catalogue<1.1.0,>=0.0.7 in /usr/local/lib/python3.6/dist-packages (from spacy>=2.2.2->en_core_web_md==2.2.5) (1.0.0)\n",
            "Requirement already satisfied: tqdm<5.0.0,>=4.38.0 in /usr/local/lib/python3.6/dist-packages (from spacy>=2.2.2->en_core_web_md==2.2.5) (4.41.1)\n",
            "Requirement already satisfied: setuptools in /usr/local/lib/python3.6/dist-packages (from spacy>=2.2.2->en_core_web_md==2.2.5) (50.3.0)\n",
            "Requirement already satisfied: requests<3.0.0,>=2.13.0 in /usr/local/lib/python3.6/dist-packages (from spacy>=2.2.2->en_core_web_md==2.2.5) (2.23.0)\n",
            "Requirement already satisfied: plac<1.2.0,>=0.9.6 in /usr/local/lib/python3.6/dist-packages (from spacy>=2.2.2->en_core_web_md==2.2.5) (1.1.3)\n",
            "Requirement already satisfied: thinc==7.4.0 in /usr/local/lib/python3.6/dist-packages (from spacy>=2.2.2->en_core_web_md==2.2.5) (7.4.0)\n",
            "Requirement already satisfied: murmurhash<1.1.0,>=0.28.0 in /usr/local/lib/python3.6/dist-packages (from spacy>=2.2.2->en_core_web_md==2.2.5) (1.0.2)\n",
            "Requirement already satisfied: srsly<1.1.0,>=1.0.2 in /usr/local/lib/python3.6/dist-packages (from spacy>=2.2.2->en_core_web_md==2.2.5) (1.0.2)\n",
            "Requirement already satisfied: importlib-metadata>=0.20; python_version < \"3.8\" in /usr/local/lib/python3.6/dist-packages (from catalogue<1.1.0,>=0.0.7->spacy>=2.2.2->en_core_web_md==2.2.5) (2.0.0)\n",
            "Requirement already satisfied: urllib3!=1.25.0,!=1.25.1,<1.26,>=1.21.1 in /usr/local/lib/python3.6/dist-packages (from requests<3.0.0,>=2.13.0->spacy>=2.2.2->en_core_web_md==2.2.5) (1.24.3)\n",
            "Requirement already satisfied: idna<3,>=2.5 in /usr/local/lib/python3.6/dist-packages (from requests<3.0.0,>=2.13.0->spacy>=2.2.2->en_core_web_md==2.2.5) (2.10)\n",
            "Requirement already satisfied: chardet<4,>=3.0.2 in /usr/local/lib/python3.6/dist-packages (from requests<3.0.0,>=2.13.0->spacy>=2.2.2->en_core_web_md==2.2.5) (3.0.4)\n",
            "Requirement already satisfied: certifi>=2017.4.17 in /usr/local/lib/python3.6/dist-packages (from requests<3.0.0,>=2.13.0->spacy>=2.2.2->en_core_web_md==2.2.5) (2020.6.20)\n",
            "Requirement already satisfied: zipp>=0.5 in /usr/local/lib/python3.6/dist-packages (from importlib-metadata>=0.20; python_version < \"3.8\"->catalogue<1.1.0,>=0.0.7->spacy>=2.2.2->en_core_web_md==2.2.5) (3.2.0)\n",
            "Building wheels for collected packages: en-core-web-md\n",
            "  Building wheel for en-core-web-md (setup.py) ... \u001b[?25l\u001b[?25hdone\n",
            "  Created wheel for en-core-web-md: filename=en_core_web_md-2.2.5-cp36-none-any.whl size=98051305 sha256=1ec46b0ff494f04bc681514f0189f0b5590c1ea4668112334a27cf2b0df91ec3\n",
            "  Stored in directory: /tmp/pip-ephem-wheel-cache-xllh_ehx/wheels/df/94/ad/f5cf59224cea6b5686ac4fd1ad19c8a07bc026e13c36502d81\n",
            "Successfully built en-core-web-md\n",
            "Installing collected packages: en-core-web-md\n",
            "Successfully installed en-core-web-md-2.2.5\n",
            "\u001b[38;5;2m✔ Download and installation successful\u001b[0m\n",
            "You can now load the model via spacy.load('en_core_web_md')\n",
            "0.8627204117787385\n"
          ],
          "name": "stdout"
        }
      ]
    },
    {
      "cell_type": "markdown",
      "metadata": {
        "id": "TPrrDliRpJHP"
      },
      "source": [
        "We can also compare two tokens: "
      ]
    },
    {
      "cell_type": "code",
      "metadata": {
        "id": "etLLMQUVpJHQ",
        "outputId": "78094f8e-d0c5-41b8-de18-dedd044a48dd",
        "colab": {
          "base_uri": "https://localhost:8080/",
          "height": 34
        }
      },
      "source": [
        "# nlp = en_core_web_md.load()\n",
        "\n",
        "doc = nlp(\"I like pizza and pasta\")\n",
        "\n",
        "# compare two tokens\n",
        "\n",
        "token1 = doc[2] # the word \"pizza\"\n",
        "token2 = doc[4] # the word \"pasta\"\n",
        "\n",
        "print(token1.similarity(token2)) "
      ],
      "execution_count": 24,
      "outputs": [
        {
          "output_type": "stream",
          "text": [
            "0.7369546\n"
          ],
          "name": "stdout"
        }
      ]
    },
    {
      "cell_type": "code",
      "metadata": {
        "id": "n8kVi_G0pJHS",
        "outputId": "a47c03d8-f0fb-4571-f7cf-814fa3547b3b",
        "colab": {
          "base_uri": "https://localhost:8080/",
          "height": 34
        }
      },
      "source": [
        "doc = nlp(\"TV and books\")\n",
        "\n",
        "token1, token2 = doc[0], doc[2]\n",
        "\n",
        "similarity = token1.similarity(token2) # get the similarity of the tokens \"TV\" and \"books\"\n",
        "\n",
        "print(similarity)"
      ],
      "execution_count": 25,
      "outputs": [
        {
          "output_type": "stream",
          "text": [
            "0.22325331\n"
          ],
          "name": "stdout"
        }
      ]
    },
    {
      "cell_type": "markdown",
      "metadata": {
        "id": "eRu4fyUHpJHV"
      },
      "source": [
        "Or, a document with a token: "
      ]
    },
    {
      "cell_type": "code",
      "metadata": {
        "id": "qDcP93b5pJHV",
        "outputId": "f67da266-7329-4368-bef6-86bd1172dbb5",
        "colab": {
          "base_uri": "https://localhost:8080/",
          "height": 34
        }
      },
      "source": [
        "# nlp = en_core_web_md.load()\n",
        "\n",
        "# compare a document with a token\n",
        "\n",
        "doc = nlp(\"I like being clean\") # this full text\n",
        "token = nlp(\"I also like soap\")[3] # the word \"soap\"\n",
        "\n",
        "print(doc.similarity(token))"
      ],
      "execution_count": 26,
      "outputs": [
        {
          "output_type": "stream",
          "text": [
            "0.37694991878301737\n"
          ],
          "name": "stdout"
        }
      ]
    },
    {
      "cell_type": "markdown",
      "metadata": {
        "id": "Far9hBuJpJHY"
      },
      "source": [
        "And, last but not least, a span with a document: "
      ]
    },
    {
      "cell_type": "code",
      "metadata": {
        "id": "L6fwR22dpJHY",
        "outputId": "03256aa3-7ed7-4e4d-827c-6ade9a2b6806",
        "colab": {
          "base_uri": "https://localhost:8080/",
          "height": 34
        }
      },
      "source": [
        "# nlp = en_core_web_md.load()\n",
        "\n",
        "# compare a span with a document\n",
        "\n",
        "span = nlp(\"I like pizza and pasta\")[2:5] # the words \"pizza and pasta\"\n",
        "doc = nlp(\"McDonalds sells burgers\") # this full text\n",
        "\n",
        "print(span.similarity(doc))"
      ],
      "execution_count": 27,
      "outputs": [
        {
          "output_type": "stream",
          "text": [
            "0.6199092090831612\n"
          ],
          "name": "stdout"
        }
      ]
    },
    {
      "cell_type": "markdown",
      "metadata": {
        "id": "MmjHyilJpJHa"
      },
      "source": [
        "---"
      ]
    },
    {
      "cell_type": "markdown",
      "metadata": {
        "id": "lAjpkvc9pJHb"
      },
      "source": [
        "## BeautifulSoup + spaCy\n",
        "\n",
        "Now, let's use some of the BeautifulSoup to analyze some text from an online source:"
      ]
    },
    {
      "cell_type": "code",
      "metadata": {
        "id": "bQLya7G9pJHb",
        "outputId": "95ce521f-664b-4136-bd9c-6b9044d41acb",
        "colab": {
          "base_uri": "https://localhost:8080/",
          "height": 1000
        }
      },
      "source": [
        "import time\n",
        "import re\n",
        "import csv\n",
        "import requests\n",
        "from bs4 import BeautifulSoup\n",
        "\n",
        "r = requests.get('https://www.vice.com/en_us/article/a35ve5/what-it-would-take-for-the-next-president-to-cancel-all-student-debt') \n",
        "    # for more on the requests library check out this tutorial from RealPython: \n",
        "    # https://realpython.com/python-requests/\n",
        "            \n",
        "soup = BeautifulSoup(r.text,'html') # we are going to turn that URL into 'soup', aka, we are going to be \n",
        "                                    # able to see it's metadata For more on BeautifulSoup, check out: \n",
        "                                    # https://www.crummy.com/software/BeautifulSoup/bs4/doc/\n",
        "            \n",
        "print(soup)"
      ],
      "execution_count": 28,
      "outputs": [
        {
          "output_type": "stream",
          "text": [
            "<!DOCTYPE html>\n",
            "<html dir=\"ltr\" lang=\"en\"><head><link as=\"script\" href=\"//vice-web-statics-cdn.vice.com/sourcepoint/messaging.js\" rel=\"preconnect dns-prefetch\"/><link as=\"script\" href=\"//securepubads.g.doubleclick.net/tag/js/gpt.js\" rel=\"preconnect dns-prefetch\"/><link as=\"script\" href=\"//native.sharethrough.com/assets/sfp.js\" rel=\"preconnect dns-prefetch\"/><link href=\"//sourcepoint.mgr.consensu.org\" rel=\"preconnect\"/><link href=\"//api.amplitude.com\" rel=\"preconnect\"/><link href=\"//gum.criteo.com\" rel=\"preconnect\"/><link as=\"script\" href=\"https://vice-web-statics-cdn.vice.com/vendor/ad-lib/v2.16.0/vice-ad-lib.js\" id=\"ad-lib-preload\" rel=\"preload\"/><link href=\"//www.googletagmanager.com\" rel=\"dns-prefetch\"/><link href=\"//fonts.gstatic.com\" rel=\"dns-prefetch\"/><link href=\"//vice-dev-web-statics-cdn.vice.com\" rel=\"dns-prefetch\"/><link href=\"//vice-web-statics-cdn.vice.com\" rel=\"dns-prefetch\"/><script type=\"text/javascript\">\n",
            "            function DOMTokenListSupports(tokenList, token) {\n",
            "              if (!tokenList || !tokenList.supports) {\n",
            "                return false;\n",
            "              }\n",
            "              try {\n",
            "                return tokenList.supports(token);\n",
            "              } catch (e) {\n",
            "                if (e instanceof TypeError) {\n",
            "                  console.log('The DOMTokenList doesn\\'t have a supported tokens list.', e);\n",
            "                } else {\n",
            "                  console.error('That shouldn\\'t have happened.', e);\n",
            "                }\n",
            "              }\n",
            "            }\n",
            "\n",
            "            function loadAdLib() {\n",
            "              if (!window.__AdLib) {\n",
            "                var domainEnv = '.vice.com';\n",
            "                  \n",
            "                var adLibScript = document.createElement('script');\n",
            "                adLibScript.src = 'https://vice-web-statics-cdn.vice.com/vendor/ad-lib/v2.16.0/vice-ad-lib.js';\n",
            "                adLibScript.id = 'ad-lib';\n",
            "                adLibScript.onload = function() {\n",
            "                  if (window.__AdLib) {\n",
            "                    window.__AdLib.env = 'production';\n",
            "                    window.__AdLib.template = 'article-next';\n",
            "                    window.__AdLib.site = 'vice';\n",
            "                    window.__AdLib.brand = 'vice';\n",
            "                    window.__AdLib.domain = domainEnv;\n",
            "                    window.__AdLib.init();\n",
            "                  }\n",
            "                }\n",
            "                adLibScript.onerror = function(e) {\n",
            "                  console.error('Ad-Lib could not load it\\'s script.', e);\n",
            "                }\n",
            "                document.head.appendChild(adLibScript);\n",
            "              }\n",
            "            }\n",
            "\n",
            "            var adLibPreload = document.querySelector('#ad-lib-preload');\n",
            "            if (adLibPreload) {\n",
            "              adLibPreload.onload = loadAdLib;\n",
            "            }\n",
            "\n",
            "            var linkSupportsPreload = DOMTokenListSupports(document.createElement('link').relList, 'preload');\n",
            "\n",
            "            if (!linkSupportsPreload) {\n",
            "              console.log('linkSupportsPreload not supported!');\n",
            "              loadAdLib();\n",
            "            }\n",
            "          </script><link as=\"style\" href=\"/_next/static/css/themes/vice.f8d2e33d53ec8773e0313bad71b6a479.css\" rel=\"preload\"/><link as=\"style\" href=\"/_next/static/css/themes/vice.default.6768fbb55cc48645d758c4aa3b149824.css\" rel=\"preload\"/><link href=\"/_next/static/css/themes/vice.f8d2e33d53ec8773e0313bad71b6a479.css\" rel=\"stylesheet\" type=\"text/css\"/><link href=\"/_next/static/css/themes/vice.default.6768fbb55cc48645d758c4aa3b149824.css\" rel=\"stylesheet\" type=\"text/css\"/><link as=\"font\" crossorigin=\"crossorigin\" href=\"https://vice-web-statics-cdn.vice.com/fonts/NeueHaasGroteskText/NeueHaasGroteskText-400.woff2\" rel=\"preload\" type=\"font/woff2\"/><link as=\"font\" crossorigin=\"crossorigin\" href=\"https://vice-web-statics-cdn.vice.com/fonts/NeueHaasGroteskDisplay/NeueHaasGroteskDisplay-500.woff2\" rel=\"preload\" type=\"font/woff2\"/><link as=\"font\" crossorigin=\"crossorigin\" href=\"https://fonts.gstatic.com/s/lora/v14/0QIvMX1D_JOuMwT7I_FMl_GW8g.woff2\" rel=\"preload\" type=\"font/woff2\"/><link as=\"font\" crossorigin=\"crossorigin\" href=\"https://vice-web-statics-cdn.vice.com/fonts/NeueHaasGroteskDisplay/NeueHaasGroteskDisplay-900.woff2\" rel=\"preload\" type=\"font/woff2\"/><link as=\"font\" crossorigin=\"crossorigin\" href=\"https://fonts.gstatic.com/s/sourcecodepro/v10/HI_SiYsKILxRpg3hIP6sJ7fM7PqlPevWnsUnxg.woff2\" rel=\"preload\" type=\"font/woff2\"/><meta charset=\"utf-8\"/><title>What It Would Take for the Next President to Cancel All Student Debt</title><meta content=\"Trump just erased the loans of 25,000 veterans. Could his successor do the same thing for everyone?\" name=\"description\"/><meta content=\"culture, news, lgbtq, politics, journalism, video, documentary, sex, drugs, film, tv, entertainment, travel, crime\" name=\"keywords\"/><meta content=\"initial-scale=1.0, width=device-width\" name=\"viewport\"/><meta content=\"https://vice-web-statics-cdn.vice.com/images/vice-og.png\" name=\"thumbnail\"/><meta content=\"The Next President Could Cancel $1.6 Trillion in Student Debt\" property=\"og:title\"/><meta content=\"Trump just erased the loans of 25,000 veterans. Could his successor do the same thing for everyone?\" property=\"og:description\"/><meta content=\"en\" property=\"og:locale\"/><meta content=\"https://video-images.vice.com/articles/5d65424219e1d400087bf338/lede/1566917694704-bernie-sanders-elizabeth-warren.jpeg?image-resize-opts=Y3JvcD0wLjgzODh4dzowLjcwNjl4aDswLjA4MjV4dywwLjA2OTV4aCZyZXNpemU9MTIwMDoqJnJlc2l6ZT0xMjAwOio\" property=\"og:image\"/><meta content=\"https://video-images.vice.com/articles/5d65424219e1d400087bf338/lede/1566917694704-bernie-sanders-elizabeth-warren.jpeg?image-resize-opts=Y3JvcD0wLjgzODh4dzowLjcwNjl4aDswLjA4MjV4dywwLjA2OTV4aCZyZXNpemU9MTIwMDoqJnJlc2l6ZT0xMjAwOio\" name=\"twitter:image\"/><meta content=\"website\" property=\"og:type\"/><meta content=\"summary_large_image\" name=\"twitter:card\"/><meta content=\"@vice\" name=\"twitter:site\"/><meta content=\"The Next President Could Cancel $1.6 Trillion in Student Debt\" name=\"twitter:title\" property=\"twitter:title\"/><meta content=\"Trump just erased the loans of 25,000 veterans. Could his successor do the same thing for everyone?\" name=\"twitter:description\" property=\"twitter:description\"/><meta content=\"213518685373476\" property=\"fb:app_id\"/><meta content=\"https://www.vice.com/en/article/a35ve5/what-it-would-take-for-the-next-president-to-cancel-all-student-debt\" property=\"og:url\"/><meta content=\"app-id=591496838\" name=\"apple-itunes-app\"/><link href=\"https://vice-web-statics-cdn.vice.com/favicons/vice/apple-touch-icon-57x57.png\" rel=\"apple-touch-icon\" sizes=\"57x57\"/><link href=\"https://vice-web-statics-cdn.vice.com/favicons/vice/apple-touch-icon-60x60.png\" rel=\"apple-touch-icon\" sizes=\"60x60\"/><link href=\"https://vice-web-statics-cdn.vice.com/favicons/vice/apple-touch-icon-72x72.png\" rel=\"apple-touch-icon\" sizes=\"72x72\"/><link href=\"https://vice-web-statics-cdn.vice.com/favicons/vice/apple-touch-icon-76x76.png\" rel=\"apple-touch-icon\" sizes=\"76x76\"/><link href=\"https://vice-web-statics-cdn.vice.com/favicons/vice/apple-touch-icon-114x114.png\" rel=\"apple-touch-icon\" sizes=\"114x114\"/><link href=\"https://vice-web-statics-cdn.vice.com/favicons/vice/apple-touch-icon-120x120.png\" rel=\"apple-touch-icon\" sizes=\"120x120\"/><link href=\"https://vice-web-statics-cdn.vice.com/favicons/vice/apple-touch-icon-144x144.png\" rel=\"apple-touch-icon\" sizes=\"144x144\"/><link href=\"https://vice-web-statics-cdn.vice.com/favicons/vice/apple-touch-icon-152x152.png\" rel=\"apple-touch-icon\" sizes=\"152x152\"/><link href=\"https://vice-web-statics-cdn.vice.com/favicons/vice/apple-touch-icon-180x180.png\" rel=\"apple-touch-icon\" sizes=\"180x180\"/><link href=\"https://vice-web-statics-cdn.vice.com/favicons/vice/coast-228x228.png\" rel=\"icon\" sizes=\"228x228\" type=\"image/png\"/><link href=\"https://vice-web-statics-cdn.vice.com/favicons/vice/yandex-browser-manifest.json\" rel=\"yandex-tableau-widget\"/><link href=\"https://vice-web-statics-cdn.vice.com/favicons/vice/favicon-32x32.png\" rel=\"icon\" sizes=\"32x32\" type=\"image/png\"/><link href=\"https://vice-web-statics-cdn.vice.com/favicons/vice/android-chrome-192x192.png\" rel=\"icon\" sizes=\"192x192\" type=\"image/png\"/><link href=\"https://vice-web-statics-cdn.vice.com/favicons/vice/favicon-16x16.png\" rel=\"icon\" sizes=\"16x16\" type=\"image/png\"/><link href=\"https://vice-web-statics-cdn.vice.com/favicons/vice/favicon.ico\" rel=\"shortcut icon\"/><link href=\"https://vice-web-statics-cdn.vice.com/favicons/vice/apple-touch-startup-image-320x460.png\" media=\"(device-width: 320px) and (device-height: 480px) and (-webkit-device-pixel-ratio: 1)\" rel=\"apple-touch-startup-image\"/><link href=\"https://vice-web-statics-cdn.vice.com/favicons/vice/apple-touch-startup-image-640x920.png\" media=\"(device-width: 320px) and (device-height: 480px) and (-webkit-device-pixel-ratio: 2)\" rel=\"apple-touch-startup-image\"/><link href=\"https://vice-web-statics-cdn.vice.com/favicons/vice/apple-touch-startup-image-640x1096.png\" media=\"(device-width: 320px) and (device-height: 568px) and (-webkit-device-pixel-ratio: 2)\" rel=\"apple-touch-startup-image\"/><link href=\"https://vice-web-statics-cdn.vice.com/favicons/vice/apple-touch-startup-image-750x1294.png\" media=\"(device-width: 375px) and (device-height: 667px) and (-webkit-device-pixel-ratio: 2)\" rel=\"apple-touch-startup-image\"/><link href=\"https://vice-web-statics-cdn.vice.com/favicons/vice/apple-touch-startup-image-1182x2208.png\" media=\"(device-width: 414px) and (device-height: 736px) and (orientation: landscape) and (-webkit-device-pixel-ratio: 3)\" rel=\"apple-touch-startup-image\"/><link href=\"https://vice-web-statics-cdn.vice.com/favicons/vice/apple-touch-startup-image-1242x2148.png\" media=\"(device-width: 414px) and (device-height: 736px) and (orientation: portrait) and (-webkit-device-pixel-ratio: 3)\" rel=\"apple-touch-startup-image\"/><link href=\"https://vice-web-statics-cdn.vice.com/favicons/vice/apple-touch-startup-image-748x1024.png\" media=\"(device-width: 768px) and (device-height: 1024px) and (orientation: landscape) and (-webkit-device-pixel-ratio: 1)\" rel=\"apple-touch-startup-image\"/><link href=\"https://vice-web-statics-cdn.vice.com/favicons/vice/apple-touch-startup-image-768x1004.png\" media=\"(device-width: 768px) and (device-height: 1024px) and (orientation: portrait) and (-webkit-device-pixel-ratio: 1)\" rel=\"apple-touch-startup-image\"/><link href=\"https://vice-web-statics-cdn.vice.com/favicons/vice/apple-touch-startup-image-1496x2048.png\" media=\"(device-width: 768px) and (device-height: 1024px) and (orientation: landscape) and (-webkit-device-pixel-ratio: 2)\" rel=\"apple-touch-startup-image\"/><link href=\"https://vice-web-statics-cdn.vice.com/favicons/vice/apple-touch-startup-image-1536x2008.png\" media=\"(device-width: 768px) and (device-height: 1024px) and (orientation: portrait) and (-webkit-device-pixel-ratio: 2)\" rel=\"apple-touch-startup-image\"/><link href=\"https://vice-web-statics-cdn.vice.com/favicons/vice/favicon-32x32.png\" rel=\"icon\" sizes=\"32x32\" type=\"image/png\"/><link href=\"https://vice-web-statics-cdn.vice.com/favicons/vice/android-chrome-192x192.png\" rel=\"icon\" sizes=\"192x192\" type=\"image/png\"/><link href=\"https://vice-web-statics-cdn.vice.com/favicons/vice/coast-228x228.png\" rel=\"icon\" sizes=\"228x228\" type=\"image/png\"/><link href=\"https://vice-web-statics-cdn.vice.com/favicons/vice/favicon-16x16.png\" rel=\"icon\" sizes=\"16x16\" type=\"image/png\"/><link crossorigin=\"use-credentials\" href=\"/_next/static/public/pwa-manifest.json\" rel=\"manifest\"/><meta content=\"#000000\" name=\"theme-color\"/><script>\n",
            "        window.__V1C3 = {};\n",
            "        console.log('window.__VIC3');\n",
            "        window.__APP_STATE = {};\n",
            "        window.flushDataLayerQueue = function(){};\n",
            "    </script><script>\n",
            "      function loadGTM(){\n",
            "                console.log('LOADING GTM');\n",
            "                (function(w,d,s,l,i){w[l]=w[l]||[];w[l].push({'gtm.start':\n",
            "      new Date().getTime(),event:'gtm.js'});var f=d.getElementsByTagName(s)[0],\n",
            "      j=d.createElement(s),dl=l!='dataLayer'?'&l='+l:'';j.async=true;j.src=\n",
            "      'https://www.googletagmanager.com/gtm.js?id='+i+dl;f.parentNode.insertBefore(j,f);\n",
            "    })(window,document,'script','dataLayer','GTM-MSM4HQ4');\n",
            "    window.flushDataLayerQueue();\n",
            "              };\n",
            "      loadGTM();\n",
            "      </script><script async=\"\" src=\"https://oembed.vice.com/embed.js\"></script><script type=\"text/javascript\">\n",
            "         // iFramely lazy load snippet\n",
            "            function loadIframelyEmbedJs() {\n",
            "            if (document.querySelectorAll('[data-iframely-url]').length === 0) return;\n",
            "            var iframely = window.iframely = window.iframely || {};\n",
            "            var widgets = iframely.widgets = iframely.widgets || {};\n",
            "            if (widgets.load) {\n",
            "            widgets.load();\n",
            "        } else {\n",
            "            var ifs = document.createElement('script'); ifs.type = 'text/javascript'; ifs.async = true;\n",
            "            ifs.src = ('https:' == document.location.protocol ? 'https:' : 'http:') + '//oembed.vice.com/embed.js';\n",
            "            var s = document.getElementsByTagName('script')[0]; s.parentNode.insertBefore(ifs, s);\n",
            "        }\n",
            "        }</script><meta content=\"5700553057239040\" property=\"snapchat:publisher\"/><meta content=\"https://vice-web-statics-cdn.vice.com/images/snap/snap-share-sticker.png\" property=\"snapchat:sticker\"/><script>\n",
            "          <!-- Start Alexa Certify Javascript -->\n",
            "          _atrk_opts = { atrk_acct:\"x5HVh1aUXR00Gi\", domain:\"vice.com\", dynamic: true};\n",
            "          (function() { var as = document.createElement('script'); as.type = 'text/javascript'; as.async = true; as.src = \"https://certify-js.alexametrics.com/atrk.js\"; var s = document.getElementsByTagName('script')[0];s.parentNode.insertBefore(as, s); })();\n",
            "        </script><noscript>\n",
            "<img alt=\"\" height=\"1\" src=\"https://certify.alexametrics.com/atrk.gif?account=x5HVh1aUXR00Gi\" style=\"display:none\" width=\"1\"/>\n",
            "<!-- End Alexa Certify Javascript -->\n",
            "</noscript><script type=\"text/javascript\">\n",
            "            <!-- Start Segment Javascript -->\n",
            "            !function(){var analytics=window.analytics=window.analytics||[];if(!analytics.initialize)if(analytics.invoked)window.console&&console.error&&console.error(\"Segment snippet included twice.\");else{analytics.invoked=!0;analytics.methods=[\"trackSubmit\",\"trackClick\",\"trackLink\",\"trackForm\",\"pageview\",\"identify\",\"reset\",\"group\",\"track\",\"ready\",\"alias\",\"debug\",\"page\",\"once\",\"off\",\"on\"];analytics.factory=function(t){return function(){var e=Array.prototype.slice.call(arguments);e.unshift(t);analytics.push(e);return analytics}};for(var t=0;t<analytics.methods.length;t++){var e=analytics.methods[t];analytics[e]=analytics.factory(e)}analytics.load=function(t){var e=document.createElement(\"script\");e.type=\"text/javascript\";e.async=!0;e.src=(\"https:\"===document.location.protocol?\"https://\":\"http://\")+\"cdn.segment.com/analytics.js/v1/\"+t+\"/analytics.min.js\";var n=document.getElementsByTagName(\"script\")[0];n.parentNode.insertBefore(e,n)};analytics.SNIPPET_VERSION=\"4.0.0\";\n",
            "            analytics.load('JDTc0H0QndvhnaGawwz0hu5zIk7Yig3y');\n",
            "            }}();\n",
            "            <!-- End Segment Javascript -->\n",
            "          </script><link href=\"https://www.vice.com/en/article/a35ve5/what-it-would-take-for-the-next-president-to-cancel-all-student-debt\" rel=\"canonical\"/><link href=\"https://www.vice.com/en/article/a35ve5/what-it-would-take-for-the-next-president-to-cancel-all-student-debt\" hreflang=\"en\" rel=\"alternate\"/><link href=\"https://www.vice.com/en/article/a35ve5/what-it-would-take-for-the-next-president-to-cancel-all-student-debt\" hreflang=\"x-default\" rel=\"alternate\"/><link href=\"https://www.vice.com/amp/en_us/article/a35ve5/what-it-would-take-for-the-next-president-to-cancel-all-student-debt\" rel=\"amphtml\"/><meta content=\"61\" name=\"next-head-count\"/><link as=\"style\" href=\"/_next/static/css/styles.aa81dcdc.chunk.css\" rel=\"preload\"/><link data-n-g=\"\" href=\"/_next/static/css/styles.aa81dcdc.chunk.css\" rel=\"stylesheet\"/><link as=\"style\" href=\"/_next/static/css/12d74f639b8c7e403aae485eb4e6f583e7b94a67_CSS.eb5ff141.chunk.css\" rel=\"preload\"/><link data-n-p=\"\" href=\"/_next/static/css/12d74f639b8c7e403aae485eb4e6f583e7b94a67_CSS.eb5ff141.chunk.css\" rel=\"stylesheet\"/><link as=\"style\" href=\"/_next/static/css/pages/%5Blocale%5D/article/%5Bweb_id%5D/%5Bslug%5D.5021491c.chunk.css\" rel=\"preload\"/><link data-n-p=\"\" href=\"/_next/static/css/pages/%5Blocale%5D/article/%5Bweb_id%5D/%5Bslug%5D.5021491c.chunk.css\" rel=\"stylesheet\"/><noscript data-n-css=\"true\"></noscript><link as=\"script\" href=\"/_next/static/chunks/main-502dd15677099b8b996e.js\" rel=\"preload\"/><link as=\"script\" href=\"/_next/static/chunks/webpack-65ae2546d67a65120c8f.js\" rel=\"preload\"/><link as=\"script\" href=\"/_next/static/chunks/framework.5b1c71e9f25313208bac.js\" rel=\"preload\"/><link as=\"script\" href=\"/_next/static/chunks/commons.be3036fbf6d009c1cacd.js\" rel=\"preload\"/><link as=\"script\" href=\"/_next/static/chunks/c290de8e037007966d6fcfb5fd6284115d900251.cfe1917b75ec053d49cb.js\" rel=\"preload\"/><link as=\"script\" href=\"/_next/static/chunks/ebe66bd5718e0ad149758b73a8b2d4647abcb832.a1778668ccadda5663d8.js\" rel=\"preload\"/><link as=\"script\" href=\"/_next/static/chunks/e8dec348aea1bd7dd276dff4233a2ade5180309d.c28c95fc6105147dc24a.js\" rel=\"preload\"/><link as=\"script\" href=\"/_next/static/chunks/b1542cc239bf56c8a14913c0a930efe682b5cf86.1c181b651a86457f3f61.js\" rel=\"preload\"/><link as=\"script\" href=\"/_next/static/chunks/styles.11675a934ad295e3f5aa.js\" rel=\"preload\"/><link as=\"script\" href=\"/_next/static/chunks/pages/_app-f5199749d7d9748e402e.js\" rel=\"preload\"/><link as=\"script\" href=\"/_next/static/chunks/a544e88797e9d90e2eb509c29f3d20c9ea146656.1b3598663f1e68cbdcf9.js\" rel=\"preload\"/><link as=\"script\" href=\"/_next/static/chunks/49ac1ce22d465a55760cd51a47ed43e0c7fd48ea.eb38d9ac9d1b34fe4b69.js\" rel=\"preload\"/><link as=\"script\" href=\"/_next/static/chunks/12d74f639b8c7e403aae485eb4e6f583e7b94a67.fc5ace51018c96b5d63d.js\" rel=\"preload\"/><link as=\"script\" href=\"/_next/static/chunks/12d74f639b8c7e403aae485eb4e6f583e7b94a67_CSS.33fae6201fee986d0584.js\" rel=\"preload\"/><link as=\"script\" href=\"/_next/static/chunks/7a19525d46bfa57482dee32f7f283380acbc112b.4df54f6cbbd6b38d7644.js\" rel=\"preload\"/><link as=\"script\" href=\"/_next/static/chunks/1b6d2fae21d0bcc0b55b539044d1bf5afa44aae2.befab39bf197c692771d.js\" rel=\"preload\"/><link as=\"script\" href=\"/_next/static/chunks/ea1c4d1a298d3b67c4305f7117a95cb147d40507.bfd086c47bef30abb77a.js\" rel=\"preload\"/><link as=\"script\" href=\"/_next/static/chunks/pages/%5Blocale%5D/article/%5Bweb_id%5D/%5Bslug%5D-ca052632ad92536ff010.js\" rel=\"preload\"/></head><body data-page-type=\"article\"><div id=\"__next\"><div class=\"container\"><div class=\"custom-slots\"><span class=\"vice-ad\"><div class=\"vice-ad__container\" data-reactroot=\"\"><div class=\"vice-ad__ad\" data-ad-unit-path=\"/16916245/oo_web/vice/money/article\" data-change-correlator=\"false\" data-slot-id=\"1x1\" data-targeting='{\"topic\":\"debt\",\"keywords\":[\"politics\",\"donald-trump\",\"2020\",\"student-loans\"],\"aid\":\"what-it-would-take-for-the-next-president-to-cancel-all-student-debt\",\"pagetype\":\"short-form\",\"country\":\"en\",\"brand_name\":\"vice\",\"section_name\":\"money\",\"utm_source\":\"\"}' id=\"1x1-a35ve5\"></div></div></span><span class=\"vice-ad\"><div class=\"vice-ad__container\" data-reactroot=\"\"><div class=\"vice-ad__ad\" data-ad-unit-path=\"/16916245/oo_web/vice/money/article\" data-change-correlator=\"false\" data-slot-id=\"1x5\" data-targeting='{\"topic\":\"debt\",\"keywords\":[\"politics\",\"donald-trump\",\"2020\",\"student-loans\"],\"aid\":\"what-it-would-take-for-the-next-president-to-cancel-all-student-debt\",\"pagetype\":\"short-form\",\"country\":\"en\",\"brand_name\":\"vice\",\"section_name\":\"money\",\"utm_source\":\"\"}' id=\"1x5\"></div></div></span></div><noscript style=\"display:none\"><iframe height=\"0\" src=\"https://www.googletagmanager.com/ns.html?id=GTM-P5QKJ5M\" style=\"display:none;visibility:hidden\" width=\"0\"></iframe></noscript><div class=\"navbar-wrapper\"><nav class=\"nav-bar\"><div class=\"docked-slot-renderer\"></div><div class=\"nav-bar-top\"><div class=\"nav-bar__sign-in-sign-up\"><div class=\"nav-bar__sign-in-sign-up__account-icon\"><a href=\"/en_us/sign-in\"><svg fill=\"none\" height=\"16\" viewbox=\"0 0 16 16\" width=\"16\" xmlns=\"http://www.w3.org/2000/svg\"><path clip-rule=\"evenodd\" d=\"M12 4C12 6.20914 11.4286 8 8 8C4.57143 8 4 6.20914 4 4C4 1.79086 5.79086 0 8 0C10.2091 0 12 1.79086 12 4ZM16 14.9997V15.9995L0 16V14.9997C0 13 2 10 8 10C14 10 16 13 16 14.9997Z\" fill=\"white\" fill-rule=\"evenodd\"></path></svg></a></div><div class=\"nav-bar__sign-in-sign-up__prompts\"><a href=\"/en_us/sign-in\">Sign In</a><a href=\"/en_us/create-account\">Create Account</a></div></div><div class=\"nav-bar__title-language-picker__wrapper\"><div class=\"nav-bar__title-language-picker__overlay\"></div><div class=\"nav-bar__title-language-picker\"><button class=\"nav-bar__title-language-picker--open\"><div>+ English</div></button><div class=\"nav-bar__title-language-picker__contents\"></div></div></div></div><div class=\"nav-bar__title-bar\"><div class=\"nav-bar__title-bar__left\"><div class=\"nav-bar__hamburger-button\"><button class=\"nav-bar__hamburger-button--open-button\"><div class=\"nav-bar__hamburger-button__hamburger\"><div class=\"nav-bar__hamburger-button__hamburger-bar\"></div><div class=\"nav-bar__hamburger-button__hamburger-bar\"></div><div class=\"nav-bar__hamburger-button__hamburger-bar\"></div></div></button></div><a class=\"nav-bar__vice-logo__wrapper\" href=\"/en\"><svg class=\"logo-vice\" height=\"28\" preserveaspectratio=\"xMidYMid\" viewbox=\"0 0 89 28\" width=\"89\" xmlns=\"http://www.w3.org/2000/svg\"><title>VICE</title><path class=\"logo-vice__foreground\" d=\"M88.986 4.14c.097.381-.33.747-.552 1.027-1.863 2.333-3.929 5.093-6.411 6.865.179.928.084 2.16-.24 2.84.65.828 1.34 1.612 1.742 2.684-.529 2.8-1.757 4.972-3.72 6.392-1.916 1.384-4.505 1.93-7.442 2.604-5.679 1.305-15.023 2.592-19.236-.79-4.562 2.668-13.781 3.02-18.048-.158-3.033 3.827-14.998 3.491-13.218-4.103-2.219 1.675-5.5 3.984-8.63 5.288-3.63 1.51-10.504 1.34-9.817-3.788.083-.611.342-.956.634-1.5-1.062-1.847-1.733-3.129-2.375-4.735C1.058 15.226.12 13.473.01 11.322-.22 6.746 3.358 3.845 6.9 2.482 8.707 1.787 10.175.78 11.965.275c2.675-.76 4.968.707 5.145 3.156 3.11-.92 6.897-1.935 11.004-1.341 3.27-2.535 9.656-.969 13.853.235.949.273 2.226.978 2.929.948.595-.024 1.67-.829 2.294-1.105C50.135.866 53.985-.52 58.194.195c.797.134 1.526.555 2.374.63.576.053 1.28-.127 1.9-.156C72.305.19 80.495 2.822 88.987 4.14zM61.44 3.826c-1.005.12-1.718 1.216-2.375 1.578.048-.005.093-.013.078-.08.12-.538.35-.967.396-1.577-5.268-1.85-10.395.854-14.168 2.919-3.018 1.65-5.71 3.59-7.6 5.523.683-1.16 1.408-2.308 2.217-3.392.82-1.101 1.733-2.097 2.455-3.077-1.578-.412-3.16-.847-4.752-1.185-2.262-.48-5.408-1.275-7.282-.236-.542.3-.986 1.039-1.504 1.105-.429.055-1.135-.257-1.663-.315-1.934-.215-3.714-.036-5.462.315-1.637.327-5.098.907-5.542 2.445-.284.988.35 1.945.238 2.922-.108.96-1.034 2.232-1.504 2.998-.575.94-1.16 1.772-2.138 2.209-.592-2.94.052-5.555.555-8.048.31-1.537.935-3.11.397-4.657-1.51-.209-2.781.982-4.276 1.577-2.808 1.12-5.935 2.141-6.332 5.367-.224 1.817.461 2.972.95 4.262a31.132 31.132 0 0 0 3.88 7.26c-.42.768-1.407.968-1.506 2.05.447.63 1.377.714 2.296.711 2.656-.006 4.834-1.338 6.807-2.446 4.296-2.41 7.182-6.119 10.213-9.627.532-.617.97-1.36 1.663-1.736.68 3.117-.643 4.784-1.585 7.338-.363.984-1.508 4.064-.95 5.523.612 1.605 5.823 1.675 7.204.634.696-.525.973-1.71 1.347-2.447.477-.948.89-1.766 1.266-2.604.021 3.457 2.597 4.472 5.382 5.208 5.92 1.56 11.89-1.227 15.12-3.155-.404 2.561.594 2.818 2.613 3.235 5.22 1.074 10.477-.165 14.723-1.185 3.893-.934 7.023-1.594 7.6-5.446-.623-.537-2.18-.47-3.245-.314-3.14.458-6.18 2.04-10.37 1.735-.765-.055-2.416-.321-2.535-.788-.184-.728 1.124-1.238 2.22-1.42 3.14-.53 7.68.005 10.209-.95 1.214-.456 2.679-1.774 2.532-3.234-.096-.986-1.387-1.502-2.612-1.577-3.464-.216-5.94 1.8-9.575 1.104.454-.572.536-1.515 1.106-1.972 2.659-.056 5.242.47 7.758.315 3.498-.218 5.47-1.687 7.125-3.63.177-.21.621-.435.475-.788-6.076-.922-14.359-3.363-21.85-2.447zM49.407 9.9c-.39 1.77-1.205 3.796-1.662 5.76 2.516.036 5.17-.476 7.757-.631.35-.466.522-1.11.713-1.736.519.732.884 2.102.396 3.156-3.929-.055-6.753 3.153-10.607 3.156-1.726.002-3.193-.987-2.376-2.92 1.154-2.725 4.016-4.629 5.779-6.785zm9.183-2.92c.74.841 2.36.805 3.324 1.422-1.301.333-2.939.331-4.117.787.278-.724.527-1.474.793-2.208z\" fill=\"#ffffff\" fill-rule=\"evenodd\"></path></svg></a><ul class=\"nav-bar__title-bar-links\"><li class=\"nav-bar__title-bar-links__primary-link\"><a href=\"https://video.vice.com/en_us\">Video</a></li><li class=\"nav-bar__title-bar-links__primary-link\"><a href=\"/en_us/series/3rz336/the-19th-in-2020\">The 19th In 2020</a></li><li class=\"nav-bar__title-bar-links__secondary-link\"><a href=\"/en/topic/846\">The 8:46 Project</a></li><li class=\"nav-bar__title-bar-links__secondary-link\"><a href=\"https://news.vice.com/en_us\">News</a></li><li class=\"nav-bar__title-bar-links__secondary-link\"><a href=\"/en/section/tech\">Tech</a></li><li class=\"nav-bar__title-bar-links__secondary-link\"><a href=\"/en/section/music\">Music</a></li><li class=\"nav-bar__title-bar-links__secondary-link\"><a href=\"/en/section/food\">Food</a></li><li class=\"nav-bar__title-bar-links__secondary-link\"><a href=\"/en/section/health\">Health</a></li><li class=\"nav-bar__title-bar-links__secondary-link\"><a href=\"/en/section/money\">Money</a></li><li class=\"nav-bar__title-bar-links__secondary-link\"><a href=\"/en/section/drugs\">Drugs</a></li><li class=\"nav-bar__title-bar-links__secondary-link\"><a href=\"/en/topic/2020\">Election 2020</a></li><li class=\"nav-bar__title-bar-links__secondary-link\"><a href=\"/en/section/identity\">Identity</a></li><li class=\"nav-bar__title-bar-links__secondary-link\"><a href=\"/en/section/games\">Games</a></li><li class=\"nav-bar__title-bar-links__secondary-link\"><a href=\"/en/section/entertainment\">Entertainment</a></li><li class=\"nav-bar__title-bar-links__secondary-link\"><a href=\"/en/section/environment\">Environment</a></li><li class=\"nav-bar__title-bar-links__secondary-link\"><a href=\"/en/section/travel\">Travel</a></li><li class=\"nav-bar__title-bar-links__secondary-link\"><a href=\"/en/astroguide\">Horoscopes</a></li><li class=\"nav-bar__title-bar-links__secondary-link\"><a href=\"/en/section/sex\">Sex</a></li><li class=\"nav-bar__title-bar-links__secondary-link\"><a href=\"/en/topic/vice-magazine\">VICE Magazine</a></li></ul></div><div class=\"nav-bar__title-bar__center\"><a class=\"nav-bar__vice-logo__wrapper\" href=\"/en\"><svg class=\"logo-vice\" height=\"28\" preserveaspectratio=\"xMidYMid\" viewbox=\"0 0 89 28\" width=\"89\" xmlns=\"http://www.w3.org/2000/svg\"><title>VICE</title><path class=\"logo-vice__foreground\" d=\"M88.986 4.14c.097.381-.33.747-.552 1.027-1.863 2.333-3.929 5.093-6.411 6.865.179.928.084 2.16-.24 2.84.65.828 1.34 1.612 1.742 2.684-.529 2.8-1.757 4.972-3.72 6.392-1.916 1.384-4.505 1.93-7.442 2.604-5.679 1.305-15.023 2.592-19.236-.79-4.562 2.668-13.781 3.02-18.048-.158-3.033 3.827-14.998 3.491-13.218-4.103-2.219 1.675-5.5 3.984-8.63 5.288-3.63 1.51-10.504 1.34-9.817-3.788.083-.611.342-.956.634-1.5-1.062-1.847-1.733-3.129-2.375-4.735C1.058 15.226.12 13.473.01 11.322-.22 6.746 3.358 3.845 6.9 2.482 8.707 1.787 10.175.78 11.965.275c2.675-.76 4.968.707 5.145 3.156 3.11-.92 6.897-1.935 11.004-1.341 3.27-2.535 9.656-.969 13.853.235.949.273 2.226.978 2.929.948.595-.024 1.67-.829 2.294-1.105C50.135.866 53.985-.52 58.194.195c.797.134 1.526.555 2.374.63.576.053 1.28-.127 1.9-.156C72.305.19 80.495 2.822 88.987 4.14zM61.44 3.826c-1.005.12-1.718 1.216-2.375 1.578.048-.005.093-.013.078-.08.12-.538.35-.967.396-1.577-5.268-1.85-10.395.854-14.168 2.919-3.018 1.65-5.71 3.59-7.6 5.523.683-1.16 1.408-2.308 2.217-3.392.82-1.101 1.733-2.097 2.455-3.077-1.578-.412-3.16-.847-4.752-1.185-2.262-.48-5.408-1.275-7.282-.236-.542.3-.986 1.039-1.504 1.105-.429.055-1.135-.257-1.663-.315-1.934-.215-3.714-.036-5.462.315-1.637.327-5.098.907-5.542 2.445-.284.988.35 1.945.238 2.922-.108.96-1.034 2.232-1.504 2.998-.575.94-1.16 1.772-2.138 2.209-.592-2.94.052-5.555.555-8.048.31-1.537.935-3.11.397-4.657-1.51-.209-2.781.982-4.276 1.577-2.808 1.12-5.935 2.141-6.332 5.367-.224 1.817.461 2.972.95 4.262a31.132 31.132 0 0 0 3.88 7.26c-.42.768-1.407.968-1.506 2.05.447.63 1.377.714 2.296.711 2.656-.006 4.834-1.338 6.807-2.446 4.296-2.41 7.182-6.119 10.213-9.627.532-.617.97-1.36 1.663-1.736.68 3.117-.643 4.784-1.585 7.338-.363.984-1.508 4.064-.95 5.523.612 1.605 5.823 1.675 7.204.634.696-.525.973-1.71 1.347-2.447.477-.948.89-1.766 1.266-2.604.021 3.457 2.597 4.472 5.382 5.208 5.92 1.56 11.89-1.227 15.12-3.155-.404 2.561.594 2.818 2.613 3.235 5.22 1.074 10.477-.165 14.723-1.185 3.893-.934 7.023-1.594 7.6-5.446-.623-.537-2.18-.47-3.245-.314-3.14.458-6.18 2.04-10.37 1.735-.765-.055-2.416-.321-2.535-.788-.184-.728 1.124-1.238 2.22-1.42 3.14-.53 7.68.005 10.209-.95 1.214-.456 2.679-1.774 2.532-3.234-.096-.986-1.387-1.502-2.612-1.577-3.464-.216-5.94 1.8-9.575 1.104.454-.572.536-1.515 1.106-1.972 2.659-.056 5.242.47 7.758.315 3.498-.218 5.47-1.687 7.125-3.63.177-.21.621-.435.475-.788-6.076-.922-14.359-3.363-21.85-2.447zM49.407 9.9c-.39 1.77-1.205 3.796-1.662 5.76 2.516.036 5.17-.476 7.757-.631.35-.466.522-1.11.713-1.736.519.732.884 2.102.396 3.156-3.929-.055-6.753 3.153-10.607 3.156-1.726.002-3.193-.987-2.376-2.92 1.154-2.725 4.016-4.629 5.779-6.785zm9.183-2.92c.74.841 2.36.805 3.324 1.422-1.301.333-2.939.331-4.117.787.278-.724.527-1.474.793-2.208z\" fill=\"#ffffff\" fill-rule=\"evenodd\"></path></svg></a></div><div class=\"nav-bar__title-bar__right\"><ul class=\"nav-bar__social-links\"><li class=\"nav-bar__social-links__link\"><div class=\"social-icon__facebook_url\"><a href=\"https://www.facebook.com/vice\" target=\"_blank\"><svg fill=\"none\" height=\"16\" width=\"16\" xmlns=\"http://www.w3.org/2000/svg\"><path d=\"M16 0H0v16h7.997V9.96h-2.04V7.61h2.04V5.88c0-.98.271-1.742.813-2.284.543-.542 1.278-.813 2.208-.813.929 0 1.531.034 1.807.103v2.09h-1.24c-.447 0-.752.096-.916.285-.163.19-.245.473-.245.852V7.61h2.323l-.31 2.35h-2.013V16H16V0z\" fill=\"#fff\"></path></svg></a></div></li><li class=\"nav-bar__social-links__link\"><div class=\"social-icon__instagram_url\"><a href=\"https://www.instagram.com/vice\" target=\"_blank\"><svg fill=\"none\" height=\"16\" width=\"16\" xmlns=\"http://www.w3.org/2000/svg\"><path d=\"M8 1.438a57.11 57.11 0 00-2.11.023c-.322.016-.702.029-1.14.039a5.62 5.62 0 00-.93.11c-.224.051-.414.109-.57.171a2.107 2.107 0 00-.484.242 2.904 2.904 0 00-.758.758 2.502 2.502 0 00-.258.5 5.18 5.18 0 00-.156.555c-.052.224-.084.539-.094.945-.02.427-.036.802-.047 1.125-.01.323-.016 1.021-.016 2.094 0 1.083.008 1.786.024 2.11.016.322.029.703.039 1.14.02.396.057.706.11.93.051.224.109.414.171.57.063.177.143.338.242.484a2.904 2.904 0 00.758.758c.146.1.313.185.5.258.146.052.331.104.555.156.224.052.539.084.945.094.427.02.802.037 1.125.047.323.01 1.021.015 2.094.015 1.083 0 1.786-.007 2.11-.023a46.81 46.81 0 011.14-.039c.396-.02.706-.057.93-.11.224-.052.414-.109.57-.171.177-.063.338-.143.484-.242a2.909 2.909 0 00.758-.758c.1-.146.185-.313.258-.5.052-.146.104-.331.156-.555a4.97 4.97 0 00.094-.945c.02-.427.037-.802.047-1.125.01-.323.015-1.021.015-2.094 0-1.083-.007-1.786-.023-2.11a46.813 46.813 0 01-.039-1.14 5.616 5.616 0 00-.11-.93 4.005 4.005 0 00-.171-.57 2.113 2.113 0 00-.242-.484 2.909 2.909 0 00-.758-.758 2.504 2.504 0 00-.5-.258 5.189 5.189 0 00-.555-.156 4.973 4.973 0 00-.945-.094 69.37 69.37 0 00-1.125-.047A84.73 84.73 0 008 1.437zM8 0c1.094 0 1.81.008 2.148.023.339.016.717.03 1.133.04.438.02.807.06 1.11.117.302.057.578.133.828.226.27.115.523.245.758.39.234.147.46.329.68.548.218.218.403.448.554.687.151.24.279.49.383.75.094.24.172.513.234.82.063.308.1.68.11 1.118.02.427.036.807.046 1.14.01.334.016 1.047.016 2.141s-.008 1.81-.023 2.148c-.016.339-.03.717-.04 1.133-.02.438-.06.807-.117 1.11a5.036 5.036 0 01-.226.828c-.115.27-.245.523-.39.758-.147.234-.329.46-.548.68a3.961 3.961 0 01-.687.554c-.24.151-.49.279-.75.383a4.99 4.99 0 01-.82.234c-.308.063-.68.1-1.118.11-.427.02-.807.036-1.14.046A89.02 89.02 0 018 16c-1.094 0-1.81-.008-2.148-.023a53.446 53.446 0 00-1.133-.04 8.156 8.156 0 01-1.11-.117 5.032 5.032 0 01-.828-.226 5.449 5.449 0 01-.758-.39 3.814 3.814 0 01-.68-.548 3.966 3.966 0 01-.554-.687 4.625 4.625 0 01-.383-.75 4.985 4.985 0 01-.234-.82 6.476 6.476 0 01-.11-1.118c-.02-.427-.036-.807-.046-1.14A88.878 88.878 0 010 8c0-1.094.008-1.81.023-2.148.016-.339.03-.717.04-1.133.02-.438.06-.808.117-1.11.057-.302.133-.578.226-.828.115-.27.245-.523.39-.758.147-.234.329-.46.548-.68.218-.218.448-.403.687-.554.24-.151.49-.279.75-.383.24-.094.513-.172.82-.234.308-.063.68-.1 1.118-.11.427-.02.807-.036 1.14-.046C6.193.006 6.906 0 8 0zm0 3.875c.573 0 1.11.107 1.61.32a4.132 4.132 0 012.195 2.196c.213.5.32 1.036.32 1.609s-.107 1.11-.32 1.61a4.132 4.132 0 01-2.196 2.195c-.5.213-1.036.32-1.609.32s-1.11-.107-1.61-.32a4.133 4.133 0 01-2.195-2.196A4.054 4.054 0 013.875 8c0-.573.107-1.11.32-1.61a4.132 4.132 0 012.196-2.195c.5-.213 1.036-.32 1.609-.32zm0 6.813c.74 0 1.372-.266 1.898-.797.527-.532.79-1.162.79-1.891 0-.74-.266-1.372-.797-1.898-.532-.526-1.162-.79-1.891-.79-.74 0-1.372.266-1.898.797-.526.532-.79 1.162-.79 1.891 0 .74.266 1.372.797 1.898.532.527 1.162.79 1.891.79zm5.219-6.97c0 .261-.089.488-.266.68a.873.873 0 01-.672.29.943.943 0 01-.68-.282.923.923 0 01-.289-.687c0-.26.094-.482.282-.664a.949.949 0 01.687-.274c.26 0 .482.089.664.266a.897.897 0 01.274.672z\" fill=\"#fff\"></path></svg></a></div></li><li class=\"nav-bar__social-links__link\"><div class=\"social-icon__twitter_url\"><a href=\"https://twitter.com/vice\" target=\"_blank\"><svg fill=\"none\" height=\"16\" width=\"21\" xmlns=\"http://www.w3.org/2000/svg\"><path d=\"M18.867 4v.5c0 1.333-.266 2.683-.8 4.048a11.415 11.415 0 01-2.358 3.702c-1.04 1.103-2.32 2.003-3.845 2.702C10.339 15.65 8.586 16 6.604 16c-.602 0-1.197-.039-1.785-.115a12.4 12.4 0 01-3.322-.914A11.667 11.667 0 010 14.192a12.448 12.448 0 001.025.039c.998 0 1.959-.148 2.882-.442A8.158 8.158 0 006.398 12.5c-.943 0-1.784-.266-2.522-.798-.738-.532-1.251-1.202-1.538-2.01.137.039.27.061.4.068.13.006.27.01.42.01a5.646 5.646 0 001.149-.116A4.292 4.292 0 011.846 8.25C1.189 7.506.86 6.654.86 5.692v-.077c.287.154.592.276.913.366.321.09.66.134 1.015.134a4.029 4.029 0 01-1.394-1.413A3.708 3.708 0 01.86 2.769c0-.359.055-.711.164-1.057.11-.347.26-.674.452-.981.52.615 1.107 1.173 1.763 1.673.656.5 1.36.933 2.113 1.298.752.365 1.548.657 2.389.875.84.218 1.705.346 2.594.385a3.677 3.677 0 01-.123-.924c0-.55.113-1.073.338-1.567.226-.493.534-.923.923-1.288A4.416 4.416 0 0114.52 0c.63 0 1.214.115 1.754.346.54.23 1.008.539 1.405.923.492-.09.97-.215 1.435-.375.465-.16.903-.356 1.313-.586-.164.461-.41.884-.738 1.269-.329.385-.711.705-1.149.961a10.2 10.2 0 001.251-.23c.41-.103.814-.244 1.21-.423a9.093 9.093 0 01-.974 1.134A9.64 9.64 0 0118.867 4z\" fill=\"#fff\"></path></svg></a></div></li></ul><div class=\"nav-bar__sign-in-sign-up\"><div class=\"nav-bar__sign-in-sign-up__account-icon\"><a href=\"/en_us/sign-in\"><svg fill=\"none\" height=\"16\" viewbox=\"0 0 16 16\" width=\"16\" xmlns=\"http://www.w3.org/2000/svg\"><path clip-rule=\"evenodd\" d=\"M12 4C12 6.20914 11.4286 8 8 8C4.57143 8 4 6.20914 4 4C4 1.79086 5.79086 0 8 0C10.2091 0 12 1.79086 12 4ZM16 14.9997V15.9995L0 16V14.9997C0 13 2 10 8 10C14 10 16 13 16 14.9997Z\" fill=\"white\" fill-rule=\"evenodd\"></path></svg></a></div><div class=\"nav-bar__sign-in-sign-up__prompts\"><a href=\"/en_us/sign-in\">Sign In</a><a href=\"/en_us/create-account\">Create Account</a></div></div></div></div><div><div class=\"nav-bar__dropdown-menu\"><div class=\"nav-bar__dropdown-menu__columns\"><div class=\"nav-bar__dropdown-menu__left\"><ul class=\"nav-bar__primary-menu-links\"><li class=\"nav-bar__primary-menu-links__link\"><a href=\"https://video.vice.com/en_us\">Video</a></li><li class=\"nav-bar__primary-menu-links__link\"><a href=\"/en_us/series/3rz336/the-19th-in-2020\">The 19th In 2020</a></li><li class=\"nav-bar__primary-menu-links__link\"><a href=\"https://www.vicetv.com\">TV</a></li><li class=\"nav-bar__primary-menu-links__link\"><a href=\"https://vice.com/en_us/page/podcasts\">Podcasts</a></li><li class=\"nav-bar__primary-menu-links__link\"><a href=\"https://shop.vice.com/\">Shop</a></li><li class=\"nav-bar__primary-menu-links__link\"><a href=\"/en_us/page/app\">Apps</a></li><li class=\"nav-bar__primary-menu-links__link\"><a href=\"https://voices.vice.com/h/s/6ojElfX90K6Ad2Hx7OuCo\">VICE Voices </a></li></ul><div style=\"display:flex\"><div class=\"navbar-search\"><div class=\"search-bar\"><form><input placeholder=\"Search articles, videos, shows\" required=\"\" type=\"text\" value=\"\"/><button class=\"nav-bar__search-bar__button\" type=\"submit\"><svg fill=\"none\" height=\"16\" viewbox=\"0 0 16 16\" width=\"16\" xmlns=\"http://www.w3.org/2000/svg\"><path clip-rule=\"evenodd\" d=\"M6.55892 10.7328C8.86408 10.7328 10.7328 8.86408 10.7328 6.55892C10.7328 4.25376 8.86408 2.38506 6.55892 2.38506C4.25376 2.38506 2.38506 4.25376 2.38506 6.55892C2.38506 8.86408 4.25376 10.7328 6.55892 10.7328ZM6.55892 13.1178C10.1813 13.1178 13.1178 10.1813 13.1178 6.55892C13.1178 2.93653 10.1813 0 6.55892 0C2.93653 0 0 2.93653 0 6.55892C0 10.1813 2.93653 13.1178 6.55892 13.1178Z\" fill=\"white\" fill-rule=\"evenodd\"></path><path clip-rule=\"evenodd\" d=\"M14.5219 15.9015C14.3906 16.0328 14.1777 16.0328 14.0464 15.9015L9.18249 11.0376L11.0376 9.18249L15.9015 14.0464C16.0328 14.1777 16.0328 14.3906 15.9015 14.5219L14.5219 15.9015Z\" fill=\"white\" fill-rule=\"evenodd\"></path></svg></button></form></div></div></div><ul class=\"nav-bar__social-links\"><li class=\"nav-bar__social-links__link\"><div class=\"social-icon__facebook_url\"><a href=\"https://www.facebook.com/vice\" target=\"_blank\"><svg fill=\"none\" height=\"16\" width=\"16\" xmlns=\"http://www.w3.org/2000/svg\"><path d=\"M16 0H0v16h7.997V9.96h-2.04V7.61h2.04V5.88c0-.98.271-1.742.813-2.284.543-.542 1.278-.813 2.208-.813.929 0 1.531.034 1.807.103v2.09h-1.24c-.447 0-.752.096-.916.285-.163.19-.245.473-.245.852V7.61h2.323l-.31 2.35h-2.013V16H16V0z\" fill=\"#fff\"></path></svg></a></div></li><li class=\"nav-bar__social-links__link\"><div class=\"social-icon__instagram_url\"><a href=\"https://www.instagram.com/vice\" target=\"_blank\"><svg fill=\"none\" height=\"16\" width=\"16\" xmlns=\"http://www.w3.org/2000/svg\"><path d=\"M8 1.438a57.11 57.11 0 00-2.11.023c-.322.016-.702.029-1.14.039a5.62 5.62 0 00-.93.11c-.224.051-.414.109-.57.171a2.107 2.107 0 00-.484.242 2.904 2.904 0 00-.758.758 2.502 2.502 0 00-.258.5 5.18 5.18 0 00-.156.555c-.052.224-.084.539-.094.945-.02.427-.036.802-.047 1.125-.01.323-.016 1.021-.016 2.094 0 1.083.008 1.786.024 2.11.016.322.029.703.039 1.14.02.396.057.706.11.93.051.224.109.414.171.57.063.177.143.338.242.484a2.904 2.904 0 00.758.758c.146.1.313.185.5.258.146.052.331.104.555.156.224.052.539.084.945.094.427.02.802.037 1.125.047.323.01 1.021.015 2.094.015 1.083 0 1.786-.007 2.11-.023a46.81 46.81 0 011.14-.039c.396-.02.706-.057.93-.11.224-.052.414-.109.57-.171.177-.063.338-.143.484-.242a2.909 2.909 0 00.758-.758c.1-.146.185-.313.258-.5.052-.146.104-.331.156-.555a4.97 4.97 0 00.094-.945c.02-.427.037-.802.047-1.125.01-.323.015-1.021.015-2.094 0-1.083-.007-1.786-.023-2.11a46.813 46.813 0 01-.039-1.14 5.616 5.616 0 00-.11-.93 4.005 4.005 0 00-.171-.57 2.113 2.113 0 00-.242-.484 2.909 2.909 0 00-.758-.758 2.504 2.504 0 00-.5-.258 5.189 5.189 0 00-.555-.156 4.973 4.973 0 00-.945-.094 69.37 69.37 0 00-1.125-.047A84.73 84.73 0 008 1.437zM8 0c1.094 0 1.81.008 2.148.023.339.016.717.03 1.133.04.438.02.807.06 1.11.117.302.057.578.133.828.226.27.115.523.245.758.39.234.147.46.329.68.548.218.218.403.448.554.687.151.24.279.49.383.75.094.24.172.513.234.82.063.308.1.68.11 1.118.02.427.036.807.046 1.14.01.334.016 1.047.016 2.141s-.008 1.81-.023 2.148c-.016.339-.03.717-.04 1.133-.02.438-.06.807-.117 1.11a5.036 5.036 0 01-.226.828c-.115.27-.245.523-.39.758-.147.234-.329.46-.548.68a3.961 3.961 0 01-.687.554c-.24.151-.49.279-.75.383a4.99 4.99 0 01-.82.234c-.308.063-.68.1-1.118.11-.427.02-.807.036-1.14.046A89.02 89.02 0 018 16c-1.094 0-1.81-.008-2.148-.023a53.446 53.446 0 00-1.133-.04 8.156 8.156 0 01-1.11-.117 5.032 5.032 0 01-.828-.226 5.449 5.449 0 01-.758-.39 3.814 3.814 0 01-.68-.548 3.966 3.966 0 01-.554-.687 4.625 4.625 0 01-.383-.75 4.985 4.985 0 01-.234-.82 6.476 6.476 0 01-.11-1.118c-.02-.427-.036-.807-.046-1.14A88.878 88.878 0 010 8c0-1.094.008-1.81.023-2.148.016-.339.03-.717.04-1.133.02-.438.06-.808.117-1.11.057-.302.133-.578.226-.828.115-.27.245-.523.39-.758.147-.234.329-.46.548-.68.218-.218.448-.403.687-.554.24-.151.49-.279.75-.383.24-.094.513-.172.82-.234.308-.063.68-.1 1.118-.11.427-.02.807-.036 1.14-.046C6.193.006 6.906 0 8 0zm0 3.875c.573 0 1.11.107 1.61.32a4.132 4.132 0 012.195 2.196c.213.5.32 1.036.32 1.609s-.107 1.11-.32 1.61a4.132 4.132 0 01-2.196 2.195c-.5.213-1.036.32-1.609.32s-1.11-.107-1.61-.32a4.133 4.133 0 01-2.195-2.196A4.054 4.054 0 013.875 8c0-.573.107-1.11.32-1.61a4.132 4.132 0 012.196-2.195c.5-.213 1.036-.32 1.609-.32zm0 6.813c.74 0 1.372-.266 1.898-.797.527-.532.79-1.162.79-1.891 0-.74-.266-1.372-.797-1.898-.532-.526-1.162-.79-1.891-.79-.74 0-1.372.266-1.898.797-.526.532-.79 1.162-.79 1.891 0 .74.266 1.372.797 1.898.532.527 1.162.79 1.891.79zm5.219-6.97c0 .261-.089.488-.266.68a.873.873 0 01-.672.29.943.943 0 01-.68-.282.923.923 0 01-.289-.687c0-.26.094-.482.282-.664a.949.949 0 01.687-.274c.26 0 .482.089.664.266a.897.897 0 01.274.672z\" fill=\"#fff\"></path></svg></a></div></li><li class=\"nav-bar__social-links__link\"><div class=\"social-icon__twitter_url\"><a href=\"https://twitter.com/vice\" target=\"_blank\"><svg fill=\"none\" height=\"16\" width=\"21\" xmlns=\"http://www.w3.org/2000/svg\"><path d=\"M18.867 4v.5c0 1.333-.266 2.683-.8 4.048a11.415 11.415 0 01-2.358 3.702c-1.04 1.103-2.32 2.003-3.845 2.702C10.339 15.65 8.586 16 6.604 16c-.602 0-1.197-.039-1.785-.115a12.4 12.4 0 01-3.322-.914A11.667 11.667 0 010 14.192a12.448 12.448 0 001.025.039c.998 0 1.959-.148 2.882-.442A8.158 8.158 0 006.398 12.5c-.943 0-1.784-.266-2.522-.798-.738-.532-1.251-1.202-1.538-2.01.137.039.27.061.4.068.13.006.27.01.42.01a5.646 5.646 0 001.149-.116A4.292 4.292 0 011.846 8.25C1.189 7.506.86 6.654.86 5.692v-.077c.287.154.592.276.913.366.321.09.66.134 1.015.134a4.029 4.029 0 01-1.394-1.413A3.708 3.708 0 01.86 2.769c0-.359.055-.711.164-1.057.11-.347.26-.674.452-.981.52.615 1.107 1.173 1.763 1.673.656.5 1.36.933 2.113 1.298.752.365 1.548.657 2.389.875.84.218 1.705.346 2.594.385a3.677 3.677 0 01-.123-.924c0-.55.113-1.073.338-1.567.226-.493.534-.923.923-1.288A4.416 4.416 0 0114.52 0c.63 0 1.214.115 1.754.346.54.23 1.008.539 1.405.923.492-.09.97-.215 1.435-.375.465-.16.903-.356 1.313-.586-.164.461-.41.884-.738 1.269-.329.385-.711.705-1.149.961a10.2 10.2 0 001.251-.23c.41-.103.814-.244 1.21-.423a9.093 9.093 0 01-.974 1.134A9.64 9.64 0 0118.867 4z\" fill=\"#fff\"></path></svg></a></div></li><li class=\"nav-bar__social-links__link\"><div class=\"social-icon__reddit_url\"><a href=\"https://www.reddit.com/user/vice\" target=\"_blank\"><svg fill=\"none\" height=\"16\" width=\"19\" xmlns=\"http://www.w3.org/2000/svg\"><path d=\"M19 7.385c0-1.358-1.06-2.462-2.365-2.462-.521 0-1.017.177-1.42.499-1.32-.954-3.049-1.523-4.887-1.667l.992-2.422 2.886.702c.092.929.84 1.657 1.755 1.657.978 0 1.774-.828 1.774-1.846C17.735.828 16.939 0 15.96 0c-.62 0-1.164.334-1.481.837l-3.373-.82a.586.586 0 00-.68.357L9.055 3.722C7.07 3.793 5.18 4.375 3.75 5.39a2.256 2.256 0 00-1.385-.467C1.06 4.923 0 6.027 0 7.385c0 .9.472 1.713 1.195 2.13-.01.108-.013.22-.013.331C1.182 13.24 4.895 16 9.46 16c4.562 0 8.276-2.76 8.276-6.154 0-.096-.004-.19-.01-.285C18.497 9.152 19 8.319 19 7.385zM15.961 1.23c.326 0 .592.276.592.615 0 .34-.266.616-.592.616a.605.605 0 01-.59-.616c0-.34.265-.615.59-.615zM6.503 8C5.85 8 5.32 8.553 5.32 9.23c0 .68.531 1.232 1.183 1.232.651 0 1.182-.552 1.182-1.231C7.685 8.553 7.155 8 6.503 8zm5.686 5.313a4.53 4.53 0 01-2.73.922 4.53 4.53 0 01-2.73-.922.631.631 0 01-.133-.859.578.578 0 01.825-.138 3.358 3.358 0 004.075 0 .576.576 0 01.825.138.632.632 0 01-.132.86zm-.957-4.082c0 .68.53 1.23 1.182 1.23.653 0 1.183-.55 1.183-1.23 0-.678-.53-1.231-1.183-1.231-.652 0-1.182.553-1.182 1.23z\" fill=\"#fff\"></path></svg></a></div></li><li class=\"nav-bar__social-links__link\"><div class=\"social-icon__tumblr_url\"><a href=\"https://vicemag.tumblr.com\" target=\"_blank\"><svg fill=\"none\" height=\"16\" viewbox=\"0 0 16 16\" width=\"16\" xmlns=\"http://www.w3.org/2000/svg\"><path d=\"M12.9257 15.0108C12.3562 15.589 11.0364 15.9815 9.85459 16H9.72485C5.75445 16 4.89212 13.2249 4.89212 11.605V7.10475H3.32796C3.24098 7.10475 3.15756 7.0719 3.09606 7.01343C3.03455 6.95496 3 6.87565 3 6.79296V4.66775C3.00015 4.44359 3.14877 4.24382 3.37104 4.169C5.40931 3.48643 6.04857 1.79538 6.14318 0.509972C6.16883 0.166497 6.35781 0 6.67141 0H9.00277C9.1839 0 9.33073 0.139591 9.33073 0.311785V3.91108H12.0598C12.2406 3.91095 12.3874 4.04999 12.388 4.22189V6.7759C12.3879 6.85859 12.3533 6.93787 12.2918 6.99629C12.2302 7.05472 12.1468 7.0875 12.0598 7.08744H9.31817V11.2494C9.31817 12.2944 10.0425 12.5828 10.49 12.5828C10.9192 12.573 11.3418 12.4487 11.5536 12.3678C11.7108 12.3078 11.849 12.2681 11.9726 12.2976C12.0877 12.3249 12.1634 12.4024 12.2144 12.5438L12.9378 14.5525C12.9965 14.7134 13.047 14.8877 12.9257 15.0108Z\" fill=\"white\"></path></svg></a></div></li><li class=\"nav-bar__social-links__link\"><div class=\"social-icon__youtube_url\"><a href=\"https://www.youtube.com/user/vice\" target=\"_blank\"><svg fill=\"none\" height=\"16\" width=\"24\" xmlns=\"http://www.w3.org/2000/svg\"><path d=\"M23.766 3.467l.117 1.144c.078.763.117 1.596.117 2.5v1.733c0 .934-.04 1.782-.117 2.545l-.117 1.144-.211.867c-.14.578-.383 1.044-.727 1.4-.469.444-.933.715-1.394.811-.461.096-.809.152-1.043.167-.828.059-1.73.104-2.707.133-.977.03-1.887.052-2.73.067-.845.015-1.548.022-2.11.022H12l-1.008-.011c-.672-.008-1.457-.019-2.355-.033-.899-.015-1.801-.037-2.707-.067a38.198 38.198 0 01-2.086-.111c-.266-.045-.66-.108-1.184-.19-.523-.08-1.02-.344-1.488-.788-.36-.356-.606-.822-.738-1.4l-.2-.867-.117-1.144A25.138 25.138 0 010 8.844V7.111C0 6.193.04 5.356.117 4.6l.117-1.133.211-.89c.14-.592.383-1.051.727-1.377.469-.474.933-.752 1.394-.833.461-.082.809-.13 1.043-.145C4.438.163 5.34.12 6.316.09c.977-.03 1.887-.052 2.73-.067C9.892.007 10.595 0 11.157 0h1.688c.562 0 1.265.007 2.11.022.843.015 1.753.037 2.73.067.976.03 1.878.074 2.707.133.234.03.582.085 1.043.167.46.081.925.352 1.394.811.36.34.606.804.738 1.389l.2.878zm-8.532 4.71l.797-.4-6.468-3.2v6.4l5.671-2.8z\" fill=\"#fff\"></path></svg></a></div></li><li class=\"nav-bar__social-links__link\"><div class=\"social-icon__pinterest_url\"><a href=\"https://www.pinterest.com/vicemag\" target=\"_blank\"><svg fill=\"none\" height=\"16\" width=\"16\" xmlns=\"http://www.w3.org/2000/svg\"><path d=\"M8 0A8 8 0 004.79 15.327c-.023-.559-.004-1.23.139-1.837l1.03-4.359s-.256-.51-.256-1.266c0-1.185.687-2.07 1.543-2.07.727 0 1.079.546 1.079 1.2 0 .732-.467 1.826-.707 2.84-.2.848.426 1.54 1.263 1.54 1.516 0 2.537-1.947 2.537-4.253 0-1.753-1.181-3.066-3.33-3.066-2.426 0-3.938 1.81-3.938 3.831 0 .697.206 1.189.528 1.57.148.174.168.245.115.445-.039.148-.127.502-.163.642-.054.203-.218.275-.4.2-1.119-.456-1.64-1.68-1.64-3.056 0-2.272 1.917-4.997 5.718-4.997 3.055 0 5.065 2.21 5.065 4.583 0 3.138-1.745 5.482-4.317 5.482-.863 0-1.676-.467-1.954-.997 0 0-.465 1.843-.563 2.2-.17.616-.501 1.232-.805 1.713A8 8 0 108 0z\" fill=\"#fff\"></path></svg></a></div></li></ul></div><div class=\"nav-bar__dropdown-menu__right\"><ul class=\"nav-bar__secondary-menu-links\"><li class=\"nav-bar__secondary-menu-links__link\"><a href=\"/en/topic/846\">The 8:46 Project</a></li><li class=\"nav-bar__secondary-menu-links__link\"><a href=\"https://news.vice.com/en_us\">News</a></li><li class=\"nav-bar__secondary-menu-links__link\"><a href=\"/en/section/tech\">Tech</a></li><li class=\"nav-bar__secondary-menu-links__link\"><a href=\"/en/section/music\">Music</a></li><li class=\"nav-bar__secondary-menu-links__link\"><a href=\"/en/section/food\">Food</a></li><li class=\"nav-bar__secondary-menu-links__link\"><a href=\"/en/section/health\">Health</a></li><li class=\"nav-bar__secondary-menu-links__link\"><a href=\"/en/section/money\">Money</a></li><li class=\"nav-bar__secondary-menu-links__link\"><a href=\"/en/section/drugs\">Drugs</a></li><li class=\"nav-bar__secondary-menu-links__link\"><a href=\"/en/topic/2020\">Election 2020</a></li><li class=\"nav-bar__secondary-menu-links__link\"><a href=\"/en/section/identity\">Identity</a></li><li class=\"nav-bar__secondary-menu-links__link\"><a href=\"/en/section/games\">Games</a></li><li class=\"nav-bar__secondary-menu-links__link\"><a href=\"/en/section/entertainment\">Entertainment</a></li><li class=\"nav-bar__secondary-menu-links__link\"><a href=\"/en/section/environment\">Environment</a></li><li class=\"nav-bar__secondary-menu-links__link\"><a href=\"/en/section/travel\">Travel</a></li><li class=\"nav-bar__secondary-menu-links__link\"><a href=\"/en/astroguide\">Horoscopes</a></li><li class=\"nav-bar__secondary-menu-links__link\"><a href=\"/en/section/sex\">Sex</a></li><li class=\"nav-bar__secondary-menu-links__link\"><a href=\"/en/topic/vice-magazine\">VICE Magazine</a></li></ul></div></div><footer class=\"page-footer\"><a class=\"page-footer__logo-vice-link\" href=\"https://www.vice.com/\"><svg class=\"page-footer__logo-vice\" fill=\"none\" height=\"24\" width=\"218\" xmlns=\"http://www.w3.org/2000/svg\"><path clip-rule=\"evenodd\" d=\"M56.492 17.504c1.792-1.332 2.611-3.28 3.072-5.69l-8.14.007c-.587 2.204-1.945 3.153-4.221 3.153-2.637 0-4.455-1.46-4.455-5.177 0-3.717 1.869-5.177 4.812-5.177 2.79 0 3.66 1.89 3.865 3.197h8.139C58.616.564 51.91 0 47.56 0c-4.378 0-12.49.308-12.49 9.79 0 9.483 8.095 9.79 12.49 9.79 4.396 0 7.141-.743 8.932-2.076zM0 .648h8.122l4.512 11.928.055-.198L17.2.648h8.121L16.53 18.939H8.801L0 .648zm26.773 0h6.832v18.291h-6.832V.648zM61 .648h19.425v4.458H68.217v2.256H79.36v4.46H68.217v2.657h12.209v4.46H61V.648zm106.954 17.438V6.128h-2.866l-.387 2.82c-.514-1.88-1.667-3.353-4.1-3.353-3.327 0-5.787 2.688-5.787 6.752 0 4.063 2.457 6.755 5.787 6.755 2.255 0 3.408-1.272 3.97-2.945v1.036c0 3.43-1.23 3.963-3.225 3.963h-4.791V24h5.227c4.407 0 6.148-1.802 6.172-5.914zm-6.067-9.702c1.996 0 3.124 1.579 3.124 3.963 0 2.386-1.128 3.962-3.124 3.962-2.254 0-3.638-1.576-3.638-3.962 0-2.387 1.384-3.963 3.638-3.963zm15.24.588V6.128l-.106-.009c-.249-.022-.491-.043-.715-.043-3.075 0-3.33 2.183-3.382 3.53v.28l-.409-3.758h-2.866v12.693h3.382v-6.523c0-1.6.794-3.326 2.789-3.326h1.307zm6.584 10.13c3.841 0 6.556-2.692 6.556-6.755h-.003c0-4.06-2.709-6.752-6.553-6.752s-6.559 2.688-6.559 6.752c0 4.063 2.718 6.755 6.559 6.755zm0-10.718c1.996 0 3.125 1.579 3.125 3.963h-.004c0 2.386-1.122 3.962-3.121 3.962-1.999 0-3.127-1.576-3.127-3.962 0-2.387 1.131-3.963 3.127-3.963zm19.973 10.437V6.128h-3.379v8.047c0 1.168-.714 2.363-2.79 2.363-2.075 0-2.69-1.195-2.69-2.363V6.128h-3.383v8.505c0 3.149 1.535 4.697 4.533 4.697 3.072 0 4.431-2.185 4.431-3.682l-.028-.204.692 3.377h2.614zm9.041.28c3.072 0 5.274-2.691 5.274-6.754 0-4.06-2.202-6.752-5.274-6.755-2.432 0-3.585 1.475-4.099 3.353l-.384-2.817h-2.87v17.82h3.383v-7.791c.563 1.673 1.716 2.945 3.97 2.945zm-1.282-10.717c1.999 0 3.124 1.579 3.124 3.963 0 2.386-1.128 3.962-3.124 3.962-1.996 0-3.125-1.576-3.125-3.962 0-2.387 1.126-3.963 3.125-3.963zM104.512 18.849v-8.505c0-3.146-1.153-4.697-4.155-4.697-2.841 0-3.893 1.88-4.019 3.353-.335-2.26-1.537-3.353-4.071-3.353-2.999 0-3.998 2.082-4.047 3.581l-.412-3.072h-2.866v12.693h3.382V10.8c0-1.167.335-2.36 2.408-2.36s2.303 1.193 2.303 2.36v8.048h3.383V10.8c0-1.167.335-2.36 2.408-2.36s2.303 1.193 2.303 2.36v8.048h3.383zm4.508-5.737h9.73v-.735c0-4.063-2.586-6.755-6.427-6.755-3.841 0-6.686 2.695-6.686 6.755 0 4.06 2.587 6.752 6.609 6.752 3.662 0 5.71-1.573 6.301-4.444h-3.715c-.255.838-.64 1.652-2.638 1.652-1.793 0-2.946-1.244-3.174-3.225zm6.273-2.183h-6.172c.409-1.676 1.563-2.515 3.149-2.515 1.793 0 2.716.839 3.023 2.515zm17.107 7.92V.824h-3.382v7.743c-.563-1.674-1.716-2.945-3.97-2.945-3.072 0-5.274 2.695-5.274 6.755 0 4.06 2.199 6.752 5.274 6.752 2.407 0 3.536-1.445 4.074-3.274l.409 2.994h2.869zm-2.936-6.829v.357c0 2.384-1.126 3.963-3.125 3.963s-3.124-1.576-3.124-3.963 1.125-3.963 3.124-3.963c1.562 0 2.586.967 2.971 2.515l.154 1.091zm7.663-5.864h-3.383v12.693h3.383V6.156zm13.085 12.693v-8.505h-.01c0-3.274-2.355-4.697-5.876-4.697-3.817 0-5.945 1.853-5.945 4.648h3.383c0-.99.846-1.853 2.586-1.853 1.741 0 2.482.862 2.482 2.36v.38h-3.558c-2.924 0-4.92 1.549-4.92 3.884 0 2.615 1.996 3.91 4.403 3.91 2.048 0 3.586-1.066 4.072-3.377l.769 3.25h2.614zm-6.295-5.484h2.903a2.979 2.979 0 01-1.851 2.841 3.037 3.037 0 01-1.178.231c-1.667 0-2.076-.838-2.076-1.624 0-.787.64-1.448 2.202-1.448zM136.851 1.45c.188.278.288.605.288.94h-.009c0 .447-.179.876-.497 1.193-.318.317-.75.496-1.201.499-.337 0-.667-.1-.948-.285a1.697 1.697 0 01-.628-.76 1.679 1.679 0 01.37-1.843 1.723 1.723 0 011.86-.367c.311.128.578.345.765.623z\" fill=\"#fff\" fill-rule=\"evenodd\"></path></svg></a><nav aria-label=\"Footer Navigation\" class=\"page-footer__nav\" role=\"navigation\"><ul class=\"page-footer__list\"><li class=\"page-footer__list-item\"><a class=\"page-footer__list-item-link\" href=\"https://company.vice.com\" id=\"585313014-a-920651-bf-8-c-0-cfb\">About </a></li><li class=\"page-footer__list-item\"><a class=\"page-footer__list-item-link\" href=\"https://company.vice.com/careers/\" id=\"5853130-d-68-cb-5808239228-de\">Jobs</a></li><li class=\"page-footer__list-item\"><a class=\"page-footer__list-item-link\" href=\"https://advertise.vice.com/\" id=\"5-d-8-be-154-b-9-fbf-5000814-eddc\">Partner</a></li><li class=\"page-footer__list-item\"><a class=\"page-footer__list-item-link\" href=\"https://voices.vice.com/h/s/6ojElfX90K6Ad2Hx7OuCo\" id=\"5853132581446-e-51-a-728-dbfa\">VICE Voices</a></li><li class=\"page-footer__list-item\"><a class=\"page-footer__list-item-link\" href=\"/en_us/page/content-funding-on-vice\" id=\"5-b-3525-dfe-7-fc-8800063-a-1-a-4-d\">Content Funding on VICE</a></li><li class=\"page-footer__list-item\"><a class=\"page-footer__list-item-link\" href=\"/en_us/page/vice-responsible-disclosure-policy\" id=\"5853134181042351-b-3-ced-974\">Security Policy</a></li><li class=\"page-footer__list-item\"><a class=\"page-footer__list-item-link\" href=\"/en_us/page/privacy-and-terms\" id=\"5853146-ec-90-ce-551-c-569492-d\">Privacy &amp; Terms</a></li><li class=\"page-footer__list-item\" id=\"privacy-page-footer\"></li></ul></nav><div class=\"page-footer__copyright\">© <!-- -->2020<!-- --> VICE MEDIA GROUP</div></footer></div></div></nav><div class=\"nav-bar__spacer\"></div></div><main class=\"main-content\"><div class=\"observer\"><div class=\"observer__content\"><div class=\"short-form\"><div class=\"article__header article__header--bordered\"><div class=\"article__header__rubric\"><a class=\"article__header__rubric__label article__header__rubric__link\" href=\"/en/section/money\">Money</a></div><span data-article-description=\"Trump just erased the loans of 25,000 veterans. Could his successor do the same thing for everyone?\" data-article-title=\"What It Would Take for the Next President to Cancel All Student Debt\" data-article-url=\"/en/article/a35ve5/what-it-would-take-for-the-next-president-to-cancel-all-student-debt\" data-direction=\"down\"><div class=\"smart-header smart-header--light article__header__title\"><h1 class=\"smart-header__hed smart-header__hed--size-2\">What It Would Take for the Next President to Cancel All Student Debt</h1></div></span><div class=\"article__header__ad-section\"><span class=\"vice-ad\"><div class=\"vice-ad__container sponsored-slot\" data-reactroot=\"\"><div class=\"vice-ad__ad\" data-ad-unit-path=\"/16916245/oo_web/vice/money/article\" data-change-correlator=\"false\" data-slot-id=\"sponsored-article\" data-targeting='{\"topic\":\"debt\",\"keywords\":[\"politics\",\"donald-trump\",\"2020\",\"student-loans\"],\"aid\":\"what-it-would-take-for-the-next-president-to-cancel-all-student-debt\",\"pagetype\":\"short-form\",\"country\":\"en\",\"brand_name\":\"vice\",\"section_name\":\"money\",\"utm_source\":\"\"}' id=\"sponsored-article-a35ve5\"></div></div></span></div><div class=\"article__header__dek-contributions\"><div class=\"article__header__dek\">Trump just erased the loans of 25,000 veterans. Could his successor do the same thing for everyone?</div><div class=\"contributors\"><div class=\"contributor\"><a class=\"avatar avatar__link avatar__small contributor__image\" href=\"/en/contributor/allie-conti\"><img alt=\"Allie Conti\" class=\"avatar__img\" src=\"https://broadly-images.vice.com/images/contributors/meta/2017/03/15/allie-conti-1489568985.png?crop=0.9126712328767124xw:1xh;center,center&amp;resize=100:*\"/></a><div class=\"contributor__meta\"><div><span class=\"contributor__meta__prefix\">by </span><a href=\"/en/contributor/allie-conti\">Allie Conti</a></div></div></div></div><div class=\"article__header__datebar\"><div class=\"article__header__datebar__date--original\">August 27, 2019, 3:22pm</div><span class=\"article__socialize\"><ul><li><button aria-label=\"facebook\" class=\"react-share__ShareButton article__socialize__share\" style=\"background-color:transparent;border:none;padding:0;font:inherit;color:inherit;cursor:pointer\"><svg class=\"\" data-testid=\"social-icon-Facebook\" height=\"16\" id=\"facebook_share\" viewbox=\"0 0 16 16\" width=\"16\" xmlns=\"http://www.w3.org/2000/svg\" xmlns:xlink=\"http://www.w3.org/1999/xlink\"><defs><path d=\"M10.424 16V9.96h2.014l.31-2.35h-2.324V6.113c0-.379.082-.663.245-.852.164-.19.47-.284.917-.284h1.239V2.886c-.276-.069-.878-.103-1.807-.103-.93 0-1.665.27-2.208.813-.542.542-.813 1.303-.813 2.284v1.73h-2.04v2.35h2.04V16H0V0h16v16h-5.576z\" id=\"social-icon-facebook_share-facebook-a\"></path></defs><g fill=\"none\" fill-rule=\"evenodd\"><path class=\"social-icon-secondary\" d=\"M-50-50h917V70H-50z\" fill=\"#fff\"></path><mask fill=\"#fff\" id=\"social-icon-facebook_share-facebook-b\"><use xlink:href=\"#social-icon-facebook_share-facebook-a\"></use></mask><g class=\"social-icon-primary\" fill=\"#000\" mask=\"url(#social-icon-facebook_share-facebook-b)\"><path d=\"M0 0h16v16H0z\"></path></g></g></svg><span class=\"article__socialize__share__text\">Share</span></button></li><li><button aria-label=\"twitter\" class=\"react-share__ShareButton article__socialize__share\" style=\"background-color:transparent;border:none;padding:0;font:inherit;color:inherit;cursor:pointer\"><svg class=\"\" data-testid=\"social-icon-Twitter\" height=\"14\" id=\"twitter_share\" viewbox=\"0 0 18 14\" width=\"18\" xmlns=\"http://www.w3.org/2000/svg\" xmlns:xlink=\"http://www.w3.org/1999/xlink\"><defs><path d=\"M16.172 3.5v.438c0 1.166-.229 2.347-.686 3.542a10.017 10.017 0 0 1-2.021 3.239c-.89.964-1.99 1.753-3.296 2.364-1.307.611-2.81.917-4.509.917-.515 0-1.025-.034-1.53-.101a10.435 10.435 0 0 1-2.847-.8A9.927 9.927 0 0 1 0 12.42a10.295 10.295 0 0 0 .879.033c.855 0 1.679-.13 2.47-.387a6.942 6.942 0 0 0 2.135-1.127c-.808 0-1.529-.233-2.162-.699a3.63 3.63 0 0 1-1.318-1.758c.117.033.231.053.343.059.111.005.231.008.36.008a4.741 4.741 0 0 0 .984-.1 3.662 3.662 0 0 1-2.109-1.23 3.323 3.323 0 0 1-.844-2.237v-.068c.246.135.507.242.783.32.275.079.565.118.87.118a3.491 3.491 0 0 1-1.196-1.237 3.295 3.295 0 0 1-.457-1.69c0-.315.047-.624.14-.926.095-.303.224-.59.388-.859a9.61 9.61 0 0 0 1.511 1.464 10.647 10.647 0 0 0 3.859 1.902c.72.19 1.462.303 2.223.336a3.275 3.275 0 0 1-.105-.807c0-.483.097-.94.29-1.372.193-.432.457-.807.791-1.127A3.759 3.759 0 0 1 12.445 0c.54 0 1.04.101 1.503.303.463.202.864.471 1.204.808a8.246 8.246 0 0 0 1.23-.329c.4-.14.774-.31 1.126-.513-.14.404-.352.774-.633 1.11a3.85 3.85 0 0 1-.984.842c.363-.045.72-.112 1.072-.202.351-.09.697-.213 1.037-.37A8.305 8.305 0 0 1 16.172 3.5z\" id=\"social-icon-twitter_share-twitter-a\"></path></defs><g fill=\"none\" fill-rule=\"evenodd\"><path class=\"social-icon-secondary\" d=\"M-116-50h917V70h-917z\" fill=\"#fff\"></path><mask fill=\"#fff\" id=\"social-icon-twitter_share-twitter-b\"><use xlink:href=\"#social-icon-twitter_share-twitter-a\"></use></mask><g class=\"social-icon-primary\" fill=\"#000\" mask=\"url(#social-icon-twitter_share-twitter-b)\"><path d=\"M0 0h18v14H0z\"></path></g></g></svg><span class=\"article__socialize__share__text\">Tweet</span></button></li><li><span id=\"https://www.vice.com/en/article/a35ve5/what-it-would-take-for-the-next-president-to-cancel-all-student-debt\"><button class=\"article__socialize__share snapchat-share-button\" data-share-url=\"https://www.vice.com/en/article/a35ve5/what-it-would-take-for-the-next-president-to-cancel-all-student-debt\" title=\"Share on Snapchat\"><svg class=\"\" height=\"16\" id=\"snap_share\" viewbox=\"0 0 17 16\" width=\"17\" xmlns=\"http://www.w3.org/2000/svg\" xmlns:xlink=\"http://www.w3.org/1999/xlink\"><defs><path d=\"M4.129 2.714c-.425.951-.257 2.656-.19 3.848-.458.254-1.048-.192-1.381-.192-.347 0-.762.228-.827.568-.047.245.063.602.85.913.305.12 1.03.262 1.198.657.236.555-1.211 3.117-3.484 3.49a.352.352 0 0 0-.294.368c.04.69 1.588.96 2.274 1.067.07.095.127.495.217.8.04.137.144.3.412.3.35 0 .93-.268 1.94-.101.99.165 1.92 1.568 3.708 1.568 1.66 0 2.652-1.41 3.605-1.568.552-.091 1.026-.062 1.556.04.365.072.692.112.796-.246.091-.31.147-.702.216-.795.68-.106 2.235-.375 2.274-1.066a.353.353 0 0 0-.294-.367c-2.234-.368-3.725-2.923-3.484-3.491.167-.394.887-.535 1.197-.657.577-.227.866-.507.86-.83-.008-.415-.507-.662-.874-.662-.373 0-.91.442-1.344.203.068-1.202.236-2.9-.189-3.85C12.067.91 10.28 0 8.491 0 6.714 0 4.939.898 4.129 2.714z\" id=\"social-icon-snap_share-snapchat-a\"></path></defs><g fill=\"none\" fill-rule=\"evenodd\"><path class=\"social-icon-secondary\" d=\"M-577-50h917V70h-917z\" fill=\"#fff\"></path><mask fill=\"#fff\" id=\"social-icon-snap_share-snapchat-b\"><use xlink:href=\"#social-icon-snap_share-snapchat-a\"></use></mask><g class=\"social-icon-primary\" fill=\"#000\" mask=\"url(#social-icon-snap_share-snapchat-b)\"><path d=\"M0 0h17v16H0z\"></path></g></g></svg><span class=\"article__socialize__share__text\">Snap</span></button></span></li></ul></span></div></div></div><div class=\"short-form__body\"><div class=\"short-form__body__article-body\"><div class=\"short-form__body__article-lede-image\"><div><picture class=\"responsive-image lazyloader--lazy lazyloader--lowres\"><source media=\"(min-width: 1000px)\" srcset=\"https://video-images.vice.com/articles/5d65424219e1d400087bf338/lede/1566917694704-bernie-sanders-elizabeth-warren.jpeg?crop=0.8388xw:0.7069xh;0.0825xw,0.0695xh&amp;resize=20:*\"/><source media=\"(min-width: 700px)\" srcset=\"https://video-images.vice.com/articles/5d65424219e1d400087bf338/lede/1566917694704-bernie-sanders-elizabeth-warren.jpeg?crop=0.8388xw:0.7069xh;0.0825xw,0.0695xh&amp;resize=20:*\"/><source media=\"(min-width: 0px)\" srcset=\"https://video-images.vice.com/articles/5d65424219e1d400087bf338/lede/1566917694704-bernie-sanders-elizabeth-warren.jpeg?crop=0.8388xw:0.7069xh;0.0825xw,0.0695xh&amp;resize=20:*\"/><img alt=\"Bernie Sanders and Elizabeth Warren at a rally\" class=\"responsive-image__img\"/></picture></div><div class=\"short-form__lede-credit\">Bernie Sanders and Elizabeth Warren in 2017. Photo by Scott Eisen/Getty</div></div><div class=\"article__body-components\" data-component=\"BodyComponentRenderer\"><span class=\"abc__textblock size--article\" data-component=\"TextBlock\"><p>Last Wednesday, President Donald Trump <a href=\"https://www.nytimes.com/2019/08/21/us/trump-veterans-student-loans.html\">issued an executive order</a> intended to wipe out the student loans of around 25,000 permanently disabled veterans, a move that came after dozens of state attorneys general said that it was way <a href=\"https://www.naag.org/assets/redesign/files/sign-on-letter/NAAG%20Letter%20to%20Sec.%20DeVos%20-%205.28.pdf\">too complicated for wounded veterans to get rid of their student debt</a>. The move will supposedly save these veterans an average of $30,000, but it represents a tiny fraction of the $1.6 trillion in student debt that Americans collectively owe.</p>\n",
            "</span><div class=\"lazy-vice-ad\"><div style=\"min-height:1px\"></div></div><span class=\"abc__textblock size--article\" data-component=\"TextBlock\"><p>Disabled veterans aren't the only ones having difficulty navigating an <a href=\"https://www.vice.com/en_us/article/d3nqe7/what-you-need-to-know-about-student-loan-forgiveness\">extremely confusing loan forgiveness process</a>, and though debates about what to do about the country's student loan crisis have <a href=\"https://www.vice.com/en_us/article/d3nqe7/what-you-need-to-know-about-student-loan-forgiveness\">emerged in the Democratic primary</a>, Trump doesn't seem inclined to take the broader problem seriously. Last year, the highest-ranking federal official in charge of keeping lenders like Navient and Sallie Mae in line quit in protest of what he said were <a href=\"https://www.nbcnews.com/politics/politics-news/nation-s-top-student-loan-official-resigns-says-trump-administration-n904136\">lax enforcement policies</a>.</p>\n",
            "</span><span class=\"abc__textblock size--article\" data-component=\"TextBlock\"><p>Trump's move to forgive the debt of some veterans showcases that the president seemingly has the capacity to do much more. So could a different president go much further and cancel everyone's student debt without even getting Congress to pass a bill?</p>\n",
            "</span><div class=\"abc__article_embed\" data-component=\"RelatedArticleBlock\"><div class=\"vice-card vice-card--light\"><div class=\"vice-card__content\"><div class=\"vice-card-rubric vice-card-rubric--light vice-card__vice-card-rubric\"><a class=\"vice-card-rubric__label vice-card-rubric__link\" href=\"/en/section/money\">Money</a></div><h3 class=\"vice-card-hed vice-card-hed--light vice-card__vice-card-hed\"><a class=\"vice-card-hed__link\" href=\"/en/article/gy4k8j/erasing-your-student-loans-could-be-as-easy-as-fleeing-the-us-for-20-years\">Erasing Your Student Loans Could Be as Easy as Fleeing the U.S. for 20 Years</a></h3><div class=\"vice-card-details vice-card-details--light vice-card__vice-card-details\"><div class=\"vice-card-details__byline\">Allie Conti</div><time class=\"vice-card-details__pub-date\" datetime=\"2019-06-17T16:00\">06.17.19</time></div></div><div class=\"vice-card-image vice-card__vice-card-image\"><a class=\"vice-card-image__link\" href=\"/en/article/gy4k8j/erasing-your-student-loans-could-be-as-easy-as-fleeing-the-us-for-20-years\" tabindex=\"-1\"><div class=\"vice-card-image__placeholder-image placeholder-image--16-9--sm placeholder-image--16-9--md placeholder-image--16-9--lg\"><div><picture class=\"responsive-image lazyloader--lazy\"><source media=\"(min-width: 1000px)\" srcset=\"data://image/png;base64,iVBORw0KGgoAAAANSUhEUgAAABAAAAAJCAMAAAAM9FwAAAAAGXRFWHRTb2Z0d2FyZQBBZG9iZSBJbWFnZVJlYWR5ccllPAAAAyNpVFh0WE1MOmNvbS5hZG9iZS54bXAAAAAAADw/eHBhY2tldCBiZWdpbj0i77u/IiBpZD0iVzVNME1wQ2VoaUh6cmVTek5UY3prYzlkIj8+IDx4OnhtcG1ldGEgeG1sbnM6eD0iYWRvYmU6bnM6bWV0YS8iIHg6eG1wdGs9IkFkb2JlIFhNUCBDb3JlIDUuNi1jMTQwIDc5LjE2MDQ1MSwgMjAxNy8wNS8wNi0wMTowODoyMSAgICAgICAgIj4gPHJkZjpSREYgeG1sbnM6cmRmPSJodHRwOi8vd3d3LnczLm9yZy8xOTk5LzAyLzIyLXJkZi1zeW50YXgtbnMjIj4gPHJkZjpEZXNjcmlwdGlvbiByZGY6YWJvdXQ9IiIgeG1sbnM6eG1wPSJodHRwOi8vbnMuYWRvYmUuY29tL3hhcC8xLjAvIiB4bWxuczp4bXBNTT0iaHR0cDovL25zLmFkb2JlLmNvbS94YXAvMS4wL21tLyIgeG1sbnM6c3RSZWY9Imh0dHA6Ly9ucy5hZG9iZS5jb20veGFwLzEuMC9zVHlwZS9SZXNvdXJjZVJlZiMiIHhtcDpDcmVhdG9yVG9vbD0iQWRvYmUgUGhvdG9zaG9wIENDIChNYWNpbnRvc2gpIiB4bXBNTTpJbnN0YW5jZUlEPSJ4bXAuaWlkOjQ2QjUwODI3MUI1NTExRTk5RjE3QTJDRDlCQzU1MDg0IiB4bXBNTTpEb2N1bWVudElEPSJ4bXAuZGlkOjQ2QjUwODI4MUI1NTExRTk5RjE3QTJDRDlCQzU1MDg0Ij4gPHhtcE1NOkRlcml2ZWRGcm9tIHN0UmVmOmluc3RhbmNlSUQ9InhtcC5paWQ6NDZCNTA4MjUxQjU1MTFFOTlGMTdBMkNEOUJDNTUwODQiIHN0UmVmOmRvY3VtZW50SUQ9InhtcC5kaWQ6NDZCNTA4MjYxQjU1MTFFOTlGMTdBMkNEOUJDNTUwODQiLz4gPC9yZGY6RGVzY3JpcHRpb24+IDwvcmRmOlJERj4gPC94OnhtcG1ldGE+IDw/eHBhY2tldCBlbmQ9InIiPz5A+02rAAAABlBMVEX///8AAABVwtN+AAAAAXRSTlMAQObYZgAAAA5JREFUeNpiYBikACDAAACZAAGHvThgAAAAAElFTkSuQmCC\"/><source media=\"(min-width: 700px)\" srcset=\"data://image/png;base64,iVBORw0KGgoAAAANSUhEUgAAABAAAAAJCAMAAAAM9FwAAAAAGXRFWHRTb2Z0d2FyZQBBZG9iZSBJbWFnZVJlYWR5ccllPAAAAyNpVFh0WE1MOmNvbS5hZG9iZS54bXAAAAAAADw/eHBhY2tldCBiZWdpbj0i77u/IiBpZD0iVzVNME1wQ2VoaUh6cmVTek5UY3prYzlkIj8+IDx4OnhtcG1ldGEgeG1sbnM6eD0iYWRvYmU6bnM6bWV0YS8iIHg6eG1wdGs9IkFkb2JlIFhNUCBDb3JlIDUuNi1jMTQwIDc5LjE2MDQ1MSwgMjAxNy8wNS8wNi0wMTowODoyMSAgICAgICAgIj4gPHJkZjpSREYgeG1sbnM6cmRmPSJodHRwOi8vd3d3LnczLm9yZy8xOTk5LzAyLzIyLXJkZi1zeW50YXgtbnMjIj4gPHJkZjpEZXNjcmlwdGlvbiByZGY6YWJvdXQ9IiIgeG1sbnM6eG1wPSJodHRwOi8vbnMuYWRvYmUuY29tL3hhcC8xLjAvIiB4bWxuczp4bXBNTT0iaHR0cDovL25zLmFkb2JlLmNvbS94YXAvMS4wL21tLyIgeG1sbnM6c3RSZWY9Imh0dHA6Ly9ucy5hZG9iZS5jb20veGFwLzEuMC9zVHlwZS9SZXNvdXJjZVJlZiMiIHhtcDpDcmVhdG9yVG9vbD0iQWRvYmUgUGhvdG9zaG9wIENDIChNYWNpbnRvc2gpIiB4bXBNTTpJbnN0YW5jZUlEPSJ4bXAuaWlkOjQ2QjUwODI3MUI1NTExRTk5RjE3QTJDRDlCQzU1MDg0IiB4bXBNTTpEb2N1bWVudElEPSJ4bXAuZGlkOjQ2QjUwODI4MUI1NTExRTk5RjE3QTJDRDlCQzU1MDg0Ij4gPHhtcE1NOkRlcml2ZWRGcm9tIHN0UmVmOmluc3RhbmNlSUQ9InhtcC5paWQ6NDZCNTA4MjUxQjU1MTFFOTlGMTdBMkNEOUJDNTUwODQiIHN0UmVmOmRvY3VtZW50SUQ9InhtcC5kaWQ6NDZCNTA4MjYxQjU1MTFFOTlGMTdBMkNEOUJDNTUwODQiLz4gPC9yZGY6RGVzY3JpcHRpb24+IDwvcmRmOlJERj4gPC94OnhtcG1ldGE+IDw/eHBhY2tldCBlbmQ9InIiPz5A+02rAAAABlBMVEX///8AAABVwtN+AAAAAXRSTlMAQObYZgAAAA5JREFUeNpiYBikACDAAACZAAGHvThgAAAAAElFTkSuQmCC\"/><source media=\"(min-width: 0px)\" srcset=\"data://image/png;base64,iVBORw0KGgoAAAANSUhEUgAAABAAAAAJCAMAAAAM9FwAAAAAGXRFWHRTb2Z0d2FyZQBBZG9iZSBJbWFnZVJlYWR5ccllPAAAAyNpVFh0WE1MOmNvbS5hZG9iZS54bXAAAAAAADw/eHBhY2tldCBiZWdpbj0i77u/IiBpZD0iVzVNME1wQ2VoaUh6cmVTek5UY3prYzlkIj8+IDx4OnhtcG1ldGEgeG1sbnM6eD0iYWRvYmU6bnM6bWV0YS8iIHg6eG1wdGs9IkFkb2JlIFhNUCBDb3JlIDUuNi1jMTQwIDc5LjE2MDQ1MSwgMjAxNy8wNS8wNi0wMTowODoyMSAgICAgICAgIj4gPHJkZjpSREYgeG1sbnM6cmRmPSJodHRwOi8vd3d3LnczLm9yZy8xOTk5LzAyLzIyLXJkZi1zeW50YXgtbnMjIj4gPHJkZjpEZXNjcmlwdGlvbiByZGY6YWJvdXQ9IiIgeG1sbnM6eG1wPSJodHRwOi8vbnMuYWRvYmUuY29tL3hhcC8xLjAvIiB4bWxuczp4bXBNTT0iaHR0cDovL25zLmFkb2JlLmNvbS94YXAvMS4wL21tLyIgeG1sbnM6c3RSZWY9Imh0dHA6Ly9ucy5hZG9iZS5jb20veGFwLzEuMC9zVHlwZS9SZXNvdXJjZVJlZiMiIHhtcDpDcmVhdG9yVG9vbD0iQWRvYmUgUGhvdG9zaG9wIENDIChNYWNpbnRvc2gpIiB4bXBNTTpJbnN0YW5jZUlEPSJ4bXAuaWlkOjQ2QjUwODI3MUI1NTExRTk5RjE3QTJDRDlCQzU1MDg0IiB4bXBNTTpEb2N1bWVudElEPSJ4bXAuZGlkOjQ2QjUwODI4MUI1NTExRTk5RjE3QTJDRDlCQzU1MDg0Ij4gPHhtcE1NOkRlcml2ZWRGcm9tIHN0UmVmOmluc3RhbmNlSUQ9InhtcC5paWQ6NDZCNTA4MjUxQjU1MTFFOTlGMTdBMkNEOUJDNTUwODQiIHN0UmVmOmRvY3VtZW50SUQ9InhtcC5kaWQ6NDZCNTA4MjYxQjU1MTFFOTlGMTdBMkNEOUJDNTUwODQiLz4gPC9yZGY6RGVzY3JpcHRpb24+IDwvcmRmOlJERj4gPC94OnhtcG1ldGE+IDw/eHBhY2tldCBlbmQ9InIiPz5A+02rAAAABlBMVEX///8AAABVwtN+AAAAAXRSTlMAQObYZgAAAA5JREFUeNpiYBikACDAAACZAAGHvThgAAAAAElFTkSuQmCC\"/><img alt=\"\" class=\"responsive-image__img\"/></picture></div></div></a></div></div></div><span class=\"abc__textblock size--article\" data-component=\"TextBlock\"><p>According to Mark Kantrowitz, one of the country's leading experts on student debt policy, Trump's executive order wasn't as radical as it seems. He was able to cancel the loans because of a 2008 amendment to the Higher Education Act aimed at forgiving the debt of severely injured veterans. Such veterans who are unable to work are sent an application they can fill out to have their debts erased.</p>\n",
            "</span><span class=\"abc__textblock size--article\" data-component=\"TextBlock\"><p>But requiring veterans to fill out forms created a barrier for some who were eligible under the program. \"Many didn't because they didn't believe the paperwork was legit or because they were so severely disabled that they weren't able to,\" Kantrowitz said. \"So tens of thousands of disabled American veterans were having their Social Security disability and retirement benefits offset to repay their student loan debt, even though the Department of Education knew that they were eligible for a discharge.\"</p>\n",
            "</span><div class=\"lazy-vice-ad\"><div style=\"min-height:1px\"></div></div><span class=\"abc__textblock size--article\" data-component=\"TextBlock\"><p>Trump's executive order made approval automatic. Kantrowitz says that Trump couldn't cancel all the student loan debt in the country because there's no similar program under the law for non-veterans. Traditionally, the president can't spend money that hasn't been appropriated by Congress, which is what en-masse loan forgiveness might amount to, and <a href=\"https://en.wikipedia.org/wiki/Antideficiency_Act\">laws, primarily the Anti-Deficiency Act (ADA), prevent rogue spending</a>.</p>\n",
            "</span><span class=\"abc__textblock size--article\" data-component=\"TextBlock\"><p>But Alan Collinge, a writer and higher-education reform activist, said he believes that the president could erase the balances of all direct federal loans, which are the ones held by the government itself, and which account for about 70 percent of student loans in the U.S. \"The money for this was already appropriated when the loans were made,\" he said.</p>\n",
            "</span><hr/><div class=\"abc__vp\" data-component=\"VideoBlock\"><div class=\"player-component\" id=\"vice-player\"><div><div class=\"videoPoster-component\"><img src=\"https://video-images.vice.com/videos/5c/93/5c93ae34be407722d411d381/5c93ae34be407722d411d381-1553709993035.jpg?crop=1xw:1xh;center,center\"/><div class=\"overlay\"></div><svg class=\"play-circle-icon\" height=\"76\" preserveaspectratio=\"xMidYMid\" viewbox=\"0 0 40 40\" width=\"76\" xmlns=\"http://www.w3.org/2000/svg\"><circle class=\"play-circle-icon__background\" cx=\"20\" cy=\"20\" fill=\"#ffffff\" r=\"20\"></circle><polygon class=\"play-circle-icon__foreground\" fill=\"#000000\" points=\"14,12 14,28 30,20\"></polygon></svg></div></div></div></div><hr/><span class=\"abc__textblock size--article\" data-component=\"TextBlock\"><p>It's unclear whether a Democratic president would buy Collinge's argument. Bernie Sanders and Elizabeth Warren, the two most prominent 2020 contenders who have called for student-loan forgiveness, have said they want to do so <a href=\"https://www.cnbc.com/2019/07/23/elizabeth-warrens-student-debt-bill-would-help-45-million-students.html\">through legislation</a>. But if such legislation stalled thanks to Republican opposition in Congress, it's at least conceivable that one of them could simply sign an executive order and battle the lawsuits that would inevitably challenge that use of presidential power.</p>\n",
            "</span><span class=\"abc__textblock size--article\" data-component=\"TextBlock\"><p>Even if Collinge is right and a progressive president went through with it, 30 percent of student loans are merely guaranteed by the government and held by private companies like Sallie Mae. Collinge concedes that cancelling those would require a bill to be passed. Wiping clean federal loans would just involve the Department of Education erasing them; cancelling private loans would involve paying those companies full or nearly full value for them.</p>\n",
            "</span><span class=\"abc__textblock size--article\" data-component=\"TextBlock\"><p>Collinge also admits that any sort of large-scale debt cancelation by a sitting president would be an extremely controversial action. Even if it was found by the courts not to violate the Anti-Deficiency Act, Congress would probably not be inclined to appropriate more lending funds afterward, which would mean the suspension of the student-lending program altogether. But he thinks that there's a chance such an aggressive move could work.</p>\n",
            "</span><span class=\"abc__textblock size--article\" data-component=\"TextBlock\"><p>\"Anyone telling you that the president absolutely could not cancel student loans, or any government-held loans, because of the ADA is being disingenuous,\" he said. \"They know as well as I do that this would likely wind up being a matter for the courts to decide. It could go either way. Don't let the swamp people snow you.\"</p>\n",
            "</span><span class=\"abc__textblock size--article\" data-component=\"TextBlock\"><p><em><a href=\"https://confirmsubscription.com/h/i/48178908AA2FD075\">Sign up for our newsletter</a> to get the best of VICE delivered to your inbox daily.</em></p>\n",
            "</span><span class=\"abc__textblock size--article\" data-component=\"TextBlock\"><p><em>Follow Allie Conti on <a href=\"https://twitter.com/allie_conti\">Twitter</a>.</em></p>\n",
            "</span></div><div class=\"article__tagged\"><div class=\"tags\"><span class=\"tags__label\">Tagged:</span><span class=\"tags__taglist\"><span class=\"tags__item\"><a class=\"tags__item--link\" href=\"/en/topic/politics\">Politics</a></span><span class=\"tags__item\"><a class=\"tags__item--link\" href=\"/en/topic/donald-trump\">Donald Trump</a></span><span class=\"tags__item\"><a class=\"tags__item--link\" href=\"/en/topic/2020\">2020</a></span><span class=\"tags__item\"><a class=\"tags__item--link\" href=\"/en/topic/student-loans\">student loans</a></span></span></div></div><div class=\"user-newsletter-signup user-newsletter-signup--light article-newsletter-signup\"><div class=\"user-newsletter user-newsletter--light\"><div class=\"user-newsletter__content\"><div class=\"user-newsletter__heading\"><h3 class=\"user-newsletter__title\">Get a personalized roundup of VICE's best stories in your inbox.</h3></div><form class=\"user-newsletter__form\" novalidate=\"\"><div class=\"user-newsletter__form__wrap\"><input class=\"user-newsletter__form__input\" placeholder=\"Your email address\" type=\"email\"/></div><button class=\"vice-button vice-button--black user-newsletter__submit\" type=\"submit\">Subscribe</button></form><p class=\"user-newsletter__terms\">By signing up to the VICE newsletter you agree to receive electronic communications from VICE that may sometimes include advertisements or sponsored content.</p></div></div></div><span data-article-description=\"Trump just erased the loans of 25,000 veterans. Could his successor do the same thing for everyone?\" data-article-title=\"What It Would Take for the Next President to Cancel All Student Debt\" data-article-url=\"/en/article/a35ve5/what-it-would-take-for-the-next-president-to-cancel-all-student-debt\" data-direction=\"up\"><div style=\"height:40px\"></div></span></div><div class=\"short-form__body__right-rail\"></div></div></div></div><div class=\"observer__trigger\" data-index=\"0\" data-percentage=\"25\" data-segment=\"1\" style=\"height:25%;top:0%\"></div><div class=\"observer__trigger\" data-index=\"1\" data-percentage=\"50\" data-segment=\"2\" style=\"height:25%;top:25%\"></div><div class=\"observer__trigger\" data-index=\"2\" data-percentage=\"75\" data-segment=\"3\" style=\"height:25%;top:50%\"></div><div class=\"observer__trigger\" data-index=\"3\" data-percentage=\"100\" data-segment=\"4\" style=\"height:25%;top:75%\"></div></div><div class=\"recirc-footer\"><div class=\"OUTBRAIN\" data-src=\"https://www.vice.com/en/article/a35ve5/what-it-would-take-for-the-next-president-to-cancel-all-student-debt\" data-widget-id=\"AR_1\"></div><span class=\"vice-ad\"><div class=\"vice-ad__container\" data-reactroot=\"\"><div class=\"vice-ad__ad\" data-ad-unit-path=\"/16916245/oo_web/vice/money/article\" data-change-correlator=\"false\" data-slot-id=\"next\" data-targeting='{\"topic\":\"debt\",\"keywords\":[\"politics\",\"donald-trump\",\"2020\",\"student-loans\"],\"aid\":\"what-it-would-take-for-the-next-president-to-cancel-all-student-debt\",\"pagetype\":\"short-form\",\"country\":\"en\",\"brand_name\":\"vice\",\"section_name\":\"money\",\"utm_source\":\"\"}' id=\"next\"></div></div></span><div class=\"recirc-footer__post-ad-container\"><span class=\"vice-ad\"><div class=\"vice-ad__container vice-ad__container--bottom-border recirc-ad\" data-reactroot=\"\"><div class=\"vice-ad__disclaimer\">Advertisement</div><div class=\"vice-ad__ad\" data-ad-unit-path=\"/16916245/oo_web/vice/money/article\" data-change-correlator=\"false\" data-slot-id=\"post-article\" data-targeting='{\"topic\":\"debt\",\"keywords\":[\"politics\",\"donald-trump\",\"2020\",\"student-loans\"],\"aid\":\"what-it-would-take-for-the-next-president-to-cancel-all-student-debt\",\"pagetype\":\"short-form\",\"country\":\"en\",\"brand_name\":\"vice\",\"section_name\":\"money\",\"utm_source\":\"\"}' id=\"post-article-a35ve5\"></div></div></span></div></div></main><footer class=\"page-footer\"><a class=\"page-footer__logo-vice-link\" href=\"https://www.vice.com/\"><svg class=\"page-footer__logo-vice\" fill=\"none\" height=\"24\" width=\"218\" xmlns=\"http://www.w3.org/2000/svg\"><path clip-rule=\"evenodd\" d=\"M56.492 17.504c1.792-1.332 2.611-3.28 3.072-5.69l-8.14.007c-.587 2.204-1.945 3.153-4.221 3.153-2.637 0-4.455-1.46-4.455-5.177 0-3.717 1.869-5.177 4.812-5.177 2.79 0 3.66 1.89 3.865 3.197h8.139C58.616.564 51.91 0 47.56 0c-4.378 0-12.49.308-12.49 9.79 0 9.483 8.095 9.79 12.49 9.79 4.396 0 7.141-.743 8.932-2.076zM0 .648h8.122l4.512 11.928.055-.198L17.2.648h8.121L16.53 18.939H8.801L0 .648zm26.773 0h6.832v18.291h-6.832V.648zM61 .648h19.425v4.458H68.217v2.256H79.36v4.46H68.217v2.657h12.209v4.46H61V.648zm106.954 17.438V6.128h-2.866l-.387 2.82c-.514-1.88-1.667-3.353-4.1-3.353-3.327 0-5.787 2.688-5.787 6.752 0 4.063 2.457 6.755 5.787 6.755 2.255 0 3.408-1.272 3.97-2.945v1.036c0 3.43-1.23 3.963-3.225 3.963h-4.791V24h5.227c4.407 0 6.148-1.802 6.172-5.914zm-6.067-9.702c1.996 0 3.124 1.579 3.124 3.963 0 2.386-1.128 3.962-3.124 3.962-2.254 0-3.638-1.576-3.638-3.962 0-2.387 1.384-3.963 3.638-3.963zm15.24.588V6.128l-.106-.009c-.249-.022-.491-.043-.715-.043-3.075 0-3.33 2.183-3.382 3.53v.28l-.409-3.758h-2.866v12.693h3.382v-6.523c0-1.6.794-3.326 2.789-3.326h1.307zm6.584 10.13c3.841 0 6.556-2.692 6.556-6.755h-.003c0-4.06-2.709-6.752-6.553-6.752s-6.559 2.688-6.559 6.752c0 4.063 2.718 6.755 6.559 6.755zm0-10.718c1.996 0 3.125 1.579 3.125 3.963h-.004c0 2.386-1.122 3.962-3.121 3.962-1.999 0-3.127-1.576-3.127-3.962 0-2.387 1.131-3.963 3.127-3.963zm19.973 10.437V6.128h-3.379v8.047c0 1.168-.714 2.363-2.79 2.363-2.075 0-2.69-1.195-2.69-2.363V6.128h-3.383v8.505c0 3.149 1.535 4.697 4.533 4.697 3.072 0 4.431-2.185 4.431-3.682l-.028-.204.692 3.377h2.614zm9.041.28c3.072 0 5.274-2.691 5.274-6.754 0-4.06-2.202-6.752-5.274-6.755-2.432 0-3.585 1.475-4.099 3.353l-.384-2.817h-2.87v17.82h3.383v-7.791c.563 1.673 1.716 2.945 3.97 2.945zm-1.282-10.717c1.999 0 3.124 1.579 3.124 3.963 0 2.386-1.128 3.962-3.124 3.962-1.996 0-3.125-1.576-3.125-3.962 0-2.387 1.126-3.963 3.125-3.963zM104.512 18.849v-8.505c0-3.146-1.153-4.697-4.155-4.697-2.841 0-3.893 1.88-4.019 3.353-.335-2.26-1.537-3.353-4.071-3.353-2.999 0-3.998 2.082-4.047 3.581l-.412-3.072h-2.866v12.693h3.382V10.8c0-1.167.335-2.36 2.408-2.36s2.303 1.193 2.303 2.36v8.048h3.383V10.8c0-1.167.335-2.36 2.408-2.36s2.303 1.193 2.303 2.36v8.048h3.383zm4.508-5.737h9.73v-.735c0-4.063-2.586-6.755-6.427-6.755-3.841 0-6.686 2.695-6.686 6.755 0 4.06 2.587 6.752 6.609 6.752 3.662 0 5.71-1.573 6.301-4.444h-3.715c-.255.838-.64 1.652-2.638 1.652-1.793 0-2.946-1.244-3.174-3.225zm6.273-2.183h-6.172c.409-1.676 1.563-2.515 3.149-2.515 1.793 0 2.716.839 3.023 2.515zm17.107 7.92V.824h-3.382v7.743c-.563-1.674-1.716-2.945-3.97-2.945-3.072 0-5.274 2.695-5.274 6.755 0 4.06 2.199 6.752 5.274 6.752 2.407 0 3.536-1.445 4.074-3.274l.409 2.994h2.869zm-2.936-6.829v.357c0 2.384-1.126 3.963-3.125 3.963s-3.124-1.576-3.124-3.963 1.125-3.963 3.124-3.963c1.562 0 2.586.967 2.971 2.515l.154 1.091zm7.663-5.864h-3.383v12.693h3.383V6.156zm13.085 12.693v-8.505h-.01c0-3.274-2.355-4.697-5.876-4.697-3.817 0-5.945 1.853-5.945 4.648h3.383c0-.99.846-1.853 2.586-1.853 1.741 0 2.482.862 2.482 2.36v.38h-3.558c-2.924 0-4.92 1.549-4.92 3.884 0 2.615 1.996 3.91 4.403 3.91 2.048 0 3.586-1.066 4.072-3.377l.769 3.25h2.614zm-6.295-5.484h2.903a2.979 2.979 0 01-1.851 2.841 3.037 3.037 0 01-1.178.231c-1.667 0-2.076-.838-2.076-1.624 0-.787.64-1.448 2.202-1.448zM136.851 1.45c.188.278.288.605.288.94h-.009c0 .447-.179.876-.497 1.193-.318.317-.75.496-1.201.499-.337 0-.667-.1-.948-.285a1.697 1.697 0 01-.628-.76 1.679 1.679 0 01.37-1.843 1.723 1.723 0 011.86-.367c.311.128.578.345.765.623z\" fill=\"#fff\" fill-rule=\"evenodd\"></path></svg></a><nav aria-label=\"Footer Navigation\" class=\"page-footer__nav\" role=\"navigation\"><ul class=\"page-footer__list\"><li class=\"page-footer__list-item\"><a class=\"page-footer__list-item-link\" href=\"https://company.vice.com\" id=\"585313014-a-920651-bf-8-c-0-cfb\">About </a></li><li class=\"page-footer__list-item\"><a class=\"page-footer__list-item-link\" href=\"https://company.vice.com/careers/\" id=\"5853130-d-68-cb-5808239228-de\">Jobs</a></li><li class=\"page-footer__list-item\"><a class=\"page-footer__list-item-link\" href=\"https://advertise.vice.com/\" id=\"5-d-8-be-154-b-9-fbf-5000814-eddc\">Partner</a></li><li class=\"page-footer__list-item\"><a class=\"page-footer__list-item-link\" href=\"https://voices.vice.com/h/s/6ojElfX90K6Ad2Hx7OuCo\" id=\"5853132581446-e-51-a-728-dbfa\">VICE Voices</a></li><li class=\"page-footer__list-item\"><a class=\"page-footer__list-item-link\" href=\"/en_us/page/content-funding-on-vice\" id=\"5-b-3525-dfe-7-fc-8800063-a-1-a-4-d\">Content Funding on VICE</a></li><li class=\"page-footer__list-item\"><a class=\"page-footer__list-item-link\" href=\"/en_us/page/vice-responsible-disclosure-policy\" id=\"5853134181042351-b-3-ced-974\">Security Policy</a></li><li class=\"page-footer__list-item\"><a class=\"page-footer__list-item-link\" href=\"/en_us/page/privacy-and-terms\" id=\"5853146-ec-90-ce-551-c-569492-d\">Privacy &amp; Terms</a></li><li class=\"page-footer__list-item\" id=\"privacy-page-footer\"></li></ul></nav><div class=\"page-footer__copyright\">© <!-- -->2020<!-- --> VICE MEDIA GROUP</div></footer></div></div><script id=\"__NEXT_DATA__\" type=\"application/json\">{\"props\":{\"pageProps\":{\"buildId\":\"zb8TEAWuZxwYRQL-e99LJ\",\"locale\":\"en\",\"lang\":\"en\",\"geoLocation\":\"US\",\"geoRegion\":\"IA\",\"manifest\":{\"113ee863c3757eed4e7ecb8ecea83a4b713261a6_CSS.css\":\"https://www.vice.com/_next/static/css/113ee863c3757eed4e7ecb8ecea83a4b713261a6_CSS.c39789db.chunk.css\",\"113ee863c3757eed4e7ecb8ecea83a4b713261a6_CSS.js\":\"https://www.vice.com/_next/static/chunks/113ee863c3757eed4e7ecb8ecea83a4b713261a6_CSS.7b37a38a8911fc5fb44b.js\",\"12d74f639b8c7e403aae485eb4e6f583e7b94a67.js\":\"https://www.vice.com/_next/static/chunks/12d74f639b8c7e403aae485eb4e6f583e7b94a67.fc5ace51018c96b5d63d.js\",\"12d74f639b8c7e403aae485eb4e6f583e7b94a67_CSS.css\":\"https://www.vice.com/_next/static/css/12d74f639b8c7e403aae485eb4e6f583e7b94a67_CSS.eb5ff141.chunk.css\",\"12d74f639b8c7e403aae485eb4e6f583e7b94a67_CSS.js\":\"https://www.vice.com/_next/static/chunks/12d74f639b8c7e403aae485eb4e6f583e7b94a67_CSS.33fae6201fee986d0584.js\",\"1b6d2fae21d0bcc0b55b539044d1bf5afa44aae2.js\":\"https://www.vice.com/_next/static/chunks/1b6d2fae21d0bcc0b55b539044d1bf5afa44aae2.befab39bf197c692771d.js\",\"49ac1ce22d465a55760cd51a47ed43e0c7fd48ea.js\":\"https://www.vice.com/_next/static/chunks/49ac1ce22d465a55760cd51a47ed43e0c7fd48ea.eb38d9ac9d1b34fe4b69.js\",\"7a19525d46bfa57482dee32f7f283380acbc112b.js\":\"https://www.vice.com/_next/static/chunks/7a19525d46bfa57482dee32f7f283380acbc112b.4df54f6cbbd6b38d7644.js\",\"a544e88797e9d90e2eb509c29f3d20c9ea146656.js\":\"https://www.vice.com/_next/static/chunks/a544e88797e9d90e2eb509c29f3d20c9ea146656.1b3598663f1e68cbdcf9.js\",\"b1542cc239bf56c8a14913c0a930efe682b5cf86.js\":\"https://www.vice.com/_next/static/chunks/b1542cc239bf56c8a14913c0a930efe682b5cf86.1c181b651a86457f3f61.js\",\"c290de8e037007966d6fcfb5fd6284115d900251.js\":\"https://www.vice.com/_next/static/chunks/c290de8e037007966d6fcfb5fd6284115d900251.cfe1917b75ec053d49cb.js\",\"commons.js\":\"https://www.vice.com/_next/static/chunks/commons.be3036fbf6d009c1cacd.js\",\"e8dec348aea1bd7dd276dff4233a2ade5180309d.js\":\"https://www.vice.com/_next/static/chunks/e8dec348aea1bd7dd276dff4233a2ade5180309d.c28c95fc6105147dc24a.js\",\"ea1c4d1a298d3b67c4305f7117a95cb147d40507.js\":\"https://www.vice.com/_next/static/chunks/ea1c4d1a298d3b67c4305f7117a95cb147d40507.bfd086c47bef30abb77a.js\",\"ebe66bd5718e0ad149758b73a8b2d4647abcb832.js\":\"https://www.vice.com/_next/static/chunks/ebe66bd5718e0ad149758b73a8b2d4647abcb832.a1778668ccadda5663d8.js\",\"ee4a476b355d34f658c467695344b2a9f67cf492.js\":\"https://www.vice.com/_next/static/chunks/ee4a476b355d34f658c467695344b2a9f67cf492.14026abb247c374e2c0e.js\",\"f839954edc3babf2fb67bcde5083941c9253b35d.js\":\"https://www.vice.com/_next/static/chunks/f839954edc3babf2fb67bcde5083941c9253b35d.a01a2c53723e06b1dad3.js\",\"framework.js\":\"https://www.vice.com/_next/static/chunks/framework.5b1c71e9f25313208bac.js\",\"main.js\":\"https://www.vice.com/_next/static/chunks/main-502dd15677099b8b996e.js\",\"pages/[locale].js\":\"https://www.vice.com/_next/static/chunks/pages/[locale]-dde927e3da16cea608be.js\",\"pages/[locale]/article/[web_id]/[slug].css\":\"https://www.vice.com/_next/static/css/pages/[locale]/article/[web_id]/[slug].5021491c.chunk.css\",\"pages/[locale]/article/[web_id]/[slug].js\":\"https://www.vice.com/_next/static/chunks/pages/[locale]/article/[web_id]/[slug]-ca052632ad92536ff010.js\",\"pages/[locale]/article/[web_id]/[slug]/[preview].js\":\"https://www.vice.com/_next/static/chunks/pages/[locale]/article/[web_id]/[slug]/[preview]-0061fba1fe941cac7350.js\",\"pages/[locale]/contributor/[slug].js\":\"https://www.vice.com/_next/static/chunks/pages/[locale]/contributor/[slug]-bc4485187edf6ca56b03.js\",\"pages/[locale]/search.css\":\"https://www.vice.com/_next/static/css/pages/[locale]/search.6d4350e7.chunk.css\",\"pages/[locale]/search.js\":\"https://www.vice.com/_next/static/chunks/pages/[locale]/search-c7394c1bd71915a3a7a4.js\",\"pages/[locale]/section/[slug].css\":\"https://www.vice.com/_next/static/css/pages/[locale]/section/[slug].6335c0d3.chunk.css\",\"pages/[locale]/section/[slug].js\":\"https://www.vice.com/_next/static/chunks/pages/[locale]/section/[slug]-c380a3e3b9ef78f32dad.js\",\"pages/[locale]/topic/[slug].js\":\"https://www.vice.com/_next/static/chunks/pages/[locale]/topic/[slug]-8fc5c59e2a1c564567b9.js\",\"pages/_app.js\":\"https://www.vice.com/_next/static/chunks/pages/_app-f5199749d7d9748e402e.js\",\"pages/_error.js\":\"https://www.vice.com/_next/static/chunks/pages/_error-38bc951dce42d2bb1971.js\",\"pages/index.js\":\"https://www.vice.com/_next/static/chunks/pages/index-eb99fac709a399c4593e.js\",\"polyfills.js\":\"https://www.vice.com/_next/static/chunks/polyfills-7fbe9526928947751284.js\",\"styles.css\":\"https://www.vice.com/_next/static/css/styles.aa81dcdc.chunk.css\",\"styles.js\":\"https://www.vice.com/_next/static/chunks/styles.11675a934ad295e3f5aa.js\",\"webpack.js\":\"https://www.vice.com/_next/static/chunks/webpack-65ae2546d67a65120c8f.js\",\"themes/vice.css\":\"/_next/static/css/themes/vice.f8d2e33d53ec8773e0313bad71b6a479.css\",\"themes/vice/fonts/vice.ar.css\":\"/_next/static/css/themes/vice.ar.2f569d52cdfc24505610d5427cacd330.css\",\"themes/vice/fonts/vice.default.css\":\"/_next/static/css/themes/vice.default.6768fbb55cc48645d758c4aa3b149824.css\",\"themes/vice/fonts/vice.ja.css\":\"/_next/static/css/themes/vice.ja.e0a70aecf00016b0799b33879acb9b09.css\",\"themes/vice/fonts/vice.ko.css\":\"/_next/static/css/themes/vice.ko.878312abbb3f8b4fb72ba495316254d2.css\",\"themes/vice/fonts/vice.world.css\":\"/_next/static/css/themes/vice.world.fbb2c64d4792dd41381dbb252a488730.css\"},\"geoLocale\":\"en_us\",\"translations\":{\"article.archiveContentDisclaimer\":\"This story is over 5 years old\",\"about\":\"About\",\"about_url\":\"https://www.vice.com/about\",\"advertisement\":\"Advertisement\",\"agegate.lemmein\":\"Submit\",\"agegate.message\":\"The stuff you're about to look at is considered \\\"naughty\\\" by busybodies, legal types and (probably) your mom, so we'd like to make sure you're of legal age before we let you see it.\",\"agegate.message.new\":\"Please confirm you are {age} years old to proceed.\",\"agegate.no\":\"No\",\"agegate.title\":\"Are you over {age}?\",\"agegate.yes\":\"Yes\",\"all_shows\":\"All Shows\",\"all_shows_title\":\"All Shows\",\"all_videos_title\":\"All Videos\",\"and\":\"and\",\"article.migration.callout\":\"This story was first published by {vertical}\",\"articles.header-image\":\"articles.header-image\",\"articles.image-credit\":\"Image Credit\",\"articles.related-articles\":\"Related Articles\",\"articles.related-video\":\"Watch This Next\",\"articles.share\":\"Share\",\"articles.tweet\":\"Tweet\",\"articles.snap\":\"Snap\",\"articles.up-next\":\"Up Next\",\"arts_culture\":\"Arts \\u0026 Culture\",\"as-told-to\":\"as told to\",\"body_text_title\":\"Details\",\"by\":\"by\",\"came_from\":\"You just came from \",\"clips\":\"Clips\",\"clips_title\":\"Clips\",\"connect_title\":\"Connect\",\"contact\":\"Contact\",\"contact_url\":\"https://www.vice.com/about\",\"contributor.latest-from\":\"Latest from {source}\",\"contributors\":\"Contributors\",\"contributors_title\":\"Roles\",\"copyright\":\"© 2017 VICE Media LLC\",\"description\":\"Description\",\"details\":\"More Info\",\"documentary\":\"Documentary\",\"everything-else\":\"Everything Else\",\"fashion\":\"Fashion\",\"featured-shows\":\"Featured Shows\",\"featured_cards_cta\":\"Watch Playlist\",\"featured_cards_more\":\"{0} :count Videos in Playlist|{1} :count Video in Playlist|[2,Inf] :count Videos in Playlist\",\"featured_shows\":\"Recommended\",\"featured_shows_all_shows\":\"See All Shows\",\"featured_shows_title\":\"Recommended\",\"featured_shows_video_count\":\"{0} :count Episodes|{1} :count Episode|[2,Inf] :count Episodes\",\"featured_video\":\"Featured Video\",\"featuredtopic.seemore\":\"See more\",\"food\":\"Food\",\"footer.legal\":\"Legal\",\"footer.terms\":\"Terms of Use\",\"footer.watch-more-from\":\"Watch more from {Site}\",\"full_episodes_title\":\"Full Episodes\",\"general.more_like_this\":\"More like this\",\"general.read_more_button\":\"Keep reading\",\"general.social_CTA\":\"Put this in your feed\",\"goofy_text\":\"We’re probably here somewhere\",\"grid-pagination.newer\":\"Newer\",\"grid-pagination.older\":\"Older\",\"homepage.features\":\"Features\",\"homepage.latest\":\"Latest\",\"homepage.lede_latest_title\":\"The latest\",\"homepage.sections_title\":\"Sections\",\"homepage.videos\":\"Videos\",\"host_page_grid_title\":\"Shows featuring :host\",\"host_slider_title\":\"More from :host\",\"illustrated-by\":\"illustrated by\",\"landmarks.footer\":\"footer\",\"latest_from\":\"Latest from\",\"latest_videos\":\"Latest\",\"latest_video_title\":\"Latest on VICE Video\",\"lede.from\":\"from\",\"legaldisclaimer.close\":\"Close\",\"less_details\":\"Less Info\",\"load_more\":\"Load More\",\"localedropdown.label\":\"Edition\",\"metadata.contributor-description\":\"Articles and videos by {full_name} on {Site}\",\"metadata.search-title\":\"Search Results - {Site}\",\"metadata.title\":\"{title} - {Site}\",\"metadata.topic-description\":\"Everything with the topic '{name}' on {Site}\",\"migration.callout.broadly\":\"This article was originally published on Broadly, a former VICE website focused on gender and identity. You can now find all of this coverage on vice.com.\",\"migration.callout.free\":\"This story was first published by FREE, VICE's money site. You can now find the same great money content right here at vice.com.\",\"migration.callout.tonic\":\"This story was first published by Tonic, VICE's health site. You can now find the same great health content right here at vice.com.\",\"migration.callout.waypoint\":\"This story was first published by Waypoint, VICE's gaming site. You can now find the same great gaming content right here at vice.com.\",\"migration.feature\":\"Feature\",\"migration.follow_us\":\"Follow us\",\"migration.for\":\"For\",\"migration.from\":\"From\",\"migration.in\":\"In\",\"migration.more\":\"More\",\"migration.more_from_latest\":\"More from the latest\",\"migration.more_news\":\"More News\",\"migration.more_read\":\"Most read\",\"migration.more_vice_news\":\"More news\",\"migration.most_watched\":\"Most watched\",\"migration.newsletter.callout\":\"Get the best of VICE in your inbox every day.\",\"migration.newsletter.email\":\"Your email\",\"migration.newsletter.success\":\"Amazing. You did it.\",\"migration.read_more\":\"Read more\",\"migration.search\":\"Search articles, videos, shows\",\"migration.see_all\":\"See all\",\"migration.series\":\"Series\",\"migration.subscribe\":\"Subscribe\",\"migration.the_latest\":\"The latest\",\"migration.video\":\"Video\",\"module_all_videos_title\":\"All Videos\",\"module_latest\":\"Latest from :channel\",\"module_popular\":\"Popular on the VICE Network\",\"module_shows_title\":\"Shows By :channel\",\"morestories.label\":\"more stories\",\"most_popular__title\":\"Trending on VICE Video\",\"music\":\"Music\",\"mvpd_head\":\"Sign In to Watch\",\"mvpd_helper\":\"Choose your service provider below to sign in.\",\"mvpd_no_cable\":\"No Cable? Watch Episodes Free\",\"mvpd_provider\":\"Type in provider name\",\"mvpd_select\":\"Select\",\"mvpd_sign_in\":\"Sign In\",\"mvpd_watch\":\"Watch\",\"nav-footer.about\":\"About\",\"nav-footer.about-slug\":\"{site}-about\",\"nav-footer.careers\":\"Careers\",\"nav-footer.careers-slug\":\"{site}-careers\",\"nav-footer.copyright\":\"2020 VICE MEDIA LLC\",\"nav-footer.privacy-policy\":\"Privacy Policy\",\"nav-footer.privacy-policy-slug\":\"{site}-privacy-policy\",\"nav-footer.terms-of-use\":\"Terms of Use\",\"nav-footer.terms-of-use-slug\":\"{site}-terms-of-use\",\"nav.drugs\":\"DRUGS\",\"nav.elsewhere\":\"VICE Elsewhere\",\"nav.entertainment\":\"ENTERTAINMENT\",\"nav.follow-site\":\"Follow {Site}\",\"nav.interviews\":\"INTERVIEWS\",\"nav.interviews-slug\":\"interviews\",\"nav.ios\":\"VICE Apps\",\"nav.lgbtq\":\"LGBTQ\",\"nav.listen\":\"LISTEN\",\"nav.listen-slug\":\"new-music\",\"nav.magazine\":\"VICE Magazine\",\"nav.magazine-url\":\"https://www.vice.com/magazine\",\"nav.more-vice\":\"More VICE\",\"nav.more-ways-to-get-vice\":\"More Ways To Get Vice\",\"nav.next\":\"NEXT\",\"nav.next-slug\":\"{site}-next\",\"nav.nsfw\":\"NSFW\",\"nav.opinion\":\"OPINION\",\"nav.photos\":\"PHOTOS\",\"nav.photos-slug\":\"photos\",\"nav.politics\":\"POLITICS\",\"nav.radio\":\"{SITE} RADIO\",\"nav.radio-slug\":\"{site}-radio\",\"nav.read\":\"Read\",\"nav.read-slug\":\"features\",\"nav.search\":\"Search...\",\"nav.share\":\"Share:\",\"nav.site-news\":\"{SITE} NEWS\",\"nav.site-news-slug\":\"{site}-news\",\"nav.topics\":\"Topics\",\"nav.tv\":\"VICE ON TV\",\"nav.vice-channels\":\"Vice Channels\",\"nav.watch\":\"Watch\",\"network.navigation\":\"network navigation\",\"news\":\"News\",\"newsletter.disclaimer\":\"By signing up to the VICE newsletter you agree to receive electronic communications from VICE that may sometimes include advertisements or sponsored content.\",\"not-found.error\":\"{code} Error\",\"not-found.looney-tunes\":\"The articles went that way\",\"not-found.page-not-found\":\"Page Not Found\",\"nsfw\":\"NSFW\",\"page_not_found\":\"Page Not Found\",\"pagination.next-page-alert\":\"Next page loaded. Page {currentPage} of {lastPage} displayed.\",\"partners.campaign-item.share.facebook\":\"Share\",\"partners.campaign-item.share.twitter\":\"Tweet\",\"partners.claim.close\":\"Close\",\"partners.footer.copyright\":\"© 2018 VICE Media LLC\",\"partners.footer.links.about\":\"About\",\"partners.footer.links.about-link\":\"https://www.vice.com/en_us/page/vice-about\",\"partners.footer.links.legal-link\":\"http://www.vice.com/pages/privacy-and-terms\",\"partners.footer.links.privacy\":\"Privacy \\u0026 Terms\",\"partners.footer.links.privacy-link\":\"http://www.vice.com/pages/privacy-and-terms\",\"partners.nav.Partner-Content\":\"Partner Content\",\"photos-by\":\"photos by\",\"primary.navigation\":\"primary navigation\",\"privacy\":\"Privacy\",\"privacy_url\":\"https://www.vice.com/pages/privacy-and-terms\",\"publish_date_title\":\"Published\",\"rating_title\":\"Rating\",\"readmore.label\":\"More from {site}\",\"search.articles\":\"Articles\",\"search.authors\":\"AUTHORS\",\"search.channels\":\"CHANNELS\",\"search.more_stories\":\"More Stories\",\"search.more_videos\":\"More Videos\",\"search.negative\":\"Negative!\",\"search.never-ever\":\"Never Ever!\",\"search.no-results-at-all\":\"No results at all. That's kind of embarrassing…\",\"search.none\":\"None!\",\"search.nothing\":\"Nothing!\",\"search.partner_content\":\"Partner Content\",\"search.people\":\"PEOPLE\",\"search.search-results\":\"Search results\",\"search.see-all\":\"SEE ALL\",\"search.see-all-count\":\"SEE ALL {count}\",\"search.shows\":\"Shows\",\"search.videos\":\"Videos\",\"search._zero\":\"Zero!\",\"search_results_title\":\"Search Results For “:search_query”\",\"see-whats-on\":\"See What's On\",\"see_whats_on\":\"See What's On\",\"series.readmore.label\":\"Read More\",\"sidebar_channel\":\"Latest from :channel\",\"sidebar_latest\":\"Latest\",\"sidebar_popular\":\"Trending\",\"social.facebook\":\"Facebook\",\"social.instagram\":\"Instagram\",\"social.pinterest\":\"Pinterest\",\"social.reddit\":\"Reddit\",\"social.soundcloud\":\"Soundcloud\",\"social.tumblr\":\"tumblr\",\"social.twitch\":\"Twitch\",\"social.twitter\":\"Twitter\",\"social.youtube\":\"Youtube\",\"sports\":\"Sports\",\"technology\":\"Technology\",\"terms\":\"Terms\",\"terms_url\":\"https://www.vice.com/pages/privacy-and-terms\",\"topic.latest-from\":\"Latest {source}\",\"topics_title\":\"Topics\",\"translated-by\":\"translated by\",\"travel\":\"Travel\",\"up-next\":\"Up Next\",\"vertical_dropdown_title\":\"The VICE Network\",\"vicetv.activate-page.code-error\":\"Please enter an Activation Code.\",\"vicetv.activate-page.device-error\":\"Please select a Device.\",\"vicetv.activate-page.enter-code\":\"3. ENTER ACTIVATION CODE\",\"vicetv.activate-page.failure\":\"Invalid activation code. Please try again.\",\"vicetv.activate-page.network-error\":\"There was an error. Please reload the page and try again.\",\"vicetv.activate-page.provider-error\":\"Please select a Provider.\",\"vicetv.activate-page.select-cable\":\"2. SELECT CABLE PROVIDER\",\"vicetv.activate-page.select-device\":\"1. SELECT DEVICE\",\"vicetv.activate-page.success\":\"Device is now activated. Happy viewing.\",\"vicetv.activate-page.title\":\"Activate Device\",\"vicetv.activate-page.verify\":\"4. VERIFY SUBSCRIPTION\",\"vicetv.activate-page.verify-text\":\"Click continue to visit provider's website and verify account\",\"vicetv.channel-finder.continue\":\"CONTINUE\",\"vicetv.channel-finder.email\":\"EMAIL\",\"vicetv.channel-finder.email.error1\":\"You must include your Email Address\",\"vicetv.channel-finder.email.error2\":\"You must include a valid Email Address\",\"vicetv.channel-finder.failure\":\"We're sorry, {provider} doesn’t currently offer vicetv in your area. However, your opinion counts. Call {provider} at the number on your monthly bill to request vicetv, or request it here.\\n\\n\",\"vicetv.channel-finder.first-name\":\"FIRST NAME\",\"vicetv.channel-finder.first-name.error\":\"You must include your First Name\",\"vicetv.channel-finder.last-name\":\"LAST NAME\",\"vicetv.channel-finder.last-name.error\":\"You must include your Last Name\",\"vicetv.channel-finder.see-whats-on\":\"SEE WHAT'S ON\",\"vicetv.channel-finder.select\":\"Select Your Service Provider\",\"vicetv.channel-finder.service-provider\":\"Service Provider: \",\"vicetv.channel-finder.success\":\"Great news! vicetv is available on {provider} channel {channel}. Tune in today! Not seeing vicetv on your TV? Call {provider} at {number} for subscription details.\\n\",\"vicetv.channel-finder.title1\":\"FIND YOUR CHANNEL\",\"vicetv.channel-finder.title2\":\"WE’RE PROBABLY HERE SOMEWHERE\",\"vicetv.channel-finder.zip-code\":\"Zip Code: \",\"vicetv.clips-slider.title\":\"CLIPS\",\"vicetv.episodes-grid.title\":\"EPISODES\",\"vicetv.extras\":\"Extras\",\"vicetv.host-page.show-slider.title\":\"SHOWS FEATURING {host}\",\"vicetv.schedule-page.title\":\"SCHEDULE\",\"vicetv.shows-slider.all-shows\":\"ALL SHOWS\",\"vicetv.shows-slider.title\":\"SHOWS\",\"vicetv.trailers\":\"TRAILERS\",\"vicetv.watch-page.full-episode-slider.title\":\"FULL EPISODES FROM {show}\",\"vicetv.ways-to-watch-title1\":\"WAYS TO WATCH\",\"vicetv.ways-to-watch.apps\":\"APPS\",\"vicetv.ways-to-watch.apps.description\":\"\\u003ca href=\\\"https://itunes.apple.com/us/app/land/id1075922366\\\"\\u003eiOS\\u003c/a\\u003e, \\u003ca href=\\\"https://play.google.com/store/apps/details?id=com.vice.vicetv\\\"\\u003e Android\\u003c/a\\u003e, \\u003ca href=\\\"http://www.apple.com/tv/\\\"\\u003e Apple TV \\u003c/a\\u003e, and \\u003ca href=\\\"https://channelstore.roku.com/details/83900/vicetv\\\"\\u003e Roku.\\u003c/a\\u003e\",\"vicetv.ways-to-watch.internet\":\"INTERNET\",\"vicetv.ways-to-watch.internet.description\":\"On the laptop. All the shows from the channel, online, in full.\",\"vicetv.ways-to-watch.television\":\"TELEVISION\",\"vicetv.ways-to-watch.television.description\":\"On the big screen. Cable 24 hours a day and Apple TV too. \\u003ca href=\\\"http://www.vice.com/read/how-to-watch-vicetv\\\"\\u003e Check your cable listings.\\u003c/a\\u003e\\n\",\"vicetv.ways-to-watch.title2\":\"FOR VARIOUS DEVICES\",\"vicetv_shows_title_1\":\"Shows\",\"vicetv_shows_title_2\":\"This week on VICE ON TV\",\"vicetv_ways_to_watch_apps_description\":\"\\u003ca href=\\\"https://itunes.apple.com/us/app/land/id1075922366\\\"\\u003eIn the pocket. iOS\\u003c/a\\u003e and \\u003ca href=\\\"https://play.google.com/store/apps/details?id=com.vice.vicetv\\\"\\u003eAndroid\\u003c/a\\u003e.\",\"vicetv-ways-to-watch-apps-title\":\"Apps\",\"vicetv_ways_to_watch_online_description\":\"On the laptop. All the shows from the channel, online, in full.\",\"vicetv_ways_to_watch_online_title\":\"Internet\",\"vicetv_ways_to_watch_title_1\":\"Ways to watch\",\"vicetv_ways_to_watch_title_2\":\"Across all platforms\",\"vicetv_ways_to_watch_tv_description\":\"On the big screen. Cable 24 hours a day and Apple TV too. \\u003ca href=\\\"http://www.vice.com/en_us/read/how-to-watch-vicetv\\\"\\u003eCheck your cable listings.\",\"vicetv_ways_to_watch_tv_title\":\"Television\",\"vice_linkback\":\"VICE.COM HOME\",\"vice_linkback_url\":\"https://vice.com\",\"vice_on_hbo\":\"VICE on HBO\",\"video.all-shows-page.title\":\"All Shows\",\"video.channel-page.latest-on\":\"Latest from {channel}\",\"video.channel-page.latest-on-vv\":\"Latest on VICE Video\",\"video.channel-page.popular-on\":\"Popular on {channel}\",\"video.channel-page.shows-by\":\"Shows By {channel}\",\"video.channel-page.trending-on-vice-video\":\"Trending on VICE Video\",\"video.channel-page.trending-on-vv\":\"Trending on Vice Video\",\"video.channel-page.videos-from\":\"Videos from {channel}\",\"video.clips-slider.title\":\"Clips\",\"video.error-page.not-available\":\"Not Available\",\"video.error-page.random-video-button-cta\":\"Watch A Random Video Instead\",\"video.footer.browse\":\"Browse\",\"video.footer.connect\":\"Connect\",\"video.footer.copyright\":\"VICE Media LLC\",\"video.footer.random-cta\":\"a random video right now\",\"video.footer.watch\":\"Watch\",\"video.grid-pagination.next\":\"Next\",\"video.grid-pagination.previous\":\"Previous\",\"video.host-page.all-shows\":\"All Shows\",\"video.host-page.full-episodes\":\"Full Episodes\",\"video.host-page.shows-featuring\":\"Shows featuring {host}\",\"video.latest-slider.title\":\"Latest\",\"video.lede.watch\":\"Watch\",\"video.load-more-button\":\"Load More\",\"video.mvpd.mvpd-head\":\"Sign In to Watch\",\"video.mvpd.mvpd-helper\":\"Choose your service provider below to sign in.\",\"video.mvpd.mvpd-no-cable\":\"No Cable? Watch Episodes Free\",\"video.mvpd.mvpd-provider\":\"Type in provider name\",\"video.mvpd.mvpd-select\":\"Select\",\"video.mvpd.mvpd-sign-in\":\"Sign In\",\"video.mvpd.mvpd-watch\":\"Watch\",\"video.nav.browse-button\":\"Browse\",\"video.nav.channels-button\":\"Channels\",\"video.nav.linkback\":\"VICE.COM HOME\",\"video.nav.linkback-url\":\"http://vice.com/en_us\",\"video.nav.more\":\"More\",\"video.nav.search\":\"Search\",\"video.nav.search-placeholder\":\"Search Shows or Videos\",\"video.nav.show-all\":\"Show All\",\"video.nav.sign-out\":\"Sign Out\",\"video.nav.topics\":\"Topics\",\"video.nav.VICE-on-HBO\":\"VICE on HBO\",\"video.nav.you-just-came-from\":\"You just came from\",\"video.player.latest\":\"Latest\",\"video.show-slider.episodes\":\"Episodes\",\"video.show-slider.play-all\":\"Play All\",\"video.show-slider.see-all-shows\":\"See All Shows\",\"video.show-slider.title\":\"Recommended\",\"video.single-show.web-series\":\"Web Series\",\"video.single-show.web-series-title\":\"Web Series\",\"video.slider.clip\":\"Clip\",\"video.slider.episode\":\"EP\",\"video.slider.extra-scene\":\"Extra Scene\",\"video.slider.extra-scenes\":\"Extra Scenes\",\"video.slider.season\":\"S\",\"video.topic-page.title\":\"Latest from {source}\",\"video.topics-page.shows-about\":\"Shows about\",\"video.trending\":\"Trending\",\"video.vicetv-channel.all-videos-title\":\"All Videos\",\"video.vicetv-channel.vicetv-shows-title-1\":\"Shows\",\"video.vicetv-channel.vicetv-shows-title-2\":\"This week on VICE ON TV\",\"video.vicetv-channel.vicetv-ways-to-watch-apps-android-link\":\"https://play.google.com/store/apps/details?id=com.vice.vicetv\",\"video.vicetv-channel.vicetv-ways-to-watch-apps-apple-tv-link\":\"http://www.apple.com/tv/\",\"video.vicetv-channel.vicetv-ways-to-watch-apps-description\":\"\\u003ca href=\\\"https://itunes.apple.com/us/app/land/id1075922366\\\"\\u003eIn the pocket. iOS\\u003c/a\\u003e and \\u003ca href=\\\"https://play.google.com/store/apps/details?id=com.vice.vicetv\\\"\\u003eAndroid\\u003c/a\\u003e.\",\"video.vicetv-channel.vicetv-ways-to-watch-apps-description (Bad copy)\":\"In the pocket. iOS, Android, Apple TV, and Roku.\",\"video.vicetv-channel.vicetv-ways-to-watch-apps-ios-link\":\"https://itunes.apple.com/us/app/land/id1075922366\",\"video.vicetv-channel.vicetv-ways-to-watch-apps-roku-link\":\"https://channelstore.roku.com/details/83900/vicetv\",\"video.vicetv-channel.vicetv-ways-to-watch-apps-title\":\"Apps\",\"video.vicetv-channel.vicetv-ways-to-watch-online-description\":\"On the laptop. All the shows from the channel, online, in full.\",\"video.vicetv-channel.vicetv-ways-to-watch-online-title\":\"Internet\",\"video.vicetv-channel.vicetv-ways-to-watch-title-1\":\"Ways to watch\",\"video.vicetv-channel.vicetv-ways-to-watch-title-2\":\"Across all platforms\",\"video.vicetv-channel.vicetv-ways-to-watch-tv-description\":\"On the big screen. Cable 24 hours a day and Apple TV too. \\u003ca href=\\\"http://www.vice.com/en_us/read/how-to-watch-vicetv\\\"\\u003eCheck your cable listings.\",\"video.vicetv-channel.vicetv-ways-to-watch-tv-description (Bad copy)\":\"On the big screen. Cable 24 hours a day and Apple TV too. Check your cable listings.\",\"video.vicetv-channel.vicetv-ways-to-watch-tv-link\":\"http://www.vice.com/en_us/read/how-to-watch-vicetv\",\"video.vicetv-channel.vicetv-ways-to-watch-tv-title\":\"Television\",\"video.video-description.channel\":\"Channel\",\"video.video-description.hosts\":\"hosts\",\"video.video-description.less-info-button\":\"Less Info\",\"video.video-description.more-info-button\":\"More Info\",\"video.video-description.rating\":\"Rating\",\"video.video-description.runtime\":\"Runtime\",\"video.video-description.topics\":\"Topics\",\"video.video-page.more-from\":\"More From\",\"video.video-page.more-from-host\":\"More from {host}\",\"video.video-page.more-show\":\"More {show}\",\"video.video-page.share\":\"Share\",\"video.video-page.tweet\":\"Tweet\",\"video.watch-page.now-playing\":\"Now Playing\",\"video.web\":\"web\",\"watch.more-show\":\"More :show\",\"web_series\":\"Web Series\",\"metadata.description\":\"VICE is the definitive guide to enlightening information.\",\"metadata.homepage-title\":\"VICE\",\"metadata.keywords\":\"culture, news, lgbtq, politics, journalism, video, documentary, sex, drugs, film, tv, entertainment, travel, crime\",\"newsletter.copy\":\"Sign up for the best of VICE, delivered to your inbox daily.\",\"newsletter.name\":\"Newsletters are the new newsletters.\"},\"isCmsUser\":false,\"pageType\":\"article\",\"siteName\":\"vice\",\"apolloState\":{\"Site:57a204058cb727dec794c567\":{\"id\":\"57a204058cb727dec794c567\",\"__typename\":\"Site\",\"name\":\"vice\",\"display_name\":\"VICE\",\"newsletter_signup_headline\":\"Get a personalized roundup of VICE's best stories in your inbox.\",\"newsletter_signup_dek\":\"Sign up for the best of VICE, delivered to your inbox daily.\",\"newsletter_signup_list_id\":null,\"facebook_url\":\"https://www.facebook.com/vice\",\"facebook_page_id\":\"261330507662232, 814185111976252, 115384328477363, 218982941873, 65088937560, 656832881044884, 139104349474671, 493861597337594, 1733383370215660, 167115176655082, 235852889908002, 1482820258618380, 130581413665173, 100575810307679, 1587973284768252, 283321618725390\",\"instagram_url\":\"https://www.instagram.com/vice\",\"twitter_url\":\"https://twitter.com/vice\",\"reddit_url\":\"https://www.reddit.com/user/vice\",\"tumblr_url\":\"https://vicemag.tumblr.com\",\"twitch_url\":\"\",\"youtube_url\":\"https://www.youtube.com/user/vice\",\"pinterest_url\":\"https://www.pinterest.com/vicemag\",\"soundcloud_url\":\"\",\"socials\":{\"__typename\":\"Socials\",\"email_newsletter\":null,\"facebook_url\":\"https://www.facebook.com/vice\",\"facebook_page_id\":\"261330507662232, 814185111976252, 115384328477363, 218982941873, 65088937560, 656832881044884, 139104349474671, 493861597337594, 1733383370215660, 167115176655082, 235852889908002, 1482820258618380, 130581413665173, 100575810307679, 1587973284768252, 283321618725390\",\"instagram_url\":\"https://www.instagram.com/vice\",\"twitter_url\":\"https://twitter.com/vice\",\"reddit_url\":\"https://www.reddit.com/user/vice\",\"tumblr_url\":\"https://vicemag.tumblr.com\",\"twitch_url\":\"\",\"youtube_url\":\"https://www.youtube.com/user/vice\",\"pinterest_url\":\"https://www.pinterest.com/vicemag\",\"soundcloud_url\":\"\"}},\"Link:585805ed81042351b3cef856\":{\"id\":\"585805ed81042351b3cef856\",\"__typename\":\"Link\",\"site\":\"www.vice.com\",\"site_link\":null,\"position\":0,\"order\":0,\"link_type\":\"primary\",\"custom_link\":\"https://video.vice.com/en_us\",\"title\":\"Video\",\"topic\":null,\"locale\":\"en_us\"},\"Link:5f288ddda35e39009d650e7e\":{\"id\":\"5f288ddda35e39009d650e7e\",\"__typename\":\"Link\",\"site\":\"www.vice.com\",\"site_link\":null,\"position\":1,\"order\":1,\"link_type\":\"primary\",\"custom_link\":\"https://www.vice.com/en_us/series/3rz336/the-19th-in-2020\",\"title\":\"The 19th In 2020\",\"topic\":null,\"locale\":\"en_us\"},\"Link:5e5055fa47cda0009ce019a8\":{\"id\":\"5e5055fa47cda0009ce019a8\",\"__typename\":\"Link\",\"site\":\"www.vice.com\",\"site_link\":null,\"position\":2,\"order\":2,\"link_type\":\"primary\",\"custom_link\":\"https://www.vicetv.com\",\"title\":\"TV\",\"topic\":null,\"locale\":\"en_us\"},\"Link:5b6363b2d5805b0008b25e22\":{\"id\":\"5b6363b2d5805b0008b25e22\",\"__typename\":\"Link\",\"site\":\"www.vice.com\",\"site_link\":null,\"position\":3,\"order\":3,\"link_type\":\"primary\",\"custom_link\":\"https://vice.com/en_us/page/podcasts\",\"title\":\"Podcasts\",\"topic\":null,\"locale\":\"en_us\"},\"Link:5ccadd260f942900072ca4f6\":{\"id\":\"5ccadd260f942900072ca4f6\",\"__typename\":\"Link\",\"site\":\"www.vice.com\",\"site_link\":null,\"position\":4,\"order\":4,\"link_type\":\"primary\",\"custom_link\":\"https://shop.vice.com/\",\"title\":\"Shop\",\"topic\":null,\"locale\":\"en_us\"},\"Link:5ccadd36ae6bce0007f46206\":{\"id\":\"5ccadd36ae6bce0007f46206\",\"__typename\":\"Link\",\"site\":\"www.vice.com\",\"site_link\":null,\"position\":5,\"order\":5,\"link_type\":\"primary\",\"custom_link\":\"https://www.vice.com/en_us/page/app\",\"title\":\"Apps\",\"topic\":null,\"locale\":\"en_us\"},\"Link:5f64c1cf1ba55d009c2afed9\":{\"id\":\"5f64c1cf1ba55d009c2afed9\",\"__typename\":\"Link\",\"site\":\"www.vice.com\",\"site_link\":null,\"position\":6,\"order\":6,\"link_type\":\"primary\",\"custom_link\":\"https://voices.vice.com/h/s/6ojElfX90K6Ad2Hx7OuCo\",\"title\":\"VICE Voices \",\"topic\":null,\"locale\":\"en_us\"},\"Link:5efb902c42702d009da8b701\":{\"id\":\"5efb902c42702d009da8b701\",\"__typename\":\"Link\",\"site\":\"www.vice.com\",\"site_link\":null,\"position\":0,\"order\":0,\"link_type\":\"secondary\",\"custom_link\":\"https://www.vice.com/en/topic/846\",\"title\":\"The 8:46 Project\",\"topic\":null,\"locale\":\"en_us\"},\"Link:5bc840816106bb0006f5ea67\":{\"id\":\"5bc840816106bb0006f5ea67\",\"__typename\":\"Link\",\"site\":\"www.vice.com\",\"site_link\":null,\"position\":1,\"order\":1,\"link_type\":\"secondary\",\"custom_link\":\"https://news.vice.com/en_us\",\"title\":\"News\",\"topic\":null,\"locale\":\"en_us\"},\"Link:5cd02d260a88270007e272bb\":{\"id\":\"5cd02d260a88270007e272bb\",\"__typename\":\"Link\",\"site\":\"www.vice.com\",\"site_link\":null,\"position\":2,\"order\":2,\"link_type\":\"secondary\",\"custom_link\":\"https://www.vice.com/en/section/tech\",\"title\":\"Tech\",\"topic\":null,\"locale\":\"en_us\"},\"Link:5bc83e91e46858000600b527\":{\"id\":\"5bc83e91e46858000600b527\",\"__typename\":\"Link\",\"site\":\"www.vice.com\",\"site_link\":null,\"position\":3,\"order\":3,\"link_type\":\"secondary\",\"custom_link\":\"https://www.vice.com/en/section/music\",\"title\":\"Music\",\"topic\":null,\"locale\":\"en_us\"},\"Link:5cd02cce760c500007c09859\":{\"id\":\"5cd02cce760c500007c09859\",\"__typename\":\"Link\",\"site\":\"www.vice.com\",\"site_link\":null,\"position\":4,\"order\":4,\"link_type\":\"secondary\",\"custom_link\":\"https://www.vice.com/en/section/food\",\"title\":\"Food\",\"topic\":null,\"locale\":\"en_us\"},\"Link:5bc84ff2e752c20006d9a8cb\":{\"id\":\"5bc84ff2e752c20006d9a8cb\",\"__typename\":\"Link\",\"site\":\"www.vice.com\",\"site_link\":null,\"position\":5,\"order\":5,\"link_type\":\"secondary\",\"custom_link\":\"https://www.vice.com/en/section/health\",\"title\":\"Health\",\"topic\":null,\"locale\":\"en_us\"},\"Link:5ccb0682a0ec9a00097174fa\":{\"id\":\"5ccb0682a0ec9a00097174fa\",\"__typename\":\"Link\",\"site\":\"www.vice.com\",\"site_link\":null,\"position\":6,\"order\":6,\"link_type\":\"secondary\",\"custom_link\":\"https://www.vice.com/en/section/money\",\"title\":\"Money\",\"topic\":null,\"locale\":\"en_us\"},\"Link:5bc84fcd5c1f590006d8e613\":{\"id\":\"5bc84fcd5c1f590006d8e613\",\"__typename\":\"Link\",\"site\":\"www.vice.com\",\"site_link\":null,\"position\":7,\"order\":7,\"link_type\":\"secondary\",\"custom_link\":\"https://www.vice.com/en/section/drugs\",\"title\":\"Drugs\",\"topic\":null,\"locale\":\"en_us\"},\"Link:5d67f522d1306900087d3cc2\":{\"id\":\"5d67f522d1306900087d3cc2\",\"__typename\":\"Link\",\"site\":\"www.vice.com\",\"site_link\":null,\"position\":8,\"order\":8,\"link_type\":\"secondary\",\"custom_link\":\"https://www.vice.com/en/topic/2020\",\"title\":\"Election 2020\",\"topic\":null,\"locale\":\"en_us\"},\"Link:5cd02ca0760c500007c09857\":{\"id\":\"5cd02ca0760c500007c09857\",\"__typename\":\"Link\",\"site\":\"www.vice.com\",\"site_link\":null,\"position\":9,\"order\":9,\"link_type\":\"secondary\",\"custom_link\":\"https://www.vice.com/en/section/identity\",\"title\":\"Identity\",\"topic\":null,\"locale\":\"en_us\"},\"Link:5cd02d5a86a1aa0007fb384a\":{\"id\":\"5cd02d5a86a1aa0007fb384a\",\"__typename\":\"Link\",\"site\":\"www.vice.com\",\"site_link\":null,\"position\":10,\"order\":10,\"link_type\":\"secondary\",\"custom_link\":\"https://www.vice.com/en/section/games\",\"title\":\"Games\",\"topic\":null,\"locale\":\"en_us\"},\"Link:5bc85009e46858000600b8e1\":{\"id\":\"5bc85009e46858000600b8e1\",\"__typename\":\"Link\",\"site\":\"www.vice.com\",\"site_link\":null,\"position\":11,\"order\":11,\"link_type\":\"secondary\",\"custom_link\":\"https://www.vice.com/en/section/entertainment\",\"title\":\"Entertainment\",\"topic\":null,\"locale\":\"en_us\"},\"Link:5ccb173b5ba56e0008df6f89\":{\"id\":\"5ccb173b5ba56e0008df6f89\",\"__typename\":\"Link\",\"site\":\"www.vice.com\",\"site_link\":null,\"position\":12,\"order\":12,\"link_type\":\"secondary\",\"custom_link\":\"https://www.vice.com/en/section/environment\",\"title\":\"Environment\",\"topic\":null,\"locale\":\"en_us\"},\"Link:5bc8a196e752c20006d9b9b4\":{\"id\":\"5bc8a196e752c20006d9b9b4\",\"__typename\":\"Link\",\"site\":\"www.vice.com\",\"site_link\":null,\"position\":13,\"order\":13,\"link_type\":\"secondary\",\"custom_link\":\"https://www.vice.com/en/section/travel\",\"title\":\"Travel\",\"topic\":null,\"locale\":\"en_us\"},\"Link:5cd087693b8312000c35e31e\":{\"id\":\"5cd087693b8312000c35e31e\",\"__typename\":\"Link\",\"site\":\"www.vice.com\",\"site_link\":null,\"position\":14,\"order\":14,\"link_type\":\"secondary\",\"custom_link\":\"https://www.vice.com/en/astroguide\",\"title\":\"Horoscopes\",\"topic\":null,\"locale\":\"en_us\"},\"Link:5ccb122d7614700007059aef\":{\"id\":\"5ccb122d7614700007059aef\",\"__typename\":\"Link\",\"site\":\"www.vice.com\",\"site_link\":null,\"position\":15,\"order\":15,\"link_type\":\"secondary\",\"custom_link\":\"https://www.vice.com/en/section/sex\",\"title\":\"Sex\",\"topic\":null,\"locale\":\"en_us\"},\"Link:5da8bc8a7dc312000af9c4f0\":{\"id\":\"5da8bc8a7dc312000af9c4f0\",\"__typename\":\"Link\",\"site\":\"www.vice.com\",\"site_link\":null,\"position\":16,\"order\":16,\"link_type\":\"secondary\",\"custom_link\":\"https://www.vice.com/en/topic/vice-magazine\",\"title\":\"VICE Magazine\",\"topic\":null,\"locale\":\"en_us\"},\"Link:585313014a920651bf8c0cfb\":{\"id\":\"585313014a920651bf8c0cfb\",\"__typename\":\"Link\",\"site\":\"www.vice.com\",\"site_link\":null,\"position\":0,\"order\":0,\"link_type\":\"footer\",\"custom_link\":\"https://company.vice.com\",\"title\":\"About \",\"topic\":null,\"locale\":\"en_us\"},\"Link:5853130d68cb5808239228de\":{\"id\":\"5853130d68cb5808239228de\",\"__typename\":\"Link\",\"site\":\"www.vice.com\",\"site_link\":null,\"position\":1,\"order\":1,\"link_type\":\"footer\",\"custom_link\":\"https://company.vice.com/careers/\",\"title\":\"Jobs\",\"topic\":null,\"locale\":\"en_us\"},\"Link:5d8be154b9fbf5000814eddc\":{\"id\":\"5d8be154b9fbf5000814eddc\",\"__typename\":\"Link\",\"site\":\"www.vice.com\",\"site_link\":null,\"position\":2,\"order\":2,\"link_type\":\"footer\",\"custom_link\":\"https://advertise.vice.com/\",\"title\":\"Partner\",\"topic\":null,\"locale\":\"en_us\"},\"Link:5853132581446e51a728dbfa\":{\"id\":\"5853132581446e51a728dbfa\",\"__typename\":\"Link\",\"site\":\"www.vice.com\",\"site_link\":null,\"position\":3,\"order\":3,\"link_type\":\"footer\",\"custom_link\":\"https://voices.vice.com/h/s/6ojElfX90K6Ad2Hx7OuCo\",\"title\":\"VICE Voices\",\"topic\":null,\"locale\":\"en_us\"},\"Link:5b3525dfe7fc8800063a1a4d\":{\"id\":\"5b3525dfe7fc8800063a1a4d\",\"__typename\":\"Link\",\"site\":\"www.vice.com\",\"site_link\":null,\"position\":4,\"order\":4,\"link_type\":\"footer\",\"custom_link\":\"https://www.vice.com/en_us/page/content-funding-on-vice\",\"title\":\"Content Funding on VICE\",\"topic\":null,\"locale\":\"en_us\"},\"Link:5853134181042351b3ced974\":{\"id\":\"5853134181042351b3ced974\",\"__typename\":\"Link\",\"site\":\"www.vice.com\",\"site_link\":null,\"position\":5,\"order\":5,\"link_type\":\"footer\",\"custom_link\":\"/en_us/page/vice-responsible-disclosure-policy\",\"title\":\"Security Policy\",\"topic\":null,\"locale\":\"en_us\"},\"Link:5853146ec90ce551c569492d\":{\"id\":\"5853146ec90ce551c569492d\",\"__typename\":\"Link\",\"site\":\"www.vice.com\",\"site_link\":null,\"position\":6,\"order\":6,\"link_type\":\"footer\",\"custom_link\":\"/en_us/page/privacy-and-terms\",\"title\":\"Privacy \\u0026 Terms\",\"topic\":null,\"locale\":\"en_us\"},\"Link:5d79668dd174ca00086a8ba3\":{\"id\":\"5d79668dd174ca00086a8ba3\",\"__typename\":\"Link\",\"site\":\"www.vice.com\",\"site_link\":null,\"position\":0,\"order\":0,\"link_type\":\"network\",\"custom_link\":\"https://www.vice.com/en_us\",\"title\":\"VICE\",\"topic\":null,\"locale\":\"en_us\"},\"Link:5d7966a781d4140008f7f479\":{\"id\":\"5d7966a781d4140008f7f479\",\"__typename\":\"Link\",\"site\":\"www.vice.com\",\"site_link\":null,\"position\":1,\"order\":1,\"link_type\":\"network\",\"custom_link\":\"https://www.viceland.com/en_us?_ga=2.122564107.1244600859.1568037773-1243485207.1550599999\",\"title\":\"VICE on TV\",\"topic\":null,\"locale\":\"en_us\"},\"Link:5d7966bad174ca00086a8bb6\":{\"id\":\"5d7966bad174ca00086a8bb6\",\"__typename\":\"Link\",\"site\":\"www.vice.com\",\"site_link\":null,\"position\":2,\"order\":2,\"link_type\":\"network\",\"custom_link\":\"https://i-d.vice.com/en_us\",\"title\":\"i-D\",\"topic\":null,\"locale\":\"en_us\"},\"Link:5d83f723e15b2e0008d44bd4\":{\"id\":\"5d83f723e15b2e0008d44bd4\",\"__typename\":\"Link\",\"site\":\"www.vice.com\",\"site_link\":null,\"position\":3,\"order\":3,\"link_type\":\"network\",\"custom_link\":\"https://impact.vice.com/en_us\",\"title\":\"IMPACT\",\"topic\":null,\"locale\":\"en_us\"},\"Link:5dce0f3afdb2e60092872c0b\":{\"id\":\"5dce0f3afdb2e60092872c0b\",\"__typename\":\"Link\",\"site\":\"www.vice.com\",\"site_link\":null,\"position\":4,\"order\":4,\"link_type\":\"network\",\"custom_link\":\"https://www.refinery29.com\",\"title\":\"Refinery29\",\"topic\":null,\"locale\":\"en_us\"},\"Locale:57a204068cb727dec794c573\":{\"id\":\"57a204068cb727dec794c573\",\"__typename\":\"Locale\",\"label\":\"United States\",\"abbreviation\":\"US\",\"url_fragment\":\"en_us\",\"language\":\"en\",\"geo_code\":\"US\",\"country\":\"USA\"},\"Language:313537363831643731b5ae3c\":{\"id\":\"313537363831643731b5ae3c\",\"__typename\":\"Language\",\"label\":\"عربي\",\"code\":\"ar\",\"enabled\":true},\"Language:313537363831643731265a7b\":{\"id\":\"313537363831643731265a7b\",\"__typename\":\"Language\",\"label\":\"Deutsch\",\"code\":\"de\",\"enabled\":true},\"Language:313537363831643731e6a3a7\":{\"id\":\"313537363831643731e6a3a7\",\"__typename\":\"Language\",\"label\":\"Ελληνικά\",\"code\":\"el\",\"enabled\":true},\"Language:31353736383164373124e0bb\":{\"id\":\"31353736383164373124e0bb\",\"__typename\":\"Language\",\"label\":\"English\",\"code\":\"en\",\"enabled\":true},\"Language:3135373638316437319d8f87\":{\"id\":\"3135373638316437319d8f87\",\"__typename\":\"Language\",\"label\":\"Español\",\"code\":\"es\",\"enabled\":true},\"Language:3135373638316437318d50d5\":{\"id\":\"3135373638316437318d50d5\",\"__typename\":\"Language\",\"label\":\"Français\",\"code\":\"fr\",\"enabled\":true},\"Language:3135373638316437316baeaa\":{\"id\":\"3135373638316437316baeaa\",\"__typename\":\"Language\",\"label\":\"Bahasa Indonesia\",\"code\":\"id\",\"enabled\":true},\"Language:3135373638316437310c4c93\":{\"id\":\"3135373638316437310c4c93\",\"__typename\":\"Language\",\"label\":\"Italiano\",\"code\":\"it\",\"enabled\":true},\"Language:3135373638316437311b80f1\":{\"id\":\"3135373638316437311b80f1\",\"__typename\":\"Language\",\"label\":\"日本語\",\"code\":\"ja\",\"enabled\":true},\"Language:3135373638316437311ac265\":{\"id\":\"3135373638316437311ac265\",\"__typename\":\"Language\",\"label\":\"한국어\",\"code\":\"ko\",\"enabled\":true},\"Language:313537363831643731e1d630\":{\"id\":\"313537363831643731e1d630\",\"__typename\":\"Language\",\"label\":\"Nederlands\",\"code\":\"nl\",\"enabled\":true},\"Language:3135373638316437314677d0\":{\"id\":\"3135373638316437314677d0\",\"__typename\":\"Language\",\"label\":\"Română\",\"code\":\"ro\",\"enabled\":true},\"Language:31353736383164373159ea89\":{\"id\":\"31353736383164373159ea89\",\"__typename\":\"Language\",\"label\":\"Srpski\",\"code\":\"sr\",\"enabled\":true},\"ROOT_QUERY\":{\"__typename\":\"Query\",\"sites({\\\"locale\\\":\\\"en_us\\\",\\\"name\\\":\\\"vice\\\"})\":[{\"__ref\":\"Site:57a204058cb727dec794c567\"}],\"links({\\\"locale\\\":\\\"en_us\\\",\\\"per_page\\\":50,\\\"site\\\":\\\"vice\\\"})\":[{\"__ref\":\"Link:585805ed81042351b3cef856\"},{\"__ref\":\"Link:5f288ddda35e39009d650e7e\"},{\"__ref\":\"Link:5e5055fa47cda0009ce019a8\"},{\"__ref\":\"Link:5b6363b2d5805b0008b25e22\"},{\"__ref\":\"Link:5ccadd260f942900072ca4f6\"},{\"__ref\":\"Link:5ccadd36ae6bce0007f46206\"},{\"__ref\":\"Link:5f64c1cf1ba55d009c2afed9\"},{\"__ref\":\"Link:5efb902c42702d009da8b701\"},{\"__ref\":\"Link:5bc840816106bb0006f5ea67\"},{\"__ref\":\"Link:5cd02d260a88270007e272bb\"},{\"__ref\":\"Link:5bc83e91e46858000600b527\"},{\"__ref\":\"Link:5cd02cce760c500007c09859\"},{\"__ref\":\"Link:5bc84ff2e752c20006d9a8cb\"},{\"__ref\":\"Link:5ccb0682a0ec9a00097174fa\"},{\"__ref\":\"Link:5bc84fcd5c1f590006d8e613\"},{\"__ref\":\"Link:5d67f522d1306900087d3cc2\"},{\"__ref\":\"Link:5cd02ca0760c500007c09857\"},{\"__ref\":\"Link:5cd02d5a86a1aa0007fb384a\"},{\"__ref\":\"Link:5bc85009e46858000600b8e1\"},{\"__ref\":\"Link:5ccb173b5ba56e0008df6f89\"},{\"__ref\":\"Link:5bc8a196e752c20006d9b9b4\"},{\"__ref\":\"Link:5cd087693b8312000c35e31e\"},{\"__ref\":\"Link:5ccb122d7614700007059aef\"},{\"__ref\":\"Link:5da8bc8a7dc312000af9c4f0\"},{\"__ref\":\"Link:585313014a920651bf8c0cfb\"},{\"__ref\":\"Link:5853130d68cb5808239228de\"},{\"__ref\":\"Link:5d8be154b9fbf5000814eddc\"},{\"__ref\":\"Link:5853132581446e51a728dbfa\"},{\"__ref\":\"Link:5b3525dfe7fc8800063a1a4d\"},{\"__ref\":\"Link:5853134181042351b3ced974\"},{\"__ref\":\"Link:5853146ec90ce551c569492d\"},{\"__ref\":\"Link:5d79668dd174ca00086a8ba3\"},{\"__ref\":\"Link:5d7966a781d4140008f7f479\"},{\"__ref\":\"Link:5d7966bad174ca00086a8bb6\"},{\"__ref\":\"Link:5d83f723e15b2e0008d44bd4\"},{\"__ref\":\"Link:5dce0f3afdb2e60092872c0b\"}],\"locales({\\\"per_page\\\":1,\\\"site\\\":\\\"vice\\\",\\\"url_fragment\\\":\\\"en_us\\\"})\":[{\"__ref\":\"Locale:57a204068cb727dec794c573\"}],\"languages({\\\"per_page\\\":50,\\\"site\\\":\\\"vice\\\"})\":[{\"__ref\":\"Language:313537363831643731b5ae3c\"},{\"__ref\":\"Language:313537363831643731265a7b\"},{\"__ref\":\"Language:313537363831643731e6a3a7\"},{\"__ref\":\"Language:31353736383164373124e0bb\"},{\"__ref\":\"Language:3135373638316437319d8f87\"},{\"__ref\":\"Language:3135373638316437318d50d5\"},{\"__ref\":\"Language:3135373638316437316baeaa\"},{\"__ref\":\"Language:3135373638316437310c4c93\"},{\"__ref\":\"Language:3135373638316437311b80f1\"},{\"__ref\":\"Language:3135373638316437311ac265\"},{\"__ref\":\"Language:313537363831643731e1d630\"},{\"__ref\":\"Language:3135373638316437314677d0\"},{\"__ref\":\"Language:31353736383164373159ea89\"}],\"articles({\\\"locale\\\":\\\"en_us\\\",\\\"site\\\":\\\"vice\\\",\\\"web_id\\\":\\\"a35ve5\\\"})\":[{\"__ref\":\"Article:5d65424219e1d400087bf338\"}]},\"Section:5cae7073d1043e0007e5bd74\":{\"id\":\"5cae7073d1043e0007e5bd74\",\"__typename\":\"Section\",\"brand_name\":null,\"brand_description\":null,\"brand_attribution_svg_url\":null,\"slug\":\"money\",\"title\":\"Money\",\"ad_targeting_id\":\"money\"},\"Topic:57a204d98cb727dec7953d8e\":{\"id\":\"57a204d98cb727dec7953d8e\",\"__typename\":\"Topic\",\"name\":\"debt\",\"slug\":\"debt\"},\"Topic:57a204ab8cb727dec7951a9d\":{\"id\":\"57a204ab8cb727dec7951a9d\",\"__typename\":\"Topic\",\"name\":\"Politics\",\"slug\":\"politics\"},\"Topic:57a204e88cb727dec79548c9\":{\"id\":\"57a204e88cb727dec79548c9\",\"__typename\":\"Topic\",\"name\":\"Donald Trump\",\"slug\":\"donald-trump\"},\"Topic:57a20826f104a7dff3bc2b9e\":{\"id\":\"57a20826f104a7dff3bc2b9e\",\"__typename\":\"Topic\",\"name\":\"2020\",\"slug\":\"2020\"},\"Topic:583eec3c525a0f144b0c500f\":{\"id\":\"583eec3c525a0f144b0c500f\",\"__typename\":\"Topic\",\"name\":\"student loans\",\"slug\":\"student-loans\"},\"ContentPolicy:5d65424219e1d400087bf33a\":{\"id\":\"5d65424219e1d400087bf33a\",\"__typename\":\"ContentPolicy\",\"url\":\"https://www.vice.com/en/article/a35ve5/what-it-would-take-for-the-next-president-to-cancel-all-student-debt\",\"urls\":[\"https://www.vice.com/en/article/a35ve5/what-it-would-take-for-the-next-president-to-cancel-all-student-debt\"],\"url_fragment\":\"en_us\",\"geo_code\":\"US\",\"language\":\"en\"},\"ContentPolicy:5d656424a16c8a00084ff6a7\":{\"id\":\"5d656424a16c8a00084ff6a7\",\"__typename\":\"ContentPolicy\",\"url\":\"https://www.vice.com/en/article/a35ve5/what-it-would-take-for-the-next-president-to-cancel-all-student-debt\",\"urls\":[\"https://www.vice.com/en/article/a35ve5/what-it-would-take-for-the-next-president-to-cancel-all-student-debt\"],\"url_fragment\":\"en_ca\",\"geo_code\":\"CA\",\"language\":\"en\"},\"Contributor:57a205828cb727dec795be85\":{\"id\":\"57a205828cb727dec795be85\",\"__typename\":\"Contributor\",\"full_name\":\"Allie Conti\",\"slug\":\"allie-conti\",\"thumbnail_url_1_1\":\"https://broadly-images.vice.com/images/contributors/meta/2017/03/15/allie-conti-1489568985.png?crop=0.9126712328767124xw:1xh;center,center\",\"credit\":\"\",\"caption\":null,\"bio\":\"\",\"location\":null},\"Contributor:582c90bed2e1ab48fa50ad3e\":{\"id\":\"582c90bed2e1ab48fa50ad3e\",\"__typename\":\"Contributor\",\"full_name\":\"Kate Lowenstein\",\"slug\":\"kate-lowenstein\",\"thumbnail_url_1_1\":\"https://video-images.vice.com/contributors/582c90bed2e1ab48fa50ad3e/lede/KateL-1.jpg?crop=1xw:1xh;center,center\",\"credit\":null,\"caption\":null,\"bio\":\"\\u003cp\\u003eKate Lowenstein is the editor in chief of VICE. Previously she was editorial director of News \\u0026 Issues at VICE, and the founding editor in chief of Tonic, VICE's health site. She's been an editor at \\u003ci\\u003ePrevention, Health\\u003c/i\\u003e, \\u003ci\\u003eTime Out New York\\u003c/i\\u003e, and About.com, and has written for\\u003ci\\u003e New York, Huffington Post, Glamour, Serious Eats, British GQ,\\u003c/i\\u003e and more.\\u003c/p\\u003e\",\"location\":null},\"Article:5d65424219e1d400087bf338\":{\"id\":\"5d65424219e1d400087bf338\",\"__typename\":\"Article\",\"body\":\"\\u003cp\\u003eLast Wednesday, President Donald Trump \\u003ca href=\\\"https://www.nytimes.com/2019/08/21/us/trump-veterans-student-loans.html\\\" target=\\\"_blank\\\"\\u003eissued an executive order\\u003c/a\\u003e intended to wipe out the student loans of around 25,000 permanently disabled veterans, a move that came after dozens of state attorneys general said that it was way \\u003ca href=\\\"https://www.naag.org/assets/redesign/files/sign-on-letter/NAAG%20Letter%20to%20Sec.%20DeVos%20-%205.28.pdf\\\" target=\\\"_blank\\\"\\u003etoo complicated for wounded veterans to get rid of their student debt\\u003c/a\\u003e. The move will supposedly save these veterans an average of $30,000, but it represents a tiny fraction of the $1.6 trillion in student debt that Americans collectively owe. \\u003c/p\\u003e\\u003cp\\u003eDisabled veterans aren't the only ones having difficulty navigating an \\u003ca href=\\\"https://www.vice.com/en_us/article/d3nqe7/what-you-need-to-know-about-student-loan-forgiveness\\\" target=\\\"_blank\\\"\\u003eextremely confusing loan forgiveness process\\u003c/a\\u003e, and though debates about what to do about the country's student loan crisis have \\u003ca href=\\\"https://www.vice.com/en_us/article/d3nqe7/what-you-need-to-know-about-student-loan-forgiveness\\\" target=\\\"_blank\\\"\\u003eemerged in the Democratic primary\\u003c/a\\u003e, Trump doesn't seem inclined to take the broader problem seriously. Last year, the highest-ranking federal official in charge of keeping lenders like Navient and Sallie Mae in line quit in protest of what he said were \\u003ca href=\\\"https://www.nbcnews.com/politics/politics-news/nation-s-top-student-loan-official-resigns-says-trump-administration-n904136\\\" target=\\\"_blank\\\"\\u003elax enforcement policies\\u003c/a\\u003e.\\u003c/p\\u003e \\u003cp\\u003eTrump's move to forgive the debt of some veterans showcases that the president seemingly has the capacity to do much more. So could a different president go much further and cancel everyone's student debt without even getting Congress to pass a bill?\\u003c/p\\u003e \\u003cdiv class=\\\"article__embed article__embed--vice\\\" data-related-article=\\\"true\\\"\\u003e\\u003ciframe src=\\\"https://www.vice.com/en_us/embed/article/gy4k8j/erasing-your-student-loans-could-be-as-easy-as-fleeing-the-us-for-20-years?utm_source=stylizedembed_vice.com\\u0026utm_campaign=a35ve5\\u0026site=vice\\\" frameborder=\\\"0\\\" style=\\\"border:0px none;margin:0px;\\\" allowfullscreen\\u003e\\u003c/iframe\\u003e\\u003c/div\\u003e\\u003cp\\u003eAccording to Mark Kantrowitz, one of the country's leading experts on student debt policy, Trump's executive order wasn't as radical as it seems. He was able to cancel the loans because of a 2008 amendment to the Higher Education Act aimed at forgiving the debt of severely injured veterans. Such veterans who are unable to work are sent an application they can fill out to have their debts erased.\\u003c/p\\u003e\\u003cp\\u003eBut requiring veterans to fill out forms created a barrier for some who were eligible under the program. \\\"Many didn't because they didn't believe the paperwork was legit or because they were so severely disabled that they weren't able to,\\\" Kantrowitz said. \\\"So tens of thousands of disabled American veterans were having their Social Security disability and retirement benefits offset to repay their student loan debt, even though the Department of Education knew that they were eligible for a discharge.\\\"\\u003cbr\\u003e\\u003c/p\\u003e \\u003cp\\u003eTrump's executive order made approval automatic. Kantrowitz says that Trump couldn't cancel all the student loan debt in the country because there's no similar program under the law for non-veterans. Traditionally, the president can't spend money that hasn't been appropriated by Congress, which is what en-masse loan forgiveness might amount to, and \\u003ca href=\\\"https://en.wikipedia.org/wiki/Antideficiency_Act\\\" target=\\\"_blank\\\"\\u003elaws, primarily the Anti-Deficiency Act (ADA), prevent rogue spending\\u003c/a\\u003e.\\u003c/p\\u003e \\u003cp\\u003eBut Alan Collinge, a writer and higher-education reform activist, said he believes that the president could erase the balances of all direct federal loans, which are the ones held by the government itself, and which account for about 70 percent of student loans in the U.S. \\\"The money for this was already appropriated when the loans were made,\\\" he said.\\u003c/p\\u003e\\u003chr\\u003e \\u003cdiv data-iframely-id=\\\"qWDyEwN\\\" data-embedded-url=\\\"https://video.vice.com/en_us/video/smuggled-cocaine-pay-off-student-loans-drug-mule/5c93ae34be407722d411d381\\\" class=\\\"article__embed article__embed--iframely\\\"\\u003e\\u003cdiv style=\\\"left:0;width:100%;height:0;position:relative;padding-bottom:56.25%;\\\" data-iframely-smart-iframe=\\\"true\\\"\\u003e\\u003ciframe data-img=\\\"\\\" data-iframely-url=\\\"//oembed.vice.com/qWDyEwN\\\" style=\\\"border:0;top:0;left:0;width:100%;height:100%;position:absolute;\\\" allowfullscreen allow=\\\"encrypted-media\\\" data-iframely-smart-iframe=\\\"true\\\" frameborder=\\\"0\\\"\\u003e\\u003c/iframe\\u003e\\u003c/div\\u003e\\u003c/div\\u003e\\u003chr\\u003e\\u003cp\\u003eIt's unclear whether a Democratic president would buy Collinge's argument. Bernie Sanders and Elizabeth Warren, the two most prominent 2020 contenders who have called for student-loan forgiveness, have said they want to do so \\u003ca href=\\\"https://www.cnbc.com/2019/07/23/elizabeth-warrens-student-debt-bill-would-help-45-million-students.html\\\" target=\\\"_blank\\\"\\u003ethrough legislation\\u003c/a\\u003e. But if such legislation stalled thanks to Republican opposition in Congress, it's at least conceivable that one of them could simply sign an executive order and battle the lawsuits that would inevitably challenge that use of presidential power.\\u003c/p\\u003e \\u003cp\\u003eEven if Collinge is right and a progressive president went through with it, 30 percent of student loans are merely guaranteed by the government and held by private companies like Sallie Mae. Collinge concedes that cancelling those would require a bill to be passed. Wiping clean federal loans would just involve the Department of Education erasing them; cancelling private loans would involve paying those companies full or nearly full value for them.\\u003c/p\\u003e \\u003cp\\u003eCollinge also admits that any sort of large-scale debt cancelation by a sitting president would be an extremely controversial action. Even if it was found by the courts not to violate the Anti-Deficiency Act, Congress would probably not be inclined to appropriate more lending funds afterward, which would mean the suspension of the student-lending program altogether. But he thinks that there's a chance such an aggressive move could work.\\u003c/p\\u003e \\u003cp\\u003e\\\"Anyone telling you that the president absolutely could not cancel student loans, or any government-held loans, because of the ADA is being disingenuous,\\\" he said. \\\"They know as well as I do that this would likely wind up being a matter for the courts to decide. It could go either way. Don't let the swamp people snow you.\\\"\\u003c/p\\u003e\\u003cp\\u003e\\u003ci\\u003e \\u003ca href=\\\"https://confirmsubscription.com/h/i/48178908AA2FD075\\\" target=\\\"_blank\\\"\\u003eSign up for our newsletter\\u003c/a\\u003e to get the best of VICE delivered to your inbox daily.\\u003c/i\\u003e\\u003c/p\\u003e \\u003cp\\u003e\\u003ci\\u003e Follow Allie Conti on \\u003ca href=\\\"https://twitter.com/allie_conti\\\" target=\\\"_blank\\\"\\u003eTwitter\\u003c/a\\u003e.\\u003c/i\\u003e\\u003c/p\\u003e\",\"body_components_json\":\"[{\\\"id\\\":\\\"5ebdaafec25960210585fbdf\\\",\\\"version\\\":\\\"1\\\",\\\"position\\\":0,\\\"role\\\":\\\"body\\\",\\\"text\\\":\\\"Last Wednesday, President Donald Trump [issued an executive order](https://www.nytimes.com/2019/08/21/us/trump-veterans-student-loans.html) intended to wipe out the student loans of around 25,000 permanently disabled veterans, a move that came after dozens of state attorneys general said that it was way [too complicated for wounded veterans to get rid of their student debt](https://www.naag.org/assets/redesign/files/sign-on-letter/NAAG%20Letter%20to%20Sec.%20DeVos%20-%205.28.pdf). The move will supposedly save these veterans an average of $30,000, but it represents a tiny fraction of the $1.6 trillion in student debt that Americans collectively owe.\\\",\\\"charscount\\\":472,\\\"wordscount\\\":74},{\\\"id\\\":\\\"5ebdaafec25960210585fbe0\\\",\\\"version\\\":\\\"1\\\",\\\"position\\\":1,\\\"role\\\":\\\"body\\\",\\\"text\\\":\\\"Disabled veterans aren't the only ones having difficulty navigating an [extremely confusing loan forgiveness process](https://www.vice.com/en_us/article/d3nqe7/what-you-need-to-know-about-student-loan-forgiveness), and though debates about what to do about the country's student loan crisis have [emerged in the Democratic primary](https://www.vice.com/en_us/article/d3nqe7/what-you-need-to-know-about-student-loan-forgiveness), Trump doesn't seem inclined to take the broader problem seriously. Last year, the highest-ranking federal official in charge of keeping lenders like Navient and Sallie Mae in line quit in protest of what he said were [lax enforcement policies](https://www.nbcnews.com/politics/politics-news/nation-s-top-student-loan-official-resigns-says-trump-administration-n904136).\\\",\\\"charscount\\\":475,\\\"wordscount\\\":77},{\\\"id\\\":\\\"5ebdaafec25960210585fbe1\\\",\\\"version\\\":\\\"1\\\",\\\"position\\\":2,\\\"role\\\":\\\"body\\\",\\\"text\\\":\\\"Trump's move to forgive the debt of some veterans showcases that the president seemingly has the capacity to do much more. So could a different president go much further and cancel everyone's student debt without even getting Congress to pass a bill?\\\",\\\"charscount\\\":250,\\\"wordscount\\\":44},{\\\"id\\\":\\\"5ebdaafec25960210585fbe2\\\",\\\"version\\\":\\\"1\\\",\\\"position\\\":3,\\\"role\\\":\\\"article\\\",\\\"site\\\":\\\"vice\\\",\\\"locale\\\":\\\"en_us\\\",\\\"web_id\\\":\\\"gy4k8j\\\",\\\"display\\\":\\\"inline\\\",\\\"article_id\\\":\\\"5d04126cec97c10008622794\\\",\\\"article\\\":{\\\"id\\\":\\\"5d04126cec97c10008622794\\\",\\\"body\\\":\\\"\\u003cp\\u003eDavid Donelson was divorced and almost $400,000 in debt when he moved his life and career to Dubai. He wanted to “escape New York City and travel the world,” and also put his life back together, which meant, among other things, finally confronting his six-figure bill from dental school at Tufts University.\\u003c/p\\u003e \\u003cp\\u003e“People of our generation are in a kind of servitude no one else around the world has,” he said. The 37-year-old knew there would be tax benefits to living and working abroad, but he was surprised when the lawyer he hired to help him with his debt said he could reduce his student loan bill from thousands of dollars a month to about $300 a month simply because he was living in a different country.\\u003c/p\\u003e\\u003cp\\u003eEven those making six figures can greatly reduce their bills using the loophole Donelson uses. Meanwhile, it also allows for people making less than about $100,000 a year to submit official payments of $0. What’s more, after years of “paying” creditors $0 month after month, they can erase their debt completely. At least in theory.\\u003c/p\\u003e \\u003cdiv class=\\\\\\\"article__embed article__embed--vice\\\\\\\" data-related-article=\\\\\\\"true\\\\\\\"\\u003e\\u003ciframe src=\\\\\\\"https://www.vice.com/en_us/embed/article/mbdz4y/student-loans-anxiety-dating?utm_source=stylizedembed_vice.com\\u0026utm_campaign=gy4k8j\\u0026site=vice\\\\\\\" frameborder=\\\\\\\"0\\\\\\\" style=\\\\\\\"border:0px none;margin:0px;\\\\\\\" allowfullscreen\\u003e\\u003c/iframe\\u003e\\u003c/div\\u003e\\u003cp\\u003eYoung people caught up in the \\u003ca href=\\\\\\\"https://www.americanprogress.org/issues/education-postsecondary/reports/2019/06/12/470893/addressing-1-5-trillion-federal-student-loan-debt/\\\\\\\" target=\\\\\\\"_blank\\\\\\\"\\u003e$1.5 trillion\\u003c/a\\u003e student loan crisis primarily cope through willful ignorance. Some with particularly hefty debts have \\u003ca href=\\\\\\\"https://www.vice.com/en_us/article/qbx7dm/talking-to-american-debt-dodgers-who-moved-to-europe-to-avoid-paying-off-their-student-loans-111\\\\\\\" target=\\\\\\\"_blank\\\\\\\"\\u003emoved to Europe\\u003c/a\\u003e in hopes of never having to think about what they owe again. Last month, CNBC \\u003ca href=\\\\\\\"https://www.cnbc.com/2019/05/25/they-fled-the-country-to-escape-their-student-debt.html\\\\\\\" target=\\\\\\\"_blank\\\\\\\"\\u003epublished\\u003c/a\\u003e an article about a guy who went slightly further, literally moving from Colorado to a village in the Indian jungle where he thought debt collectors wouldn’t be able to find him. Just this week, a local paper in Pennsylvania \\u003ca href=\\\\\\\"https://www.ydr.com/story/news/education/2019/06/11/student-loan-debt-pa-college-graduate-flees-country-escape/1329116001/\\\\\\\" target=\\\\\\\"_blank\\\\\\\"\\u003echronicled\\u003c/a\\u003e the woes of a 30-year-old man who purchased a one-way ticket to China. But running away won’t erase anyone's debt. It’ll still be there—and it will only grow.\\u003c/p\\u003e \\u003cp\\u003e“If the goal is to go abroad so that you don’t have to pay your loans, then that’s just stupid,” said Joshua Cohen, an attorney who focuses on student loans. Instead, what he suggests is taking advantage of something known as the Foreign Earned Income Exclusion, which is a tax credit worth about $100,000. If you’re living and working abroad, then you technically don’t have an adjusted gross income in the United States. And if you’re on an income-based repayment plan for your student debt, that makes your monthly loan bill zero dollars.\\u003c/p\\u003e \\u003cp\\u003eWhat’s more, borrowers who are on these plans are eligible to have their balances \\u003ca href=\\\\\\\"https://www.vice.com/en_us/article/3bjq5k/what-happens-if-i-dont-pay-my-student-loans-182\\\\\\\" target=\\\\\\\"_blank\\\\\\\"\\u003eforgiven\\u003c/a\\u003e after either 20 or 25 years, depending on the plan. So in theory if you lived abroad for that long, you could return after that time and have your debt erased, without having paid any of it. The rub is that the IRS then counts the wiped balance as taxable income—meaning the forgiveness comes with a nasty bill from the federal government—but Cohen and other experts claim that you could technically claim insolvency when that time came if you had assets that were worth less than the “tax bomb,” as it’s known.\\u003c/p\\u003e\\u003chr\\u003e \\u003cdiv data-iframely-id=\\\\\\\"qWDyEwN\\\\\\\" data-embedded-url=\\\\\\\"https://video.vice.com/en_us/video/smuggled-cocaine-pay-off-student-loans-drug-mule/5c93ae34be407722d411d381\\\\\\\" class=\\\\\\\"article__embed article__embed--iframely\\\\\\\"\\u003e\\u003cdiv style=\\\\\\\"left:0;width:100%;height:0;position:relative;padding-bottom:56.2493%;\\\\\\\" data-iframely-smart-iframe=\\\\\\\"true\\\\\\\"\\u003e\\u003ciframe data-img=\\\\\\\"\\\\\\\" data-iframely-url=\\\\\\\"//oembed.vice.com/qWDyEwN\\\\\\\" style=\\\\\\\"border:0;top:0;left:0;width:100%;height:100%;position:absolute;\\\\\\\" allowfullscreen allow=\\\\\\\"autoplay; encrypted-media\\\\\\\" data-iframely-smart-iframe=\\\\\\\"true\\\\\\\" frameborder=\\\\\\\"0\\\\\\\"\\u003e\\u003c/iframe\\u003e\\u003c/div\\u003e\\u003c/div\\u003e\\u003chr\\u003e\\u003cp\\u003eWe won't know how the IRS will respond to people trying to declare insolvency on their student loan tax bomb until 2033, which is when the first Obama-era loan forgiveness laws will become relevant. Congress could get wise to the loophole before that and take action to prevent people from abandoning their debts when they move abroad, as \\u003ca href=\\\\\\\"https://theconversation.com/australian-graduates-who-move-overseas-will-have-to-pay-back-student-loans-50455\\\\\\\" target=\\\\\\\"_blank\\\\\\\"\\u003eAustralia did in 2015\\u003c/a\\u003e. More likely, the IRS may decide that you can’t avoid the tax bomb by claiming insolvency. \\u003c/p\\u003e \\u003cp\\u003eSo what happens if someone plans their whole financial life around this theory, and then wakes up to discover they owe the government a huge sum? \\u003c/p\\u003e \\u003cp\\u003e“That is an anxiety of someone who has not saved much,” said Travis Hornsby, the accountant behind a company called Student Loan Planner. “If you have a 20 percent savings rate or higher, your net worth is going to be much higher than whatever the tax bomb would be, or even if they just gave you a lump sum bill. You would have the asset levels to pay it if you absolutely had to.” In other words, provided you’re saving the money you would have used to make your loan payments (a big if, but no matter), you’ll be able to pay off the IRS when your loan is forgiven. Hornsby advised Donelson on his debt, and estimates that he’s coached about 50 other people into taking advantage of the tax credit.\\u003c/p\\u003e \\u003cp\\u003eDonelson himself is trying to figure out whether or not he’s going to pursue forgiveness or try to aggressively pay down his loans once he returns to the US. Right now he’s putting about 0.5 percent of his income into a brokerage account just in case he decides to take a path that leads to him getting hit with the tax bomb. He’s decided to repatriate to the U.S., and the option he chooses depends on how successful he ends up being when he returns stateside—how soon he opens a practice, how much money he ends up making. The choice is between owing money to the companies who hold his loans, or someday having to pay the U.S. government a ton of money. \\u003c/p\\u003e \\u003cp\\u003e“If you’re going to have a student loan balance, you have to decide whether you want to be in debt with the government and the IRS or someone else,” he said. “It depends on who you want to dance with.”\\u003c/p\\u003e\\u003cp\\u003e\\u003ci\\u003eFollow Allie Conti on \\u003ca href=\\\\\\\"https://twitter.com/allie_conti\\\\\\\" target=\\\\\\\"_blank\\\\\\\"\\u003eTwitter\\u003c/a\\u003e.\\u003c/i\\u003e\\u003c/p\\u003e\\\",\\\"__using_components\\\":false,\\\"suggested_tweet\\\":null,\\\"dek\\\":\\\"A loophole allows some expats to make 'payments' of $0 every month.\\\",\\\"locale\\\":\\\"en_us\\\",\\\"publish_date\\\":1560787200000,\\\"created_at\\\":1560547948472,\\\"updated_at\\\":1560787235890,\\\"display_type\\\":\\\"short-form\\\",\\\"full_page_iframe_url\\\":null,\\\"vmp_id\\\":null,\\\"embed_code\\\":null,\\\"embed_id\\\":null,\\\"embed_autoplay\\\":0,\\\"embed_data\\\":null,\\\"word_count\\\":895,\\\"autoplay\\\":false,\\\"clickthrough_url\\\":null,\\\"social_description\\\":null,\\\"social_title\\\":null,\\\"hide_recirculation\\\":false,\\\"html_page_title\\\":null,\\\"age_required\\\":null,\\\"birthday_required\\\":null,\\\"content_policy_scoped_locales\\\":[{\\\"id\\\":\\\"57a204068cb727dec794c573\\\",\\\"label\\\":\\\"United States\\\",\\\"abbreviation\\\":\\\"US\\\",\\\"url_fragment\\\":\\\"en_us\\\",\\\"language\\\":null,\\\"language_id\\\":null,\\\"country\\\":\\\"USA\\\",\\\"geo_code\\\":\\\"US\\\"}],\\\"nsfb\\\":false,\\\"nsfw\\\":false,\\\"web_id\\\":\\\"gy4k8j\\\",\\\"original_id\\\":\\\"vice:1625038\\\",\\\"title\\\":\\\"Erasing Your Student Loans Could Be as Easy as Fleeing the U.S. for 20 Years\\\",\\\"slug\\\":\\\"erasing-your-student-loans-could-be-as-easy-as-fleeing-the-us-for-20-years\\\",\\\"summary\\\":\\\"\\\",\\\"urls\\\":[\\\"https://www.vice.com/en/article/gy4k8j/erasing-your-student-loans-could-be-as-easy-as-fleeing-the-us-for-20-years\\\"],\\\"social_lede\\\":null,\\\"channel\\\":{\\\"id\\\":\\\"57a204088cb727dec794c67b\\\",\\\"name\\\":\\\"vice\\\",\\\"url\\\":\\\"www.vice.com\\\",\\\"twitter_url\\\":\\\"https://twitter.com/VICE\\\",\\\"facebook_url\\\":\\\"https://www.facebook.com/VICE\\\",\\\"facebook_page_id\\\":null,\\\"instagram_url\\\":\\\"https://www.instagram.com/VICE\\\",\\\"youtube_url\\\":\\\"\\\",\\\"tumblr_url\\\":\\\"\\\",\\\"pinterest_url\\\":\\\"\\\",\\\"reddit_url\\\":\\\"https://www.reddit.com/user/vice\\\",\\\"reddit_handle\\\":\\\"vice\\\",\\\"soundcloud_url\\\":\\\"\\\",\\\"twitch_url\\\":\\\"\\\",\\\"twitch_handle\\\":null,\\\"site_promotional_message\\\":null,\\\"color\\\":\\\"#000000\\\",\\\"dek\\\":\\\"The definitive guide to enlightening information.\\\",\\\"slug\\\":\\\"vice\\\",\\\"original_id\\\":1,\\\"social_description\\\":null,\\\"social_title\\\":null,\\\"badge_url\\\":\\\"https://video-images.vice.com/channels/57a204088cb727dec794c67b/badge/1487174972413-vice-circle-badge3x.png\\\",\\\"thumbnail_url\\\":\\\"https://video-images.vice.com/channels/57a204088cb727dec794c67b/lede/1561157552130-viceblack-333-x-333.png\\\",\\\"social_lede\\\":{\\\"alt_text\\\":\\\"image (1)\\\",\\\"caption\\\":null,\\\"credit\\\":null,\\\"filename\\\":\\\"1558553187916-image-1.png\\\",\\\"filesize\\\":0,\\\"cover_json\\\":null,\\\"thumbnail_url\\\":\\\"https://video-images.vice.com/channels/57a204088cb727dec794c67b/social_lede/1558553187916-image-1.png\\\",\\\"thumbnail_url_16_9\\\":\\\"https://video-images.vice.com/channels/57a204088cb727dec794c67b/social_lede/1558553187916-image-1.png?crop=1xw:1xh;center,center\\\",\\\"thumbnail_url_1_1\\\":\\\"https://video-images.vice.com/channels/57a204088cb727dec794c67b/social_lede/1558553187916-image-1.png?crop=0.5625xw:1xh;center,center\\\",\\\"thumbnail_url_2_3\\\":\\\"https://video-images.vice.com/channels/57a204088cb727dec794c67b/social_lede/1558553187916-image-1.png?crop=0.375xw:1xh;center,center\\\",\\\"thumbnail_url_10_4\\\":\\\"https://video-images.vice.com/channels/57a204088cb727dec794c67b/social_lede/1558553187916-image-1.png?crop=1xw:0.7111111111111111xh;center,center\\\",\\\"thumbnail_url_10_3\\\":\\\"https://video-images.vice.com/channels/57a204088cb727dec794c67b/social_lede/1558553187916-image-1.png?crop=1xw:0.5333333333333333xh;center,center\\\",\\\"thumbnail_url_7_10\\\":\\\"https://video-images.vice.com/channels/57a204088cb727dec794c67b/social_lede/1558553187916-image-1.png?crop=0.39375xw:1xh;center,center\\\",\\\"thumbnail_url_952_498\\\":\\\"https://video-images.vice.com/channels/57a204088cb727dec794c67b/social_lede/1558553187916-image-1.png?crop=1xw:0.9299719887955182xh;center,center\\\"},\\\"light_logo_url\\\":\\\"https://video-images.vice.com/channels/57a204088cb727dec794c67b/logo/1487174972395-vice-thick-white3x.png\\\",\\\"light_logo_url_1_1\\\":\\\"https://video-images.vice.com/channels/57a204088cb727dec794c67b/logo/1487174972395-vice-thick-white3x.png?crop=0.31446540880503143xw:1xh;center,center\\\",\\\"light_logo_url_10_4\\\":\\\"https://video-images.vice.com/channels/57a204088cb727dec794c67b/logo/1487174972395-vice-thick-white3x.png?crop=0.7861635220125787xw:1xh;center,center\\\",\\\"light_logo_url_16_9\\\":\\\"https://video-images.vice.com/channels/57a204088cb727dec794c67b/logo/1487174972395-vice-thick-white3x.png?crop=0.5590496156533893xw:1xh;center,center\\\",\\\"dark_logo_url\\\":null,\\\"dark_logo_url_1_1\\\":null,\\\"dark_logo_url_10_4\\\":null,\\\"dark_logo_url_16_9\\\":null},\\\"original_channel\\\":null,\\\"contributions\\\":[{\\\"contribution_id\\\":\\\"57a205828cb727dec795be85\\\",\\\"role_id\\\":\\\"589b62267be1070395990030\\\",\\\"role\\\":\\\"Author\\\",\\\"contributor\\\":{\\\"id\\\":\\\"57a205828cb727dec795be85\\\",\\\"first_name\\\":\\\"Allie\\\",\\\"last_name\\\":\\\"Conti\\\",\\\"public_url\\\":null,\\\"twitter_url\\\":null,\\\"twitter_handle\\\":\\\"\\\",\\\"instagram_handle\\\":\\\"\\\",\\\"location_id\\\":null,\\\"slug\\\":\\\"allie-conti\\\",\\\"email\\\":\\\"\\\",\\\"position\\\":null,\\\"bio\\\":\\\"\\\",\\\"article_count\\\":0,\\\"video_count\\\":0,\\\"show_count\\\":0,\\\"social_description\\\":null,\\\"social_title\\\":null,\\\"home_locale_id\\\":\\\"57a204068cb727dec794c573\\\",\\\"full_name\\\":\\\"Allie Conti\\\",\\\"urls\\\":[\\\"https://www.vice.com/en/contributor/allie-conti\\\",\\\"https://video.vice.com/en/contributor/allie-conti\\\",\\\"https://www.vicetv.com/en/contributor/allie-conti\\\",\\\"https://news.vice.com/en/contributor/allie-conti\\\",\\\"https://noisey.vice.com/en/contributor/allie-conti\\\",\\\"https://thump.vice.com/en/contributor/allie-conti\\\",\\\"https://i-d.vice.com/en/contributor/allie-conti\\\",\\\"https://sports.vice.com/en/contributor/allie-conti\\\",\\\"https://motherboard.vice.com/en/contributor/allie-conti\\\",\\\"https://broadly.vice.com/en/contributor/allie-conti\\\",\\\"https://munchies.vice.com/en/contributor/allie-conti\\\",\\\"https://creators.vice.com/en/contributor/allie-conti\\\",\\\"https://waypoint.vice.com/en/contributor/allie-conti\\\",\\\"https://tonic.vice.com/en/contributor/allie-conti\\\",\\\"https://impact.vice.com/en/contributor/allie-conti\\\",\\\"https://garage.vice.com/en/contributor/allie-conti\\\",\\\"https://free.vice.com/en/contributor/allie-conti\\\",\\\"https://amuse.vice.com/en/contributor/allie-conti\\\",\\\"https://astroguide.vice.com/#/en/contributor/allie-conti\\\"],\\\"social_lede\\\":null,\\\"location\\\":null,\\\"url\\\":\\\"https://www.vice.com/en/contributor/allie-conti\\\",\\\"alt_text\\\":null,\\\"caption\\\":null,\\\"credit\\\":\\\"\\\",\\\"filename\\\":\\\"allie-conti-1489568985.png\\\",\\\"filesize\\\":0,\\\"cover_json\\\":null,\\\"thumbnail_url\\\":\\\"https://broadly-images.vice.com/images/contributors/meta/2017/03/15/allie-conti-1489568985.png\\\",\\\"thumbnail_url_16_9\\\":\\\"https://broadly-images.vice.com/images/contributors/meta/2017/03/15/allie-conti-1489568985.png?crop=1xw:0.6163227016885553xh;center,center\\\",\\\"thumbnail_url_1_1\\\":\\\"https://broadly-images.vice.com/images/contributors/meta/2017/03/15/allie-conti-1489568985.png?crop=0.9126712328767124xw:1xh;center,center\\\",\\\"thumbnail_url_2_3\\\":\\\"https://broadly-images.vice.com/images/contributors/meta/2017/03/15/allie-conti-1489568985.png?crop=0.6084474885844748xw:1xh;center,center\\\",\\\"thumbnail_url_10_4\\\":\\\"https://broadly-images.vice.com/images/contributors/meta/2017/03/15/allie-conti-1489568985.png?crop=1xw:0.4382739212007505xh;center,center\\\",\\\"thumbnail_url_10_3\\\":\\\"https://broadly-images.vice.com/images/contributors/meta/2017/03/15/allie-conti-1489568985.png?crop=1xw:0.3287054409005628xh;center,center\\\",\\\"thumbnail_url_7_10\\\":\\\"https://broadly-images.vice.com/images/contributors/meta/2017/03/15/allie-conti-1489568985.png?crop=0.6388698630136986xw:1xh;center,center\\\",\\\"thumbnail_url_952_498\\\":\\\"https://broadly-images.vice.com/images/contributors/meta/2017/03/15/allie-conti-1489568985.png?crop=1xw:0.5731628486291327xh;center,center\\\"}},{\\\"contribution_id\\\":\\\"57a20673ca6970e016b82dc1\\\",\\\"role_id\\\":\\\"57a204058cb727dec794c566\\\",\\\"role\\\":\\\"Editor\\\",\\\"contributor\\\":{\\\"id\\\":\\\"57a20673ca6970e016b82dc1\\\",\\\"first_name\\\":\\\"Harry\\\",\\\"last_name\\\":\\\"Cheadle\\\",\\\"public_url\\\":\\\"https://noisey.vice.com/en_us/author/Harry Cheadle\\\",\\\"twitter_url\\\":null,\\\"twitter_handle\\\":\\\"@hcheadle\\\",\\\"instagram_handle\\\":null,\\\"location_id\\\":null,\\\"slug\\\":\\\"harry-cheadle\\\",\\\"email\\\":\\\"harry.cheadle@vice.com\\\",\\\"position\\\":\\\"Senior Editor\\\",\\\"bio\\\":null,\\\"article_count\\\":0,\\\"video_count\\\":0,\\\"show_count\\\":0,\\\"social_description\\\":null,\\\"social_title\\\":null,\\\"home_locale_id\\\":null,\\\"full_name\\\":\\\"Harry Cheadle\\\",\\\"urls\\\":[\\\"https://www.vice.com/en/contributor/harry-cheadle\\\",\\\"https://video.vice.com/en/contributor/harry-cheadle\\\",\\\"https://www.vicetv.com/en/contributor/harry-cheadle\\\",\\\"https://news.vice.com/en/contributor/harry-cheadle\\\",\\\"https://noisey.vice.com/en/contributor/harry-cheadle\\\",\\\"https://thump.vice.com/en/contributor/harry-cheadle\\\",\\\"https://i-d.vice.com/en/contributor/harry-cheadle\\\",\\\"https://sports.vice.com/en/contributor/harry-cheadle\\\",\\\"https://motherboard.vice.com/en/contributor/harry-cheadle\\\",\\\"https://broadly.vice.com/en/contributor/harry-cheadle\\\",\\\"https://munchies.vice.com/en/contributor/harry-cheadle\\\",\\\"https://creators.vice.com/en/contributor/harry-cheadle\\\",\\\"https://waypoint.vice.com/en/contributor/harry-cheadle\\\",\\\"https://tonic.vice.com/en/contributor/harry-cheadle\\\",\\\"https://impact.vice.com/en/contributor/harry-cheadle\\\",\\\"https://garage.vice.com/en/contributor/harry-cheadle\\\",\\\"https://free.vice.com/en/contributor/harry-cheadle\\\",\\\"https://amuse.vice.com/en/contributor/harry-cheadle\\\",\\\"https://astroguide.vice.com/#/en/contributor/harry-cheadle\\\"],\\\"social_lede\\\":null,\\\"location\\\":null,\\\"url\\\":\\\"https://www.vice.com/en/contributor/harry-cheadle\\\",\\\"alt_text\\\":null,\\\"caption\\\":null,\\\"credit\\\":\\\"\\\",\\\"filename\\\":\\\"harry-cheadle-1413240074706.jpeg\\\",\\\"filesize\\\":0,\\\"cover_json\\\":null,\\\"thumbnail_url\\\":\\\"https://vice-images.vice.com/images/contributor/meta/2014/10/14/harry-cheadle-1413240074706.jpeg\\\",\\\"thumbnail_url_16_9\\\":\\\"https://vice-images.vice.com/images/contributor/meta/2014/10/14/harry-cheadle-1413240074706.jpeg?crop=1xw:0.5638820638820639xh;center,center\\\",\\\"thumbnail_url_1_1\\\":\\\"https://vice-images.vice.com/images/contributor/meta/2014/10/14/harry-cheadle-1413240074706.jpeg?crop=0.9975490196078431xw:1xh;center,center\\\",\\\"thumbnail_url_2_3\\\":\\\"https://vice-images.vice.com/images/contributor/meta/2014/10/14/harry-cheadle-1413240074706.jpeg?crop=0.6650326797385621xw:1xh;center,center\\\",\\\"thumbnail_url_10_4\\\":\\\"https://vice-images.vice.com/images/contributor/meta/2014/10/14/harry-cheadle-1413240074706.jpeg?crop=1xw:0.400982800982801xh;center,center\\\",\\\"thumbnail_url_10_3\\\":\\\"https://vice-images.vice.com/images/contributor/meta/2014/10/14/harry-cheadle-1413240074706.jpeg?crop=1xw:0.30073710073710075xh;center,center\\\",\\\"thumbnail_url_7_10\\\":\\\"https://vice-images.vice.com/images/contributor/meta/2014/10/14/harry-cheadle-1413240074706.jpeg?crop=0.6982843137254902xw:1xh;center,center\\\",\\\"thumbnail_url_952_498\\\":\\\"https://vice-images.vice.com/images/contributor/meta/2014/10/14/harry-cheadle-1413240074706.jpeg?crop=1xw:0.5243945243945244xh;center,center\\\"}}],\\\"section\\\":{\\\"id\\\":\\\"5cae7073d1043e0007e5bd74\\\",\\\"title\\\":\\\"Money\\\",\\\"slug\\\":\\\"money\\\",\\\"ad_targeting_id\\\":\\\"money\\\",\\\"social_title\\\":\\\"\\\",\\\"social_description\\\":\\\"\\\",\\\"socials\\\":{\\\"id\\\":\\\"5cae7073d1043e0007e5bd75\\\",\\\"site_id\\\":null,\\\"locale_id\\\":\\\"57a204068cb727dec794c573\\\",\\\"channel_id\\\":null,\\\"show_id\\\":null,\\\"section_id\\\":\\\"5cae7073d1043e0007e5bd74\\\",\\\"reddit_url\\\":\\\"\\\",\\\"tumblr_url\\\":\\\"\\\",\\\"twitch_url\\\":\\\"\\\",\\\"twitter_url\\\":\\\"https://twitter.com/FREEbyVICE\\\",\\\"youtube_url\\\":\\\"\\\",\\\"facebook_url\\\":\\\"https://www.facebook.com/freebyvice\\\",\\\"instagram_url\\\":\\\"https://www.instagram.com/vicemoney\\\",\\\"pinterest_url\\\":\\\"\\\",\\\"soundcloud_url\\\":\\\"\\\",\\\"tiktok_url\\\":\\\"\\\",\\\"snapchat_url\\\":\\\"\\\",\\\"email_newsletter\\\":null,\\\"email_newsletter_weekly\\\":null,\\\"reddit_handle\\\":null,\\\"tumblr_handle\\\":null,\\\"twitch_handle\\\":null,\\\"twitter_handle\\\":\\\"FREEbyVICE\\\",\\\"youtube_handle\\\":null,\\\"facebook_handle\\\":\\\"freebyvice\\\",\\\"facebook_page_id\\\":null,\\\"instagram_handle\\\":\\\"vicemoney\\\",\\\"pinterest_handle\\\":null,\\\"soundcloud_handle\\\":null,\\\"tiktok_handle\\\":null,\\\"snapchat_handle\\\":null,\\\"newsletter_signup_headline\\\":null,\\\"newsletter_signup_dek\\\":null,\\\"newsletter_signup_list_id\\\":null,\\\"site_promotional_message\\\":null,\\\"created_at\\\":1554935923755,\\\"updated_at\\\":1556816425159},\\\"brand_name\\\":null,\\\"brand_logo_svg_url\\\":null,\\\"brand_attribution_svg_url\\\":null,\\\"brand_description\\\":null,\\\"brand_background\\\":null,\\\"highlight_video\\\":false,\\\"show_content\\\":true,\\\"social_lede\\\":null,\\\"promo_unit\\\":null,\\\"web_id\\\":\\\"erqv6x\\\"},\\\"topic_callout\\\":null,\\\"sponsor\\\":null,\\\"url\\\":\\\"https://www.vice.com/en/article/gy4k8j/erasing-your-student-loans-could-be-as-easy-as-fleeing-the-us-for-20-years\\\",\\\"alt_text\\\":\\\"A stock photo of a traveler looking out the airport window at a plane.\\\",\\\"caption\\\":null,\\\"credit\\\":\\\"Stock photo via Getty\\\",\\\"filename\\\":\\\"1560731574308-GettyImages-165615576.jpeg\\\",\\\"filesize\\\":0,\\\"cover_json\\\":null,\\\"thumbnail_url\\\":\\\"https://video-images.vice.com/articles/5d04126cec97c10008622794/lede/1560731574308-GettyImages-165615576.jpeg\\\",\\\"thumbnail_url_16_9\\\":\\\"https://video-images.vice.com/articles/5d04126cec97c10008622794/lede/1560731574308-GettyImages-165615576.jpeg?crop=1xw:0.8459xh;0xw,0.0341xh\\\",\\\"thumbnail_url_1_1\\\":\\\"https://video-images.vice.com/articles/5d04126cec97c10008622794/lede/1560731574308-GettyImages-165615576.jpeg?crop=0.6642xw:1xh;0.2451xw,0xh\\\",\\\"thumbnail_url_2_3\\\":\\\"https://video-images.vice.com/articles/5d04126cec97c10008622794/lede/1560731574308-GettyImages-165615576.jpeg?crop=0.44278606965174133xw:1xh;center,center\\\",\\\"thumbnail_url_10_4\\\":\\\"https://video-images.vice.com/articles/5d04126cec97c10008622794/lede/1560731574308-GettyImages-165615576.jpeg?crop=1xw:0.6022471910112359xh;center,center\\\",\\\"thumbnail_url_10_3\\\":\\\"https://video-images.vice.com/articles/5d04126cec97c10008622794/lede/1560731574308-GettyImages-165615576.jpeg?crop=1xw:0.451685393258427xh;center,center\\\",\\\"thumbnail_url_7_10\\\":\\\"https://video-images.vice.com/articles/5d04126cec97c10008622794/lede/1560731574308-GettyImages-165615576.jpeg?crop=0.46492537313432836xw:1xh;center,center\\\",\\\"thumbnail_url_952_498\\\":\\\"https://video-images.vice.com/articles/5d04126cec97c10008622794/lede/1560731574308-GettyImages-165615576.jpeg?crop=1xw:0.787602681522047xh;center,center\\\",\\\"topics\\\":[{\\\"id\\\":\\\"57a206b4154cbfdf93222e7b\\\",\\\"is_primary_topic\\\":false,\\\"topic_type\\\":\\\"standard\\\",\\\"name\\\":\\\"dubai\\\",\\\"slug\\\":\\\"dubai\\\"},{\\\"id\\\":\\\"57e938500279122d22393314\\\",\\\"is_primary_topic\\\":false,\\\"topic_type\\\":\\\"standard\\\",\\\"name\\\":\\\"taxes\\\",\\\"slug\\\":\\\"taxes\\\"},{\\\"id\\\":\\\"583eec3c525a0f144b0c500f\\\",\\\"is_primary_topic\\\":false,\\\"topic_type\\\":\\\"standard\\\",\\\"name\\\":\\\"student loans\\\",\\\"slug\\\":\\\"student-loans\\\"},{\\\"id\\\":\\\"5846ece29d2d3c388a6aca47\\\",\\\"is_primary_topic\\\":false,\\\"topic_type\\\":\\\"standard\\\",\\\"name\\\":\\\"personal finance\\\",\\\"slug\\\":\\\"personal-finance\\\"}],\\\"system_tags\\\":[],\\\"genres\\\":[],\\\"primary_topic\\\":{\\\"id\\\":\\\"57a204d98cb727dec7953d8e\\\",\\\"is_primary_topic\\\":true,\\\"topic_type\\\":\\\"standard\\\",\\\"name\\\":\\\"debt\\\",\\\"slug\\\":\\\"debt\\\"}}},{\\\"id\\\":\\\"5ebdaafec25960210585fbe3\\\",\\\"version\\\":\\\"1\\\",\\\"position\\\":4,\\\"role\\\":\\\"body\\\",\\\"text\\\":\\\"According to Mark Kantrowitz, one of the country's leading experts on student debt policy, Trump's executive order wasn't as radical as it seems. He was able to cancel the loans because of a 2008 amendment to the Higher Education Act aimed at forgiving the debt of severely injured veterans. Such veterans who are unable to work are sent an application they can fill out to have their debts erased.\\\",\\\"charscount\\\":398,\\\"wordscount\\\":71},{\\\"id\\\":\\\"5ebdaafec25960210585fbe4\\\",\\\"version\\\":\\\"1\\\",\\\"position\\\":5,\\\"role\\\":\\\"body\\\",\\\"text\\\":\\\"But requiring veterans to fill out forms created a barrier for some who were eligible under the program. \\\\\\\"Many didn't because they didn't believe the paperwork was legit or because they were so severely disabled that they weren't able to,\\\\\\\" Kantrowitz said. \\\\\\\"So tens of thousands of disabled American veterans were having their Social Security disability and retirement benefits offset to repay their student loan debt, even though the Department of Education knew that they were eligible for a discharge.\\\\\\\"\\\",\\\"charscount\\\":505,\\\"wordscount\\\":83},{\\\"id\\\":\\\"5ebdaafec25960210585fbe5\\\",\\\"version\\\":\\\"1\\\",\\\"position\\\":6,\\\"role\\\":\\\"body\\\",\\\"text\\\":\\\"Trump's executive order made approval automatic. Kantrowitz says that Trump couldn't cancel all the student loan debt in the country because there's no similar program under the law for non-veterans. Traditionally, the president can't spend money that hasn't been appropriated by Congress, which is what en-masse loan forgiveness might amount to, and [laws, primarily the Anti-Deficiency Act (ADA), prevent rogue spending](https://en.wikipedia.org/wiki/Antideficiency_Act).\\\",\\\"charscount\\\":421,\\\"wordscount\\\":69},{\\\"id\\\":\\\"5ebdaafec25960210585fbe6\\\",\\\"version\\\":\\\"1\\\",\\\"position\\\":7,\\\"role\\\":\\\"body\\\",\\\"text\\\":\\\"But Alan Collinge, a writer and higher-education reform activist, said he believes that the president could erase the balances of all direct federal loans, which are the ones held by the government itself, and which account for about 70 percent of student loans in the U.S. \\\\\\\"The money for this was already appropriated when the loans were made,\\\\\\\" he said.\\\",\\\"charscount\\\":354,\\\"wordscount\\\":61},{\\\"id\\\":\\\"5ebdaafec25960210585fbe7\\\",\\\"version\\\":\\\"1\\\",\\\"position\\\":8,\\\"role\\\":\\\"divider\\\"},{\\\"id\\\":\\\"5ebdaafec25960210585fbe8\\\",\\\"version\\\":\\\"1\\\",\\\"position\\\":9,\\\"role\\\":\\\"video\\\",\\\"site\\\":\\\"vice-videos\\\",\\\"locale\\\":\\\"en_us\\\",\\\"display\\\":\\\"block\\\",\\\"video_id\\\":\\\"5c93ae34be407722d411d381\\\",\\\"playInline\\\":true,\\\"video\\\":{\\\"id\\\":\\\"5c93ae34be407722d411d381\\\",\\\"vms_id\\\":\\\"5c93ae34be407722d411d381\\\",\\\"video_type\\\":\\\"full_length\\\",\\\"title\\\":\\\"I Smuggled Cocaine into the US to Pay Off My Student Loans\\\",\\\"body\\\":\\\"Like many Millenials across the country, Luke graduated college owing thousands of dollars in Student Loan debt - $130,000, to be exact. With no job and no money in the bank, Luke devised a desperate plan: He would smuggle cocaine from Panama to the United States to pay off his Student Loans.\\\",\\\"dek\\\":\\\"Luke graduated college owing $130,000 in student loan debt. So he decided to smuggle cocaine into the United States to pay it all off.\\\",\\\"summary\\\":\\\"Luke graduated college owing $130,000 in Student Loan debt. So he decided to smuggle cocaine into the U.S. to pay them off.\\\",\\\"suggested_tweet\\\":null,\\\"fb_title\\\":null,\\\"fb_description\\\":null,\\\"slug\\\":\\\"smuggled-cocaine-pay-off-student-loans-drug-mule\\\",\\\"rating\\\":\\\"TV-MA\\\",\\\"duration\\\":1014,\\\"air_date\\\":1553731200000,\\\"locked_scope\\\":0,\\\"schedule_end_date\\\":null,\\\"vmp_id\\\":28088,\\\"locale\\\":\\\"en_us\\\",\\\"publish_date\\\":1553792400000,\\\"updated_at\\\":1578608672250,\\\"global_site_scope\\\":3,\\\"global_locale_scope\\\":2190433320959,\\\"locale_locked_scope\\\":0,\\\"social_description\\\":null,\\\"social_title\\\":null,\\\"hide_recirculation\\\":false,\\\"nsfb\\\":false,\\\"nsfw\\\":false,\\\"locked\\\":false,\\\"embed_only\\\":false,\\\"urls\\\":[\\\"https://video.vice.com/en_us/video/smuggled-cocaine-pay-off-student-loans-drug-mule/5c93ae34be407722d411d381\\\"],\\\"embed_urls\\\":[\\\"https://video.vice.com/en_us/embed/5c93ae34be407722d411d381\\\"],\\\"episode\\\":{\\\"id\\\":\\\"5cb79ec848978e72fc0a0b9d\\\",\\\"episode_number\\\":1,\\\"season\\\":{\\\"id\\\":\\\"5cb79ec848978e72fc0a0b9c\\\",\\\"season_number\\\":1,\\\"episode_count\\\":null,\\\"show\\\":{\\\"id\\\":\\\"5cb79e5dbe40770feb25c785\\\",\\\"vmp_id\\\":2242,\\\"original_id\\\":null,\\\"slug\\\":\\\"bizarre-crimes\\\",\\\"title\\\":\\\"Bizarre Crimes\\\",\\\"email_newsletter\\\":null,\\\"facebook_url\\\":null,\\\"facebook_handle\\\":null,\\\"twitter_url\\\":null,\\\"twitter_handle\\\":null,\\\"instagram_url\\\":null,\\\"instagram_handle\\\":null,\\\"youtube_url\\\":null,\\\"tumblr_url\\\":null,\\\"pinterest_url\\\":null,\\\"reddit_url\\\":null,\\\"reddit_handle\\\":null,\\\"soundcloud_url\\\":null,\\\"twitch_url\\\":null,\\\"twitch_handle\\\":null,\\\"summary\\\":null,\\\"suggested_tweet\\\":null,\\\"dek\\\":null,\\\"promotional_text\\\":null,\\\"fb_title\\\":null,\\\"fb_description\\\":null,\\\"season_count\\\":1,\\\"episode_count\\\":3,\\\"video_count\\\":0,\\\"tv_background\\\":null,\\\"apple_tv_background\\\":null,\\\"apple_tv_banner\\\":null,\\\"latest_video_publish_date\\\":null,\\\"social_description\\\":null,\\\"social_title\\\":null,\\\"episode_display_mode\\\":\\\"queue\\\",\\\"nsfb\\\":false,\\\"nsfw\\\":false,\\\"urls\\\":[\\\"https://video.vice.com/en_us/show/bizarre-crimes\\\"],\\\"card\\\":null,\\\"card_landscape\\\":null,\\\"lede_clip\\\":null,\\\"lede\\\":null,\\\"logo\\\":null,\\\"social_lede\\\":null,\\\"contributions\\\":null,\\\"channel\\\":null,\\\"original_channel\\\":null,\\\"url\\\":\\\"https://video.vice.com/en_us/show/bizarre-crimes\\\"}}},\\\"social_lede\\\":null,\\\"channel\\\":{\\\"id\\\":\\\"57a204088cb727dec794c67b\\\",\\\"name\\\":\\\"vice\\\",\\\"url\\\":\\\"www.vice.com\\\",\\\"twitter_url\\\":\\\"https://twitter.com/VICE\\\",\\\"facebook_url\\\":\\\"https://www.facebook.com/VICE\\\",\\\"facebook_page_id\\\":null,\\\"instagram_url\\\":\\\"https://www.instagram.com/VICE\\\",\\\"youtube_url\\\":\\\"\\\",\\\"tumblr_url\\\":\\\"\\\",\\\"pinterest_url\\\":\\\"\\\",\\\"reddit_url\\\":\\\"https://www.reddit.com/user/vice\\\",\\\"reddit_handle\\\":\\\"vice\\\",\\\"soundcloud_url\\\":\\\"\\\",\\\"twitch_url\\\":\\\"\\\",\\\"twitch_handle\\\":null,\\\"site_promotional_message\\\":null,\\\"color\\\":\\\"#000000\\\",\\\"dek\\\":\\\"The definitive guide to enlightening information.\\\",\\\"slug\\\":\\\"vice\\\",\\\"original_id\\\":1,\\\"social_description\\\":null,\\\"social_title\\\":null,\\\"badge_url\\\":\\\"https://video-images.vice.com/channels/57a204088cb727dec794c67b/badge/1487174972413-vice-circle-badge3x.png\\\",\\\"thumbnail_url\\\":\\\"https://video-images.vice.com/channels/57a204088cb727dec794c67b/lede/1561157552130-viceblack-333-x-333.png\\\",\\\"social_lede\\\":{\\\"alt_text\\\":\\\"image (1)\\\",\\\"caption\\\":null,\\\"credit\\\":null,\\\"filename\\\":\\\"1558553187916-image-1.png\\\",\\\"filesize\\\":0,\\\"cover_json\\\":null,\\\"thumbnail_url\\\":\\\"https://video-images.vice.com/channels/57a204088cb727dec794c67b/social_lede/1558553187916-image-1.png\\\",\\\"thumbnail_url_16_9\\\":\\\"https://video-images.vice.com/channels/57a204088cb727dec794c67b/social_lede/1558553187916-image-1.png?crop=1xw:1xh;center,center\\\",\\\"thumbnail_url_1_1\\\":\\\"https://video-images.vice.com/channels/57a204088cb727dec794c67b/social_lede/1558553187916-image-1.png?crop=0.5625xw:1xh;center,center\\\",\\\"thumbnail_url_2_3\\\":\\\"https://video-images.vice.com/channels/57a204088cb727dec794c67b/social_lede/1558553187916-image-1.png?crop=0.375xw:1xh;center,center\\\",\\\"thumbnail_url_10_4\\\":\\\"https://video-images.vice.com/channels/57a204088cb727dec794c67b/social_lede/1558553187916-image-1.png?crop=1xw:0.7111111111111111xh;center,center\\\",\\\"thumbnail_url_10_3\\\":\\\"https://video-images.vice.com/channels/57a204088cb727dec794c67b/social_lede/1558553187916-image-1.png?crop=1xw:0.5333333333333333xh;center,center\\\",\\\"thumbnail_url_7_10\\\":\\\"https://video-images.vice.com/channels/57a204088cb727dec794c67b/social_lede/1558553187916-image-1.png?crop=0.39375xw:1xh;center,center\\\",\\\"thumbnail_url_952_498\\\":\\\"https://video-images.vice.com/channels/57a204088cb727dec794c67b/social_lede/1558553187916-image-1.png?crop=1xw:0.9299719887955182xh;center,center\\\"},\\\"light_logo_url\\\":\\\"https://video-images.vice.com/channels/57a204088cb727dec794c67b/logo/1487174972395-vice-thick-white3x.png\\\",\\\"light_logo_url_1_1\\\":\\\"https://video-images.vice.com/channels/57a204088cb727dec794c67b/logo/1487174972395-vice-thick-white3x.png?crop=0.31446540880503143xw:1xh;center,center\\\",\\\"light_logo_url_10_4\\\":\\\"https://video-images.vice.com/channels/57a204088cb727dec794c67b/logo/1487174972395-vice-thick-white3x.png?crop=0.7861635220125787xw:1xh;center,center\\\",\\\"light_logo_url_16_9\\\":\\\"https://video-images.vice.com/channels/57a204088cb727dec794c67b/logo/1487174972395-vice-thick-white3x.png?crop=0.5590496156533893xw:1xh;center,center\\\",\\\"dark_logo_url\\\":null,\\\"dark_logo_url_1_1\\\":null,\\\"dark_logo_url_10_4\\\":null,\\\"dark_logo_url_16_9\\\":null},\\\"original_channel\\\":null,\\\"lede_clip\\\":null,\\\"contributions\\\":[{\\\"contribution_id\\\":\\\"57eee1b48b3bfa1b63300e1c\\\",\\\"role_id\\\":\\\"57a204058cb727dec794c566\\\",\\\"role\\\":\\\"Editor\\\",\\\"contributor\\\":{\\\"id\\\":\\\"57eee1b48b3bfa1b63300e1c\\\",\\\"first_name\\\":\\\"Daniel\\\",\\\"last_name\\\":\\\"Ferry\\\",\\\"public_url\\\":null,\\\"twitter_url\\\":null,\\\"twitter_handle\\\":null,\\\"instagram_handle\\\":null,\\\"location_id\\\":null,\\\"slug\\\":\\\"daniel-ferry\\\",\\\"email\\\":\\\"\\\",\\\"position\\\":null,\\\"bio\\\":null,\\\"article_count\\\":0,\\\"video_count\\\":0,\\\"show_count\\\":0,\\\"social_description\\\":null,\\\"social_title\\\":null,\\\"home_locale_id\\\":null,\\\"full_name\\\":\\\"Daniel Ferry\\\",\\\"urls\\\":[\\\"https://www.vice.com/en/contributor/daniel-ferry\\\",\\\"https://video.vice.com/en/contributor/daniel-ferry\\\",\\\"https://www.vicetv.com/en/contributor/daniel-ferry\\\",\\\"https://news.vice.com/en/contributor/daniel-ferry\\\",\\\"https://noisey.vice.com/en/contributor/daniel-ferry\\\",\\\"https://thump.vice.com/en/contributor/daniel-ferry\\\",\\\"https://i-d.vice.com/en/contributor/daniel-ferry\\\",\\\"https://sports.vice.com/en/contributor/daniel-ferry\\\",\\\"https://motherboard.vice.com/en/contributor/daniel-ferry\\\",\\\"https://broadly.vice.com/en/contributor/daniel-ferry\\\",\\\"https://munchies.vice.com/en/contributor/daniel-ferry\\\",\\\"https://creators.vice.com/en/contributor/daniel-ferry\\\",\\\"https://waypoint.vice.com/en/contributor/daniel-ferry\\\",\\\"https://tonic.vice.com/en/contributor/daniel-ferry\\\",\\\"https://impact.vice.com/en/contributor/daniel-ferry\\\",\\\"https://garage.vice.com/en/contributor/daniel-ferry\\\",\\\"https://free.vice.com/en/contributor/daniel-ferry\\\",\\\"https://amuse.vice.com/en/contributor/daniel-ferry\\\",\\\"https://astroguide.vice.com/#/en/contributor/daniel-ferry\\\"],\\\"social_lede\\\":null,\\\"location\\\":null,\\\"url\\\":\\\"https://www.vice.com/en/contributor/daniel-ferry\\\"}},{\\\"contribution_id\\\":\\\"5bacfa48b333f641ee608bd8\\\",\\\"role_id\\\":\\\"57a204058cb727dec794c563\\\",\\\"role\\\":\\\"Director\\\",\\\"contributor\\\":{\\\"id\\\":\\\"5bacfa48b333f641ee608bd8\\\",\\\"first_name\\\":\\\"Daniel\\\",\\\"last_name\\\":\\\"Zabludovsky\\\",\\\"public_url\\\":null,\\\"twitter_url\\\":null,\\\"twitter_handle\\\":null,\\\"instagram_handle\\\":null,\\\"location_id\\\":null,\\\"slug\\\":\\\"daniel-zabludovsky\\\",\\\"email\\\":\\\"\\\",\\\"position\\\":null,\\\"bio\\\":null,\\\"article_count\\\":0,\\\"video_count\\\":0,\\\"show_count\\\":0,\\\"social_description\\\":null,\\\"social_title\\\":null,\\\"home_locale_id\\\":null,\\\"full_name\\\":\\\"Daniel Zabludovsky\\\",\\\"urls\\\":[\\\"https://www.vice.com/en/contributor/daniel-zabludovsky\\\",\\\"https://video.vice.com/en/contributor/daniel-zabludovsky\\\",\\\"https://www.vicetv.com/en/contributor/daniel-zabludovsky\\\",\\\"https://news.vice.com/en/contributor/daniel-zabludovsky\\\",\\\"https://noisey.vice.com/en/contributor/daniel-zabludovsky\\\",\\\"https://thump.vice.com/en/contributor/daniel-zabludovsky\\\",\\\"https://i-d.vice.com/en/contributor/daniel-zabludovsky\\\",\\\"https://sports.vice.com/en/contributor/daniel-zabludovsky\\\",\\\"https://motherboard.vice.com/en/contributor/daniel-zabludovsky\\\",\\\"https://broadly.vice.com/en/contributor/daniel-zabludovsky\\\",\\\"https://munchies.vice.com/en/contributor/daniel-zabludovsky\\\",\\\"https://creators.vice.com/en/contributor/daniel-zabludovsky\\\",\\\"https://waypoint.vice.com/en/contributor/daniel-zabludovsky\\\",\\\"https://tonic.vice.com/en/contributor/daniel-zabludovsky\\\",\\\"https://impact.vice.com/en/contributor/daniel-zabludovsky\\\",\\\"https://garage.vice.com/en/contributor/daniel-zabludovsky\\\",\\\"https://free.vice.com/en/contributor/daniel-zabludovsky\\\",\\\"https://amuse.vice.com/en/contributor/daniel-zabludovsky\\\",\\\"https://astroguide.vice.com/#/en/contributor/daniel-zabludovsky\\\"],\\\"social_lede\\\":null,\\\"location\\\":null,\\\"url\\\":\\\"https://www.vice.com/en/contributor/daniel-zabludovsky\\\"}}],\\\"section\\\":{\\\"id\\\":\\\"5cc0c9deecc31800074898c5\\\",\\\"title\\\":\\\"Drugs\\\",\\\"slug\\\":\\\"drugs\\\",\\\"ad_targeting_id\\\":\\\"drugs\\\",\\\"social_title\\\":\\\"\\\",\\\"social_description\\\":\\\"\\\",\\\"socials\\\":{\\\"id\\\":\\\"5cc0c9deecc31800074898c6\\\",\\\"site_id\\\":null,\\\"locale_id\\\":\\\"57a204068cb727dec794c573\\\",\\\"channel_id\\\":null,\\\"show_id\\\":null,\\\"section_id\\\":\\\"5cc0c9deecc31800074898c5\\\",\\\"reddit_url\\\":\\\"\\\",\\\"tumblr_url\\\":\\\"\\\",\\\"twitch_url\\\":\\\"\\\",\\\"twitter_url\\\":\\\"\\\",\\\"youtube_url\\\":\\\"\\\",\\\"facebook_url\\\":\\\"\\\",\\\"instagram_url\\\":\\\"\\\",\\\"pinterest_url\\\":\\\"\\\",\\\"soundcloud_url\\\":\\\"\\\",\\\"tiktok_url\\\":\\\"\\\",\\\"snapchat_url\\\":\\\"\\\",\\\"email_newsletter\\\":null,\\\"email_newsletter_weekly\\\":null,\\\"reddit_handle\\\":null,\\\"tumblr_handle\\\":null,\\\"twitch_handle\\\":null,\\\"twitter_handle\\\":null,\\\"youtube_handle\\\":null,\\\"facebook_handle\\\":null,\\\"facebook_page_id\\\":null,\\\"instagram_handle\\\":null,\\\"pinterest_handle\\\":null,\\\"soundcloud_handle\\\":null,\\\"tiktok_handle\\\":null,\\\"snapchat_handle\\\":null,\\\"newsletter_signup_headline\\\":null,\\\"newsletter_signup_dek\\\":null,\\\"newsletter_signup_list_id\\\":null,\\\"site_promotional_message\\\":null,\\\"created_at\\\":1556138462253,\\\"updated_at\\\":1556138462253},\\\"brand_name\\\":null,\\\"brand_logo_svg_url\\\":null,\\\"brand_attribution_svg_url\\\":null,\\\"brand_description\\\":null,\\\"brand_background\\\":null,\\\"highlight_video\\\":true,\\\"show_content\\\":true,\\\"social_lede\\\":null,\\\"promo_unit\\\":null,\\\"web_id\\\":\\\"k6a4rj\\\"},\\\"sponsor\\\":null,\\\"embed_url\\\":\\\"https://video.vice.com/en_us/embed/5c93ae34be407722d411d381\\\",\\\"url\\\":\\\"https://video.vice.com/en_us/video/smuggled-cocaine-pay-off-student-loans-drug-mule/5c93ae34be407722d411d381\\\",\\\"alt_text\\\":null,\\\"caption\\\":null,\\\"credit\\\":null,\\\"filename\\\":\\\"5c93ae34be407722d411d381-1553709993035.jpg\\\",\\\"filesize\\\":0,\\\"cover_json\\\":null,\\\"thumbnail_url\\\":\\\"https://video-images.vice.com/videos/5c/93/5c93ae34be407722d411d381/5c93ae34be407722d411d381-1553709993035.jpg\\\",\\\"thumbnail_url_16_9\\\":\\\"https://video-images.vice.com/videos/5c/93/5c93ae34be407722d411d381/5c93ae34be407722d411d381-1553709993035.jpg?crop=1xw:1xh;center,center\\\",\\\"thumbnail_url_1_1\\\":\\\"https://video-images.vice.com/videos/5c/93/5c93ae34be407722d411d381/5c93ae34be407722d411d381-1553709993035.jpg?crop=0.5625xw:1xh;center,center\\\",\\\"thumbnail_url_2_3\\\":\\\"https://video-images.vice.com/videos/5c/93/5c93ae34be407722d411d381/5c93ae34be407722d411d381-1553709993035.jpg?crop=0.375xw:1xh;center,center\\\",\\\"thumbnail_url_10_4\\\":\\\"https://video-images.vice.com/videos/5c/93/5c93ae34be407722d411d381/5c93ae34be407722d411d381-1553709993035.jpg?crop=1xw:0.7111111111111111xh;center,center\\\",\\\"thumbnail_url_10_3\\\":\\\"https://video-images.vice.com/videos/5c/93/5c93ae34be407722d411d381/5c93ae34be407722d411d381-1553709993035.jpg?crop=1xw:0.5333333333333333xh;center,center\\\",\\\"thumbnail_url_7_10\\\":\\\"https://video-images.vice.com/videos/5c/93/5c93ae34be407722d411d381/5c93ae34be407722d411d381-1553709993035.jpg?crop=0.39375xw:1xh;center,center\\\",\\\"thumbnail_url_952_498\\\":\\\"https://video-images.vice.com/videos/5c/93/5c93ae34be407722d411d381/5c93ae34be407722d411d381-1553709993035.jpg?crop=1xw:0.9299719887955181xh;center,center\\\",\\\"topics\\\":[{\\\"id\\\":\\\"57a204a58cb727dec7951606\\\",\\\"is_primary_topic\\\":false,\\\"topic_type\\\":\\\"standard\\\",\\\"name\\\":\\\"Drugs\\\",\\\"slug\\\":\\\"drugs\\\"},{\\\"id\\\":\\\"57a204ae8cb727dec7951ce1\\\",\\\"is_primary_topic\\\":false,\\\"topic_type\\\":\\\"standard\\\",\\\"name\\\":\\\"Documentary\\\",\\\"slug\\\":\\\"documentary\\\"},{\\\"id\\\":\\\"57a204c68cb727dec7952ee8\\\",\\\"is_primary_topic\\\":false,\\\"topic_type\\\":\\\"standard\\\",\\\"name\\\":\\\"Cocaine\\\",\\\"slug\\\":\\\"cocaine\\\"},{\\\"id\\\":\\\"5846df48ce490d02986d14c1\\\",\\\"is_primary_topic\\\":false,\\\"topic_type\\\":\\\"standard\\\",\\\"name\\\":\\\"drug mule\\\",\\\"slug\\\":\\\"drug-mule\\\"},{\\\"id\\\":\\\"58477f32ac4f4402924d1071\\\",\\\"is_primary_topic\\\":false,\\\"topic_type\\\":\\\"standard\\\",\\\"name\\\":\\\"smuggling drugs\\\",\\\"slug\\\":\\\"smuggling-drugs\\\"},{\\\"id\\\":\\\"5c9ce931bafc533f540b80ee\\\",\\\"is_primary_topic\\\":false,\\\"topic_type\\\":\\\"standard\\\",\\\"name\\\":\\\"i fucked up\\\",\\\"slug\\\":\\\"i-fucked-up\\\"}],\\\"system_tags\\\":[],\\\"genres\\\":[],\\\"primary_topic\\\":null}},{\\\"id\\\":\\\"5ebdaafec25960210585fbe9\\\",\\\"version\\\":\\\"1\\\",\\\"position\\\":10,\\\"role\\\":\\\"divider\\\"},{\\\"id\\\":\\\"5ebdaafec25960210585fbea\\\",\\\"version\\\":\\\"1\\\",\\\"position\\\":11,\\\"role\\\":\\\"body\\\",\\\"text\\\":\\\"It's unclear whether a Democratic president would buy Collinge's argument. Bernie Sanders and Elizabeth Warren, the two most prominent 2020 contenders who have called for student-loan forgiveness, have said they want to do so [through legislation](https://www.cnbc.com/2019/07/23/elizabeth-warrens-student-debt-bill-would-help-45-million-students.html). But if such legislation stalled thanks to Republican opposition in Congress, it's at least conceivable that one of them could simply sign an executive order and battle the lawsuits that would inevitably challenge that use of presidential power.\\\",\\\"charscount\\\":491,\\\"wordscount\\\":77},{\\\"id\\\":\\\"5ebdaafec25960210585fbeb\\\",\\\"version\\\":\\\"1\\\",\\\"position\\\":12,\\\"role\\\":\\\"body\\\",\\\"text\\\":\\\"Even if Collinge is right and a progressive president went through with it, 30 percent of student loans are merely guaranteed by the government and held by private companies like Sallie Mae. Collinge concedes that cancelling those would require a bill to be passed. Wiping clean federal loans would just involve the Department of Education erasing them; cancelling private loans would involve paying those companies full or nearly full value for them.\\\",\\\"charscount\\\":451,\\\"wordscount\\\":71},{\\\"id\\\":\\\"5ebdaafec25960210585fbec\\\",\\\"version\\\":\\\"1\\\",\\\"position\\\":13,\\\"role\\\":\\\"body\\\",\\\"text\\\":\\\"Collinge also admits that any sort of large-scale debt cancelation by a sitting president would be an extremely controversial action. Even if it was found by the courts not to violate the Anti-Deficiency Act, Congress would probably not be inclined to appropriate more lending funds afterward, which would mean the suspension of the student-lending program altogether. But he thinks that there's a chance such an aggressive move could work.\\\",\\\"charscount\\\":440,\\\"wordscount\\\":73},{\\\"id\\\":\\\"5ebdaafec25960210585fbed\\\",\\\"version\\\":\\\"1\\\",\\\"position\\\":14,\\\"role\\\":\\\"body\\\",\\\"text\\\":\\\"\\\\\\\"Anyone telling you that the president absolutely could not cancel student loans, or any government-held loans, because of the ADA is being disingenuous,\\\\\\\" he said. \\\\\\\"They know as well as I do that this would likely wind up being a matter for the courts to decide. It could go either way. Don't let the swamp people snow you.\\\\\\\"\\\",\\\"charscount\\\":324,\\\"wordscount\\\":60},{\\\"id\\\":\\\"5ebdaafec25960210585fbee\\\",\\\"version\\\":\\\"1\\\",\\\"position\\\":15,\\\"role\\\":\\\"body\\\",\\\"text\\\":\\\"_[Sign up for our newsletter](https://confirmsubscription.com/h/i/48178908AA2FD075) to get the best of VICE delivered to your inbox daily._\\\",\\\"charscount\\\":82,\\\"wordscount\\\":16},{\\\"id\\\":\\\"5ebdaafec25960210585fbef\\\",\\\"version\\\":\\\"1\\\",\\\"position\\\":16,\\\"role\\\":\\\"body\\\",\\\"text\\\":\\\"_Follow Allie Conti on [Twitter](https://twitter.com/allie_conti)._\\\",\\\"charscount\\\":31,\\\"wordscount\\\":5}]\",\"suggested_tweet\":null,\"dek\":\"Trump just erased the loans of 25,000 veterans. Could his successor do the same thing for everyone?\",\"locale\":\"en_us\",\"content_policy_scoped_locales\":[{\"__typename\":\"Locale\",\"label\":\"United States\",\"url_fragment\":\"en_us\"}],\"publish_date\":1566919334207,\"updated_at\":1566919829254,\"display_type\":\"short-form\",\"embed_code\":null,\"embed_id\":null,\"embed_autoplay\":0,\"embed_data\":null,\"full_page_iframe_url\":null,\"vmp_id\":null,\"word_count\":756,\"autoplay\":false,\"clickthrough_url\":null,\"social_description\":null,\"social_title\":\"The Next President Could Cancel $1.6 Trillion in Student Debt\",\"html_page_title\":null,\"age_required\":null,\"birthday_required\":null,\"nsfb\":false,\"nsfw\":false,\"web_id\":\"a35ve5\",\"title\":\"What It Would Take for the Next President to Cancel All Student Debt\",\"slug\":\"what-it-would-take-for-the-next-president-to-cancel-all-student-debt\",\"summary\":\"\",\"url\":\"https://www.vice.com/en/article/a35ve5/what-it-would-take-for-the-next-president-to-cancel-all-student-debt\",\"alt_text\":\"Bernie Sanders and Elizabeth Warren at a rally\",\"caption\":null,\"credit\":\"Bernie Sanders and Elizabeth Warren in 2017. Photo by Scott Eisen/Getty\",\"thumbnail_url\":\"https://video-images.vice.com/articles/5d65424219e1d400087bf338/lede/1566917694704-bernie-sanders-elizabeth-warren.jpeg\",\"thumbnail_url_1_1\":\"https://video-images.vice.com/articles/5d65424219e1d400087bf338/lede/1566917694704-bernie-sanders-elizabeth-warren.jpeg?crop=0.6667xw:1xh;0.2303xw,0xh\",\"thumbnail_url_10_4\":\"https://video-images.vice.com/articles/5d65424219e1d400087bf338/lede/1566917694704-bernie-sanders-elizabeth-warren.jpeg?crop=1xw:0.6xh;center,center\",\"thumbnail_url_16_9\":\"https://video-images.vice.com/articles/5d65424219e1d400087bf338/lede/1566917694704-bernie-sanders-elizabeth-warren.jpeg?crop=0.8388xw:0.7069xh;0.0825xw,0.0695xh\",\"social_lede\":null,\"topic_callout\":null,\"sponsor\":null,\"section\":{\"__ref\":\"Section:5cae7073d1043e0007e5bd74\"},\"primary_topic\":{\"__ref\":\"Topic:57a204d98cb727dec7953d8e\"},\"original_channel\":null,\"topics\":[{\"__ref\":\"Topic:57a204ab8cb727dec7951a9d\"},{\"__ref\":\"Topic:57a204e88cb727dec79548c9\"},{\"__ref\":\"Topic:57a20826f104a7dff3bc2b9e\"},{\"__ref\":\"Topic:583eec3c525a0f144b0c500f\"}],\"grapeshot_classes\":[],\"content_policies\":[{\"__ref\":\"ContentPolicy:5d65424219e1d400087bf33a\"},{\"__ref\":\"ContentPolicy:5d656424a16c8a00084ff6a7\"}],\"contributions\":[{\"__typename\":\"Contribution\",\"role_id\":\"589b62267be1070395990030\",\"role\":\"Author\",\"contributor\":{\"__ref\":\"Contributor:57a205828cb727dec795be85\"}},{\"__typename\":\"Contribution\",\"role_id\":\"57a204058cb727dec794c566\",\"role\":\"Editor\",\"contributor\":{\"__ref\":\"Contributor:582c90bed2e1ab48fa50ad3e\"}}]}}}},\"page\":\"/[locale]/article/[web_id]/[slug]\",\"query\":{\"locale\":\"en\",\"web_id\":\"a35ve5\",\"slug\":\"what-it-would-take-for-the-next-president-to-cancel-all-student-debt\"},\"buildId\":\"zb8TEAWuZxwYRQL-e99LJ\",\"isFallback\":false,\"customServer\":true,\"gip\":true}</script><script nomodule=\"\" src=\"/_next/static/chunks/polyfills-7fbe9526928947751284.js\"></script><script async=\"\" src=\"/_next/static/chunks/main-502dd15677099b8b996e.js\"></script><script async=\"\" src=\"/_next/static/chunks/webpack-65ae2546d67a65120c8f.js\"></script><script async=\"\" src=\"/_next/static/chunks/framework.5b1c71e9f25313208bac.js\"></script><script async=\"\" src=\"/_next/static/chunks/commons.be3036fbf6d009c1cacd.js\"></script><script async=\"\" src=\"/_next/static/chunks/c290de8e037007966d6fcfb5fd6284115d900251.cfe1917b75ec053d49cb.js\"></script><script async=\"\" src=\"/_next/static/chunks/ebe66bd5718e0ad149758b73a8b2d4647abcb832.a1778668ccadda5663d8.js\"></script><script async=\"\" src=\"/_next/static/chunks/e8dec348aea1bd7dd276dff4233a2ade5180309d.c28c95fc6105147dc24a.js\"></script><script async=\"\" src=\"/_next/static/chunks/b1542cc239bf56c8a14913c0a930efe682b5cf86.1c181b651a86457f3f61.js\"></script><script async=\"\" src=\"/_next/static/chunks/styles.11675a934ad295e3f5aa.js\"></script><script async=\"\" src=\"/_next/static/chunks/pages/_app-f5199749d7d9748e402e.js\"></script><script async=\"\" src=\"/_next/static/chunks/a544e88797e9d90e2eb509c29f3d20c9ea146656.1b3598663f1e68cbdcf9.js\"></script><script async=\"\" src=\"/_next/static/chunks/49ac1ce22d465a55760cd51a47ed43e0c7fd48ea.eb38d9ac9d1b34fe4b69.js\"></script><script async=\"\" src=\"/_next/static/chunks/12d74f639b8c7e403aae485eb4e6f583e7b94a67.fc5ace51018c96b5d63d.js\"></script><script async=\"\" src=\"/_next/static/chunks/12d74f639b8c7e403aae485eb4e6f583e7b94a67_CSS.33fae6201fee986d0584.js\"></script><script async=\"\" src=\"/_next/static/chunks/7a19525d46bfa57482dee32f7f283380acbc112b.4df54f6cbbd6b38d7644.js\"></script><script async=\"\" src=\"/_next/static/chunks/1b6d2fae21d0bcc0b55b539044d1bf5afa44aae2.befab39bf197c692771d.js\"></script><script async=\"\" src=\"/_next/static/chunks/ea1c4d1a298d3b67c4305f7117a95cb147d40507.bfd086c47bef30abb77a.js\"></script><script async=\"\" src=\"/_next/static/chunks/pages/%5Blocale%5D/article/%5Bweb_id%5D/%5Bslug%5D-ca052632ad92536ff010.js\"></script><script async=\"\" src=\"/_next/static/zb8TEAWuZxwYRQL-e99LJ/_buildManifest.js\"></script><script async=\"\" src=\"/_next/static/zb8TEAWuZxwYRQL-e99LJ/_ssgManifest.js\"></script></body></html>\n"
          ],
          "name": "stdout"
        }
      ]
    },
    {
      "cell_type": "markdown",
      "metadata": {
        "id": "_xUSqc62pJHd"
      },
      "source": [
        "We know that what we're interested in is the text of this article. So, let's see what that looks like in the HTML."
      ]
    },
    {
      "cell_type": "code",
      "metadata": {
        "id": "-qMhvcjCpJHd",
        "outputId": "02598f8c-9023-4ab7-e495-1a7995e57841",
        "colab": {
          "base_uri": "https://localhost:8080/",
          "height": 54
        }
      },
      "source": [
        "paragraphs = [i.get_text() for i in soup.find_all('p')] # find all of the <p> elements in our text\n",
        "\n",
        "print(paragraphs) "
      ],
      "execution_count": 29,
      "outputs": [
        {
          "output_type": "stream",
          "text": [
            "['Last Wednesday, President Donald Trump issued an executive order intended to wipe out the student loans of around 25,000 permanently disabled veterans, a move that came after dozens of state attorneys general said that it was way too complicated for wounded veterans to get rid of their student debt. The move will supposedly save these veterans an average of $30,000, but it represents a tiny fraction of the $1.6 trillion in student debt that Americans collectively owe.', \"Disabled veterans aren't the only ones having difficulty navigating an extremely confusing loan forgiveness process, and though debates about what to do about the country's student loan crisis have emerged in the Democratic primary, Trump doesn't seem inclined to take the broader problem seriously. Last year, the highest-ranking federal official in charge of keeping lenders like Navient and Sallie Mae in line quit in protest of what he said were lax enforcement policies.\", \"Trump's move to forgive the debt of some veterans showcases that the president seemingly has the capacity to do much more. So could a different president go much further and cancel everyone's student debt without even getting Congress to pass a bill?\", \"According to Mark Kantrowitz, one of the country's leading experts on student debt policy, Trump's executive order wasn't as radical as it seems. He was able to cancel the loans because of a 2008 amendment to the Higher Education Act aimed at forgiving the debt of severely injured veterans. Such veterans who are unable to work are sent an application they can fill out to have their debts erased.\", 'But requiring veterans to fill out forms created a barrier for some who were eligible under the program. \"Many didn\\'t because they didn\\'t believe the paperwork was legit or because they were so severely disabled that they weren\\'t able to,\" Kantrowitz said. \"So tens of thousands of disabled American veterans were having their Social Security disability and retirement benefits offset to repay their student loan debt, even though the Department of Education knew that they were eligible for a discharge.\"', \"Trump's executive order made approval automatic. Kantrowitz says that Trump couldn't cancel all the student loan debt in the country because there's no similar program under the law for non-veterans. Traditionally, the president can't spend money that hasn't been appropriated by Congress, which is what en-masse loan forgiveness might amount to, and laws, primarily the Anti-Deficiency Act (ADA), prevent rogue spending.\", 'But Alan Collinge, a writer and higher-education reform activist, said he believes that the president could erase the balances of all direct federal loans, which are the ones held by the government itself, and which account for about 70 percent of student loans in the U.S. \"The money for this was already appropriated when the loans were made,\" he said.', \"It's unclear whether a Democratic president would buy Collinge's argument. Bernie Sanders and Elizabeth Warren, the two most prominent 2020 contenders who have called for student-loan forgiveness, have said they want to do so through legislation. But if such legislation stalled thanks to Republican opposition in Congress, it's at least conceivable that one of them could simply sign an executive order and battle the lawsuits that would inevitably challenge that use of presidential power.\", 'Even if Collinge is right and a progressive president went through with it, 30 percent of student loans are merely guaranteed by the government and held by private companies like Sallie Mae. Collinge concedes that cancelling those would require a bill to be passed. Wiping clean federal loans would just involve the Department of Education erasing them; cancelling private loans would involve paying those companies full or nearly full value for them.', \"Collinge also admits that any sort of large-scale debt cancelation by a sitting president would be an extremely controversial action. Even if it was found by the courts not to violate the Anti-Deficiency Act, Congress would probably not be inclined to appropriate more lending funds afterward, which would mean the suspension of the student-lending program altogether. But he thinks that there's a chance such an aggressive move could work.\", '\"Anyone telling you that the president absolutely could not cancel student loans, or any government-held loans, because of the ADA is being disingenuous,\" he said. \"They know as well as I do that this would likely wind up being a matter for the courts to decide. It could go either way. Don\\'t let the swamp people snow you.\"', 'Sign up for our newsletter to get the best of VICE delivered to your inbox daily.', 'Follow Allie Conti on Twitter.', 'By signing up to the VICE newsletter you agree to receive electronic communications from VICE that may sometimes include advertisements or sponsored content.']\n"
          ],
          "name": "stdout"
        }
      ]
    },
    {
      "cell_type": "code",
      "metadata": {
        "scrolled": false,
        "id": "psdLTDtNpJHf",
        "outputId": "a78ad656-2537-48cf-b545-d6ccc003b64d",
        "colab": {
          "base_uri": "https://localhost:8080/",
          "height": 275
        }
      },
      "source": [
        "article = '\\n'.join(paragraphs) # join all of those paragraphs together\n",
        "\n",
        "print(article)"
      ],
      "execution_count": 30,
      "outputs": [
        {
          "output_type": "stream",
          "text": [
            "Last Wednesday, President Donald Trump issued an executive order intended to wipe out the student loans of around 25,000 permanently disabled veterans, a move that came after dozens of state attorneys general said that it was way too complicated for wounded veterans to get rid of their student debt. The move will supposedly save these veterans an average of $30,000, but it represents a tiny fraction of the $1.6 trillion in student debt that Americans collectively owe.\n",
            "Disabled veterans aren't the only ones having difficulty navigating an extremely confusing loan forgiveness process, and though debates about what to do about the country's student loan crisis have emerged in the Democratic primary, Trump doesn't seem inclined to take the broader problem seriously. Last year, the highest-ranking federal official in charge of keeping lenders like Navient and Sallie Mae in line quit in protest of what he said were lax enforcement policies.\n",
            "Trump's move to forgive the debt of some veterans showcases that the president seemingly has the capacity to do much more. So could a different president go much further and cancel everyone's student debt without even getting Congress to pass a bill?\n",
            "According to Mark Kantrowitz, one of the country's leading experts on student debt policy, Trump's executive order wasn't as radical as it seems. He was able to cancel the loans because of a 2008 amendment to the Higher Education Act aimed at forgiving the debt of severely injured veterans. Such veterans who are unable to work are sent an application they can fill out to have their debts erased.\n",
            "But requiring veterans to fill out forms created a barrier for some who were eligible under the program. \"Many didn't because they didn't believe the paperwork was legit or because they were so severely disabled that they weren't able to,\" Kantrowitz said. \"So tens of thousands of disabled American veterans were having their Social Security disability and retirement benefits offset to repay their student loan debt, even though the Department of Education knew that they were eligible for a discharge.\"\n",
            "Trump's executive order made approval automatic. Kantrowitz says that Trump couldn't cancel all the student loan debt in the country because there's no similar program under the law for non-veterans. Traditionally, the president can't spend money that hasn't been appropriated by Congress, which is what en-masse loan forgiveness might amount to, and laws, primarily the Anti-Deficiency Act (ADA), prevent rogue spending.\n",
            "But Alan Collinge, a writer and higher-education reform activist, said he believes that the president could erase the balances of all direct federal loans, which are the ones held by the government itself, and which account for about 70 percent of student loans in the U.S. \"The money for this was already appropriated when the loans were made,\" he said.\n",
            "It's unclear whether a Democratic president would buy Collinge's argument. Bernie Sanders and Elizabeth Warren, the two most prominent 2020 contenders who have called for student-loan forgiveness, have said they want to do so through legislation. But if such legislation stalled thanks to Republican opposition in Congress, it's at least conceivable that one of them could simply sign an executive order and battle the lawsuits that would inevitably challenge that use of presidential power.\n",
            "Even if Collinge is right and a progressive president went through with it, 30 percent of student loans are merely guaranteed by the government and held by private companies like Sallie Mae. Collinge concedes that cancelling those would require a bill to be passed. Wiping clean federal loans would just involve the Department of Education erasing them; cancelling private loans would involve paying those companies full or nearly full value for them.\n",
            "Collinge also admits that any sort of large-scale debt cancelation by a sitting president would be an extremely controversial action. Even if it was found by the courts not to violate the Anti-Deficiency Act, Congress would probably not be inclined to appropriate more lending funds afterward, which would mean the suspension of the student-lending program altogether. But he thinks that there's a chance such an aggressive move could work.\n",
            "\"Anyone telling you that the president absolutely could not cancel student loans, or any government-held loans, because of the ADA is being disingenuous,\" he said. \"They know as well as I do that this would likely wind up being a matter for the courts to decide. It could go either way. Don't let the swamp people snow you.\"\n",
            "Sign up for our newsletter to get the best of VICE delivered to your inbox daily.\n",
            "Follow Allie Conti on Twitter.\n",
            "By signing up to the VICE newsletter you agree to receive electronic communications from VICE that may sometimes include advertisements or sponsored content.\n"
          ],
          "name": "stdout"
        }
      ]
    },
    {
      "cell_type": "markdown",
      "metadata": {
        "id": "nWCmq_7zpJHh"
      },
      "source": [
        "---"
      ]
    },
    {
      "cell_type": "markdown",
      "metadata": {
        "id": "FDd0Bx5DpJHi"
      },
      "source": [
        "# Exercise 3:\n",
        "\n",
        "What if we want to know what entities are mentioned in the article? "
      ]
    },
    {
      "cell_type": "markdown",
      "metadata": {
        "id": "xvkMpzKypJHi"
      },
      "source": [
        "# Solution"
      ]
    },
    {
      "cell_type": "code",
      "metadata": {
        "id": "-Q6kN-VppJHi",
        "outputId": "71801271-5c9a-41e0-a7dc-2bd33dc7eb04",
        "colab": {
          "base_uri": "https://localhost:8080/",
          "height": 833
        }
      },
      "source": [
        "nlp = spacy.load('en')\n",
        "\n",
        "doc = nlp(article) # our text is going to be the article text above (that first 500 characters)\n",
        "\n",
        "for ent in doc.ents: # for each entity in our Doc...\n",
        "    print(ent.text, ent.label_) # print that entity aside its label"
      ],
      "execution_count": 31,
      "outputs": [
        {
          "output_type": "stream",
          "text": [
            "Last Wednesday DATE\n",
            "Donald Trump PERSON\n",
            "around 25,000 CARDINAL\n",
            "dozens CARDINAL\n",
            "30,000 MONEY\n",
            "$1.6 trillion MONEY\n",
            "Americans NORP\n",
            "Democratic NORP\n",
            "Trump PRODUCT\n",
            "Last year DATE\n",
            "Navient PERSON\n",
            "Sallie Mae ORG\n",
            "Trump PERSON\n",
            "Congress ORG\n",
            "Mark Kantrowitz PERSON\n",
            "one CARDINAL\n",
            "Trump LOC\n",
            "2008 DATE\n",
            "the Higher Education Act LAW\n",
            "Kantrowitz PERSON\n",
            "tens of thousands CARDINAL\n",
            "American NORP\n",
            "Social Security ORG\n",
            "the Department of Education ORG\n",
            "Trump PERSON\n",
            "Kantrowitz PERSON\n",
            "Trump PERSON\n",
            "Congress ORG\n",
            "the Anti-Deficiency Act LAW\n",
            "Alan Collinge PERSON\n",
            "about 70 percent PERCENT\n",
            "U.S. GPE\n",
            "Democratic NORP\n",
            "Collinge ORG\n",
            "Bernie Sanders PERSON\n",
            "Elizabeth Warren PERSON\n",
            "two CARDINAL\n",
            "2020 CARDINAL\n",
            "Republican NORP\n",
            "Congress ORG\n",
            "Collinge ORG\n",
            "30 percent PERCENT\n",
            "Sallie Mae ORG\n",
            "the Department of Education ORG\n",
            "Congress ORG\n",
            "ADA ORG\n",
            "daily DATE\n",
            "Allie Conti PERSON\n"
          ],
          "name": "stdout"
        }
      ]
    },
    {
      "cell_type": "markdown",
      "metadata": {
        "id": "ynMKccI3pJHk"
      },
      "source": [
        "# Exercise 4:\n",
        "\n",
        "What if we want to know the similarity between the first and last sentences of the aritcle? "
      ]
    },
    {
      "cell_type": "markdown",
      "metadata": {
        "id": "CQD5bksqpJHl"
      },
      "source": [
        "# Solution"
      ]
    },
    {
      "cell_type": "code",
      "metadata": {
        "id": "AJ1AaaX8pJHl",
        "outputId": "b34b7307-7809-4ca4-a4f8-350fa83990ef",
        "colab": {
          "base_uri": "https://localhost:8080/",
          "height": 88
        }
      },
      "source": [
        "doc1 = nlp(paragraphs[3])\n",
        "doc2 = nlp(paragraphs[-3])\n",
        "\n",
        "print(doc1.similarity(doc2))"
      ],
      "execution_count": 33,
      "outputs": [
        {
          "output_type": "stream",
          "text": [
            "0.7119196592774236\n"
          ],
          "name": "stdout"
        },
        {
          "output_type": "stream",
          "text": [
            "/usr/lib/python3.6/runpy.py:193: ModelsWarning: [W007] The model you're using has no word vectors loaded, so the result of the Doc.similarity method will be based on the tagger, parser and NER, which may not give useful similarity judgements. This may happen if you're using one of the small models, e.g. `en_core_web_sm`, which don't ship with word vectors and only use context-sensitive tensors. You can always add your own word vectors, or use one of the larger models instead if available.\n",
            "  \"__main__\", mod_spec)\n"
          ],
          "name": "stderr"
        }
      ]
    },
    {
      "cell_type": "markdown",
      "metadata": {
        "id": "EsOTzHd6pJHn"
      },
      "source": [
        "---"
      ]
    },
    {
      "cell_type": "markdown",
      "metadata": {
        "id": "rsZjgdW1pJHn"
      },
      "source": [
        "An enormous thank you to spaCy, whose existing online courses (https://course.spacy.io/chapter1) were the basis for this Jupyter-ized tutorial. For more information on spaCy's existing online course, check out https://github.com/ines/spacy-course#-faq"
      ]
    }
  ]
}