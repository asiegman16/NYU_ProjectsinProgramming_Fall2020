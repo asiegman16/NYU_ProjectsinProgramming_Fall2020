{
 "cells": [
  {
   "cell_type": "markdown",
   "metadata": {
    "colab_type": "text",
    "id": "e4Xq6EF7V9DS"
   },
   "source": [
    "# Regular Expressions"
   ]
  },
  {
   "cell_type": "markdown",
   "metadata": {
    "colab_type": "text",
    "id": "1AdGQuJeV9DT"
   },
   "source": [
    "---"
   ]
  },
  {
   "cell_type": "markdown",
   "metadata": {
    "colab_type": "text",
    "id": "hhbBWuDjV9DU"
   },
   "source": [
    "Regular expressions (regex's) are like pattern matchers – they allow us to match certain texts within a larger block of text. But, unlike a Command+F search, regular expressions allow you to be flexible. \n",
    "\n",
    "To best understand, let's delve right into an example. \n",
    "\n",
    "The code below from Panos Ipeirotis is written in Python to replicate the behavior of grep, a UNIX utility. Grep (Global Search with Regular Expression and Printing Matching Lines) searches the named input files for lines containing a match to the given pattern. \n",
    "\n",
    "By default, grep prints the matching lines."
   ]
  },
  {
   "cell_type": "markdown",
   "metadata": {
    "colab": {},
    "colab_type": "code",
    "id": "A8KlHzsmV9DV"
   },
   "source": [
    "```python\n",
    "\n",
    "import re # https://docs.python.org/3/library/re.html\n",
    "\n",
    "def printMatches(text, regex_expression):\n",
    "    BACKGROUND_YELLOW = '\\x1b[43m'\n",
    "    COLOR_RESET  = \"\\x1b[0m\"\n",
    "    regex= re.compile(regex_expression)\n",
    "    matches = regex.finditer(text)\n",
    "    for m in matches:\n",
    "        highlighted  = text[:m.start()] # the string before the regex match\n",
    "        highlighted += BACKGROUND_YELLOW + text[m.start():m.end()] + COLOR_RESET \n",
    "        highlighted += text[m.end():] # the string after the regex match\n",
    "        print(highlighted)\n",
    "        print('\\n')\n",
    "\n",
    "def grep(regex_expression, file_name):\n",
    "    f = open(file_name, \"r\")\n",
    "    content = f.read()\n",
    "    f.close()\n",
    "    for line in content.split(\"\\n\"):\n",
    "        printMatches(line, regex_expression)\n",
    "        \n",
    "```"
   ]
  },
  {
   "cell_type": "markdown",
   "metadata": {
    "colab_type": "text",
    "id": "-K5ydsk9V9DY"
   },
   "source": [
    "---"
   ]
  },
  {
   "cell_type": "markdown",
   "metadata": {
    "colab_type": "text",
    "id": "psVzgosSV9DZ"
   },
   "source": [
    "For today's class, we'll be taking a look at  the [\"Capital Project Tracker\" from NYC Open Data.](https://data.cityofnewyork.us/Recreation/Capital-Project-Tracker/qiwj-i2jk)\n",
    "\n",
    "One of the first things you may want to do is search for a literal – simply match the exact text in the document in question. For instance, if we want to find any mention of the word, \"Highway\"...\n",
    "\n",
    "_Note that we have uploaded our \"ParkProjects.txt\" file directly into our Colab instance so that we can search it._ "
   ]
  },
  {
   "cell_type": "markdown",
   "metadata": {
    "colab": {
     "base_uri": "https://localhost:8080/",
     "height": 343
    },
    "colab_type": "code",
    "id": "02TJY7Z_V9DZ",
    "outputId": "0a7db31e-19ff-487c-c35e-0b4093bf1498"
   },
   "source": [
    "```python\n",
    "\n",
    "grep('Highway', './ParkProjects.txt')\n",
    "\n",
    "```"
   ]
  },
  {
   "cell_type": "markdown",
   "metadata": {
    "colab_type": "text",
    "id": "RClBerKOV9Dc"
   },
   "source": [
    "That's all fine and well, but the goal here is to leverage the power and flexibility of regular expressions. That's where atoms come into play. \n",
    "\n",
    "The simplest regular expressions are a sequence of \"atoms\"."
   ]
  },
  {
   "cell_type": "markdown",
   "metadata": {
    "colab_type": "text",
    "id": "gNXYULGsV9Dd"
   },
   "source": [
    "## The dot (.) atom \n",
    "\n",
    "Matches any single character other than \\n (newline) "
   ]
  },
  {
   "cell_type": "markdown",
   "metadata": {
    "colab": {
     "base_uri": "https://localhost:8080/",
     "height": 527
    },
    "colab_type": "code",
    "id": "Gq_ufGT0V9De",
    "outputId": "1215e365-c317-4ee3-e888-8c1faa960422"
   },
   "source": [
    "```python\n",
    "\n",
    "grep('Avenue . and', './ParkProjects.txt')\n",
    "\n",
    "```"
   ]
  },
  {
   "cell_type": "markdown",
   "metadata": {
    "colab": {
     "base_uri": "https://localhost:8080/",
     "height": 272
    },
    "colab_type": "code",
    "id": "kLme6mZTV9Dh",
    "outputId": "03eafd84-995a-4d95-ee97-7d091e27c486"
   },
   "source": [
    "```python\n",
    "\n",
    "grep('Avenue . and Avenue .', './ParkProjects.txt')\n",
    "\n",
    "```"
   ]
  },
  {
   "cell_type": "markdown",
   "metadata": {
    "colab_type": "text",
    "id": "07-gsA9QV9Dj"
   },
   "source": [
    "## The bracket expression \n",
    "\n",
    "Defines a set of characters of which only one needs to be matched "
   ]
  },
  {
   "cell_type": "markdown",
   "metadata": {
    "colab": {
     "base_uri": "https://localhost:8080/",
     "height": 190
    },
    "colab_type": "code",
    "id": "1ySnQyFgV9Dk",
    "outputId": "84c56e23-a260-48ae-f9d9-9c05f9862738"
   },
   "source": [
    "```python\n",
    "\n",
    "grep('Avenue [FG]', './ParkProjects.txt')\n",
    "\n",
    "```"
   ]
  },
  {
   "cell_type": "markdown",
   "metadata": {
    "colab": {
     "base_uri": "https://localhost:8080/",
     "height": 1000
    },
    "colab_type": "code",
    "id": "lGQaGb75V9Dn",
    "outputId": "2cf50c72-aa8c-424a-855e-9b0b8af1696f"
   },
   "source": [
    "```python\n",
    "\n",
    "grep('[Pp]layground', './ParkProjects.txt')\n",
    "\n",
    "```"
   ]
  },
  {
   "cell_type": "markdown",
   "metadata": {
    "colab_type": "text",
    "id": "OJO7A7eXV9Dq"
   },
   "source": [
    "You can also incorporate ranges into your brackets. For instance, we want the word \"East\" followed by any three numbers:"
   ]
  },
  {
   "cell_type": "markdown",
   "metadata": {
    "colab": {
     "base_uri": "https://localhost:8080/",
     "height": 1000
    },
    "colab_type": "code",
    "id": "xIqiDnEHV9Dr",
    "outputId": "890d010b-b108-47ca-f501-438184c7b4ef"
   },
   "source": [
    "```python\n",
    "\n",
    "grep('East [0-9][0-9][0-9]', './ParkProjects.txt')\n",
    "\n",
    "```"
   ]
  },
  {
   "cell_type": "markdown",
   "metadata": {
    "colab": {
     "base_uri": "https://localhost:8080/",
     "height": 1000
    },
    "colab_type": "code",
    "id": "YXL6d1mmV9Du",
    "outputId": "ae1b5798-8ce5-477e-daf1-7214d97fa14b",
    "scrolled": true
   },
   "source": [
    "```python\n",
    "\n",
    "grep('East [0-9][0-9][^0-9]', './ParkProjects.txt')\n",
    "\n",
    "```"
   ]
  },
  {
   "cell_type": "markdown",
   "metadata": {
    "colab_type": "text",
    "id": "QlN28QkqV9Dw"
   },
   "source": [
    "## Anchors \n",
    "\n",
    "Are atoms used to define the location of a regex within a line :\n",
    "\n",
    "- the '^' anchor specifies the beginning of the line \n",
    "- the '$' anchor specifies the end of a line\n",
    "- the '\\b' anchor specifies a word boundry "
   ]
  },
  {
   "cell_type": "markdown",
   "metadata": {
    "colab": {
     "base_uri": "https://localhost:8080/",
     "height": 1000
    },
    "colab_type": "code",
    "id": "VBXfDutzV9Dx",
    "outputId": "ef11d978-c54c-42cc-be69-e09aa71dd665"
   },
   "source": [
    "```python\n",
    "\n",
    "grep('^Summary This project will reconstruct', './ParkProjects.txt')\n",
    "\n",
    "```"
   ]
  },
  {
   "cell_type": "markdown",
   "metadata": {
    "colab": {
     "base_uri": "https://localhost:8080/",
     "height": 1000
    },
    "colab_type": "code",
    "id": "KEqhFBHcV9Dz",
    "outputId": "6540348c-9a0f-452f-e409-de9128bf9b80"
   },
   "source": [
    "```python\n",
    "\n",
    "grep('^Summary This project will construct', './ParkProjects.txt')\n",
    "\n",
    "```"
   ]
  },
  {
   "cell_type": "markdown",
   "metadata": {
    "colab_type": "text",
    "id": "3wkYVYk9V9D3"
   },
   "source": [
    "---"
   ]
  },
  {
   "cell_type": "markdown",
   "metadata": {
    "colab_type": "text",
    "id": "idDxXLViV9D3"
   },
   "source": [
    "## Some more basic patterns and metacharacters' \n",
    "\n",
    "- . (dot) matches any character except \\n (newline) \n",
    "- \\t matches a tab\n",
    "- \\n matches a newline \n",
    "- \\r matches return \n",
    "- ^ matches the start of a string\n",
    "- $ matches the end of a string"
   ]
  },
  {
   "cell_type": "markdown",
   "metadata": {
    "colab_type": "text",
    "id": "hozDbdOwV9D4"
   },
   "source": [
    "## Metacharacters \n",
    "\n",
    "Include \"  \\ ^ $ . | ? * + ( ) [ ] and \\\n",
    "\n",
    "These metacharacters help us match various, non-literal components of a sentence. In order to 'escape' them (aka, to search for that symbol itself) you need to proceed it with a backslash (\\)"
   ]
  },
  {
   "cell_type": "markdown",
   "metadata": {
    "colab_type": "text",
    "id": "CsnqcI3SV9D4"
   },
   "source": [
    "---"
   ]
  },
  {
   "cell_type": "markdown",
   "metadata": {
    "colab_type": "text",
    "id": "eFXYJ5PfV9D5"
   },
   "source": [
    "To gain insight into what your regular expression is doing at any time, I highly recommend using regexper.com (https://regexper.com/) which will allow you to see exactly what a given search is doing. \n",
    "\n",
    "For instance, check out https://regexper.com/#%5EMy%0A to see what we just did with '^My'\n",
    "\n",
    "Here is a good cheat sheet for all the special characters, too, From Emma Wedekind: https://dev.to/emmawedekind/regex-cheat-sheet-2j2a\n",
    "\n",
    "Finally, I'd also recommend RegEx101, a handy debugger for regular expressions: https://regex101.com/"
   ]
  },
  {
   "cell_type": "markdown",
   "metadata": {
    "colab_type": "text",
    "id": "F7JJ4SItV9D5"
   },
   "source": [
    "---"
   ]
  },
  {
   "cell_type": "markdown",
   "metadata": {
    "colab_type": "text",
    "id": "WfmBHrhHV9D6"
   },
   "source": [
    "## Shortcuts: \n",
    "\n",
    "- \\d: matches digits 0-9\n",
    "- \\D matches anything but \\d\n",
    "- \\w matches any alphanumeric character plus underscore \n",
    "- \\W matches anything but \\w \n",
    "- \\s matches any \"whitespace character (space, tab, newline) \n",
    "- \\S matches anything but \\s"
   ]
  },
  {
   "cell_type": "markdown",
   "metadata": {
    "colab_type": "text",
    "id": "18EL-epfV9D6"
   },
   "source": [
    "---"
   ]
  },
  {
   "cell_type": "markdown",
   "metadata": {
    "colab_type": "text",
    "id": "OdqjE-h2V9D7"
   },
   "source": [
    "## Operators:"
   ]
  },
  {
   "cell_type": "markdown",
   "metadata": {
    "colab_type": "text",
    "id": "_oWXGYm-V9D7"
   },
   "source": [
    "## `'alternation' operator`\n",
    "\n",
    "Defines one or more alternatives that need to be true to return a match:"
   ]
  },
  {
   "cell_type": "markdown",
   "metadata": {
    "colab": {
     "base_uri": "https://localhost:8080/",
     "height": 343
    },
    "colab_type": "code",
    "id": "wwMEJ-C7V9D8",
    "outputId": "d95bef48-2dab-45e6-a673-00e16fc3b6f4"
   },
   "source": [
    "```python\n",
    "\n",
    "grep('^Summary This project will (partially|expand)', './ParkProjects.txt')\n",
    "\n",
    "```"
   ]
  },
  {
   "cell_type": "markdown",
   "metadata": {
    "colab_type": "text",
    "id": "Pp6C2C9yV9D_"
   },
   "source": [
    "## `Repetition operator `\n",
    "\n",
    "Specifies that the symbol to be matched may be repeated:"
   ]
  },
  {
   "cell_type": "markdown",
   "metadata": {
    "colab_type": "text",
    "id": "kKZqCwaiV9D_"
   },
   "source": [
    "Repetition Shortcuts: \n",
    "\n",
    "- * = {0,} The * character means match the previous atom zero or more times\n",
    "- + = {1,} The + character means match the previous atom one or more times\n",
    "- ? = {0,1} The ? character means match the previous atom zero or one times"
   ]
  },
  {
   "cell_type": "markdown",
   "metadata": {
    "colab": {
     "base_uri": "https://localhost:8080/",
     "height": 241
    },
    "colab_type": "code",
    "id": "2g1TpgO7V9EA",
    "outputId": "763869aa-b1cc-48a3-fa07-f4e89dd687c9"
   },
   "source": [
    "```python\n",
    "\n",
    "grep('Summary .{400,}$', './ParkProjects.txt')\n",
    "\n",
    "```"
   ]
  },
  {
   "cell_type": "markdown",
   "metadata": {
    "colab_type": "text",
    "id": "WTaiaP1UV9EC"
   },
   "source": [
    "## `Group Operator`\n",
    "\n",
    "In the group operator, when a group of characters is inclused in parantehses, the next operator applies to the whole group, not only the previous characters"
   ]
  },
  {
   "cell_type": "markdown",
   "metadata": {
    "colab": {
     "base_uri": "https://localhost:8080/",
     "height": 1000
    },
    "colab_type": "code",
    "id": "Y6vWL5ezV9ED",
    "outputId": "1106cf46-f886-405b-c42b-094c4ce82732"
   },
   "source": [
    "```python\n",
    "\n",
    "grep('name.* (\\d){3,} .*', './ParkProjects.txt')\n",
    "\n",
    "```"
   ]
  },
  {
   "cell_type": "markdown",
   "metadata": {
    "colab_type": "text",
    "id": "90pTz13tV9EG"
   },
   "source": [
    "---"
   ]
  },
  {
   "cell_type": "markdown",
   "metadata": {
    "colab_type": "text",
    "id": "oD1rYuWnV9EG"
   },
   "source": [
    "# Exercise 1: What do these regex's match? "
   ]
  },
  {
   "cell_type": "markdown",
   "metadata": {
    "colab": {},
    "colab_type": "code",
    "id": "zmYvKnhdV9EH"
   },
   "source": [
    "```python\n",
    "\n",
    "# your code here\n",
    "\n",
    "```"
   ]
  },
  {
   "cell_type": "markdown",
   "metadata": {
    "colab_type": "text",
    "id": "jW4wYGSYV9EJ"
   },
   "source": [
    "# Solution"
   ]
  },
  {
   "cell_type": "markdown",
   "metadata": {
    "colab": {
     "base_uri": "https://localhost:8080/",
     "height": 751
    },
    "colab_type": "code",
    "id": "h8uxwh0eV9EK",
    "outputId": "02e13dd0-5cb3-467b-be4c-adf0b446f7f6"
   },
   "source": [
    "```python\n",
    "\n",
    "grep('^Summary .* Street.$', './ParkProjects.txt')\n",
    "\n",
    "```"
   ]
  },
  {
   "cell_type": "markdown",
   "metadata": {
    "colab": {
     "base_uri": "https://localhost:8080/",
     "height": 731
    },
    "colab_type": "code",
    "id": "QuNWcvRWV9EM",
    "outputId": "b48e66c2-85d6-4941-d757-34ebe2a0f294",
    "scrolled": true
   },
   "source": [
    "```python\n",
    "\n",
    "grep('East (\\d){2,}st', './ParkProjects.txt')\n",
    "\n",
    "```"
   ]
  },
  {
   "cell_type": "markdown",
   "metadata": {
    "colab": {
     "base_uri": "https://localhost:8080/",
     "height": 272
    },
    "colab_type": "code",
    "id": "4KAnZG6SV9EO",
    "outputId": "16ac31ff-4b7e-417c-eff9-541f2d033238"
   },
   "source": [
    "```python\n",
    "\n",
    "grep('Lenox .* (Pl\\.|Place)', './ParkProjects.txt')\n",
    "\n",
    "```"
   ]
  },
  {
   "cell_type": "markdown",
   "metadata": {
    "colab_type": "text",
    "id": "ol_Izf6XV9EQ"
   },
   "source": [
    "---"
   ]
  },
  {
   "cell_type": "markdown",
   "metadata": {
    "colab_type": "text",
    "id": "wtcxxqTtV9EQ"
   },
   "source": [
    "# Exercise 2: Imagine you have a file with telephone numbers in different formats: \n",
    "\n",
    "- 679-397-5255\n",
    "- 2126660921\n",
    "- 212-998-0902\n",
    "- 888-888-2222\n",
    "- 800-555-1211\n",
    "- 800 555 1212\n",
    "- 800.555.1213\n",
    "- (800) 555-1214\n",
    "- 1-800-555-1215\n",
    "- 1(800)555-1216\n",
    "- 800-555-1212-1234\n",
    "- 800-555-1212x1234\n",
    "- 800-555-1212 ext. 1234\n",
    "- work 1-(800) 555.1212 #1234\n",
    "\n",
    "# Your goal is to standardize everything in the form (xxx)-xxx-xxx.\n",
    "\n",
    "To make the process interactive, go to http://regex101.com/?#python, copy and paste the numbers above in the text area called \"Text String\", and then try to write the regular expression above. (Remember to put the \"g\" character in the small text field next to the regex: this has the same meaning as in sed, and it means \"find globally\" the regex, not just the first occurence)."
   ]
  },
  {
   "cell_type": "markdown",
   "metadata": {
    "colab": {},
    "colab_type": "code",
    "id": "uAd8I0MYV9ER"
   },
   "source": [
    "```python\n",
    "\n",
    "TextString = \"\"\"\n",
    "\n",
    "679-397-5255\n",
    "2126660921\n",
    "212-998-0902\n",
    "888-888-2222\n",
    "800-555-1211\n",
    "800 555 1212\n",
    "800.555.1213\n",
    "(800) 555-1214\n",
    "1-800-555-1215\n",
    "1(800)555-1216\n",
    "800-555-1212-1234\n",
    "800-555-1212x1234\n",
    "800-555-1212 ext. 1234\n",
    "work 1-(800) 555.1212 #1234\n",
    "\n",
    "\"\"\"\n",
    "\n",
    "# your code here\n",
    "\n",
    "```"
   ]
  },
  {
   "cell_type": "markdown",
   "metadata": {
    "colab_type": "text",
    "id": "PchoFHqLV9ET"
   },
   "source": [
    "# Solution"
   ]
  },
  {
   "cell_type": "markdown",
   "metadata": {
    "colab": {
     "base_uri": "https://localhost:8080/",
     "height": 255
    },
    "colab_type": "code",
    "id": "fFgPGvVuV9ET",
    "outputId": "0f75fc97-2219-46b3-d8df-1dc286984c85"
   },
   "source": [
    "```python\n",
    "\n",
    "TextString = \"\"\"\n",
    "\n",
    "679-397-5255\n",
    "2126660921\n",
    "212-998-0902\n",
    "888-888-2222\n",
    "800-555-1211\n",
    "800 555 1212\n",
    "800.555.1213\n",
    "(800) 555-1214\n",
    "1-800-555-1215\n",
    "1(800)555-1216\n",
    "800-555-1212-1234\n",
    "800-555-1212x1234\n",
    "800-555-1212 ext. 1234\n",
    "work 1-(800) 555.1212 #1234\n",
    "\n",
    "\"\"\"\n",
    "\n",
    "# Notice now that each part of the phone is included in parentheses allowing us to grab individual part of the \n",
    "# phone number\n",
    "\n",
    "regex = re.compile(r'([2-9]\\d{2})\\D*(\\d{3})\\D*(\\d{4})')\n",
    "matches = regex.finditer(TextString)\n",
    "\n",
    "phones = list()\n",
    "for m in matches:\n",
    "    area_code = m.group(1)\n",
    "    first_three_digits = m.group(2)\n",
    "    last_four_digits =  m.group(3)\n",
    "    \n",
    "    phone = \"(\" + area_code + \")\" + first_three_digits + \"-\" + last_four_digits\n",
    "            \n",
    "    phones.append(phone)\n",
    "\n",
    "# Notice that our list does not include numbers with invalid area codes (e.g., 124, 125)\n",
    "phones\n",
    "\n",
    "```"
   ]
  },
  {
   "cell_type": "markdown",
   "metadata": {
    "colab_type": "text",
    "id": "NYKG6SjDV9EZ"
   },
   "source": [
    "---"
   ]
  },
  {
   "cell_type": "markdown",
   "metadata": {
    "colab_type": "text",
    "id": "tPLQ9mB7V9EZ"
   },
   "source": [
    "# [Python's re Regular Expression Library](https://docs.python.org/3/library/re.html)\n",
    "\n",
    "We are going to move away from using Panos's Grep function now and focus on Python's Regular Expression Library (re). To be clear, the regular expressions remain the same, but ow we call for them and summon them is different. \n",
    "\n",
    "A quick note on match groups, too. [_Documentation_](https://docs.python.org/2/library/re.html)\n",
    "\n",
    "`group([group1, ...]) returns one or more subgroups of the match. If there is a single argument, the result is a single string; if there are multiple arguments, the result is a tuple with one item per argument. Without arguments, group1 defaults to zero (the whole match is returned). If a groupN argument is zero, the corresponding return value is the entire matching string; if it is in the inclusive range [1..99], it is the string matching the corresponding parenthesized group. If a group number is negative or larger than the number of groups defined in the pattern, an IndexError exception is raised. If a group is contained in a part of the pattern that did not match, the corresponding result is None. If a group is contained in a part of the pattern that matched multiple times, the last match is returned.`\n",
    "\n",
    "For example: \n",
    "```python \n",
    ">>> m = re.match(r\"(\\w+) (\\w+)\", \"Isaac Newton, physicist\")\n",
    ">>> m.group(0)       # The entire match\n",
    "'Isaac Newton'\n",
    ">>> m.group(1)       # The first parenthesized subgroup.\n",
    "'Isaac'\n",
    ">>> m.group(2)       # The second parenthesized subgroup.\n",
    "'Newton'\n",
    ">>> m.group(1, 2)    # Multiple arguments give us a tuple.\n",
    "('Isaac', 'Newton')\n",
    "```"
   ]
  },
  {
   "cell_type": "markdown",
   "metadata": {
    "colab": {},
    "colab_type": "code",
    "id": "n5-nWvcLV9Ea"
   },
   "source": [
    "```python\n",
    "\n",
    "text = \"Hello, my name is Alex Siegman. Please call me back at 212 555-9583 or email me at as13815@nyu.edu at your \\\n",
    "earliest convenience. Thank you.\"\n",
    "\n",
    "```"
   ]
  },
  {
   "cell_type": "markdown",
   "metadata": {
    "colab": {},
    "colab_type": "code",
    "id": "CBOKuyIsV9Ec"
   },
   "source": [
    "```python\n",
    "\n",
    "import re\n",
    "from re import search \n",
    "\n",
    "```"
   ]
  },
  {
   "cell_type": "markdown",
   "metadata": {
    "colab": {
     "base_uri": "https://localhost:8080/",
     "height": 34
    },
    "colab_type": "code",
    "id": "U_jCCZAiV9Ee",
    "outputId": "d9f31dec-0d24-4ffa-f901-2c092f6a7944"
   },
   "source": [
    "```python\n",
    "\n",
    "regex = re.compile(r'[Aa]lex')\n",
    "matches = regex.finditer(text)\n",
    "\n",
    "for match in matches: \n",
    "    print(match.group())\n",
    "    \n",
    "```"
   ]
  },
  {
   "cell_type": "markdown",
   "metadata": {
    "colab_type": "text",
    "id": "nQNuXIe7V9Eg"
   },
   "source": [
    "Let's try and match for an email address:"
   ]
  },
  {
   "cell_type": "markdown",
   "metadata": {
    "colab": {
     "base_uri": "https://localhost:8080/",
     "height": 34
    },
    "colab_type": "code",
    "id": "y2cic-noV9Eg",
    "outputId": "7bf6b506-32db-4813-de83-0950e2a2de4c"
   },
   "source": [
    "```python\n",
    "\n",
    "regex = re.compile(r'\\w+@\\w+\\..{3}')\n",
    "\n",
    "matches = regex.finditer(text)\n",
    "\n",
    "for match in matches: \n",
    "    print(match.group()) \n",
    "\n",
    "```"
   ]
  },
  {
   "cell_type": "markdown",
   "metadata": {
    "colab_type": "text",
    "id": "eDLtfwLYV9Ei"
   },
   "source": [
    "How about for a phone number? "
   ]
  },
  {
   "cell_type": "markdown",
   "metadata": {
    "colab": {
     "base_uri": "https://localhost:8080/",
     "height": 34
    },
    "colab_type": "code",
    "id": "40wlEmWoV9Ej",
    "outputId": "e84434d9-0ddf-4d67-ad52-83bf3131bd4b"
   },
   "source": [
    "```python\n",
    "\n",
    "regex = re.compile(r'\\d{3} \\d{3}-\\d{4}')\n",
    "\n",
    "matches = regex.finditer(text)\n",
    "\n",
    "for match in matches: \n",
    "    print(match.group()) \n",
    "    \n",
    "```"
   ]
  },
  {
   "cell_type": "markdown",
   "metadata": {
    "colab_type": "text",
    "id": "dFw1fGQvV9El"
   },
   "source": [
    "And what if you have multiple matches in the same string? "
   ]
  },
  {
   "cell_type": "markdown",
   "metadata": {
    "colab": {},
    "colab_type": "code",
    "id": "Wf7dg0GSV9Em"
   },
   "source": [
    "```python\n",
    "\n",
    "text = \"Hello, my name is Alex Siegman. Please call me back at 212 555-9583 or 314 935-9981 or email me at as13815@nyu.edu at your \\\n",
    "earliest convenience. Thank you.\"\n",
    "\n",
    "```"
   ]
  },
  {
   "cell_type": "markdown",
   "metadata": {
    "colab": {
     "base_uri": "https://localhost:8080/",
     "height": 51
    },
    "colab_type": "code",
    "id": "E4oOXOTpV9Eo",
    "outputId": "1c33f34d-d03e-4bf7-c709-9e1d9209eb08"
   },
   "source": [
    "```python\n",
    "\n",
    "# we can use 'finditer' that returns a collection of MatchObject items\n",
    "\n",
    "regex = re.compile(r'\\d{3} \\d{3}-\\d{4}')\n",
    "\n",
    "matches = regex.finditer(text)\n",
    "for i, match in enumerate(matches):\n",
    "    print(i+1, \"==>\", match.group())\n",
    "    \n",
    "# FYI the 'search' term only returns the first MatchObject item\n",
    "\n",
    "```"
   ]
  },
  {
   "cell_type": "markdown",
   "metadata": {
    "colab_type": "text",
    "id": "Nv7H_JRDV9Eq"
   },
   "source": [
    "---"
   ]
  },
  {
   "cell_type": "markdown",
   "metadata": {
    "colab_type": "text",
    "id": "6_IeN4WNV9Eq"
   },
   "source": [
    "## Data Extraction \n",
    "\n",
    "It's awesome that we can return our matches here in our notebook, but what we really want to do is select the strings that match our regex and return them to a program to be processed. For example: "
   ]
  },
  {
   "cell_type": "markdown",
   "metadata": {
    "colab": {
     "base_uri": "https://localhost:8080/",
     "height": 119
    },
    "colab_type": "code",
    "id": "anQNNQl_V9Eq",
    "outputId": "e9a185e7-7a14-4875-f9b1-23a2423257c6"
   },
   "source": [
    "```python\n",
    "\n",
    "regex = re.compile(r\"\"\"(\\d{3}) # the area code\n",
    "                       \\D* # zero or more non-digits\n",
    "                       (\\d{3}) # three digits\n",
    "                       \\D* # zero or more non-digits\n",
    "                       (\\d{4}) # four digits\n",
    "                    \"\"\", re.VERBOSE)\n",
    "\n",
    "matches = regex.finditer(text)\n",
    "for match in matches:\n",
    "    print(match.group())\n",
    "    print(\"Formatted:\", match.group(1),\"-\", match.group(2), \"-\", match.group(3))\n",
    "    print(\"===========\")\n",
    "    \n",
    "```"
   ]
  },
  {
   "cell_type": "markdown",
   "metadata": {
    "colab_type": "text",
    "id": "sc-UCgalV9Es"
   },
   "source": [
    "What about our large 'file' of ill-formatted phone numbers from earlier? "
   ]
  },
  {
   "cell_type": "markdown",
   "metadata": {
    "colab": {},
    "colab_type": "code",
    "id": "bC5LNE7HV9Et"
   },
   "source": [
    "```python\n",
    "\n",
    "TextString = \"\"\"\n",
    "\n",
    "679-397-5255\n",
    "2126660921\n",
    "212-998-0902\n",
    "888-888-2222\n",
    "800-555-1211\n",
    "800 555 1212\n",
    "800.555.1213\n",
    "(800) 555-1214\n",
    "1-800-555-1215\n",
    "1(800)555-1216\n",
    "800-555-1212-1234\n",
    "800-555-1212x1234\n",
    "800-555-1212 ext. 1234\n",
    "work 1-(800) 555.1212 #1234\n",
    "\n",
    "\"\"\"\n",
    "\n",
    "```"
   ]
  },
  {
   "cell_type": "markdown",
   "metadata": {
    "colab": {
     "base_uri": "https://localhost:8080/",
     "height": 255
    },
    "colab_type": "code",
    "id": "iVb_E0JgV9Ev",
    "outputId": "a62909b8-e928-4ca5-f2d1-76c68cb55af6"
   },
   "source": [
    "```python\n",
    "\n",
    "regex = re.compile(r'(\\d{3})\\D*(\\d{3})\\D*(\\d{4})')\n",
    "matches = regex.finditer(TextString)\n",
    "\n",
    "phones = list()\n",
    "\n",
    "for m in matches:\n",
    "    area_code = m.group(1)\n",
    "    first_three_digits = m.group(2)\n",
    "    last_four_digits =  m.group(3)\n",
    "    \n",
    "    phone = \"(\" + area_code + \")\" + first_three_digits + \"-\" + last_four_digits\n",
    "            \n",
    "    phones.append(phone)\n",
    "\n",
    "phones\n",
    "\n",
    "```"
   ]
  },
  {
   "cell_type": "markdown",
   "metadata": {
    "colab_type": "text",
    "id": "T0YQym9wV9Ex"
   },
   "source": [
    "## String Replacement\n",
    "\n",
    "String Replacement (.sub()) allows us to return a version of our text where all instances that matched have been substituted with a replacement. For instance, if we want to mask phone numbers in a document: "
   ]
  },
  {
   "cell_type": "markdown",
   "metadata": {
    "colab": {
     "base_uri": "https://localhost:8080/",
     "height": 323
    },
    "colab_type": "code",
    "id": "9ZqK-la3V9Ex",
    "outputId": "f502b2f8-665b-4401-9975-b01922c12805"
   },
   "source": [
    "```python\n",
    "\n",
    "regex = re.compile('(\\d{3})\\D*(\\d{3})\\D*(\\d{4})')\n",
    "\n",
    "newstring = re.sub(regex, \"XXX-XXX-XXXX\", TextString)\n",
    "\n",
    "print(newstring)\n",
    "\n",
    "```"
   ]
  },
  {
   "cell_type": "markdown",
   "metadata": {
    "colab_type": "text",
    "id": "oA7a6gioV9Ez"
   },
   "source": [
    "---"
   ]
  }
 ],
 "metadata": {
  "colab": {
   "name": "Regular Expressions Solved.ipynb",
   "provenance": [],
   "toc_visible": true
  },
  "kernelspec": {
   "display_name": "Python 3",
   "language": "python",
   "name": "python3"
  },
  "language_info": {
   "codemirror_mode": {
    "name": "ipython",
    "version": 3
   },
   "file_extension": ".py",
   "mimetype": "text/x-python",
   "name": "python",
   "nbconvert_exporter": "python",
   "pygments_lexer": "ipython3",
   "version": "3.7.3"
  }
 },
 "nbformat": 4,
 "nbformat_minor": 1
}
