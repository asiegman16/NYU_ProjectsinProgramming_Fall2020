{
  "nbformat": 4,
  "nbformat_minor": 0,
  "metadata": {
    "kernelspec": {
      "display_name": "Python 3",
      "language": "python",
      "name": "python3"
    },
    "language_info": {
      "codemirror_mode": {
        "name": "ipython",
        "version": 3
      },
      "file_extension": ".py",
      "mimetype": "text/x-python",
      "name": "python",
      "nbconvert_exporter": "python",
      "pygments_lexer": "ipython3",
      "version": "3.7.3"
    },
    "colab": {
      "name": "Regular Expressions Solved.ipynb",
      "provenance": [],
      "toc_visible": true
    }
  },
  "cells": [
    {
      "cell_type": "markdown",
      "metadata": {
        "id": "e4Xq6EF7V9DS",
        "colab_type": "text"
      },
      "source": [
        "# Regular Expressions"
      ]
    },
    {
      "cell_type": "markdown",
      "metadata": {
        "id": "1AdGQuJeV9DT",
        "colab_type": "text"
      },
      "source": [
        "---"
      ]
    },
    {
      "cell_type": "markdown",
      "metadata": {
        "id": "hhbBWuDjV9DU",
        "colab_type": "text"
      },
      "source": [
        "Regular expressions (regex's) are like pattern matchers – they allow us to match certain texts within a larger block of text. But, unlike a Command+F search, regular expressions allow you to be flexible. \n",
        "\n",
        "To best understand, let's delve right into an example. \n",
        "\n",
        "The code below from Panos Ipeirotis is written in Python to replicate the behavior of grep, a UNIX utility. Grep (Global Search with Regular Expression and Printing Matching Lines) searches the named input files for lines containing a match to the given pattern. \n",
        "\n",
        "By default, grep prints the matching lines."
      ]
    },
    {
      "cell_type": "code",
      "metadata": {
        "id": "A8KlHzsmV9DV",
        "colab_type": "code",
        "colab": {}
      },
      "source": [
        "import re # https://docs.python.org/3/library/re.html\n",
        "\n",
        "def printMatches(text, regex_expression):\n",
        "    BACKGROUND_YELLOW = '\\x1b[43m'\n",
        "    COLOR_RESET  = \"\\x1b[0m\"\n",
        "    regex= re.compile(regex_expression)\n",
        "    matches = regex.finditer(text)\n",
        "    for m in matches:\n",
        "        highlighted  = text[:m.start()] # the string before the regex match\n",
        "        highlighted += BACKGROUND_YELLOW + text[m.start():m.end()] + COLOR_RESET \n",
        "        highlighted += text[m.end():] # the string after the regex match\n",
        "        print(highlighted)\n",
        "        print('\\n')\n",
        "\n",
        "def grep(regex_expression, file_name):\n",
        "    f = open(file_name, \"r\")\n",
        "    content = f.read()\n",
        "    f.close()\n",
        "    for line in content.split(\"\\n\"):\n",
        "        printMatches(line, regex_expression)"
      ],
      "execution_count": 1,
      "outputs": []
    },
    {
      "cell_type": "markdown",
      "metadata": {
        "id": "-K5ydsk9V9DY",
        "colab_type": "text"
      },
      "source": [
        "---"
      ]
    },
    {
      "cell_type": "markdown",
      "metadata": {
        "id": "psVzgosSV9DZ",
        "colab_type": "text"
      },
      "source": [
        "For today's class, we'll be taking a look at  the [\"Capital Project Tracker\" from NYC Open Data.](https://data.cityofnewyork.us/Recreation/Capital-Project-Tracker/qiwj-i2jk)\n",
        "\n",
        "One of the first things you may want to do is search for a literal – simply match the exact text in the document in question. For instance, if we want to find any mention of the word, \"Highway\"...\n",
        "\n",
        "_Note that we have uploaded our \"ParkProjects.txt\" file directly into our Colab instance so that we can search it._ "
      ]
    },
    {
      "cell_type": "code",
      "metadata": {
        "id": "02TJY7Z_V9DZ",
        "colab_type": "code",
        "colab": {}
      },
      "source": [
        ""
      ],
      "execution_count": 32,
      "outputs": []
    },
    {
      "cell_type": "markdown",
      "metadata": {
        "id": "RClBerKOV9Dc",
        "colab_type": "text"
      },
      "source": [
        "That's all fine and well, but the goal here is to leverage the power and flexibility of regular expressions. That's where atoms come into play. \n",
        "\n",
        "The simplest regular expressions are a sequence of \"atoms\"."
      ]
    },
    {
      "cell_type": "markdown",
      "metadata": {
        "id": "gNXYULGsV9Dd",
        "colab_type": "text"
      },
      "source": [
        "## The dot (.) atom \n",
        "\n",
        "Matches any single character other than \\n (newline) "
      ]
    },
    {
      "cell_type": "code",
      "metadata": {
        "id": "Gq_ufGT0V9De",
        "colab_type": "code",
        "colab": {}
      },
      "source": [
        ""
      ],
      "execution_count": 32,
      "outputs": []
    },
    {
      "cell_type": "code",
      "metadata": {
        "id": "kLme6mZTV9Dh",
        "colab_type": "code",
        "colab": {}
      },
      "source": [
        ""
      ],
      "execution_count": 32,
      "outputs": []
    },
    {
      "cell_type": "markdown",
      "metadata": {
        "id": "07-gsA9QV9Dj",
        "colab_type": "text"
      },
      "source": [
        "## The bracket expression \n",
        "\n",
        "Defines a set of characters of which only one needs to be matched "
      ]
    },
    {
      "cell_type": "code",
      "metadata": {
        "id": "1ySnQyFgV9Dk",
        "colab_type": "code",
        "colab": {}
      },
      "source": [
        ""
      ],
      "execution_count": 32,
      "outputs": []
    },
    {
      "cell_type": "code",
      "metadata": {
        "id": "lGQaGb75V9Dn",
        "colab_type": "code",
        "colab": {}
      },
      "source": [
        ""
      ],
      "execution_count": 32,
      "outputs": []
    },
    {
      "cell_type": "markdown",
      "metadata": {
        "id": "OJO7A7eXV9Dq",
        "colab_type": "text"
      },
      "source": [
        "You can also incorporate ranges into your brackets. For instance, we want the word \"East\" followed by any three numbers:"
      ]
    },
    {
      "cell_type": "code",
      "metadata": {
        "id": "xIqiDnEHV9Dr",
        "colab_type": "code",
        "colab": {}
      },
      "source": [
        ""
      ],
      "execution_count": 32,
      "outputs": []
    },
    {
      "cell_type": "code",
      "metadata": {
        "scrolled": true,
        "id": "YXL6d1mmV9Du",
        "colab_type": "code",
        "colab": {}
      },
      "source": [
        ""
      ],
      "execution_count": 32,
      "outputs": []
    },
    {
      "cell_type": "markdown",
      "metadata": {
        "id": "QlN28QkqV9Dw",
        "colab_type": "text"
      },
      "source": [
        "## Anchors \n",
        "\n",
        "Are atoms used to define the location of a regex within a line :\n",
        "\n",
        "- the '^' anchor specifies the beginning of the line \n",
        "- the '$' anchor specifies the end of a line\n",
        "- the '\\b' anchor specifies a word boundry "
      ]
    },
    {
      "cell_type": "code",
      "metadata": {
        "id": "VBXfDutzV9Dx",
        "colab_type": "code",
        "colab": {}
      },
      "source": [
        ""
      ],
      "execution_count": 32,
      "outputs": []
    },
    {
      "cell_type": "code",
      "metadata": {
        "id": "KEqhFBHcV9Dz",
        "colab_type": "code",
        "colab": {}
      },
      "source": [
        ""
      ],
      "execution_count": 32,
      "outputs": []
    },
    {
      "cell_type": "markdown",
      "metadata": {
        "id": "3wkYVYk9V9D3",
        "colab_type": "text"
      },
      "source": [
        "---"
      ]
    },
    {
      "cell_type": "markdown",
      "metadata": {
        "id": "idDxXLViV9D3",
        "colab_type": "text"
      },
      "source": [
        "## Some more basic patterns and metacharacters' \n",
        "\n",
        "- . (dot) matches any character except \\n (newline) \n",
        "- \\t matches a tab\n",
        "- \\n matches a newline \n",
        "- \\r matches return \n",
        "- ^ matches the start of a string\n",
        "- $ matches the end of a string"
      ]
    },
    {
      "cell_type": "markdown",
      "metadata": {
        "id": "hozDbdOwV9D4",
        "colab_type": "text"
      },
      "source": [
        "## Metacharacters \n",
        "\n",
        "Include \"  \\ ^ $ . | ? * + ( ) [ ] and \\\n",
        "\n",
        "These metacharacters help us match various, non-literal components of a sentence. In order to 'escape' them (aka, to search for that symbol itself) you need to proceed it with a backslash (\\)"
      ]
    },
    {
      "cell_type": "markdown",
      "metadata": {
        "id": "CsnqcI3SV9D4",
        "colab_type": "text"
      },
      "source": [
        "---"
      ]
    },
    {
      "cell_type": "markdown",
      "metadata": {
        "id": "eFXYJ5PfV9D5",
        "colab_type": "text"
      },
      "source": [
        "To gain insight into what your regular expression is doing at any time, I highly recommend using regexper.com (https://regexper.com/) which will allow you to see exactly what a given search is doing. \n",
        "\n",
        "For instance, check out https://regexper.com/#%5EMy%0A to see what we just did with '^My'\n",
        "\n",
        "Here is a good cheat sheet for all the special characters, too, From Emma Wedekind: https://dev.to/emmawedekind/regex-cheat-sheet-2j2a\n",
        "\n",
        "Finally, I'd also recommend RegEx101, a handy debugger for regular expressions: https://regex101.com/"
      ]
    },
    {
      "cell_type": "markdown",
      "metadata": {
        "id": "F7JJ4SItV9D5",
        "colab_type": "text"
      },
      "source": [
        "---"
      ]
    },
    {
      "cell_type": "markdown",
      "metadata": {
        "id": "WfmBHrhHV9D6",
        "colab_type": "text"
      },
      "source": [
        "## Shortcuts: \n",
        "\n",
        "- \\d: matches digits 0-9\n",
        "- \\D matches anything but \\d\n",
        "- \\w matches any alphanumeric character plus underscore \n",
        "- \\W matches anything but \\w \n",
        "- \\s matches any \"whitespace character (space, tab, newline) \n",
        "- \\S matches anything but \\s"
      ]
    },
    {
      "cell_type": "markdown",
      "metadata": {
        "id": "18EL-epfV9D6",
        "colab_type": "text"
      },
      "source": [
        "---"
      ]
    },
    {
      "cell_type": "markdown",
      "metadata": {
        "id": "OdqjE-h2V9D7",
        "colab_type": "text"
      },
      "source": [
        "## Operators:"
      ]
    },
    {
      "cell_type": "markdown",
      "metadata": {
        "id": "_oWXGYm-V9D7",
        "colab_type": "text"
      },
      "source": [
        "## `'alternation' operator`\n",
        "\n",
        "Defines one or more alternatives that need to be true to return a match:"
      ]
    },
    {
      "cell_type": "code",
      "metadata": {
        "id": "wwMEJ-C7V9D8",
        "colab_type": "code",
        "colab": {}
      },
      "source": [
        ""
      ],
      "execution_count": 32,
      "outputs": []
    },
    {
      "cell_type": "markdown",
      "metadata": {
        "id": "Pp6C2C9yV9D_",
        "colab_type": "text"
      },
      "source": [
        "## `Repetition operator `\n",
        "\n",
        "Specifies that the symbol to be matched may be repeated:"
      ]
    },
    {
      "cell_type": "markdown",
      "metadata": {
        "id": "kKZqCwaiV9D_",
        "colab_type": "text"
      },
      "source": [
        "Repetition Shortcuts: \n",
        "\n",
        "- * = {0,} The * character means match the previous atom zero or more times\n",
        "- + = {1,} The + character means match the previous atom one or more times\n",
        "- ? = {0,1} The ? character means match the previous atom zero or one times"
      ]
    },
    {
      "cell_type": "code",
      "metadata": {
        "id": "2g1TpgO7V9EA",
        "colab_type": "code",
        "colab": {}
      },
      "source": [
        ""
      ],
      "execution_count": 32,
      "outputs": []
    },
    {
      "cell_type": "markdown",
      "metadata": {
        "id": "WTaiaP1UV9EC",
        "colab_type": "text"
      },
      "source": [
        "## `Group Operator`\n",
        "\n",
        "In the group operator, when a group of characters is inclused in parantehses, the next operator applies to the whole group, not only the previous characters"
      ]
    },
    {
      "cell_type": "code",
      "metadata": {
        "id": "Y6vWL5ezV9ED",
        "colab_type": "code",
        "colab": {}
      },
      "source": [
        ""
      ],
      "execution_count": 32,
      "outputs": []
    },
    {
      "cell_type": "markdown",
      "metadata": {
        "id": "90pTz13tV9EG",
        "colab_type": "text"
      },
      "source": [
        "---"
      ]
    },
    {
      "cell_type": "markdown",
      "metadata": {
        "id": "oD1rYuWnV9EG",
        "colab_type": "text"
      },
      "source": [
        "# Exercise 1: What do these regex's match? "
      ]
    },
    {
      "cell_type": "code",
      "metadata": {
        "id": "zmYvKnhdV9EH",
        "colab_type": "code",
        "colab": {}
      },
      "source": [
        "# your code here"
      ],
      "execution_count": 14,
      "outputs": []
    },
    {
      "cell_type": "markdown",
      "metadata": {
        "id": "jW4wYGSYV9EJ",
        "colab_type": "text"
      },
      "source": [
        "# Solution"
      ]
    },
    {
      "cell_type": "code",
      "metadata": {
        "id": "h8uxwh0eV9EK",
        "colab_type": "code",
        "colab": {}
      },
      "source": [
        ""
      ],
      "execution_count": 32,
      "outputs": []
    },
    {
      "cell_type": "code",
      "metadata": {
        "scrolled": true,
        "id": "QuNWcvRWV9EM",
        "colab_type": "code",
        "colab": {}
      },
      "source": [
        ""
      ],
      "execution_count": 32,
      "outputs": []
    },
    {
      "cell_type": "code",
      "metadata": {
        "id": "4KAnZG6SV9EO",
        "colab_type": "code",
        "colab": {}
      },
      "source": [
        ""
      ],
      "execution_count": 32,
      "outputs": []
    },
    {
      "cell_type": "markdown",
      "metadata": {
        "id": "ol_Izf6XV9EQ",
        "colab_type": "text"
      },
      "source": [
        "---"
      ]
    },
    {
      "cell_type": "markdown",
      "metadata": {
        "id": "wtcxxqTtV9EQ",
        "colab_type": "text"
      },
      "source": [
        "# Exercise 2: Imagine you have a file with telephone numbers in different formats: \n",
        "\n",
        "- 679-397-5255\n",
        "- 2126660921\n",
        "- 212-998-0902\n",
        "- 888-888-2222\n",
        "- 800-555-1211\n",
        "- 800 555 1212\n",
        "- 800.555.1213\n",
        "- (800) 555-1214\n",
        "- 1-800-555-1215\n",
        "- 1(800)555-1216\n",
        "- 800-555-1212-1234\n",
        "- 800-555-1212x1234\n",
        "- 800-555-1212 ext. 1234\n",
        "- work 1-(800) 555.1212 #1234\n",
        "\n",
        "# Your goal is to standardize everything in the form (xxx)-xxx-xxx.\n",
        "\n",
        "To make the process interactive, go to http://regex101.com/?#python, copy and paste the numbers above in the text area called \"Text String\", and then try to write the regular expression above. (Remember to put the \"g\" character in the small text field next to the regex: this has the same meaning as in sed, and it means \"find globally\" the regex, not just the first occurence)."
      ]
    },
    {
      "cell_type": "code",
      "metadata": {
        "id": "uAd8I0MYV9ER",
        "colab_type": "code",
        "colab": {}
      },
      "source": [
        "TextString = \"\"\"\n",
        "\n",
        "679-397-5255\n",
        "2126660921\n",
        "212-998-0902\n",
        "888-888-2222\n",
        "800-555-1211\n",
        "800 555 1212\n",
        "800.555.1213\n",
        "(800) 555-1214\n",
        "1-800-555-1215\n",
        "1(800)555-1216\n",
        "800-555-1212-1234\n",
        "800-555-1212x1234\n",
        "800-555-1212 ext. 1234\n",
        "work 1-(800) 555.1212 #1234\n",
        "\n",
        "\"\"\"\n",
        "\n",
        "# your code here"
      ],
      "execution_count": 18,
      "outputs": []
    },
    {
      "cell_type": "markdown",
      "metadata": {
        "id": "PchoFHqLV9ET",
        "colab_type": "text"
      },
      "source": [
        "# Solution"
      ]
    },
    {
      "cell_type": "code",
      "metadata": {
        "id": "fFgPGvVuV9ET",
        "colab_type": "code",
        "colab": {}
      },
      "source": [
        "TextString = \"\"\"\n",
        "\n",
        "679-397-5255\n",
        "2126660921\n",
        "212-998-0902\n",
        "888-888-2222\n",
        "800-555-1211\n",
        "800 555 1212\n",
        "800.555.1213\n",
        "(800) 555-1214\n",
        "1-800-555-1215\n",
        "1(800)555-1216\n",
        "800-555-1212-1234\n",
        "800-555-1212x1234\n",
        "800-555-1212 ext. 1234\n",
        "work 1-(800) 555.1212 #1234\n",
        "\n",
        "\"\"\""
      ],
      "execution_count": 33,
      "outputs": []
    },
    {
      "cell_type": "markdown",
      "metadata": {
        "id": "NYKG6SjDV9EZ",
        "colab_type": "text"
      },
      "source": [
        "---"
      ]
    },
    {
      "cell_type": "markdown",
      "metadata": {
        "id": "tPLQ9mB7V9EZ",
        "colab_type": "text"
      },
      "source": [
        "# [Python's re Regular Expression Library](https://docs.python.org/3/library/re.html)\n",
        "\n",
        "We are going to move away from using Panos's Grep function now and focus on Python's Regular Expression Library (re). To be clear, the regular expressions remain the same, but ow we call for them and summon them is different. \n",
        "\n",
        "A quick note on match groups, too. [_Documentation_](https://docs.python.org/2/library/re.html)\n",
        "\n",
        "`group([group1, ...]) returns one or more subgroups of the match. If there is a single argument, the result is a single string; if there are multiple arguments, the result is a tuple with one item per argument. Without arguments, group1 defaults to zero (the whole match is returned). If a groupN argument is zero, the corresponding return value is the entire matching string; if it is in the inclusive range [1..99], it is the string matching the corresponding parenthesized group. If a group number is negative or larger than the number of groups defined in the pattern, an IndexError exception is raised. If a group is contained in a part of the pattern that did not match, the corresponding result is None. If a group is contained in a part of the pattern that matched multiple times, the last match is returned.`\n",
        "\n",
        "For example: \n",
        "```python \n",
        ">>> m = re.match(r\"(\\w+) (\\w+)\", \"Isaac Newton, physicist\")\n",
        ">>> m.group(0)       # The entire match\n",
        "'Isaac Newton'\n",
        ">>> m.group(1)       # The first parenthesized subgroup.\n",
        "'Isaac'\n",
        ">>> m.group(2)       # The second parenthesized subgroup.\n",
        "'Newton'\n",
        ">>> m.group(1, 2)    # Multiple arguments give us a tuple.\n",
        "('Isaac', 'Newton')\n",
        "```"
      ]
    },
    {
      "cell_type": "code",
      "metadata": {
        "id": "n5-nWvcLV9Ea",
        "colab_type": "code",
        "colab": {}
      },
      "source": [
        "text = \"Hello, my name is Alex Siegman. Please call me back at 212 555-9583 or email me at as13815@nyu.edu at your \\\n",
        "earliest convenience. Thank you.\""
      ],
      "execution_count": 20,
      "outputs": []
    },
    {
      "cell_type": "code",
      "metadata": {
        "id": "CBOKuyIsV9Ec",
        "colab_type": "code",
        "colab": {}
      },
      "source": [
        ""
      ],
      "execution_count": 33,
      "outputs": []
    },
    {
      "cell_type": "code",
      "metadata": {
        "id": "U_jCCZAiV9Ee",
        "colab_type": "code",
        "colab": {}
      },
      "source": [
        ""
      ],
      "execution_count": 33,
      "outputs": []
    },
    {
      "cell_type": "markdown",
      "metadata": {
        "id": "nQNuXIe7V9Eg",
        "colab_type": "text"
      },
      "source": [
        "Let's try and match for an email address:"
      ]
    },
    {
      "cell_type": "code",
      "metadata": {
        "id": "y2cic-noV9Eg",
        "colab_type": "code",
        "colab": {}
      },
      "source": [
        "               "
      ],
      "execution_count": 33,
      "outputs": []
    },
    {
      "cell_type": "markdown",
      "metadata": {
        "id": "eDLtfwLYV9Ei",
        "colab_type": "text"
      },
      "source": [
        "How about for a phone number? "
      ]
    },
    {
      "cell_type": "code",
      "metadata": {
        "id": "40wlEmWoV9Ej",
        "colab_type": "code",
        "colab": {}
      },
      "source": [
        ""
      ],
      "execution_count": 33,
      "outputs": []
    },
    {
      "cell_type": "markdown",
      "metadata": {
        "id": "dFw1fGQvV9El",
        "colab_type": "text"
      },
      "source": [
        "And what if you have multiple matches in the same string? "
      ]
    },
    {
      "cell_type": "code",
      "metadata": {
        "id": "Wf7dg0GSV9Em",
        "colab_type": "code",
        "colab": {}
      },
      "source": [
        "text = \"Hello, my name is Alex Siegman. Please call me back at 212 555-9583 or 314 935-9981 or email me at as13815@nyu.edu at your \\\n",
        "earliest convenience. Thank you.\""
      ],
      "execution_count": 25,
      "outputs": []
    },
    {
      "cell_type": "code",
      "metadata": {
        "id": "E4oOXOTpV9Eo",
        "colab_type": "code",
        "colab": {}
      },
      "source": [
        ""
      ],
      "execution_count": 33,
      "outputs": []
    },
    {
      "cell_type": "markdown",
      "metadata": {
        "id": "Nv7H_JRDV9Eq",
        "colab_type": "text"
      },
      "source": [
        "---"
      ]
    },
    {
      "cell_type": "markdown",
      "metadata": {
        "id": "6_IeN4WNV9Eq",
        "colab_type": "text"
      },
      "source": [
        "## Data Extraction \n",
        "\n",
        "It's awesome that we can return our matches here in our notebook, but what we really want to do is select the strings that match our regex and return them to a program to be processed. For example: "
      ]
    },
    {
      "cell_type": "code",
      "metadata": {
        "id": "anQNNQl_V9Eq",
        "colab_type": "code",
        "colab": {}
      },
      "source": [
        ""
      ],
      "execution_count": 33,
      "outputs": []
    },
    {
      "cell_type": "markdown",
      "metadata": {
        "id": "sc-UCgalV9Es",
        "colab_type": "text"
      },
      "source": [
        "What about our large 'file' of ill-formatted phone numbers from earlier? "
      ]
    },
    {
      "cell_type": "code",
      "metadata": {
        "id": "bC5LNE7HV9Et",
        "colab_type": "code",
        "colab": {}
      },
      "source": [
        "TextString = \"\"\"\n",
        "\n",
        "679-397-5255\n",
        "2126660921\n",
        "212-998-0902\n",
        "888-888-2222\n",
        "800-555-1211\n",
        "800 555 1212\n",
        "800.555.1213\n",
        "(800) 555-1214\n",
        "1-800-555-1215\n",
        "1(800)555-1216\n",
        "800-555-1212-1234\n",
        "800-555-1212x1234\n",
        "800-555-1212 ext. 1234\n",
        "work 1-(800) 555.1212 #1234\n",
        "\n",
        "\"\"\""
      ],
      "execution_count": 28,
      "outputs": []
    },
    {
      "cell_type": "code",
      "metadata": {
        "id": "iVb_E0JgV9Ev",
        "colab_type": "code",
        "colab": {}
      },
      "source": [
        ""
      ],
      "execution_count": 33,
      "outputs": []
    },
    {
      "cell_type": "markdown",
      "metadata": {
        "id": "T0YQym9wV9Ex",
        "colab_type": "text"
      },
      "source": [
        "## String Replacement\n",
        "\n",
        "String Replacement (.sub()) allows us to return a version of our text where all instances that matched have been substituted with a replacement. For instance, if we want to mask phone numbers in a document: "
      ]
    },
    {
      "cell_type": "code",
      "metadata": {
        "id": "9ZqK-la3V9Ex",
        "colab_type": "code",
        "colab": {}
      },
      "source": [
        ""
      ],
      "execution_count": 33,
      "outputs": []
    },
    {
      "cell_type": "markdown",
      "metadata": {
        "id": "oA7a6gioV9Ez",
        "colab_type": "text"
      },
      "source": [
        "---"
      ]
    }
  ]
}