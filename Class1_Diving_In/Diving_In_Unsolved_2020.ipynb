{
  "nbformat": 4,
  "nbformat_minor": 0,
  "metadata": {
    "colab": {
      "name": "Diving_In_Solved_2020.ipynb",
      "provenance": [],
      "collapsed_sections": [],
      "toc_visible": true
    },
    "kernelspec": {
      "display_name": "Python 3",
      "language": "python",
      "name": "python3"
    },
    "language_info": {
      "codemirror_mode": {
        "name": "ipython",
        "version": 3
      },
      "file_extension": ".py",
      "mimetype": "text/x-python",
      "name": "python",
      "nbconvert_exporter": "python",
      "pygments_lexer": "ipython3",
      "version": "3.7.3"
    }
  },
  "cells": [
    {
      "cell_type": "markdown",
      "metadata": {
        "colab_type": "text",
        "id": "myNE5dciGRZI"
      },
      "source": [
        "# Welcome to Projects in Programming & Data Science! "
      ]
    },
    {
      "cell_type": "markdown",
      "metadata": {
        "colab_type": "text",
        "id": "GzO4dncfGRZJ"
      },
      "source": [
        "---"
      ]
    },
    {
      "cell_type": "markdown",
      "metadata": {
        "colab_type": "text",
        "id": "LK3g72vIGRZL"
      },
      "source": [
        "# Laptop Setup\n",
        "\n",
        "### NYU Classes\n",
        "\n",
        "Make sure you are able to access our course page on NYU Classes. This is where I will be posting all of our course content (notebooks, datasets, et. cetera). This is also where all of your assignments will be posted, graded, and returned. \n",
        "\n",
        "### Colab\n",
        "\n",
        "In order to standardize the way we all use Jupyter Notebook (described below) we are going to use Google's Colab (https://colab.research.google.com/notebooks/welcome.ipynb) \n",
        "\n",
        "Think of using Colab as renting a computer via your web browser (I recommend Chrome) that you can use. This is important because that means that in order to save your work, you need to download it from Colab onto your computer (machine) and re-upload it next time you'd like to work with it. \n",
        "\n",
        "For instance, if I want to open today's class notebook in Colab, I: \n",
        "\n",
        "<br>\n",
        "\n",
        "1. **Will go to https://colab.research.google.com/notebooks/welcome.ipynb**\n",
        "\n",
        "<div> \n",
        "    <img src=\"attachment:Screen%20Shot%202019-10-23%20at%201.51.42%20PM.png\" width=600  />\n",
        "</div>\n",
        "\n",
        "2. **Will click \"file\" > \"upload notebook\"** \n",
        "\n",
        "<div> \n",
        "    <img src=\"attachment:Screen%20Shot%202019-10-23%20at%201.54.00%20PM.png\" width=600  />\n",
        "</div>\n",
        "\n",
        "3. **Note that a Jupyter Notebook will always have a .ipynb extension. In Colab I can click \"Upload\" then \"Choose File\" and upload the notebook (that I have downloaded from NYU Classes) to Colab.**\n",
        "\n",
        "<div> \n",
        "    <img src=\"attachment:Screen%20Shot%202019-10-23%20at%201.54.49%20PM.png\" width=600  />\n",
        "</div>\n",
        "\n",
        "4. **Once I click \"Open\" ...**\n",
        "\n",
        "<div> \n",
        "    <img src=\"attachment:Screen%20Shot%202019-10-23%20at%201.55.06%20PM.png\" width=600  />\n",
        "</div>\n",
        "\n",
        "5. **Colab should open the notebook, and voila!**\n",
        "\n",
        "<div> \n",
        "    <img src=\"attachment:Screen%20Shot%202019-10-23%20at%201.55.27%20PM.png\" width=600  />\n",
        "</div>"
      ]
    },
    {
      "cell_type": "markdown",
      "metadata": {
        "colab_type": "text",
        "id": "Uy06siIeGRZM"
      },
      "source": [
        "---"
      ]
    },
    {
      "cell_type": "markdown",
      "metadata": {
        "colab_type": "text",
        "id": "bo3RXty7GRZN"
      },
      "source": [
        "Today we're going to jump right in to the mix and leverage the CitiBike API to populate a sqlite database at regular intervals. Consider this your warm-up for the semester! "
      ]
    },
    {
      "cell_type": "markdown",
      "metadata": {
        "colab_type": "text",
        "id": "Ro8ntRzNGRZO"
      },
      "source": [
        "\n"
      ]
    },
    {
      "cell_type": "code",
      "metadata": {
        "colab_type": "code",
        "id": "E0f86amjGRZP",
        "colab": {}
      },
      "source": [
        ""
      ],
      "execution_count": null,
      "outputs": []
    },
    {
      "cell_type": "markdown",
      "metadata": {
        "colab_type": "text",
        "id": "Aa3Tfe4CGRZU"
      },
      "source": [
        "[SQLite](https://www.sqlite.org/index.html) is a library that allows us to create, populate, and call upon a SQL Database. It's also serverless, meaning we don't need to access a separate server where we're storing our data – instead, we can directly access our databse. We can even store that database as a file on our local machine and call upon it. "
      ]
    },
    {
      "cell_type": "code",
      "metadata": {
        "colab_type": "code",
        "id": "a3zYnkWGGRZU",
        "colab": {}
      },
      "source": [
        ""
      ],
      "execution_count": null,
      "outputs": []
    },
    {
      "cell_type": "markdown",
      "metadata": {
        "colab_type": "text",
        "id": "uW5lbjOnGRZY"
      },
      "source": [
        "Now, let's check out the API we'll be working with: http://gbfs.citibikenyc.com/gbfs/gbfs.json"
      ]
    },
    {
      "cell_type": "markdown",
      "metadata": {
        "colab_type": "text",
        "id": "ioq4AQ8kGRZZ"
      },
      "source": [
        "---"
      ]
    },
    {
      "cell_type": "markdown",
      "metadata": {
        "colab_type": "text",
        "id": "ivoAw0TDGRZZ"
      },
      "source": [
        "First, we'll request the json from the CitiBike API URL and just print it out to get a quick glimpse"
      ]
    },
    {
      "cell_type": "code",
      "metadata": {
        "colab_type": "code",
        "id": "rtXpoI3RGRZa",
        "colab": {}
      },
      "source": [
        ""
      ],
      "execution_count": null,
      "outputs": []
    },
    {
      "cell_type": "markdown",
      "metadata": {
        "colab_type": "text",
        "id": "l5BPWrFzGRZe"
      },
      "source": [
        "As you can see, the json is a dictionary of lists and other dictionaries containing information about CitiBike stations across New York City. "
      ]
    },
    {
      "cell_type": "code",
      "metadata": {
        "colab_type": "code",
        "id": "3Qyc_e1_KcIX",
        "colab": {}
      },
      "source": [
        ""
      ],
      "execution_count": null,
      "outputs": []
    },
    {
      "cell_type": "code",
      "metadata": {
        "colab_type": "code",
        "id": "d3TCtvySN-CB",
        "colab": {}
      },
      "source": [
        ""
      ],
      "execution_count": null,
      "outputs": []
    },
    {
      "cell_type": "code",
      "metadata": {
        "colab_type": "code",
        "id": "j29CAwAXPyI-",
        "colab": {}
      },
      "source": [
        ""
      ],
      "execution_count": null,
      "outputs": []
    },
    {
      "cell_type": "code",
      "metadata": {
        "colab_type": "code",
        "id": "iSsTli19OBC-",
        "colab": {}
      },
      "source": [
        ""
      ],
      "execution_count": null,
      "outputs": []
    },
    {
      "cell_type": "code",
      "metadata": {
        "colab_type": "code",
        "id": "8r4-_WcAGRZi",
        "colab": {}
      },
      "source": [
        ""
      ],
      "execution_count": null,
      "outputs": []
    },
    {
      "cell_type": "code",
      "metadata": {
        "colab_type": "code",
        "id": "XGVfopooTfCX",
        "colab": {}
      },
      "source": [
        ""
      ],
      "execution_count": null,
      "outputs": []
    },
    {
      "cell_type": "code",
      "metadata": {
        "colab_type": "code",
        "id": "aGOK6xt4Sxf7",
        "colab": {}
      },
      "source": [
        ""
      ],
      "execution_count": null,
      "outputs": []
    },
    {
      "cell_type": "code",
      "metadata": {
        "colab_type": "code",
        "id": "jJyNiPx5TydY",
        "colab": {}
      },
      "source": [
        ""
      ],
      "execution_count": null,
      "outputs": []
    },
    {
      "cell_type": "markdown",
      "metadata": {
        "colab_type": "text",
        "id": "a6aZV9QBGRZo"
      },
      "source": [
        "So, we have our data from the CitiBike feed, and it looks pretty good! Now we need to create a table within our database (the one we named citibikeData.db). We do that using the 'CREATE TABLE IF NOT EXISTS' statement seen below. \n",
        "\n",
        "In that statement, the 'IF NOT EXISTS' makes clear that we are going to create the table called 'StationsData' only once. That way, if we run that cell again, it's not going to overwrite the work we've previously done. \n",
        "\n",
        "Note that at this point we aren't adding any data to our table. All we're doing is telling SQLite that we want to create a new table, and providing it with a) the column names and b) the data type those columns should be expecting."
      ]
    },
    {
      "cell_type": "code",
      "metadata": {
        "colab_type": "code",
        "id": "hdSCIt70GRZp",
        "colab": {}
      },
      "source": [
        "```python\n",
        "\n",
        "sql = \"CREATE TABLE IF NOT EXISTS StationsData (station_id int, num_ebikes_available int, num_bikes_available int, is_installed int, last_reported int, num_docks_disabled int, is_renting int, eightd_has_available_keys varchar(250), num_docks_available int, num_bikes_disabled int, legacy_id int, station_status varchar(250), is_returning int);\" \n",
        "\n",
        "con.execute(sql)\n",
        "con.commit()\n",
        "\n",
        "```"
      ],
      "execution_count": null,
      "outputs": []
    },
    {
      "cell_type": "markdown",
      "metadata": {
        "colab_type": "text",
        "id": "NB2u3V2LGRZr"
      },
      "source": [
        "Now that we have our database and our table, we want to insert our data. \n",
        "\n",
        "Below, we create a \"query template\" where we \"INSERT OR IGNORE INTO\" our table (StationsData) the values associated with each of our columns. \n",
        "\n",
        "We define those values by parsing through the CitiBike json we got earlier, and for each \"row\" of that json, we create a new row in our SQLite table. "
      ]
    },
    {
      "cell_type": "code",
      "metadata": {
        "colab_type": "code",
        "id": "oQOFU5E3GRZs",
        "colab": {}
      },
      "source": [
        "```python\n",
        "\n",
        "query_template = \"\"\"INSERT OR IGNORE INTO StationsData(station_id, num_ebikes_available, num_bikes_available, \\\n",
        "is_installed, last_reported, num_docks_disabled, is_renting, eightd_has_available_keys, \\\n",
        "num_docks_available, num_bikes_disabled, legacy_id, station_status, is_returning) \\\n",
        "VALUES (?, ?, ?, ?, ?, ?, ?, ?, ?, ?, ?, ?, ?);\"\"\"\n",
        "\n",
        "for entry in clean_data: # for every station entry in the json \n",
        "    station_id = int(entry['station_id']) # find and set station_id\n",
        "    num_ebikes_available = int(entry['num_ebikes_available'])\n",
        "    num_bikes_available = int(entry['num_bikes_available'])\n",
        "    is_installed = int(entry['is_installed'])\n",
        "    last_reported = int(entry['last_reported'])\n",
        "    num_docks_disabled = int(entry['num_docks_disabled'])\n",
        "    is_renting = int(entry['is_renting'])\n",
        "    eightd_has_available_keys = str(entry['eightd_has_available_keys'])\n",
        "    num_docks_available = int(entry['num_docks_available'])\n",
        "    num_bikes_disabled = int(entry['num_bikes_disabled'])\n",
        "    legacy_id = int(entry['legacy_id'])\n",
        "    station_status = str(entry['station_status'])\n",
        "    is_returning = int(entry['is_returning'])\n",
        "                           \n",
        "    print(\"Inserting Station:\", station_id, num_ebikes_available, num_bikes_available, is_installed, last_reported, num_docks_disabled, is_renting, eightd_has_available_keys, num_docks_available, num_bikes_disabled, legacy_id, station_status, is_returning) \n",
        "    \n",
        "    query_parameters = (station_id, num_ebikes_available, num_bikes_available, is_installed, last_reported, num_docks_disabled, is_renting, eightd_has_available_keys, num_docks_available, num_bikes_disabled, legacy_id, station_status, is_returning) \n",
        "    \n",
        "    con.execute(query_template, query_parameters)\n",
        "    \n",
        "con.commit()\n",
        "\n",
        "```"
      ],
      "execution_count": null,
      "outputs": []
    },
    {
      "cell_type": "markdown",
      "metadata": {
        "colab_type": "text",
        "id": "gAVN7kGqGRZv"
      },
      "source": [
        "Now, we can use [pd.read_sql](https://pandas.pydata.org/pandas-docs/stable/reference/api/pandas.read_sql.html) to check that we are properly connected to our database, and the StationsData table within that database:"
      ]
    },
    {
      "cell_type": "code",
      "metadata": {
        "colab_type": "code",
        "id": "iQC7BRwVGRZv",
        "colab": {}
      },
      "source": [
        ""
      ],
      "execution_count": null,
      "outputs": []
    },
    {
      "cell_type": "markdown",
      "metadata": {
        "colab_type": "text",
        "id": "pNBv8DFaGRZy"
      },
      "source": [
        "Looks good! Last but not least, let's set things up so that our database automatically updates every 15 seconds. "
      ]
    },
    {
      "cell_type": "code",
      "metadata": {
        "colab_type": "code",
        "id": "xHUeCi00GRZz",
        "colab": {}
      },
      "source": [
        ""
      ],
      "execution_count": null,
      "outputs": []
    },
    {
      "cell_type": "markdown",
      "metadata": {
        "colab_type": "text",
        "id": "sIVlJs5TGRZ2"
      },
      "source": [
        "---"
      ]
    },
    {
      "cell_type": "markdown",
      "metadata": {
        "colab_type": "text",
        "id": "KU6F9cKtGRZ2"
      },
      "source": [
        "I hope this has helped you find your programming legs! Next week we'll get back to descriptive analytics using Python and Pandas. For now, take time to refresh yourself on the content covered in \"Introduction to Programming\". \n",
        "\n",
        "If you need a referesher on your SQL skills, check out the \"Supplementary Info\" directory in the class repo."
      ]
    }
  ]
}