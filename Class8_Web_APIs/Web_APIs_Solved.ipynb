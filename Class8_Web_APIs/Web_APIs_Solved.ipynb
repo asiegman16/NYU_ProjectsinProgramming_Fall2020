{
  "nbformat": 4,
  "nbformat_minor": 0,
  "metadata": {
    "kernelspec": {
      "display_name": "Python 3",
      "language": "python",
      "name": "python3"
    },
    "language_info": {
      "codemirror_mode": {
        "name": "ipython",
        "version": 3
      },
      "file_extension": ".py",
      "mimetype": "text/x-python",
      "name": "python",
      "nbconvert_exporter": "python",
      "pygments_lexer": "ipython3",
      "version": "3.7.6"
    },
    "colab": {
      "name": "Web_APIs_Solved.ipynb",
      "provenance": []
    }
  },
  "cells": [
    {
      "cell_type": "markdown",
      "metadata": {
        "id": "U17mtdB0_Ld8"
      },
      "source": [
        "# Web APIs"
      ]
    },
    {
      "cell_type": "markdown",
      "metadata": {
        "id": "VQ3Ngm-d_Ld9"
      },
      "source": [
        "---"
      ]
    },
    {
      "cell_type": "markdown",
      "metadata": {
        "id": "Z3pWK8g2_Ld-"
      },
      "source": [
        "What even is an API (Application Programming Interface)? \n",
        "\n",
        "Think about what happens when I visit NYT.com..."
      ]
    },
    {
      "cell_type": "markdown",
      "metadata": {
        "id": "eppGDWpi_Ld_"
      },
      "source": [
        "1. I as the \"Person\" go to https://www.nytimes.com in my browser (known as the \"Client\"), <br>\n",
        "<br>\n",
        "2. The client makes a request to the NYT Website (known as the \"Server\") – think of this server as a warehouse with all of the NYT content, <br>\n",
        "<br>\n",
        "3. The server responds to the client request with HTML, CSS, images, and other assets. The browser then combines those assets and displays them on the webpage. <br>\n",
        "\n",
        "An API is what allows the Server to \"talk to\" the Client. "
      ]
    },
    {
      "cell_type": "markdown",
      "metadata": {
        "id": "3R0wUnzQ_Ld_"
      },
      "source": [
        "---"
      ]
    },
    {
      "cell_type": "markdown",
      "metadata": {
        "id": "C7GKI8uu_LeA"
      },
      "source": [
        "## `Request-Response Cycle`\n",
        "\n",
        "To understand what's happening here, it's important to understand the \"Request-Response Cycle.\" As we've seen, this involves the client sending a request to the server (via an API) and the server responding (also via an API). \n",
        "\n",
        "Behind the scenes, to make this cycle possible, you need: \n",
        "\n",
        "1. a URL, \n",
        "2. a Method, \n",
        "3. a list of Headers,\n",
        "4. a Body"
      ]
    },
    {
      "cell_type": "markdown",
      "metadata": {
        "id": "yOhNVF-W_LeB"
      },
      "source": [
        "### *The URL*\n",
        "\n",
        "> HTTP (Hyper-Text Transfer Protocol) is exactly what it sounds like, a protocol. It allows for a common language that enables the client and server to speak with one another. \n",
        "\n",
        "### *The Method*\n",
        "\n",
        "> The four most common methods are GET (ask the server to retrieve something), POST (ask the server to create something), PUT (ask the server to edit something), and DELETE (ask the server to delete something). \n",
        "\n",
        "### *Headers*\n",
        "\n",
        "> Headers provide meatdata about a request, such as the time a request was sent. \n",
        "\n",
        "### *Body*\n",
        "\n",
        "> The body contains the data the client wants sent to the server. "
      ]
    },
    {
      "cell_type": "markdown",
      "metadata": {
        "id": "k63aDEV1_LeB"
      },
      "source": [
        "## Let's see it in action:"
      ]
    },
    {
      "cell_type": "markdown",
      "metadata": {
        "id": "aSCjiYfO_LeC"
      },
      "source": [
        "**First, let's check the NYT homepage and go to Developer > Developer Tools in our browser**"
      ]
    },
    {
      "cell_type": "markdown",
      "metadata": {
        "id": "_j9CHCPU_LeC"
      },
      "source": [
        "**Then, click \"Network\"** "
      ]
    },
    {
      "cell_type": "markdown",
      "metadata": {
        "id": "GzK3W3Qr_LeD"
      },
      "source": [
        "**Now we can click on the article of interest (the first article on teir homepage, in this case) and see what happens when we request that information.**"
      ]
    },
    {
      "cell_type": "markdown",
      "metadata": {
        "id": "-wK1oh3r_LeE"
      },
      "source": [
        "**We can then select \"Img\" to see all of the images loaded**"
      ]
    },
    {
      "cell_type": "markdown",
      "metadata": {
        "id": "0pu2Xl8s_LeE"
      },
      "source": [
        "**And we can see the request URL for the first image on the article:**"
      ]
    },
    {
      "cell_type": "markdown",
      "metadata": {
        "id": "raDNQLWU_LeF"
      },
      "source": [
        "**Last but not least, when we go to that URL, we see our image!** (Looks like it's being stored in GCS)"
      ]
    },
    {
      "cell_type": "markdown",
      "metadata": {
        "id": "l3Je5omm_LeF"
      },
      "source": [
        "---"
      ]
    },
    {
      "cell_type": "markdown",
      "metadata": {
        "id": "iphVPloi_LeG"
      },
      "source": [
        "## Example 2: GeoIP resolution"
      ]
    },
    {
      "cell_type": "markdown",
      "metadata": {
        "id": "JpI7H9gf_LeG"
      },
      "source": [
        "We will start with an example that is doing a \"geoIP\" resolution: it takes the IP of a computer and returns back its location."
      ]
    },
    {
      "cell_type": "code",
      "metadata": {
        "id": "AgboKnFs_LeH",
        "outputId": "41114948-271a-4d24-907c-cdf8bc8ad2b7",
        "colab": {
          "base_uri": "https://localhost:8080/",
          "height": 34
        }
      },
      "source": [
        "# https://ipstack.com/\n",
        "\n",
        "import requests\n",
        "\n",
        "url = 'http://api.ipstack.com/check?access_key=dd4cbbbe9d6b9f2709e5f0533644e547'\n",
        "resp = requests.get(url)\n",
        "\n",
        "resp # the 'response' of the server\n",
        "\n",
        "# 200 means things went well\n",
        "# 404 means the URL wasn't found\n",
        "# 5xx means something, somehow, somewhere went wrong "
      ],
      "execution_count": 1,
      "outputs": [
        {
          "output_type": "execute_result",
          "data": {
            "text/plain": [
              "<Response [200]>"
            ]
          },
          "metadata": {
            "tags": []
          },
          "execution_count": 1
        }
      ]
    },
    {
      "cell_type": "code",
      "metadata": {
        "id": "k7BaJaOH_LeK",
        "outputId": "42f99d0d-3171-45f9-8b10-03e984400ea5",
        "colab": {
          "base_uri": "https://localhost:8080/",
          "height": 120
        }
      },
      "source": [
        "# let's see the content of the response\n",
        "\n",
        "data = resp.text\n",
        "data"
      ],
      "execution_count": 3,
      "outputs": [
        {
          "output_type": "execute_result",
          "data": {
            "application/vnd.google.colaboratory.intrinsic+json": {
              "type": "string"
            },
            "text/plain": [
              "'{\"ip\":\"34.73.190.179\",\"type\":\"ipv4\",\"continent_code\":\"NA\",\"continent_name\":\"North America\",\"country_code\":\"US\",\"country_name\":\"United States\",\"region_code\":\"SC\",\"region_name\":\"South Carolina\",\"city\":\"North Charleston\",\"zip\":\"29418\",\"latitude\":32.890079498291016,\"longitude\":-80.0589370727539,\"location\":{\"geoname_id\":4589387,\"capital\":\"Washington D.C.\",\"languages\":[{\"code\":\"en\",\"name\":\"English\",\"native\":\"English\"}],\"country_flag\":\"http:\\\\/\\\\/assets.ipstack.com\\\\/flags\\\\/us.svg\",\"country_flag_emoji\":\"\\\\ud83c\\\\uddfa\\\\ud83c\\\\uddf8\",\"country_flag_emoji_unicode\":\"U+1F1FA U+1F1F8\",\"calling_code\":\"1\",\"is_eu\":false}}'"
            ]
          },
          "metadata": {
            "tags": []
          },
          "execution_count": 3
        }
      ]
    },
    {
      "cell_type": "code",
      "metadata": {
        "id": "Yb00leoc_LeM",
        "outputId": "2deb2490-efbd-4deb-8d0a-98d745d56fd2",
        "colab": {
          "base_uri": "https://localhost:8080/",
          "height": 357
        }
      },
      "source": [
        "# last but not least, let's transofrm the JSON file into a Python dictionary object using .json\n",
        "\n",
        "data = resp.json()\n",
        "\n",
        "data"
      ],
      "execution_count": 4,
      "outputs": [
        {
          "output_type": "execute_result",
          "data": {
            "text/plain": [
              "{'city': 'North Charleston',\n",
              " 'continent_code': 'NA',\n",
              " 'continent_name': 'North America',\n",
              " 'country_code': 'US',\n",
              " 'country_name': 'United States',\n",
              " 'ip': '34.73.190.179',\n",
              " 'latitude': 32.890079498291016,\n",
              " 'location': {'calling_code': '1',\n",
              "  'capital': 'Washington D.C.',\n",
              "  'country_flag': 'http://assets.ipstack.com/flags/us.svg',\n",
              "  'country_flag_emoji': '🇺🇸',\n",
              "  'country_flag_emoji_unicode': 'U+1F1FA U+1F1F8',\n",
              "  'geoname_id': 4589387,\n",
              "  'is_eu': False,\n",
              "  'languages': [{'code': 'en', 'name': 'English', 'native': 'English'}]},\n",
              " 'longitude': -80.0589370727539,\n",
              " 'region_code': 'SC',\n",
              " 'region_name': 'South Carolina',\n",
              " 'type': 'ipv4',\n",
              " 'zip': '29418'}"
            ]
          },
          "metadata": {
            "tags": []
          },
          "execution_count": 4
        }
      ]
    },
    {
      "cell_type": "code",
      "metadata": {
        "id": "2bF209bV_LeO",
        "outputId": "a0f40e1a-879e-4e37-cb68-eb8ff002121b",
        "colab": {
          "base_uri": "https://localhost:8080/",
          "height": 34
        }
      },
      "source": [
        "# now we can access the fields of the JSON as we normally access Python dictionary entries\n",
        "\n",
        "print(\"Lon:\", data[\"longitude\"], \"Lat:\", data[\"latitude\"])"
      ],
      "execution_count": 5,
      "outputs": [
        {
          "output_type": "stream",
          "text": [
            "Lon: -80.0589370727539 Lat: 32.890079498291016\n"
          ],
          "name": "stdout"
        }
      ]
    },
    {
      "cell_type": "markdown",
      "metadata": {
        "id": "f7lw0_g7_LeR"
      },
      "source": [
        "Alltogether now:"
      ]
    },
    {
      "cell_type": "code",
      "metadata": {
        "id": "225vK2aE_LeR",
        "outputId": "9676f818-98a4-4225-fbcb-46dcd4035317",
        "colab": {
          "base_uri": "https://localhost:8080/",
          "height": 34
        }
      },
      "source": [
        "import requests\n",
        "url = 'http://api.ipstack.com/check?access_key=dd4cbbbe9d6b9f2709e5f0533644e547'\n",
        "resp = requests.get(url)\n",
        "data = resp.json()\n",
        "print(\"Lon:\", data[\"longitude\"], \"Lat:\", data[\"latitude\"])"
      ],
      "execution_count": 6,
      "outputs": [
        {
          "output_type": "stream",
          "text": [
            "Lon: -80.0589370727539 Lat: 32.890079498291016\n"
          ],
          "name": "stdout"
        }
      ]
    },
    {
      "cell_type": "markdown",
      "metadata": {
        "id": "LtyC6UHU_LeU"
      },
      "source": [
        "---"
      ]
    },
    {
      "cell_type": "markdown",
      "metadata": {
        "id": "ai0zbkrZ_LeU"
      },
      "source": [
        "## Using Parameters with API Calls\n"
      ]
    },
    {
      "cell_type": "markdown",
      "metadata": {
        "id": "5l7YwQFI_LeV"
      },
      "source": [
        "The first API call that we tried was very simple. We just fetched a URL. Now let's see a URL that accepts as input a set of **parameters**. We have already seen this concept with functions; the parameters of the API calls are the exact equivalent but for Web APIs, which are, at their core, functions that we call over the web. "
      ]
    },
    {
      "cell_type": "markdown",
      "metadata": {
        "id": "PLfaoMO9_LeV"
      },
      "source": [
        "## Example 3: OpenWeatherMap"
      ]
    },
    {
      "cell_type": "markdown",
      "metadata": {
        "id": "3EHMceyc_LeW"
      },
      "source": [
        "Let's try to query OpenWeatherMap now, to get data about the weather. [Documentation here](http://openweathermap.org/current#geo). \n",
        "\n",
        "Below you can find the URL that you can copy and paste in your browser to get the weather for New York. You will notice that it contains parameters as part of the URL, including an `appid` which is a key that is used to limit the number of calls that can be issued by a single application. \n",
        "\n",
        "Try the URL in your browser. Also try to change the query parameter `q` and change it from `New%20York,NY` to something different. (Note: The `%20` is a transformation for the space (` `) character in URLs.)"
      ]
    },
    {
      "cell_type": "markdown",
      "metadata": {
        "id": "bcV9iLV7_LeW"
      },
      "source": [
        "http://api.openweathermap.org/data/2.5/weather?q=New%20York,NY,USA&units=imperial&mode=json&appid=ffb7b9808e07c9135bdcc7d1e867253d"
      ]
    },
    {
      "cell_type": "markdown",
      "metadata": {
        "id": "U--K4V5I_LeX"
      },
      "source": [
        "Below you can find the same code, but now we have a Python dictionary to organize and list the parameters."
      ]
    },
    {
      "cell_type": "code",
      "metadata": {
        "id": "lF7whC-u_LeX",
        "outputId": "bfcf28c8-077c-4847-9611-81fa87d4db42",
        "colab": {
          "base_uri": "https://localhost:8080/",
          "height": 476
        }
      },
      "source": [
        "import requests\n",
        "\n",
        "openweathermap_url = \"http://api.openweathermap.org/data/2.5/weather\"\n",
        "\n",
        "parameters = {\n",
        "    'q'     : 'New York, NY, USA',\n",
        "    'units' : 'imperial',\n",
        "    'mode'  : 'json',\n",
        "    'appid' : 'ffb7b9808e07c9135bdcc7d1e867253d'\n",
        "}\n",
        "\n",
        "resp = requests.get(openweathermap_url, params=parameters)\n",
        "data = resp.json()\n",
        "data"
      ],
      "execution_count": 7,
      "outputs": [
        {
          "output_type": "execute_result",
          "data": {
            "text/plain": [
              "{'base': 'stations',\n",
              " 'clouds': {'all': 90},\n",
              " 'cod': 200,\n",
              " 'coord': {'lat': 40.73, 'lon': -73.99},\n",
              " 'dt': 1602861976,\n",
              " 'id': 5128581,\n",
              " 'main': {'feels_like': 52.79,\n",
              "  'humidity': 87,\n",
              "  'pressure': 1019,\n",
              "  'temp': 55.02,\n",
              "  'temp_max': 57.2,\n",
              "  'temp_min': 53.6},\n",
              " 'name': 'New York',\n",
              " 'rain': {'1h': 3.76},\n",
              " 'sys': {'country': 'US',\n",
              "  'id': 4610,\n",
              "  'sunrise': 1602846513,\n",
              "  'sunset': 1602886434,\n",
              "  'type': 1},\n",
              " 'timezone': -14400,\n",
              " 'visibility': 4023,\n",
              " 'weather': [{'description': 'moderate rain',\n",
              "   'icon': '10d',\n",
              "   'id': 501,\n",
              "   'main': 'Rain'},\n",
              "  {'description': 'mist', 'icon': '50d', 'id': 701, 'main': 'Mist'}],\n",
              " 'wind': {'deg': 0, 'speed': 4.7}}"
            ]
          },
          "metadata": {
            "tags": []
          },
          "execution_count": 7
        }
      ]
    },
    {
      "cell_type": "markdown",
      "metadata": {
        "id": "hjEU_eTn_LeZ"
      },
      "source": [
        "---"
      ]
    },
    {
      "cell_type": "markdown",
      "metadata": {
        "id": "jDyj3Nqo_LeZ"
      },
      "source": [
        "# Exercise 1: Extract the current temperature from the returned JSON response."
      ]
    },
    {
      "cell_type": "code",
      "metadata": {
        "id": "7HzzrM21_Lea"
      },
      "source": [
        "# your code here"
      ],
      "execution_count": 8,
      "outputs": []
    },
    {
      "cell_type": "markdown",
      "metadata": {
        "id": "L2fWFRE7_Lec"
      },
      "source": [
        "# Solution"
      ]
    },
    {
      "cell_type": "code",
      "metadata": {
        "solution2": "hidden",
        "id": "kQ-JngCH_Led",
        "outputId": "5ebba474-315a-4cdd-d397-e4ca43d3acb5",
        "colab": {
          "base_uri": "https://localhost:8080/",
          "height": 34
        }
      },
      "source": [
        "print(f\"Temperature: {data['main']['temp']}F\")\n",
        "      \n",
        "# note, the 'f' in front is what's known as an 'f-string'; it allows us to avoid using % formatting "
      ],
      "execution_count": 11,
      "outputs": [
        {
          "output_type": "stream",
          "text": [
            "Temperature: 55.02F\n"
          ],
          "name": "stdout"
        }
      ]
    },
    {
      "cell_type": "markdown",
      "metadata": {
        "id": "uzYOY8YQ_Lef"
      },
      "source": [
        "# Exercise 2: Extract the description of the current weather"
      ]
    },
    {
      "cell_type": "code",
      "metadata": {
        "id": "IXl9I2eF_Lef"
      },
      "source": [
        "# your code here"
      ],
      "execution_count": 12,
      "outputs": []
    },
    {
      "cell_type": "markdown",
      "metadata": {
        "id": "SaFP_ikT_Leh"
      },
      "source": [
        "# Solution"
      ]
    },
    {
      "cell_type": "code",
      "metadata": {
        "solution2": "hidden",
        "id": "RpeYMnpo_Lei",
        "outputId": "2d9258a7-ac3d-4b95-f854-4c6fe6b00dde",
        "colab": {
          "base_uri": "https://localhost:8080/",
          "height": 34
        }
      },
      "source": [
        "print(f\"Description: {data['weather'][0]['description']}\")"
      ],
      "execution_count": 13,
      "outputs": [
        {
          "output_type": "stream",
          "text": [
            "Description: moderate rain\n"
          ],
          "name": "stdout"
        }
      ]
    },
    {
      "cell_type": "markdown",
      "metadata": {
        "id": "q5jJBBOD_Lek"
      },
      "source": [
        "# Exercise 3: Try to change the units to `metric` and repeat\n"
      ]
    },
    {
      "cell_type": "code",
      "metadata": {
        "id": "A79nyv08_Lek"
      },
      "source": [
        "# your code here"
      ],
      "execution_count": 14,
      "outputs": []
    },
    {
      "cell_type": "markdown",
      "metadata": {
        "id": "KlBX0GzQ_Lem"
      },
      "source": [
        "# Solution"
      ]
    },
    {
      "cell_type": "code",
      "metadata": {
        "solution2": "hidden",
        "id": "pptVYbPj_Len",
        "outputId": "a27e5166-a238-48f3-ddf1-e44771626632",
        "colab": {
          "base_uri": "https://localhost:8080/",
          "height": 51
        }
      },
      "source": [
        "openweathermap_url = \"http://api.openweathermap.org/data/2.5/weather\"\n",
        "parameters = {\n",
        "    'q'     : 'New York, NY, USA',\n",
        "    'units' : 'metric',\n",
        "    'mode'  : 'json',\n",
        "    'appid' : 'ffb7b9808e07c9135bdcc7d1e867253d'\n",
        "}\n",
        "resp = requests.get(openweathermap_url, params=parameters)\n",
        "data = resp.json()\n",
        "print(f\"Temperature in {data['name']}: {data['main']['temp']}C\")\n",
        "print(f\"Description: {data['weather'][0]['description']}\")     "
      ],
      "execution_count": 15,
      "outputs": [
        {
          "output_type": "stream",
          "text": [
            "Temperature in New York: 12.79C\n",
            "Description: heavy intensity rain\n"
          ],
          "name": "stdout"
        }
      ]
    },
    {
      "cell_type": "markdown",
      "metadata": {
        "id": "2xAakSCD_Lep"
      },
      "source": [
        "# Exercise 4: Get the weather for San Francisco, CA\n",
        "\n"
      ]
    },
    {
      "cell_type": "code",
      "metadata": {
        "id": "MDRJgGq4_Leq"
      },
      "source": [
        "# your code here"
      ],
      "execution_count": 16,
      "outputs": []
    },
    {
      "cell_type": "markdown",
      "metadata": {
        "id": "uw7eDVG4_Les"
      },
      "source": [
        "# Solution"
      ]
    },
    {
      "cell_type": "code",
      "metadata": {
        "solution2": "hidden",
        "id": "q1Lei-Q6_Les",
        "outputId": "274f2473-3831-4d29-e9a2-28d0c1ae6927",
        "colab": {
          "base_uri": "https://localhost:8080/",
          "height": 51
        }
      },
      "source": [
        "openweathermap_url = \"http://api.openweathermap.org/data/2.5/weather\"\n",
        "parameters = {\n",
        "    'q'     : 'San Francisco, CA, USA',\n",
        "    'units' : 'imperial',\n",
        "    'mode'  : 'json',\n",
        "    'appid' : 'ffb7b9808e07c9135bdcc7d1e867253d'\n",
        "}\n",
        "resp = requests.get(openweathermap_url, params=parameters)\n",
        "data = resp.json()\n",
        "print(f\"Temperature in {data['name']}: {data['main']['temp']}C\")\n",
        "print(f\"Description: {data['weather'][0]['description']}\")     "
      ],
      "execution_count": 17,
      "outputs": [
        {
          "output_type": "stream",
          "text": [
            "Temperature in San Francisco: 56.61C\n",
            "Description: light rain\n"
          ],
          "name": "stdout"
        }
      ]
    },
    {
      "cell_type": "markdown",
      "metadata": {
        "id": "ldM1vcU8_Leu"
      },
      "source": [
        "---"
      ]
    },
    {
      "cell_type": "markdown",
      "metadata": {
        "id": "_9yqyOwY_Lev"
      },
      "source": [
        "# Exercise 5: Study the documentation of the API ([Documentation](http://openweathermap.org/current#geo)). Change the API call to use the longitute and latitude rather than city name."
      ]
    },
    {
      "cell_type": "code",
      "metadata": {
        "id": "1lreQnvW_Lev"
      },
      "source": [
        "# your code here"
      ],
      "execution_count": null,
      "outputs": []
    },
    {
      "cell_type": "markdown",
      "metadata": {
        "id": "sRl1KEwL_Lex"
      },
      "source": [
        "# Solution"
      ]
    },
    {
      "cell_type": "code",
      "metadata": {
        "scrolled": true,
        "solution2": "hidden",
        "id": "DyDqA0WF_Lex",
        "outputId": "5bacfc51-3272-4a76-f1c1-4da27fae7aac",
        "colab": {
          "base_uri": "https://localhost:8080/",
          "height": 476
        }
      },
      "source": [
        "openweathermap_url = \"http://api.openweathermap.org/data/2.5/weather\"\n",
        "parameters = {\n",
        "    'lat'   : 40.7288962,\n",
        "    'lon'   : -73.9966509,\n",
        "    'units' : 'imperial',\n",
        "    'mode'  : 'json',\n",
        "    'appid' : 'ffb7b9808e07c9135bdcc7d1e867253d'\n",
        "}\n",
        "resp = requests.get(openweathermap_url, params=parameters)\n",
        "data = resp.json()\n",
        "data"
      ],
      "execution_count": 18,
      "outputs": [
        {
          "output_type": "execute_result",
          "data": {
            "text/plain": [
              "{'base': 'stations',\n",
              " 'clouds': {'all': 90},\n",
              " 'cod': 200,\n",
              " 'coord': {'lat': 40.73, 'lon': -74},\n",
              " 'dt': 1602861962,\n",
              " 'id': 5128581,\n",
              " 'main': {'feels_like': 52.79,\n",
              "  'humidity': 87,\n",
              "  'pressure': 1019,\n",
              "  'temp': 55.02,\n",
              "  'temp_max': 57.2,\n",
              "  'temp_min': 53.6},\n",
              " 'name': 'New York',\n",
              " 'rain': {'1h': 5.01},\n",
              " 'sys': {'country': 'US',\n",
              "  'id': 4610,\n",
              "  'sunrise': 1602846516,\n",
              "  'sunset': 1602886437,\n",
              "  'type': 1},\n",
              " 'timezone': -14400,\n",
              " 'visibility': 4023,\n",
              " 'weather': [{'description': 'heavy intensity rain',\n",
              "   'icon': '10d',\n",
              "   'id': 502,\n",
              "   'main': 'Rain'},\n",
              "  {'description': 'mist', 'icon': '50d', 'id': 701, 'main': 'Mist'}],\n",
              " 'wind': {'deg': 0, 'speed': 4.7}}"
            ]
          },
          "metadata": {
            "tags": []
          },
          "execution_count": 18
        }
      ]
    },
    {
      "cell_type": "markdown",
      "metadata": {
        "id": "y-AYhAmj_Lez"
      },
      "source": [
        "---"
      ]
    },
    {
      "cell_type": "markdown",
      "metadata": {
        "id": "Ih-j0wrr_Lez"
      },
      "source": [
        "# Exercise 6: Read the location of your computer using the GeoIP API. Then use the OpenWeatherMap to query the API and fetch the temperature for the location returned by the GeoIP API. For this exercise, you will need to learn to read variables from a Web API (geoip) and use them as input in another (openweathermap)\n",
        "\n"
      ]
    },
    {
      "cell_type": "code",
      "metadata": {
        "id": "swEc1_5n_Le0"
      },
      "source": [
        "#your code here"
      ],
      "execution_count": 19,
      "outputs": []
    },
    {
      "cell_type": "markdown",
      "metadata": {
        "id": "gpYz9R06_Le3"
      },
      "source": [
        "# Solution"
      ]
    },
    {
      "cell_type": "code",
      "metadata": {
        "scrolled": true,
        "solution2": "hidden",
        "id": "qFizbyOX_Le4",
        "outputId": "e099b643-2d75-430c-df7c-3dee43031345",
        "colab": {
          "base_uri": "https://localhost:8080/",
          "height": 68
        }
      },
      "source": [
        "import requests\n",
        "geoip_url = 'http://api.ipstack.com/check?access_key=dd4cbbbe9d6b9f2709e5f0533644e547'\n",
        "resp = requests.get(geoip_url)\n",
        "data = resp.json()\n",
        "lon = data[\"longitude\"]\n",
        "lat = data[\"latitude\"]\n",
        "\n",
        "openweathermap_url = \"http://api.openweathermap.org/data/2.5/weather\"\n",
        "parameters = {\n",
        "    'lat'   : str(lat),\n",
        "    'lon'   : str(lon),\n",
        "    'units' : 'imperial',\n",
        "    'mode'  : 'json',\n",
        "    'appid' : 'ffb7b9808e07c9135bdcc7d1e867253d'\n",
        "}\n",
        "resp = requests.get(openweathermap_url, params=parameters)\n",
        "data = resp.json()\n",
        "print(\"Location:\", data['name'])\n",
        "print(\"Weather:\", data['weather'][0]['description'])\n",
        "print(\"Temperature:\", data['main']['temp'])"
      ],
      "execution_count": 20,
      "outputs": [
        {
          "output_type": "stream",
          "text": [
            "Location: Wildwood\n",
            "Weather: few clouds\n",
            "Temperature: 80.31\n"
          ],
          "name": "stdout"
        }
      ]
    },
    {
      "cell_type": "markdown",
      "metadata": {
        "id": "gbkxbBv7_Le6"
      },
      "source": [
        "---"
      ]
    },
    {
      "cell_type": "markdown",
      "metadata": {
        "id": "yR22kJxk_Lfa"
      },
      "source": [
        "## Authentication with OAuth2"
      ]
    },
    {
      "cell_type": "markdown",
      "metadata": {
        "id": "6uFq2qXn_Lfa"
      },
      "source": [
        "Some of you may have already used APIs that require passing a specific key to authorize the API calls. So the question naturally comes up: Why is that not sufficient for authentication?\n",
        "\n",
        "Here are a few reasons:\n",
        "\n",
        "* We often want our application to **act on behalf of a user** (e.g., retrieve the list of friends of a user on Facebook, and do some analysis on behalf of the user). OAuth allows for such delegation, without requiring the app to have access to the login credentials of the user.\n",
        "* Acting on behalf of a user also allows the quota to be adjusted on a per-user basis, as opposed to a per-app basis. (So that the creators of very popular apps do not have to increase the quota for their own key)\n",
        "* Users often want to give limited set of priviledges to the app (e.g., read only my profile, no posting).\n",
        "* Users want to be able to selectively remove access for specific apps, without having to change the credentials for other apps.\n",
        "\n",
        "So, how does OAuth achieves that?"
      ]
    },
    {
      "cell_type": "markdown",
      "metadata": {
        "id": "9bRbc7lo_Lfb"
      },
      "source": [
        "## OAuth2 flows"
      ]
    },
    {
      "cell_type": "markdown",
      "metadata": {
        "id": "2qL17THK_Lfb"
      },
      "source": [
        "1. The app sends the user to a login page. The login page asks the user whether the user really wants to grant these permissions to the app.\n",
        "2. The user logs in and grants the permissions. This generates an **authorization code** that the API sends back to the app (by **calling back a _redirect URL_**)\n",
        "3. The app uses the authorization code (which proves that the user has granted permissions), and calls the API, asking for an **access token**.\n",
        "4. The **access token** can then be used by the app to call the API on behalf of the user.\n",
        "\n",
        "The picture below illustrates the OAuth2 flow:\n",
        "\n",
        "<img src=\"https://assets.digitalocean.com/articles/oauth/abstract_flow.png\">\n",
        "\n",
        "These two tutorials explain in a simplified manner the details of the authentication process:\n",
        "* https://www.digitalocean.com/community/tutorials/an-introduction-to-oauth-2\n",
        "* http://aaronparecki.com/articles/2012/07/29/1/oauth2-simplified\n",
        "\n"
      ]
    },
    {
      "cell_type": "markdown",
      "metadata": {
        "id": "pRHYHA1Z_Lfc"
      },
      "source": [
        "---"
      ]
    },
    {
      "cell_type": "markdown",
      "metadata": {
        "id": "Kg3WAC3R_Lfc"
      },
      "source": [
        "## Flask\n",
        "\n",
        "Now, let's build our own API using Flask! https://flask.palletsprojects.com/en/1.1.x/"
      ]
    },
    {
      "cell_type": "markdown",
      "metadata": {
        "id": "Zu9EfJBf_Lfe"
      },
      "source": [
        "In your terminal: \n",
        "\n",
        "1. \\> {navigate to desired directory}\n",
        "2. `mkdir app`\n",
        "3. `cd app`\n",
        "4. `touch hello.py`"
      ]
    },
    {
      "cell_type": "markdown",
      "metadata": {
        "id": "BoeCKPka_Lfe"
      },
      "source": [
        "In `hello.py`, enter the following: \n",
        "\n",
        "```python \n",
        "\n",
        "from flask import Flask\n",
        "app = Flask(__name__)\n",
        "\n",
        "@app.route('/')\n",
        "def hello_world():\n",
        "    return 'Hello, World!'\n",
        "\n",
        "```"
      ]
    },
    {
      "cell_type": "markdown",
      "metadata": {
        "id": "hiDhooWr_Lff"
      },
      "source": [
        "Last but not least, in your terminal: \n",
        "\n",
        "1. `export FLASK_APP=hello.py`\n",
        "2. `flask run`\n",
        "\n",
        "Then visit http://127.0.0.1:5000/ and volia! Your first Flask app!"
      ]
    },
    {
      "cell_type": "markdown",
      "metadata": {
        "id": "IMs3RNHI_Lff"
      },
      "source": [
        "---"
      ]
    },
    {
      "cell_type": "markdown",
      "metadata": {
        "id": "F-BrKhOb_Lfg"
      },
      "source": [
        "# Exercise 5\n",
        "\n",
        "Create a Flask app that takes a user's IP address as input and outputs their location, weather, and temperature."
      ]
    },
    {
      "cell_type": "markdown",
      "metadata": {
        "id": "EmJD2vQo_Lfg"
      },
      "source": [
        "# Solution"
      ]
    },
    {
      "cell_type": "markdown",
      "metadata": {
        "id": "bfVqnyAd_Lfh"
      },
      "source": [
        "1. Navigate to desired directory\n",
        "2. `mkdir weather_app`\n",
        "3. `cd weather_app`\n",
        "4. `touch weather.py`"
      ]
    },
    {
      "cell_type": "markdown",
      "metadata": {
        "id": "OyRGcc3K_Lfh"
      },
      "source": [
        "```python \n",
        "\n",
        "from flask import Flask\n",
        "\n",
        "app = Flask(__name__)\n",
        "@app.route('/weather')\n",
        "\n",
        "def my_weather():\n",
        "\n",
        "    import requests\n",
        "\n",
        "    geoip_url = 'http://api.ipstack.com/check?access_key=dd4cbbbe9d6b9f2709e5f0533644e547'\n",
        "    resp = requests.get(geoip_url)\n",
        "    data = resp.json()\n",
        "    lon = data[\"longitude\"]\n",
        "    lat = data[\"latitude\"]\n",
        "\n",
        "    openweathermap_url = \"http://api.openweathermap.org/data/2.5/weather\"\n",
        "    parameters = {\n",
        "        'lat'   : str(lat),\n",
        "        'lon'   : str(lon),\n",
        "        'units' : 'imperial',\n",
        "        'mode'  : 'json',\n",
        "        'appid' : 'ffb7b9808e07c9135bdcc7d1e867253d'\n",
        "    }\n",
        "    \n",
        "    resp = requests.get(openweathermap_url, params=parameters)\n",
        "    data = resp.json()\n",
        "\n",
        "    location = data['name']\n",
        "    weather = data['weather'][0]['description']\n",
        "    temp = str(data['main']['temp'])\n",
        "\n",
        "    return 'Location: {}, Weather: {}, Temp: {}'.format(location, weather, temp)\n",
        "\n",
        "```"
      ]
    },
    {
      "cell_type": "markdown",
      "metadata": {
        "id": "xs6UEsau_Lfh"
      },
      "source": [
        "5. `export FLASK_APP=weather.py`\n",
        "6. `flask run`\n",
        "\n",
        "`http://127.0.0.1:5000/weather`"
      ]
    }
  ]
}