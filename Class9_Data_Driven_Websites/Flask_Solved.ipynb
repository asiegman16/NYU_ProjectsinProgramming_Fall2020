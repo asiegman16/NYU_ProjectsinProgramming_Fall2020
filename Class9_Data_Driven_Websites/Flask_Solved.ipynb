{
  "nbformat": 4,
  "nbformat_minor": 0,
  "metadata": {
    "kernelspec": {
      "display_name": "Python 3",
      "language": "python",
      "name": "python3"
    },
    "language_info": {
      "codemirror_mode": {
        "name": "ipython",
        "version": 3
      },
      "file_extension": ".py",
      "mimetype": "text/x-python",
      "name": "python",
      "nbconvert_exporter": "python",
      "pygments_lexer": "ipython3",
      "version": "3.7.3"
    },
    "colab": {
      "name": "Flask Solved.ipynb",
      "provenance": [],
      "toc_visible": true
    }
  },
  "cells": [
    {
      "cell_type": "markdown",
      "metadata": {
        "id": "QvO92phQM7zt"
      },
      "source": [
        "# Data Driven Websites with Flask\n"
      ]
    },
    {
      "cell_type": "markdown",
      "metadata": {
        "id": "BIDXW2kmM7zu"
      },
      "source": [
        "---"
      ]
    },
    {
      "cell_type": "markdown",
      "metadata": {
        "id": "oXLfSTH5M7zu"
      },
      "source": [
        "Let's take our weather API from last class and add a bit of complexity in the form of some formatting. In particular, we'll add some HTML (Hyper-Text Markup Language) – the standard markup language for any document meant to be displayed by a web browser. \n",
        "\n",
        "First things first, let's make sure that our app is up and running."
      ]
    },
    {
      "cell_type": "markdown",
      "metadata": {
        "id": "RjUj5PwjM7zv"
      },
      "source": [
        "1. Navigate to desired directory\n",
        "2. `mkdir library_app`\n",
        "3. `cd library_app`\n",
        "4. `touch library.py`"
      ]
    },
    {
      "cell_type": "markdown",
      "metadata": {
        "id": "PwR6RKFhM7zw"
      },
      "source": [
        "## `library.py`\n",
        "\n",
        "```python \n",
        "\n",
        "from flask import Flask\n",
        "\n",
        "app = Flask(__name__)\n",
        "\n",
        "# begin our Horror API\n",
        "\n",
        "@app.route('/horror')\n",
        "def horror():\n",
        "\n",
        "    import requests\n",
        "\n",
        "    url = 'http://openlibrary.org/subjects/horror.json'\n",
        "\n",
        "    parameters = {\n",
        "        'published_in'   : 2000-2010\n",
        "    }\n",
        "\n",
        "    resp = requests.get(url, params=parameters)\n",
        "\n",
        "    data = resp.json()\n",
        "\n",
        "    titles = set()\n",
        "\n",
        "    for i in range(0, len(data)):\n",
        "        title = data['works'][i]['title']\n",
        "        titles.add(title)\n",
        "\n",
        "    return 'Titles: {}'.format(sorted(titles))\n",
        "\n",
        "app.run(host='0.0.0.0', port=5000, debug=True) # anyone can connect, and we're running on port 5000\n",
        "\n",
        "```"
      ]
    },
    {
      "cell_type": "markdown",
      "metadata": {
        "id": "VpIGXQcEM7zw"
      },
      "source": [
        "5. `python library.py`"
      ]
    },
    {
      "cell_type": "markdown",
      "metadata": {
        "id": "_xRlXQn2M7zx"
      },
      "source": [
        "If we go to http://0.0.0.0:5000/horror we'll see our app is up and running. "
      ]
    },
    {
      "cell_type": "markdown",
      "metadata": {
        "id": "XutpnRR2M7zy"
      },
      "source": [
        "---"
      ]
    },
    {
      "cell_type": "markdown",
      "metadata": {
        "id": "RuwfkosVM7zy"
      },
      "source": [
        "So far so good. Let's get a bit fancier, though, and add a personalized welcome message to each user that visits the site. In library.py, let's add the following: \n",
        "\n",
        "## `library.py`\n",
        "\n",
        "```python \n",
        "\n",
        "from datetime import * \n",
        "\n",
        "... # keep your /horror route here, but add the '/' below\n",
        "\n",
        "@app.route(\"/\")\n",
        "def hello_visitor():\n",
        "    datetime.now().strftime('%Y-%m-%d %H:%M:%S') # get the current time from datetime\n",
        "    date = datetime.now().strftime('%Y-%m-%d') # get today's date from the current time \n",
        "    time = datetime.now().strftime('%H:%M:%S') # get the current time from the current time \n",
        "    message = \"The date is {d} and the time is {t}\" # create the message telling us the current date and time \n",
        "    return message.format(d=date, t=time) # return our message \n",
        "\n",
        "... # keep the 'app.run' info as well\n",
        "\n",
        "```"
      ]
    },
    {
      "cell_type": "markdown",
      "metadata": {
        "id": "lde90xpFM7zz"
      },
      "source": [
        "Go back to http://0.0.0.0:5000/ and we'll see our message. "
      ]
    },
    {
      "cell_type": "markdown",
      "metadata": {
        "id": "65986ZkyM7zz"
      },
      "source": [
        "---"
      ]
    },
    {
      "cell_type": "markdown",
      "metadata": {
        "id": "N3Msnu_BM7z0"
      },
      "source": [
        "## HTML\n",
        "\n",
        "In order to prettify (add HTML) to our date and time message, we create a new HTML file in our directory. "
      ]
    },
    {
      "cell_type": "markdown",
      "metadata": {
        "id": "QPtG6-IvM7z1"
      },
      "source": [
        "1. Navigate to our library_app directory\n",
        "2. `mkdir templates`\n",
        "3. `cd templates`\n",
        "4. `touch index.html`"
      ]
    },
    {
      "cell_type": "markdown",
      "metadata": {
        "id": "yLiN4XvwM7z1"
      },
      "source": [
        "## `index.html`\n",
        "\n",
        "```html \n",
        "\n",
        "<!DOCTYPE html>\n",
        "<html>\n",
        "<head>\n",
        "    <title>Welcome Message</title>\n",
        "</head>\n",
        "<body>\n",
        "    <div style=\"color: purple\">\n",
        "    <h1>Hello World! Here's some fun info! {{ message }}</h1>\n",
        "        <strong>Below an image is displayed</strong>\n",
        "        <img width=\"300\" src=\"https://upload.wikimedia.org/wikipedia/en/thumb/5/58/NYU_logo.svg/1280px-NYU_logo.svg.png\"/>\n",
        "    </div>\n",
        "</body>\n",
        "</html> \n",
        "\n",
        "```\n",
        "\n",
        "## `library.py`\n",
        "\n",
        "```python \n",
        "\n",
        "from flask import render_template\n",
        "\n",
        "# ...\n",
        "\n",
        "@app.route(\"/\")\n",
        "def hello_visitor():\n",
        "    datetime.now().strftime('%Y-%m-%d %H:%M:%S') # get the current time from datetime\n",
        "    date = datetime.now().strftime('%Y-%m-%d') # get today's date from the current time\n",
        "    time = datetime.now().strftime('%H:%M:%S') # get the current time from the current time\n",
        "    message = \"The date is {} and the time is {}\".format(date, time) # create the message\n",
        "    return render_template(\"index.html\",message=message) # return our message\n",
        "\n",
        "```"
      ]
    },
    {
      "cell_type": "markdown",
      "metadata": {
        "id": "ZUGGnjBGM7z2"
      },
      "source": [
        "---"
      ]
    },
    {
      "cell_type": "markdown",
      "metadata": {
        "id": "1NKFuCbiM7z2"
      },
      "source": [
        "# Exercise 1\n",
        "\n",
        "Looking back to last week, adjust your library Flask app so that rather than being greated by the date, time, and visitor count, a visitor is told their location, the weather, and temperature. "
      ]
    },
    {
      "cell_type": "code",
      "metadata": {
        "id": "3C3n4eBcM7z3"
      },
      "source": [
        "# your code here"
      ],
      "execution_count": 1,
      "outputs": []
    },
    {
      "cell_type": "markdown",
      "metadata": {
        "id": "QwS_lrHIM7z6"
      },
      "source": [
        "# Solution"
      ]
    },
    {
      "cell_type": "markdown",
      "metadata": {
        "id": "h1_lySF_M7z7"
      },
      "source": [
        "## `library.py`\n",
        "\n",
        "```python \n",
        "\n",
        "@app.route(\"/\")\n",
        "def hello_visitor(): \n",
        "    \n",
        "    import requests\n",
        "    \n",
        "    geoip_url = 'http://api.ipstack.com/check?access_key=dd4cbbbe9d6b9f2709e5f0533644e547'\n",
        "    resp = requests.get(geoip_url)\n",
        "    data = resp.json()\n",
        "    lon = data[\"longitude\"]\n",
        "    lat = data[\"latitude\"]\n",
        "\n",
        "    openweathermap_url = \"http://api.openweathermap.org/data/2.5/weather\"\n",
        "    parameters = {\n",
        "        'lat'   : str(lat),\n",
        "        'lon'   : str(lon),\n",
        "        'units' : 'imperial',\n",
        "        'mode'  : 'json',\n",
        "        'appid' : 'ffb7b9808e07c9135bdcc7d1e867253d'\n",
        "    }\n",
        "\n",
        "    resp = requests.get(openweathermap_url, params=parameters)\n",
        "    data = resp.json()\n",
        "\n",
        "    location = data['name']\n",
        "    weather = data['weather'][0]['description']\n",
        "    temperature = data['main']['temp']\n",
        "\n",
        "    message = \"Your Location: {}, Your Weather: {}, Your Temp: {}\".format(location, weather, temperature)\n",
        "    \n",
        "    return render_template(\"index.html\", message=message)\n",
        "\n",
        "```"
      ]
    },
    {
      "cell_type": "markdown",
      "metadata": {
        "id": "Tgd7mA2vM7z7"
      },
      "source": [
        "---"
      ]
    },
    {
      "cell_type": "markdown",
      "metadata": {
        "id": "RVAQojCqM7z8"
      },
      "source": [
        "## Jinja Iterators\n",
        "\n",
        "We can also leverage what is known as a \"Jinja iterator\" – basically allowing us to render if / else statements in our template. For example, let's alter index.html file:\n",
        "\n",
        "## `index.html`\n",
        "\n",
        "``` html\n",
        "\n",
        "<!DOCTYPE html>\n",
        "<html>\n",
        "    \n",
        "```\n",
        "\n",
        "`{% if temperature <= 32 %}`\n",
        "\n",
        "``` html\n",
        "\n",
        "<div style = \"color: blue\">\n",
        "<body>\n",
        "  <h1>Hello! {{ message }}. It is below freezing outside, bring a jacket!</h1>\n",
        "</body>\n",
        "</div>\n",
        "\n",
        "```\n",
        "\n",
        "`{% endif %}`\n",
        "\n",
        "`{% if temperature > 32 %}`\n",
        "\n",
        "``` html\n",
        "\n",
        "<div style = \"color: red\">\n",
        "<body>\n",
        "  <h1>Hello! {{ message }}. It is warm outside, awesome!</h1>\n",
        "</body>\n",
        "</div>\n",
        "\n",
        "```\n",
        "\n",
        "`{% endif %}`\n",
        "\n",
        "```  \n",
        "</html> \n",
        "\n",
        "```\n",
        "\n",
        "## `library.py`\n",
        "\n",
        "```python \n",
        "\n",
        "    # ... \n",
        "    \n",
        "    location = data['name']\n",
        "    weather = data['weather'][0]['description']\n",
        "    temperature = data['main']['temp']\n",
        "\n",
        "    message = \"Your Location: {}, Your Weather: {}, Your Temp: {}\".format(location, weather, temperature)\n",
        "    \n",
        "    return render_template(\"index.html\", message=message, location=location, weather=weather, temperature=temperature)\n",
        "\n",
        "```"
      ]
    },
    {
      "cell_type": "markdown",
      "metadata": {
        "id": "XV1LoTGQM7z8"
      },
      "source": [
        "---"
      ]
    },
    {
      "cell_type": "markdown",
      "metadata": {
        "id": "aohvl6iaM7z9"
      },
      "source": [
        "# Exercise 2\n",
        "\n",
        "Create a new file called horror.html that returns a blue list if there are fewer than 5 books returned and a red list if there are more than 5 books returned. Don't forget to adjust your /horror app route to call this new html file, too. "
      ]
    },
    {
      "cell_type": "code",
      "metadata": {
        "id": "lqWf1lgyM7z9"
      },
      "source": [
        "# your code here"
      ],
      "execution_count": null,
      "outputs": []
    },
    {
      "cell_type": "markdown",
      "metadata": {
        "id": "qz-gp_07M70A"
      },
      "source": [
        "# Solution"
      ]
    },
    {
      "cell_type": "markdown",
      "metadata": {
        "id": "bBgSmpqzM70A"
      },
      "source": [
        "## `horror.html`\n",
        "\n",
        "``` html\n",
        "\n",
        "<!DOCTYPE html>\n",
        "<html>\n",
        "    \n",
        "```\n",
        "\n",
        "`{% if set_length < 5 %}`\n",
        "\n",
        "``` html\n",
        "\n",
        "<div style = \"color: blue\">\n",
        "<body>\n",
        "  <h1>{{ titles }}</h1>\n",
        "</body>\n",
        "</div>\n",
        "\n",
        "```\n",
        "\n",
        "`{% endif %}`\n",
        "\n",
        "`{% if set_length > 5 %}`\n",
        "\n",
        "``` html\n",
        "\n",
        "<div style = \"color: red\">\n",
        "<body>\n",
        "  <h1>{{ titles }}</h1>\n",
        "</body>\n",
        "</div>\n",
        "\n",
        "```\n",
        "\n",
        "`{% endif %}`\n",
        "\n",
        "```  \n",
        "</html> \n",
        "\n",
        "```\n",
        "\n",
        "## `library.py`\n",
        "\n",
        "```python \n",
        "\n",
        "@app.route('/horror')\n",
        "def horror():\n",
        "\n",
        "    import requests\n",
        "\n",
        "    url = 'http://openlibrary.org/subjects/horror.json'\n",
        "\n",
        "    parameters = {\n",
        "        'published_in'   : 2000-2010\n",
        "    }\n",
        "\n",
        "    resp = requests.get(url, params=parameters)\n",
        "\n",
        "    data = resp.json()\n",
        "\n",
        "    titles = set()\n",
        "\n",
        "    for i in range(0, len(data)):\n",
        "        title = data['works'][i]['title']\n",
        "        titles.add(title)\n",
        "\n",
        "    set_length = len(titles)\n",
        "\n",
        "    return render_template('horror.html', titles=titles, set_length=set_length)\n",
        "\n",
        "```"
      ]
    },
    {
      "cell_type": "markdown",
      "metadata": {
        "id": "vYRYzRn4M70B"
      },
      "source": [
        "---"
      ]
    },
    {
      "cell_type": "markdown",
      "metadata": {
        "id": "eVhgX8RjM70C"
      },
      "source": [
        "What happens if we want to call upon a SQL database, such as our Citibike database from Week 1, and display it in a Flask application?"
      ]
    },
    {
      "cell_type": "markdown",
      "metadata": {
        "id": "7UURMO4BM70D"
      },
      "source": [
        "## `library.py`\n",
        "\n",
        "``` python\n",
        "@app.route(\"/citibike\")\n",
        "def citibike():\n",
        "\n",
        "    import sqlite3\n",
        "\n",
        "    con = sqlite3.connect('/Users/siegmanA/Desktop/NYU_ProjectsinProgramming_Fall2020/Class9_Data_Driven_Websites/citibikeDataForFlask.db') # connect to our db\n",
        "    cursor = con.cursor()\n",
        "\n",
        "    # retrieve records of all tables and construct dictionaries for convenient usage at HTML tamplates\n",
        "\n",
        "    station_data = cursor.execute(\"SELECT station_id, stationName, availableBikes, lastCommunicationTime FROM StationsData LIMIT 5\")\n",
        "\n",
        "    station_data = [{\"station_id\": i[0], \"stationName\": i[1], \"availableBikes\": i[2], \"lastCommunicationTime\": i[3]} for i in station_data]\n",
        "\n",
        "    return render_template('citibike.html', station_data=station_data)\n",
        "```"
      ]
    },
    {
      "cell_type": "markdown",
      "metadata": {
        "id": "cypzJKD_M70D"
      },
      "source": [
        "## `citibike.html` \n",
        "^ This sould be a new document in our `templates` folder\n",
        "\n",
        "``` html\n",
        "<!DOCTYPE html>\n",
        "<html>\n",
        "<body>\n",
        "  <table>\n",
        "    <thead>\n",
        "      <tr>\n",
        "        <th>Station ID</th>\n",
        "        <th>Station Name</th>\n",
        "        <th>Available Bikes</th>\n",
        "        <th>Last Communication Time</th>\n",
        "      </tr>\n",
        "    </thead>\n",
        "    <tbody>\n",
        "      {% for i in station_data %}\n",
        "\t<tr>\n",
        "        <td>{{ i.station_id }}</td>\n",
        "        <td>{{ i.stationName }}</td>\n",
        "        <td>{{ i.availableBikes }}</td>\n",
        "        <td>{{ i.lastCommunicationTime }}</td>\n",
        "\t</tr>\n",
        "      {% endfor %}\n",
        "    </tbody> \n",
        "  </table>\n",
        "</body>\n",
        "</html>\n",
        "```"
      ]
    },
    {
      "cell_type": "markdown",
      "metadata": {
        "id": "A-V-B8CZM70E"
      },
      "source": [
        "---"
      ]
    },
    {
      "cell_type": "markdown",
      "metadata": {
        "id": "1yJdCVbNM70E"
      },
      "source": [
        "## Getting Parameters and Passing to SQL\n",
        "\n",
        "Now let's see how we can query for the status of a Citibike station over time.\n",
        "\n",
        "Here, we want to create a new function, where we will pass the `station_id` as a **parameter**. Then our code will read the value of the parameter `station_id` and then will query the database to get the status of that station."
      ]
    },
    {
      "cell_type": "markdown",
      "metadata": {
        "id": "gzbL9W_7M70F"
      },
      "source": [
        "## `library.py`\n",
        "\n",
        "``` python\n",
        "from flask import request\n",
        "\n",
        "@app.route(\"/station_status\")\n",
        "def station_status():\n",
        "\n",
        "    import sqlite3\n",
        "\n",
        "    user_station_id = request.args.get('station_id')\n",
        "\n",
        "    con = sqlite3.connect('/Users/siegmanA/Desktop/NYU_ProjectsinProgramming_Fall2020/Class9_Data_Driven_Websites/citibikeDataForFlask.db') # connect to our db\n",
        "    cursor = con.cursor()\n",
        "\n",
        "    # retrieve records of all tables and construct dictionaries for convenient usage at HTML tamplates\n",
        "\n",
        "    station_data = cursor.execute(\"SELECT station_id, stationName, availableBikes, lastCommunicationTime FROM StationsData WHERE station_id = ? LIMIT 5\", [user_station_id,])\n",
        "\n",
        "    station_data = [{\"station_id\": i[0], \"stationName\": i[1], \"availableBikes\": i[2], \"lastCommunicationTime\": i[3]} for i in station_data]\n",
        "\n",
        "    return render_template('citibike.html', station_data=station_data,user_station_id=user_station_id)\n",
        "```"
      ]
    },
    {
      "cell_type": "markdown",
      "metadata": {
        "id": "TAwosxr2M70G"
      },
      "source": [
        "Now we can pass a parameter through our URL, such as http://0.0.0.0:5000/station_status?station_id=281"
      ]
    },
    {
      "cell_type": "markdown",
      "metadata": {
        "id": "makZ9rQLM70G"
      },
      "source": [
        "---"
      ]
    },
    {
      "cell_type": "markdown",
      "metadata": {
        "id": "KWA7nFHFM70H"
      },
      "source": [
        "## Bootstrap\n",
        "\n",
        "Our HTML pages aren't exactly visually pleasing. Lucky for us, [Twitter's Bootstrap](http://getbootstrap.com/) is an excellent set of carefully crafted user interface elements, layouts and JavaScript tools, easily available to use in your web design project. \n",
        "\n",
        "All you need is to create a link to the [Bootstrap resources](http://getbootstrap.com/getting-started/#download-cdn) in the HTML head and use the predefined CSS styles."
      ]
    },
    {
      "cell_type": "markdown",
      "metadata": {
        "id": "ax5U6tuKM70H"
      },
      "source": [
        "### `templates/citibike.html` \n",
        "\n",
        "```html\n",
        "<!DOCTYPE html>\n",
        "<html>\n",
        "<head>\n",
        "    <link rel=\"stylesheet\" href=\"https://stackpath.bootstrapcdn.com/bootstrap/4.1.3/css/bootstrap.min.css\" integrity=\"sha384-MCw98/SFnGE8fJT3GXwEOngsV7Zt27NXFoaoApmYm81iuXoPkFOJwJ8ERdknLPMO\" crossorigin=\"anonymous\">\n",
        "</head>\n",
        "<body>\n",
        "    <div class=\"container\">\n",
        "        <div class=\"panel panel-info\">\n",
        "            <div class=\"panel-heading\">\n",
        "                <h1 class=\"panel-title\">Citibike Stations</h1>\n",
        "            </div>\n",
        "            <table  class=\"table table-striped table-bordered table-hover\">\n",
        "    <thead>\n",
        "      <tr>\n",
        "        <th>Station ID</th>\n",
        "        <th>Station Name</th>\n",
        "        <th>Available Bikes</th>\n",
        "        <th>Last Communication Time</th>\n",
        "      </tr>\n",
        "    </thead>\n",
        "    <tbody>\n",
        "      {% for i in station_data %}\n",
        "\t<tr>\n",
        "        <td>{{ i.station_id }}</td>\n",
        "        <td>{{ i.stationName }}</td>\n",
        "        <td>{{ i.availableBikes }}</td>\n",
        "        <td>{{ i.lastCommunicationTime }}</td>\n",
        "\t</tr>\n",
        "      {% endfor %}\n",
        "    </tbody>\n",
        "    </table>\n",
        "  </div>\n",
        "</div>\n",
        "</body>\n",
        "</html>\n",
        "```"
      ]
    },
    {
      "cell_type": "markdown",
      "metadata": {
        "id": "ewgmPVy4M70I"
      },
      "source": [
        "---"
      ]
    },
    {
      "cell_type": "markdown",
      "metadata": {
        "id": "VYKfQCaCM70V"
      },
      "source": [
        "## Forms"
      ]
    },
    {
      "cell_type": "markdown",
      "metadata": {
        "id": "U9vAlsCPM70V"
      },
      "source": [
        "HTML forms allow us to get user entries and then use the submitted values as parameters in our code. (Check out [W3 Schools](https://www.w3schools.com/html/html_forms.asp) for more details.)\n",
        "\n",
        "Imagine we want to search the Citibike stations by their name, and get back a list of the stations that contain that search string. A simple HTML form that can do that is listed below. \n",
        "\n",
        "Save the file  `search_stations.html` in your `templates` folder, and add a new route in library.py so that you can get back this page, when you visit the main page of your website."
      ]
    },
    {
      "cell_type": "markdown",
      "metadata": {
        "id": "hFBnt5l1M70W"
      },
      "source": [
        "## `search_stations.html`\n",
        "\n",
        "```html\n",
        "<!DOCTYPE html>\n",
        "<html>\n",
        "<head>\n",
        "    <title>Search Citibike Stations</title>\n",
        "</head>\n",
        "<body>\n",
        "      <form action=\"/search\">\n",
        "      Station Name:<br>\n",
        "      <input type=\"text\" name=\"name\"><br>\n",
        "    </form>\n",
        "</body>\n",
        "```\n",
        "\n",
        "## `library.py`\n",
        "\n",
        "```python\n",
        "@app.route('/')\n",
        "def home():\n",
        "    return render_template('search_stations.html')\n",
        "```"
      ]
    },
    {
      "cell_type": "markdown",
      "metadata": {
        "id": "0BcAg4zBM70W"
      },
      "source": [
        "A key part of the form is the `action` script – it defines what URL we should go to when we submit the form. In our case, it will go to the `http://<your IP>:5000/search` with the parameter `name` having the value of the text that the user entered.\n",
        "\n",
        "For example, if we enter `Bleecker` on the form, the form will direct us to the URL `http://<your IP>:5000/search?name=Bleecker`.\n",
        "\n",
        "Now, we need to specify the corresponding route in our webserver (i.e., the `/search` route) and define what it will do. Add the below code to `library.py` to implement that route. "
      ]
    },
    {
      "cell_type": "markdown",
      "metadata": {
        "id": "H37sqnjFM70X"
      },
      "source": [
        "## `library.py`\n",
        "\n",
        "```python\n",
        "@app.route('/search')\n",
        "def search():\n",
        "\n",
        "    name = request.args.get('name')\n",
        "\n",
        "    con = sqlite3.connect('/Users/siegmanA/Desktop/library_app/citibikeDataForFlask.db') # connect to our db\n",
        "    cursor = con.cursor()\n",
        "\n",
        "    station_data = cursor.execute(\"SELECT station_id, stationName, availableBikes, lastCommunicationTime FROM StationsData WHERE stationName = ? LIMIT 5\", [name,])\n",
        "\n",
        "    station_data = [{\"station_id\": i[0], \"stationName\": i[1], \"availableBikes\": i[2], \"lastCommunicationTime\": i[3]} for i in station_data]\n",
        "\n",
        "    return render_template('citibike.html', name=name, station_data=station_data)\n",
        "```"
      ]
    },
    {
      "cell_type": "markdown",
      "metadata": {
        "id": "XNnehPJ2M70Y"
      },
      "source": [
        "---"
      ]
    },
    {
      "cell_type": "markdown",
      "metadata": {
        "id": "8Xg9RuqkM70Y"
      },
      "source": [
        "# Exercise 3\n",
        "\n",
        "Adjust the /search app route so that a user can search for stations based on the minimum number of available bikes at a given station. "
      ]
    },
    {
      "cell_type": "code",
      "metadata": {
        "id": "TrgV7Kd5M70Y"
      },
      "source": [
        "# your code here"
      ],
      "execution_count": null,
      "outputs": []
    },
    {
      "cell_type": "markdown",
      "metadata": {
        "id": "hETfEU0YM70b"
      },
      "source": [
        "# Solution"
      ]
    },
    {
      "cell_type": "markdown",
      "metadata": {
        "id": "6Bk8r1PJM70c"
      },
      "source": [
        "## `library.py`\n",
        "\n",
        "```python\n",
        "@app.route('/search')\n",
        "def search():\n",
        "\n",
        "    name = request.args.get('name')\n",
        "\n",
        "    con = sqlite3.connect('/Users/siegmanA/Desktop/library_app/citibikeDataForFlask.db') # connect to our db\n",
        "    cursor = con.cursor()\n",
        "\n",
        "    station_data = cursor.execute(\"SELECT station_id, stationName, availableBikes, lastCommunicationTime FROM StationsData WHERE availableBikes > ? LIMIT 5\", [name,])\n",
        "\n",
        "    station_data = [{\"station_id\": i[0], \"stationName\": i[1], \"availableBikes\": i[2], \"lastCommunicationTime\": i[3]} for i in station_data]\n",
        "\n",
        "    return render_template('citibike.html', name=name, station_data=station_data)\n",
        "```\n",
        "\n",
        "## `search_stations.html`\n",
        "\n",
        "``` html\n",
        "<!DOCTYPE html>\n",
        "<html>\n",
        "<head>\n",
        "    <title>Search Citibike Stations</title>\n",
        "</head>\n",
        "<body>\n",
        "      <form action=\"/search\">\n",
        "      Minimum Number of Available Bikes:<br>\n",
        "      <input type=\"number\" name=name><br>\n",
        "    </form>\n",
        "</body>   \n",
        "```"
      ]
    }
  ]
}