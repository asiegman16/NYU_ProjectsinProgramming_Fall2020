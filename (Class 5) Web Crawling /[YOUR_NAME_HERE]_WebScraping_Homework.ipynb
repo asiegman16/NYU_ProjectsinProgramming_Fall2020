{
 "cells": [
  {
   "cell_type": "markdown",
   "metadata": {},
   "source": [
    "## To submit this assignment, please solve the following problem. Then, save your notebook with the format [YOUR_NAME_HERE]\\_WebScraping_Homework and submit via NYU Classes. "
   ]
  },
  {
   "cell_type": "markdown",
   "metadata": {},
   "source": [
    "---"
   ]
  },
  {
   "cell_type": "markdown",
   "metadata": {},
   "source": [
    "### For this assignment, you must: \n",
    "\n",
    "1. Read in the WIRED Magazine's 'Top Stories' RSS Feed (https://www.wired.com/feed/rss) \n",
    "2. Create a Pandas DataFrame that, for each article, details the title of that article, its summary, and publishing date. "
   ]
  },
  {
   "cell_type": "code",
   "execution_count": null,
   "metadata": {},
   "outputs": [],
   "source": [
    "# import your libraries\n",
    "\n"
   ]
  },
  {
   "cell_type": "code",
   "execution_count": 1,
   "metadata": {},
   "outputs": [],
   "source": [
    "# read in your rss feed and parse it using feedparser\n",
    "\n"
   ]
  },
  {
   "cell_type": "code",
   "execution_count": 2,
   "metadata": {},
   "outputs": [],
   "source": [
    "# navigate (using bracket notation) to find the information about each article\n",
    "\n"
   ]
  },
  {
   "cell_type": "code",
   "execution_count": null,
   "metadata": {},
   "outputs": [],
   "source": [
    "# hint\n",
    "\n",
    "title_set = set()\n",
    "summary_set = set()\n",
    "published_set = set()\n",
    "\n",
    "for i in range(0,int(len(wired_feed))):\n",
    "    # find your title, summary, and published date from the feed \n",
    "    \n",
    "    # add that information to the respective sets"
   ]
  },
  {
   "cell_type": "code",
   "execution_count": null,
   "metadata": {},
   "outputs": [],
   "source": [
    "# hint 2\n",
    "\n",
    "import pandas as pd\n",
    "\n",
    "data_tuples = list(zip(YOUR_SETS))\n",
    "\n",
    "df = pd.DataFrame(data_tuples, columns=[YOUR_COLUMNS])"
   ]
  }
 ],
 "metadata": {
  "kernelspec": {
   "display_name": "Python 3",
   "language": "python",
   "name": "python3"
  },
  "language_info": {
   "codemirror_mode": {
    "name": "ipython",
    "version": 3
   },
   "file_extension": ".py",
   "mimetype": "text/x-python",
   "name": "python",
   "nbconvert_exporter": "python",
   "pygments_lexer": "ipython3",
   "version": "3.7.3"
  }
 },
 "nbformat": 4,
 "nbformat_minor": 2
}
