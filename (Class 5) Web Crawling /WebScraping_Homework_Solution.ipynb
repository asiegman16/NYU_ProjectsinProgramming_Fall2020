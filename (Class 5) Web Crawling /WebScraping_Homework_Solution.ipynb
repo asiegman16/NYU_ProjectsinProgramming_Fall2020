{
 "cells": [
  {
   "cell_type": "code",
   "execution_count": 1,
   "metadata": {},
   "outputs": [],
   "source": [
    "import feedparser\n",
    "import random\n",
    "import time"
   ]
  },
  {
   "cell_type": "code",
   "execution_count": 2,
   "metadata": {},
   "outputs": [],
   "source": [
    "wired_url = \"https://www.wired.com/feed/rss\"\n",
    "\n",
    "wired_feed = feedparser.parse(wired_url)"
   ]
  },
  {
   "cell_type": "code",
   "execution_count": 11,
   "metadata": {
    "scrolled": true
   },
   "outputs": [
    {
     "data": {
      "text/plain": [
       "{'title': \"Netflix's ‘Unnatural Selection’ Trailer Makes Crispr Personal\",\n",
       " 'title_detail': {'type': 'text/plain',\n",
       "  'language': None,\n",
       "  'base': 'https://www.wired.com/feed/rss',\n",
       "  'value': \"Netflix's ‘Unnatural Selection’ Trailer Makes Crispr Personal\"},\n",
       " 'links': [{'rel': 'alternate',\n",
       "   'type': 'text/html',\n",
       "   'href': 'https://www.wired.com/story/netflixs-unnatural-selection-trailer-makes-crispr-personal'}],\n",
       " 'link': 'https://www.wired.com/story/netflixs-unnatural-selection-trailer-makes-crispr-personal',\n",
       " 'id': '5d962fcc5e69b800094161d0',\n",
       " 'guidislink': False,\n",
       " 'published': 'Fri, 04 Oct 2019 14:00:00 +0000',\n",
       " 'published_parsed': time.struct_time(tm_year=2019, tm_mon=10, tm_mday=4, tm_hour=14, tm_min=0, tm_sec=0, tm_wday=4, tm_yday=277, tm_isdst=0),\n",
       " 'media_content': [{}],\n",
       " 'summary': 'A new docuseries digs into the existential promise and peril of the gene-editing revolution.',\n",
       " 'summary_detail': {'type': 'text/html',\n",
       "  'language': None,\n",
       "  'base': 'https://www.wired.com/feed/rss',\n",
       "  'value': 'A new docuseries digs into the existential promise and peril of the gene-editing revolution.'},\n",
       " 'tags': [{'term': 'Science', 'scheme': None, 'label': None},\n",
       "  {'term': 'Science / Biotech', 'scheme': None, 'label': None},\n",
       "  {'term': 'crispr', 'scheme': None, 'label': None},\n",
       "  {'term': 'gene editing', 'scheme': None, 'label': None},\n",
       "  {'term': 'ethics', 'scheme': None, 'label': None},\n",
       "  {'term': 'Netflix', 'scheme': None, 'label': None}],\n",
       " 'media_keywords': 'crispr, gene editing, ethics, Netflix',\n",
       " 'authors': [{'name': 'Megan Molteni'}],\n",
       " 'author': 'Megan Molteni',\n",
       " 'author_detail': {'name': 'Megan Molteni'},\n",
       " 'dc_modified': 'Fri, 04 Oct 2019 01:23:19 +0000',\n",
       " 'publisher': 'Condé Nast',\n",
       " 'publisher_detail': {'name': 'Condé Nast'},\n",
       " 'media_thumbnail': [{'url': 'https://media.wired.com/photos/5d969ec82b8aea00088289d1/master/pass/UnnaturalSelection_Season1_Episode1_00_55_14_10.jpg',\n",
       "   'width': '2000',\n",
       "   'height': '1125'}],\n",
       " 'href': ''}"
      ]
     },
     "execution_count": 11,
     "metadata": {},
     "output_type": "execute_result"
    }
   ],
   "source": [
    "wired_feed['entries'][0]"
   ]
  },
  {
   "cell_type": "code",
   "execution_count": 20,
   "metadata": {},
   "outputs": [],
   "source": [
    "title_set = set()\n",
    "summary_set = set()\n",
    "published_set = set()\n",
    "\n",
    "for i in range(0,int(len(wired_feed))):\n",
    "    title = wired_feed['entries'][i]['title']\n",
    "    summary = wired_feed['entries'][i]['summary']\n",
    "    published = wired_feed['entries'][i]['published']\n",
    "    \n",
    "    title_set.add(title)\n",
    "    summary_set.add(summary)\n",
    "    published_set.add(published)"
   ]
  },
  {
   "cell_type": "code",
   "execution_count": 28,
   "metadata": {},
   "outputs": [],
   "source": [
    "import pandas as pd\n",
    "\n",
    "data_tuples = list(zip(title_set, summary_set, published_set))\n",
    "\n",
    "df = pd.DataFrame(data_tuples, columns=['Title', 'Summary', 'Published'])"
   ]
  },
  {
   "cell_type": "code",
   "execution_count": 29,
   "metadata": {},
   "outputs": [
    {
     "data": {
      "text/html": [
       "<div>\n",
       "<style scoped>\n",
       "    .dataframe tbody tr th:only-of-type {\n",
       "        vertical-align: middle;\n",
       "    }\n",
       "\n",
       "    .dataframe tbody tr th {\n",
       "        vertical-align: top;\n",
       "    }\n",
       "\n",
       "    .dataframe thead th {\n",
       "        text-align: right;\n",
       "    }\n",
       "</style>\n",
       "<table border=\"1\" class=\"dataframe\">\n",
       "  <thead>\n",
       "    <tr style=\"text-align: right;\">\n",
       "      <th></th>\n",
       "      <th>Title</th>\n",
       "      <th>Summary</th>\n",
       "      <th>Published</th>\n",
       "    </tr>\n",
       "  </thead>\n",
       "  <tbody>\n",
       "    <tr>\n",
       "      <th>0</th>\n",
       "      <td>GoPro Hero 7 Black Deal: $70 Off Right Now</td>\n",
       "      <td>Scientists are just starting to tease out the ...</td>\n",
       "      <td>Fri, 04 Oct 2019 13:00:00 +0000</td>\n",
       "    </tr>\n",
       "    <tr>\n",
       "      <th>1</th>\n",
       "      <td>Netflix's ‘Unnatural Selection’ Trailer Makes ...</td>\n",
       "      <td>The Hero 7 is still a great deal at $329, with...</td>\n",
       "      <td>Fri, 04 Oct 2019 11:00:00 +0000</td>\n",
       "    </tr>\n",
       "    <tr>\n",
       "      <th>2</th>\n",
       "      <td>So You Want to Quit Vaping? No One Actually Kn...</td>\n",
       "      <td>The company’s hardware chief discusses the sta...</td>\n",
       "      <td>Fri, 04 Oct 2019 14:00:00 +0000</td>\n",
       "    </tr>\n",
       "    <tr>\n",
       "      <th>3</th>\n",
       "      <td>Gadget Lab Podcast: Panos Panay on Microsoft S...</td>\n",
       "      <td>A new docuseries digs into the existential pro...</td>\n",
       "      <td>Fri, 04 Oct 2019 12:00:00 +0000</td>\n",
       "    </tr>\n",
       "  </tbody>\n",
       "</table>\n",
       "</div>"
      ],
      "text/plain": [
       "                                               Title  \\\n",
       "0         GoPro Hero 7 Black Deal: $70 Off Right Now   \n",
       "1  Netflix's ‘Unnatural Selection’ Trailer Makes ...   \n",
       "2  So You Want to Quit Vaping? No One Actually Kn...   \n",
       "3  Gadget Lab Podcast: Panos Panay on Microsoft S...   \n",
       "\n",
       "                                             Summary  \\\n",
       "0  Scientists are just starting to tease out the ...   \n",
       "1  The Hero 7 is still a great deal at $329, with...   \n",
       "2  The company’s hardware chief discusses the sta...   \n",
       "3  A new docuseries digs into the existential pro...   \n",
       "\n",
       "                         Published  \n",
       "0  Fri, 04 Oct 2019 13:00:00 +0000  \n",
       "1  Fri, 04 Oct 2019 11:00:00 +0000  \n",
       "2  Fri, 04 Oct 2019 14:00:00 +0000  \n",
       "3  Fri, 04 Oct 2019 12:00:00 +0000  "
      ]
     },
     "execution_count": 29,
     "metadata": {},
     "output_type": "execute_result"
    }
   ],
   "source": [
    "df"
   ]
  },
  {
   "cell_type": "code",
   "execution_count": null,
   "metadata": {},
   "outputs": [],
   "source": []
  }
 ],
 "metadata": {
  "kernelspec": {
   "display_name": "Python 3",
   "language": "python",
   "name": "python3"
  },
  "language_info": {
   "codemirror_mode": {
    "name": "ipython",
    "version": 3
   },
   "file_extension": ".py",
   "mimetype": "text/x-python",
   "name": "python",
   "nbconvert_exporter": "python",
   "pygments_lexer": "ipython3",
   "version": "3.7.3"
  }
 },
 "nbformat": 4,
 "nbformat_minor": 2
}
