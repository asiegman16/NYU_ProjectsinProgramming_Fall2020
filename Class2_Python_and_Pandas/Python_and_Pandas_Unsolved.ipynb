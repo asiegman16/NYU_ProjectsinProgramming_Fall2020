{
  "nbformat": 4,
  "nbformat_minor": 0,
  "metadata": {
    "kernelspec": {
      "display_name": "Python 3",
      "language": "python",
      "name": "python3"
    },
    "language_info": {
      "codemirror_mode": {
        "name": "ipython",
        "version": 3
      },
      "file_extension": ".py",
      "mimetype": "text/x-python",
      "name": "python",
      "nbconvert_exporter": "python",
      "pygments_lexer": "ipython3",
      "version": "3.7.3"
    },
    "colab": {
      "name": "Python and Pandas Solved.ipynb",
      "provenance": [],
      "toc_visible": true
    }
  },
  "cells": [
    {
      "cell_type": "markdown",
      "metadata": {
        "id": "E0odeRpxSuTH",
        "colab_type": "text"
      },
      "source": [
        "# Data Analysis with Python and Pandas "
      ]
    },
    {
      "cell_type": "markdown",
      "metadata": {
        "id": "PIJ1rI9YSuTI",
        "colab_type": "text"
      },
      "source": [
        "---"
      ]
    },
    {
      "cell_type": "code",
      "metadata": {
        "id": "F7ebCLi_SuTJ",
        "colab_type": "code",
        "colab": {}
      },
      "source": [
        " # importing the Pandas library"
      ],
      "execution_count": 59,
      "outputs": []
    },
    {
      "cell_type": "markdown",
      "metadata": {
        "id": "v3Pl1P4cSuTN",
        "colab_type": "text"
      },
      "source": [
        "---"
      ]
    },
    {
      "cell_type": "markdown",
      "metadata": {
        "id": "_O-WZw-JSuTN",
        "colab_type": "text"
      },
      "source": [
        "# Data Upload\n",
        "\n",
        "The first step of data analysis is to actually get your data in the right place. Remember that using Colab is like borrowing someone else's computer. So, in order to upload our csv (called \"SternTech_UserData.csv\") we need to: \n",
        "\n",
        "1. **Download the .zip file from the NYU Classes > Resources folder to your own computer,** \n",
        "\n",
        "2. **In Colab, click on the little arrow on the left-hand side of the screen,**\n",
        "\n",
        "3. **Click on \"Files\" and then \"Upload\" to upload the unzipped .csv file,**\n",
        "\n",
        "4. **Select \"SternTech_UserData.csv\" (again, the unzipped version) and click \"open\".**"
      ]
    },
    {
      "cell_type": "markdown",
      "metadata": {
        "id": "6kj05ADmSuTO",
        "colab_type": "text"
      },
      "source": [
        "---"
      ]
    },
    {
      "cell_type": "markdown",
      "metadata": {
        "id": "ooYkrvKtSuTO",
        "colab_type": "text"
      },
      "source": [
        "### Now that I have my csv in the right place, I can \"read it in\" using pd.read_csv.\n",
        "\n",
        "### First we are going to work with our 'SternTech_UserData.csv', a dataset of fake data that I created to illustrate the basic tenants of data analysis using Python and Pandas. \n",
        "\n",
        "### Below, we are setting our dataset equal to the variable 'df' (a commonplace variable name, standing for 'data frame'). "
      ]
    },
    {
      "cell_type": "code",
      "metadata": {
        "id": "q2KSgr5SSuTP",
        "colab_type": "code",
        "colab": {}
      },
      "source": [
        " # read in the csv\n",
        "\n",
        "# you can ignore the 'encoding' piece for now, we'll get to that later on when we talk about web scraping. "
      ],
      "execution_count": 60,
      "outputs": []
    },
    {
      "cell_type": "markdown",
      "metadata": {
        "id": "oEnTuqitSuTR",
        "colab_type": "text"
      },
      "source": [
        "# Primary Analysis of our Data"
      ]
    },
    {
      "cell_type": "code",
      "metadata": {
        "id": "ObdJvu2PSuTS",
        "colab_type": "code",
        "colab": {}
      },
      "source": [
        "pd.options.display.max_rows = 2000 # the way Jupyter Notebook tends to display the results of such queries isn't \n",
        "                                   # always helpful, but we can very easily change that.\n",
        "                                   # this will ensure we can view up to 2,000 rows without seeing elipses in the UI\n",
        "    \n",
        "pd.options.display.max_columns = 50 # try commenting out this last line ('max_columns =50') then run the cell below\n",
        "                                    # to see the difference this formatting makes "
      ],
      "execution_count": 61,
      "outputs": []
    },
    {
      "cell_type": "markdown",
      "metadata": {
        "id": "jJ-mJHNLSuTV",
        "colab_type": "text"
      },
      "source": [
        "### `df.head()` will give us the first five rows of our data frame \n",
        "### `df.tail()` will give us the last five rows \n",
        "### `df.head(15)` will give us the first fifteen rows <br>"
      ]
    },
    {
      "cell_type": "code",
      "metadata": {
        "id": "oNEpTyitSuTV",
        "colab_type": "code",
        "colab": {}
      },
      "source": [
        ""
      ],
      "execution_count": 61,
      "outputs": []
    },
    {
      "cell_type": "markdown",
      "metadata": {
        "id": "HY_qhgFVSuTY",
        "colab_type": "text"
      },
      "source": [
        "### `df.columns` will give us a list of all the column names in our data frame"
      ]
    },
    {
      "cell_type": "code",
      "metadata": {
        "id": "tCU-IcRBSuTY",
        "colab_type": "code",
        "colab": {}
      },
      "source": [
        ""
      ],
      "execution_count": 61,
      "outputs": []
    },
    {
      "cell_type": "markdown",
      "metadata": {
        "id": "mJg-yATuSuTa",
        "colab_type": "text"
      },
      "source": [
        "### `df.dtypes` is going to tell us how the computer is interpreting our data (for instance, as a string, integer, float, et. cetera). Please note that in Pandas, \"object\" is, for all intents and purposes, the same as a \"string\" in Python."
      ]
    },
    {
      "cell_type": "code",
      "metadata": {
        "id": "qMnC4u1uSuTb",
        "colab_type": "code",
        "colab": {}
      },
      "source": [
        ""
      ],
      "execution_count": 61,
      "outputs": []
    },
    {
      "cell_type": "markdown",
      "metadata": {
        "id": "Yeu0RgamSuTe",
        "colab_type": "text"
      },
      "source": [
        "### Let's drop that \"unnamed\" column because it's not going to do us any good."
      ]
    },
    {
      "cell_type": "code",
      "metadata": {
        "id": "ibQxOWIESuTe",
        "colab_type": "code",
        "colab": {}
      },
      "source": [
        "\n",
        "# this is saying, \"drop the first column (the 0th index)\"\n",
        "# \"axis=1\" specifies that we want to drop a column. If we used \"axis=0\" we would be specifying a row to drop"
      ],
      "execution_count": 62,
      "outputs": []
    },
    {
      "cell_type": "markdown",
      "metadata": {
        "id": "I-uIABteSuTh",
        "colab_type": "text"
      },
      "source": [
        "### `df.describe` is going to give us the basic statistical metrics for our data frame"
      ]
    },
    {
      "cell_type": "code",
      "metadata": {
        "id": "1vH2QwLASuTh",
        "colab_type": "code",
        "colab": {}
      },
      "source": [
        ""
      ],
      "execution_count": 62,
      "outputs": []
    },
    {
      "cell_type": "markdown",
      "metadata": {
        "id": "YlvZScvVSuTl",
        "colab_type": "text"
      },
      "source": [
        "### `df.count()` is going to give us a count of the non-null cells in each column"
      ]
    },
    {
      "cell_type": "code",
      "metadata": {
        "id": "S4-IzictSuTl",
        "colab_type": "code",
        "colab": {}
      },
      "source": [
        ""
      ],
      "execution_count": 62,
      "outputs": []
    },
    {
      "cell_type": "markdown",
      "metadata": {
        "id": "3Sxwh9AYSuTp",
        "colab_type": "text"
      },
      "source": [
        "### If we want to see the count of non-null cells for a particular column, we can use column indexing as such:"
      ]
    },
    {
      "cell_type": "code",
      "metadata": {
        "scrolled": true,
        "id": "z32udslTSuTq",
        "colab_type": "code",
        "colab": {}
      },
      "source": [
        ""
      ],
      "execution_count": 62,
      "outputs": []
    },
    {
      "cell_type": "markdown",
      "metadata": {
        "id": "5RUGtQrMSuTs",
        "colab_type": "text"
      },
      "source": [
        "### Now, looking back at our `df.dtypes` result, we see that our timestamp values are being stored as 'non-null object's' and not as timestamps, as we'd like. \n",
        "\n",
        "### Remember, in Python, how your data is being perceived (the dtype) determines what you can do with it. If we want to do any sort of timeseries analysis in the future, we're going to need to convert our time data from object to timestamp. So, let's change that using `pd.to_datetime`"
      ]
    },
    {
      "cell_type": "code",
      "metadata": {
        "id": "CEDrMxpKSuTu",
        "colab_type": "code",
        "colab": {}
      },
      "source": [
        ""
      ],
      "execution_count": 62,
      "outputs": []
    },
    {
      "cell_type": "code",
      "metadata": {
        "id": "k0poE68bSuTw",
        "colab_type": "code",
        "colab": {}
      },
      "source": [
        " # let's check to make sure that nothing funky happened"
      ],
      "execution_count": 63,
      "outputs": []
    },
    {
      "cell_type": "markdown",
      "metadata": {
        "id": "VTxxpM-dSuTy",
        "colab_type": "text"
      },
      "source": [
        "# Primary Analysis of our Data, Continued"
      ]
    },
    {
      "cell_type": "markdown",
      "metadata": {
        "id": "2YNjfek0SuTz",
        "colab_type": "text"
      },
      "source": [
        "### `df.sample()` is going to give us a random row from our data frame"
      ]
    },
    {
      "cell_type": "code",
      "metadata": {
        "id": "fwLT34LBSuTz",
        "colab_type": "code",
        "colab": {}
      },
      "source": [
        ""
      ],
      "execution_count": 63,
      "outputs": []
    },
    {
      "cell_type": "markdown",
      "metadata": {
        "id": "4EsQGcbzSuT2",
        "colab_type": "text"
      },
      "source": [
        "### To select a single column from our data frame, we can use column indexing again. "
      ]
    },
    {
      "cell_type": "code",
      "metadata": {
        "id": "mPCrqtUnSuT2",
        "colab_type": "code",
        "colab": {}
      },
      "source": [
        ""
      ],
      "execution_count": 63,
      "outputs": []
    },
    {
      "cell_type": "markdown",
      "metadata": {
        "id": "J87yBtOVSuT4",
        "colab_type": "text"
      },
      "source": [
        "### To select multiple columns, we can use `.loc` notation. \n",
        "\n",
        "### Note that `.loc` notation is used when you're sorting by column names, whereas `.iloc` is used when you're sorting by index number. For instance:"
      ]
    },
    {
      "cell_type": "code",
      "metadata": {
        "id": "fOjd0EQZSuT5",
        "colab_type": "code",
        "colab": {}
      },
      "source": [
        ""
      ],
      "execution_count": 63,
      "outputs": []
    },
    {
      "cell_type": "code",
      "metadata": {
        "id": "xumunvW6SuT7",
        "colab_type": "code",
        "colab": {}
      },
      "source": [
        ""
      ],
      "execution_count": 63,
      "outputs": []
    },
    {
      "cell_type": "code",
      "metadata": {
        "id": "EU-mwCdrSuT8",
        "colab_type": "code",
        "colab": {}
      },
      "source": [
        " # get the value of the 7th column (ad_type) for the 4th row (3rd index)"
      ],
      "execution_count": 64,
      "outputs": []
    },
    {
      "cell_type": "markdown",
      "metadata": {
        "id": "lcJ18O10SuT_",
        "colab_type": "text"
      },
      "source": [
        "### We can get the mean value of a column using `.mean()`"
      ]
    },
    {
      "cell_type": "code",
      "metadata": {
        "id": "KclLhn4ISuT_",
        "colab_type": "code",
        "colab": {}
      },
      "source": [
        ""
      ],
      "execution_count": 64,
      "outputs": []
    },
    {
      "cell_type": "markdown",
      "metadata": {
        "id": "Li77xhEfSuUB",
        "colab_type": "text"
      },
      "source": [
        "### We can also sort the values in our column using `df.sort_values(by=...)`"
      ]
    },
    {
      "cell_type": "code",
      "metadata": {
        "id": "3OoVFGqUSuUC",
        "colab_type": "code",
        "colab": {}
      },
      "source": [
        " # ascending=False means we want to have the greatest values at the top"
      ],
      "execution_count": 65,
      "outputs": []
    },
    {
      "cell_type": "markdown",
      "metadata": {
        "id": "ILdla22ySuUE",
        "colab_type": "text"
      },
      "source": [
        "### If we want to find any rows where a certain condition holds true, we can use column indexing as well as a comparative (such as `<` or `>` or `=`)."
      ]
    },
    {
      "cell_type": "code",
      "metadata": {
        "scrolled": true,
        "id": "YF1T67H_SuUE",
        "colab_type": "code",
        "colab": {}
      },
      "source": [
        " # return any rows where age < 21"
      ],
      "execution_count": 66,
      "outputs": []
    },
    {
      "cell_type": "markdown",
      "metadata": {
        "id": "gCs9DjyMSuUH",
        "colab_type": "text"
      },
      "source": [
        "---"
      ]
    },
    {
      "cell_type": "markdown",
      "metadata": {
        "id": "LrOE9qqoSuUH",
        "colab_type": "text"
      },
      "source": [
        "# Exercise 1: How many 21 year-olds were served Culinary ads?"
      ]
    },
    {
      "cell_type": "code",
      "metadata": {
        "id": "J-OCImonSuUI",
        "colab_type": "code",
        "colab": {}
      },
      "source": [
        "# your code here"
      ],
      "execution_count": 67,
      "outputs": []
    },
    {
      "cell_type": "markdown",
      "metadata": {
        "id": "wfFBYbt6SuUK",
        "colab_type": "text"
      },
      "source": [
        "# Solution"
      ]
    },
    {
      "cell_type": "code",
      "metadata": {
        "scrolled": true,
        "id": "1CtqaKXISuUL",
        "colab_type": "code",
        "colab": {}
      },
      "source": [
        ""
      ],
      "execution_count": 67,
      "outputs": []
    },
    {
      "cell_type": "markdown",
      "metadata": {
        "id": "w77l4daZSuUN",
        "colab_type": "text"
      },
      "source": [
        "---"
      ]
    },
    {
      "cell_type": "markdown",
      "metadata": {
        "id": "htNGiENrSuUO",
        "colab_type": "text"
      },
      "source": [
        "# Exercise 2: What is the most common company size in the SouthEast?"
      ]
    },
    {
      "cell_type": "code",
      "metadata": {
        "id": "2sHgI0HFSuUO",
        "colab_type": "code",
        "colab": {}
      },
      "source": [
        "# your code here"
      ],
      "execution_count": 68,
      "outputs": []
    },
    {
      "cell_type": "markdown",
      "metadata": {
        "id": "-1Kk9uG3SuUQ",
        "colab_type": "text"
      },
      "source": [
        "# Solution"
      ]
    },
    {
      "cell_type": "code",
      "metadata": {
        "id": "RtOeLbhWSuUQ",
        "colab_type": "code",
        "colab": {}
      },
      "source": [
        ""
      ],
      "execution_count": 68,
      "outputs": []
    },
    {
      "cell_type": "code",
      "metadata": {
        "id": "n9RAuek4SuUS",
        "colab_type": "code",
        "colab": {}
      },
      "source": [
        ""
      ],
      "execution_count": 68,
      "outputs": []
    },
    {
      "cell_type": "markdown",
      "metadata": {
        "id": "VXIcQ7KiSuUU",
        "colab_type": "text"
      },
      "source": [
        "---"
      ]
    },
    {
      "cell_type": "markdown",
      "metadata": {
        "id": "yfiPYLVpSuUU",
        "colab_type": "text"
      },
      "source": [
        "# Working with More JSON\n",
        "\n",
        "### Moving on, let's look at a larger data set from https://data.cityofnewyork.us/Health/New-York-City-Leading-Causes-of-Death/jb7j-dtam that details the leading causes of dath in NYC."
      ]
    },
    {
      "cell_type": "code",
      "metadata": {
        "id": "b7Og5gONSuUV",
        "colab_type": "code",
        "colab": {}
      },
      "source": [
        "import requests\n",
        "\n",
        "url = 'http://data.cityofnewyork.us/api/views/jb7j-dtam/rows.json'\n",
        "results = requests.get(url).json() # reading in the json just as we did with our citibike info last week"
      ],
      "execution_count": 69,
      "outputs": []
    },
    {
      "cell_type": "markdown",
      "metadata": {
        "id": "EWhTEgLxSuUX",
        "colab_type": "text"
      },
      "source": [
        "### Again, we're going to use the requests library to read the json from the given URL. You'll note that there are two main fields returned in the json – the \"meta\" that just describes the actual metadata, and the data itself. "
      ]
    },
    {
      "cell_type": "code",
      "metadata": {
        "id": "FJIUUeECSuUX",
        "colab_type": "code",
        "colab": {}
      },
      "source": [
        ""
      ],
      "execution_count": 69,
      "outputs": []
    },
    {
      "cell_type": "code",
      "metadata": {
        "id": "6pBA60vZSuUZ",
        "colab_type": "code",
        "colab": {}
      },
      "source": [
        ""
      ],
      "execution_count": 69,
      "outputs": []
    },
    {
      "cell_type": "markdown",
      "metadata": {
        "id": "UnFj5gSjSuUb",
        "colab_type": "text"
      },
      "source": [
        "### Now we'll create a DataFrame from our JSON again..."
      ]
    },
    {
      "cell_type": "code",
      "metadata": {
        "id": "vdh7K4v7SuUc",
        "colab_type": "code",
        "colab": {}
      },
      "source": [
        ""
      ],
      "execution_count": 69,
      "outputs": []
    },
    {
      "cell_type": "markdown",
      "metadata": {
        "id": "MpVyQrHsSuUe",
        "colab_type": "text"
      },
      "source": [
        "### And add some column names"
      ]
    },
    {
      "cell_type": "code",
      "metadata": {
        "id": "cuFWyB5sSuUe",
        "colab_type": "code",
        "colab": {}
      },
      "source": [
        ""
      ],
      "execution_count": 69,
      "outputs": []
    },
    {
      "cell_type": "code",
      "metadata": {
        "id": "8eYFTUk3SuUh",
        "colab_type": "code",
        "colab": {}
      },
      "source": [
        " # we create a list of the column names \n"
      ],
      "execution_count": 70,
      "outputs": []
    },
    {
      "cell_type": "code",
      "metadata": {
        "id": "UxODyvwqSuUj",
        "colab_type": "code",
        "colab": {}
      },
      "source": [
        " # and then pass in a list of those column names to our df\n"
      ],
      "execution_count": 71,
      "outputs": []
    },
    {
      "cell_type": "markdown",
      "metadata": {
        "id": "Pn_tPDHTSuUl",
        "colab_type": "text"
      },
      "source": [
        "### There's a lot of extraneous information in this dataframe, so we can drop a few of them. \n",
        "\n",
        "### Note that here we are passing in a list of columns that we'd like to drop, and specifying that we want to drop the columns themselves. If we said \"axis=index\" we would be dropping the rows themselves. \n",
        "\n",
        "### Also note that \"inplace=True\" specifies that instead of creating a new dataframe, we want to replace it with the current one (the one with fewer columns). This means that the new, smaller dataframe will persist across our entire notebook – aka, it implies that we want the change to be permanent. "
      ]
    },
    {
      "cell_type": "code",
      "metadata": {
        "id": "EvAGICPDSuUm",
        "colab_type": "code",
        "colab": {}
      },
      "source": [
        ""
      ],
      "execution_count": 71,
      "outputs": []
    },
    {
      "cell_type": "markdown",
      "metadata": {
        "id": "8gxNVV2ySuUo",
        "colab_type": "text"
      },
      "source": [
        "### It looks like our last three rows appear to be metadata and not actual data, so let's drop those rows as well."
      ]
    },
    {
      "cell_type": "code",
      "metadata": {
        "id": "dG47O_bzSuUo",
        "colab_type": "code",
        "colab": {}
      },
      "source": [
        ""
      ],
      "execution_count": 71,
      "outputs": []
    },
    {
      "cell_type": "markdown",
      "metadata": {
        "id": "HCzMCHHnSuUr",
        "colab_type": "text"
      },
      "source": [
        "### It's important to note that we can always rename our columns using a dictionary:"
      ]
    },
    {
      "cell_type": "code",
      "metadata": {
        "id": "-4W7tdQJSuUs",
        "colab_type": "code",
        "colab": {}
      },
      "source": [
        ""
      ],
      "execution_count": 71,
      "outputs": []
    },
    {
      "cell_type": "markdown",
      "metadata": {
        "id": "FFKTiyACSuUu",
        "colab_type": "text"
      },
      "source": [
        "### We've spoken a bit about datatypes, and why it's important that our computer is viewing data as we need it to; for instance, a string as a string, an integer as an integer.  \n",
        "\n",
        "### Remember that 'object' is a string in this case..."
      ]
    },
    {
      "cell_type": "code",
      "metadata": {
        "id": "b0X-xVD9SuUv",
        "colab_type": "code",
        "colab": {}
      },
      "source": [
        ""
      ],
      "execution_count": 71,
      "outputs": []
    },
    {
      "cell_type": "markdown",
      "metadata": {
        "id": "Hv_j2EtFSuUx",
        "colab_type": "text"
      },
      "source": [
        "### Let's change 'year' to an integer that way we can sort by year using `pd.to_numeric`:"
      ]
    },
    {
      "cell_type": "code",
      "metadata": {
        "id": "z5Zqj3zZSuUy",
        "colab_type": "code",
        "colab": {}
      },
      "source": [
        ""
      ],
      "execution_count": 71,
      "outputs": []
    },
    {
      "cell_type": "markdown",
      "metadata": {
        "id": "rtt5dDRqSuU0",
        "colab_type": "text"
      },
      "source": [
        "### We can also pass the `errors` command to specify what should happen if we anticipate Pandas is going to object to one of our changes. From the [documentation of to_numeric](http://pandas.pydata.org/pandas-docs/stable/generated/pandas.to_numeric.html), we get:\n",
        "\n",
        "* If ‘raise’, then invalid parsing will raise an exception\n",
        "* If ‘coerce’, then invalid parsing will be set as NaN\n",
        "* If ‘ignore’, then invalid parsing will return the input"
      ]
    },
    {
      "cell_type": "code",
      "metadata": {
        "id": "Zhrdw8_fSuU0",
        "colab_type": "code",
        "colab": {}
      },
      "source": [
        ""
      ],
      "execution_count": 71,
      "outputs": []
    },
    {
      "cell_type": "markdown",
      "metadata": {
        "id": "WhEXc0CYSuU3",
        "colab_type": "text"
      },
      "source": [
        "### Last but not least, we can also mark some variables as categorical"
      ]
    },
    {
      "cell_type": "code",
      "metadata": {
        "id": "zTQBIJlsSuU4",
        "colab_type": "code",
        "colab": {}
      },
      "source": [
        ""
      ],
      "execution_count": 71,
      "outputs": []
    },
    {
      "cell_type": "markdown",
      "metadata": {
        "id": "TtR2czSdSuU5",
        "colab_type": "text"
      },
      "source": [
        "---"
      ]
    },
    {
      "cell_type": "markdown",
      "metadata": {
        "id": "1H6faRcpSuU6",
        "colab_type": "text"
      },
      "source": [
        "# Exercise 3: What was the leading cause of death in 2014?"
      ]
    },
    {
      "cell_type": "code",
      "metadata": {
        "id": "k5f6JnbHSuU7",
        "colab_type": "code",
        "colab": {}
      },
      "source": [
        "# your code here"
      ],
      "execution_count": 72,
      "outputs": []
    },
    {
      "cell_type": "markdown",
      "metadata": {
        "id": "JmTmM0XqSuU-",
        "colab_type": "text"
      },
      "source": [
        "# Solution"
      ]
    },
    {
      "cell_type": "code",
      "metadata": {
        "id": "GH8EmgrFSuU-",
        "colab_type": "code",
        "colab": {}
      },
      "source": [
        ""
      ],
      "execution_count": 72,
      "outputs": []
    },
    {
      "cell_type": "code",
      "metadata": {
        "id": "nyvA25DpSuVC",
        "colab_type": "code",
        "colab": {}
      },
      "source": [
        ""
      ],
      "execution_count": 72,
      "outputs": []
    },
    {
      "cell_type": "markdown",
      "metadata": {
        "id": "elaZcu_ASuVF",
        "colab_type": "text"
      },
      "source": [
        "---"
      ]
    },
    {
      "cell_type": "markdown",
      "metadata": {
        "id": "fBRCc5NSSuVG",
        "colab_type": "text"
      },
      "source": [
        "# Exercise 4: How many different causes of death were recorded in 2011?"
      ]
    },
    {
      "cell_type": "code",
      "metadata": {
        "id": "wInb91OPSuVG",
        "colab_type": "code",
        "colab": {}
      },
      "source": [
        "# your code here"
      ],
      "execution_count": 73,
      "outputs": []
    },
    {
      "cell_type": "markdown",
      "metadata": {
        "id": "kAlTQsQ4SuVI",
        "colab_type": "text"
      },
      "source": [
        "# Solution"
      ]
    },
    {
      "cell_type": "code",
      "metadata": {
        "id": "VM4_-zcZSuVI",
        "colab_type": "code",
        "colab": {}
      },
      "source": [
        ""
      ],
      "execution_count": 73,
      "outputs": []
    }
  ]
}