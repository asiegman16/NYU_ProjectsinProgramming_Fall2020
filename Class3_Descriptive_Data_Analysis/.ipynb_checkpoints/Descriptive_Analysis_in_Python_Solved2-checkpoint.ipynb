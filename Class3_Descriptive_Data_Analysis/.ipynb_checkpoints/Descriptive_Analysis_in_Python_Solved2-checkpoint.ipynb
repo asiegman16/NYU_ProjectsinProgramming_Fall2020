{
 "cells": [
  {
   "cell_type": "markdown",
   "metadata": {
    "colab_type": "text",
    "id": "z6LFPM4THY_7"
   },
   "source": [
    "# Descriptive Analysis in Python"
   ]
  },
  {
   "cell_type": "markdown",
   "metadata": {
    "colab_type": "text",
    "id": "lfcanQFTHY_8"
   },
   "source": [
    "---"
   ]
  },
  {
   "cell_type": "markdown",
   "metadata": {
    "colab_type": "text",
    "id": "ohXfZh3RHY_9"
   },
   "source": [
    "Today we are going to use the NYC Vehicle Collisions 'accidents.csv' dataset from:\n",
    "https://data.cityofnewyork.us/Public-Safety/NYPD-Motor-Vehicle-Collisions-Crashes/h9gi-nx95\n",
    "\n",
    "Remember, in order to upload a csv to Goolge Colab, you can first download it to you own machine with the following code: \n",
    "\n",
    "1. `!curl 'https://data.cityofnewyork.us/api/views/h9gi-nx95/rows.csv?accessType=DOWNLOAD' -o accidents.csv`\n",
    "2. **In Colab, click on the little arrow on the left-hand side of the screen,**\n",
    "\n",
    "<div> \n",
    "    <img src=\"attachment:Colab%201.png\" width=600 />\n",
    "</div>\n",
    "\n",
    "3. **Click on \"Files\" and then \"Upload\" to upload the .csv file,**\n",
    "\n",
    "<div>\n",
    "    <img src =\"attachment:Colab%203.png\" width=600 /> \n",
    "    <img src=\"attachment:Colab%202.png\" width=600 />\n",
    "</div>\n",
    "\n",
    "4. **Select \".csv\" and click \"open\".**"
   ]
  },
  {
   "cell_type": "markdown",
   "metadata": {
    "colab": {
     "base_uri": "https://localhost:8080/",
     "height": 68
    },
    "colab_type": "code",
    "id": "6QQyh1xDHpdf",
    "outputId": "34c527b3-ab4d-4a3a-81aa-3d3cd568269e"
   },
   "source": [
    "```python \n",
    "\n",
    "!curl 'https://data.cityofnewyork.us/api/views/h9gi-nx95/rows.csv?accessType=DOWNLOAD' -o accidents.csv\n",
    "\n",
    "```"
   ]
  },
  {
   "cell_type": "markdown",
   "metadata": {
    "colab_type": "text",
    "id": "hLL1lr0XHY_9"
   },
   "source": [
    "Now that we have our CSV uploaded into our Colab environment, we can 'read it in' using `pd.read_csv`"
   ]
  },
  {
   "cell_type": "markdown",
   "metadata": {
    "colab_type": "text",
    "id": "yCZFfsmSHY_-"
   },
   "source": [
    "---"
   ]
  },
  {
   "cell_type": "markdown",
   "metadata": {
    "colab": {},
    "colab_type": "code",
    "id": "MBldYwhTHY__"
   },
   "source": [
    "```python \n",
    "\n",
    "import pandas as pd\n",
    "\n",
    "df = pd.read_csv(\"./accidents.csv\",low_memory=False)\n",
    "\n",
    "# low_memory means we want to read in our full data set \n",
    "\n",
    "%matplotlib inline\n",
    "\n",
    "```"
   ]
  },
  {
   "cell_type": "markdown",
   "metadata": {
    "colab": {},
    "colab_type": "code",
    "id": "_zcz0z4xHZAC"
   },
   "source": [
    "```python \n",
    "\n",
    "pd.options.display.max_columns = 100\n",
    "\n",
    "```"
   ]
  },
  {
   "cell_type": "markdown",
   "metadata": {
    "colab": {
     "base_uri": "https://localhost:8080/",
     "height": 411
    },
    "colab_type": "code",
    "id": "tNYiBrgIIIkS",
    "outputId": "d7c96bf2-4fc5-458b-c46d-d40e8d00557e"
   },
   "source": [
    "```python \n",
    "\n",
    "df.head()\n",
    "\n",
    "```"
   ]
  },
  {
   "cell_type": "markdown",
   "metadata": {
    "colab_type": "text",
    "id": "JE73j94NHZAE"
   },
   "source": [
    "# Data Types\n",
    "\n",
    "Remember, Python is an object oriented programming language, meaning we can do different things to different objects. But how Python perceives our data (as a string, an integer, a float, a Boolean, a datetime value, et. cetera) deterimnes what we can do with our data. \n",
    "\n",
    "For instance, I can't take the average of a list of strings. So, let's use `df.dtypes` to see how Python is interpreting our data."
   ]
  },
  {
   "cell_type": "markdown",
   "metadata": {
    "colab": {
     "base_uri": "https://localhost:8080/",
     "height": 527
    },
    "colab_type": "code",
    "id": "NnisoEqnHZAF",
    "outputId": "59c75174-de07-4bb8-ff0d-338635ae1cea",
    "scrolled": true
   },
   "source": [
    "```python \n",
    "\n",
    "df.dtypes"
   ]
  },
  {
   "cell_type": "markdown",
   "metadata": {
    "colab_type": "text",
    "id": "aosIBfifHZAH"
   },
   "source": [
    "It looks like our date and time columns are being read in as strings, not as datetimes, so let's adjust:"
   ]
  },
  {
   "cell_type": "markdown",
   "metadata": {
    "colab": {},
    "colab_type": "code",
    "id": "W9VX85kqHZAI"
   },
   "source": [
    "```python \n",
    "\n",
    "df['DATETIME'] = df['CRASH DATE'] + ' ' + df['CRASH TIME'] # let's create a new column called DATETIME...\n",
    "df.DATETIME = pd.to_datetime(df.DATETIME, format=\"%m/%d/%Y %H:%M\") # ...and convert it to datetime format"
   ]
  },
  {
   "cell_type": "markdown",
   "metadata": {
    "colab": {
     "base_uri": "https://localhost:8080/",
     "height": 445
    },
    "colab_type": "code",
    "id": "H0RaFgWsHZAK",
    "outputId": "72735f1d-c2f2-45c3-d4fb-f09b5a6d4eca"
   },
   "source": [
    "```python \n",
    "\n",
    "df.head()"
   ]
  },
  {
   "cell_type": "markdown",
   "metadata": {
    "colab": {
     "base_uri": "https://localhost:8080/",
     "height": 544
    },
    "colab_type": "code",
    "id": "bBUfpPHqIcUQ",
    "outputId": "3199a67f-1303-42c1-aff5-30656aba3d2b"
   },
   "source": [
    "```python \n",
    "\n",
    "df.dtypes"
   ]
  },
  {
   "cell_type": "markdown",
   "metadata": {
    "colab_type": "text",
    "id": "9Fdic8jGHZAN"
   },
   "source": [
    "We can also convert our original 'DATE' and 'TIME' columns to datetime format:"
   ]
  },
  {
   "cell_type": "markdown",
   "metadata": {
    "colab": {},
    "colab_type": "code",
    "id": "Yg7r8oKoHZAN"
   },
   "source": [
    "```python \n",
    "\n",
    "df['CRASH TIME'] = pd.to_datetime(df['CRASH TIME'], format=\"%H:%M\")"
   ]
  },
  {
   "cell_type": "markdown",
   "metadata": {
    "colab": {},
    "colab_type": "code",
    "id": "RKHSBZRxHZAQ"
   },
   "source": [
    "```python \n",
    "\n",
    "df['CRASH DATE'] = pd.to_datetime(df['CRASH DATE'], format=\"%m/%d/%Y\")"
   ]
  },
  {
   "cell_type": "markdown",
   "metadata": {
    "colab": {
     "base_uri": "https://localhost:8080/",
     "height": 544
    },
    "colab_type": "code",
    "id": "H4FrlHHhImIH",
    "outputId": "7b24ecfc-1470-4ccd-b7a6-8107fbe7fdab"
   },
   "source": [
    "```python \n",
    "\n",
    "df.dtypes"
   ]
  },
  {
   "cell_type": "markdown",
   "metadata": {
    "colab_type": "text",
    "id": "GwtMwT8LHZAS"
   },
   "source": [
    "# Engineering New Columns\n",
    "\n",
    "Now, let's create a new column called \"INJURY\" and another called \"DEATH\" that only holds a True value if there was at least one injury or death in the incident:"
   ]
  },
  {
   "cell_type": "markdown",
   "metadata": {
    "colab": {},
    "colab_type": "code",
    "id": "p4aA8GDlHZAS"
   },
   "source": [
    "```python \n",
    "\n",
    "df['INJURY'] = (df['NUMBER OF PERSONS INJURED']>0)\n",
    "df['DEATH'] = (df['NUMBER OF PERSONS KILLED']>0)"
   ]
  },
  {
   "cell_type": "markdown",
   "metadata": {
    "colab": {
     "base_uri": "https://localhost:8080/",
     "height": 445
    },
    "colab_type": "code",
    "id": "cHoUadNwHZAU",
    "outputId": "55c4323c-4d72-4039-9cbb-b03f0bd365ff"
   },
   "source": [
    "```python \n",
    "\n",
    "df.head()"
   ]
  },
  {
   "cell_type": "markdown",
   "metadata": {
    "colab_type": "text",
    "id": "ayEe5QH4HZAW"
   },
   "source": [
    "---"
   ]
  },
  {
   "cell_type": "markdown",
   "metadata": {
    "colab_type": "text",
    "id": "neap8rmgHZAX"
   },
   "source": [
    "# Exercise 1: What is the most common contributing factor to collisions?"
   ]
  },
  {
   "cell_type": "markdown",
   "metadata": {
    "colab": {},
    "colab_type": "code",
    "id": "DXuvOttWHZAX"
   },
   "source": [
    "```python \n",
    "\n",
    "# your code here"
   ]
  },
  {
   "cell_type": "markdown",
   "metadata": {
    "colab_type": "text",
    "id": "5urcOdfiHZAa"
   },
   "source": [
    "# Solution"
   ]
  },
  {
   "cell_type": "markdown",
   "metadata": {
    "colab": {
     "base_uri": "https://localhost:8080/",
     "height": 221
    },
    "colab_type": "code",
    "id": "7RpEwdIUI0Sa",
    "outputId": "d540dbae-1af3-4ff7-e639-f5bc40a28a00"
   },
   "source": [
    "```python \n",
    "\n",
    "df['CONTRIBUTING FACTOR VEHICLE 1'].value_counts()"
   ]
  },
  {
   "cell_type": "markdown",
   "metadata": {
    "colab": {
     "base_uri": "https://localhost:8080/",
     "height": 282
    },
    "colab_type": "code",
    "id": "WHdyxG9kHZAa",
    "outputId": "b8f2bf5c-1e23-4e48-cd64-6a6aaa24c214"
   },
   "source": [
    "```python \n",
    "\n",
    "df['CONTRIBUTING FACTOR VEHICLE 1'].value_counts()[1:10].plot(kind='barh')"
   ]
  },
  {
   "cell_type": "markdown",
   "metadata": {
    "colab_type": "text",
    "id": "tFPA0JP7HZAc"
   },
   "source": [
    "# Exercise 2: Break down the number of collisions by borough"
   ]
  },
  {
   "cell_type": "markdown",
   "metadata": {
    "colab": {},
    "colab_type": "code",
    "id": "uMhDlsDmHZAd"
   },
   "source": [
    "```python \n",
    "\n",
    "# your code here"
   ]
  },
  {
   "cell_type": "markdown",
   "metadata": {
    "colab_type": "text",
    "id": "rh6XAOoIHZAf"
   },
   "source": [
    "# Solution"
   ]
  },
  {
   "cell_type": "markdown",
   "metadata": {
    "colab": {
     "base_uri": "https://localhost:8080/",
     "height": 119
    },
    "colab_type": "code",
    "id": "nXy-oCACI3Hp",
    "outputId": "89fc14a7-e5a9-4d79-a149-e2abd41fa555"
   },
   "source": [
    "```python \n",
    "\n",
    "df['BOROUGH'].value_counts()"
   ]
  },
  {
   "cell_type": "markdown",
   "metadata": {
    "colab": {
     "base_uri": "https://localhost:8080/",
     "height": 282
    },
    "colab_type": "code",
    "id": "n8w3pQljHZAf",
    "outputId": "f98748d1-501b-4516-f547-dfaa37003f10"
   },
   "source": [
    "```python \n",
    "\n",
    "df['BOROUGH'].value_counts().plot(kind='barh')"
   ]
  },
  {
   "cell_type": "markdown",
   "metadata": {
    "colab_type": "text",
    "id": "M1O3Bg-pHZAh"
   },
   "source": [
    "---"
   ]
  },
  {
   "cell_type": "markdown",
   "metadata": {
    "colab_type": "text",
    "id": "sqaPFhCcHZAi"
   },
   "source": [
    "# Basic Data Viz / Plotting"
   ]
  },
  {
   "cell_type": "markdown",
   "metadata": {
    "colab": {
     "base_uri": "https://localhost:8080/",
     "height": 296
    },
    "colab_type": "code",
    "id": "Uz-8YDwVHZAi",
    "outputId": "2c924344-c760-455e-c64a-caded66dd058"
   },
   "source": [
    "```python \n",
    "\n",
    "df.plot(kind='scatter', x='LONGITUDE', y='LATITUDE')"
   ]
  },
  {
   "cell_type": "markdown",
   "metadata": {
    "colab_type": "text",
    "id": "faWNbRr2HZAk"
   },
   "source": [
    "Immediately we see there are some erronenous values here. I don't think there were any accidents in NYC at longitude 0, latitude 40 (especially because that is somewhere in Spain, according to Google). \n",
    "\n",
    "So let's use what's known as a 'Mask' – a selection condition that only keeps the entries we determine to be valid.\n",
    "\n",
    "Another quick Google search tells us that the lat/long for NYC is between 40/41 and -72/-74.5, so let's use that."
   ]
  },
  {
   "cell_type": "markdown",
   "metadata": {
    "colab": {},
    "colab_type": "code",
    "id": "fwJMfegGHZAl"
   },
   "source": [
    "```python \n",
    "\n",
    "clean_mask = (df.LATITUDE > 40) & (df.LATITUDE < 41) & (df.LONGITUDE < -72) & (df.LONGITUDE > -74.5)\n",
    "\n",
    "cleandf = df[clean_mask]"
   ]
  },
  {
   "cell_type": "markdown",
   "metadata": {
    "colab": {
     "base_uri": "https://localhost:8080/",
     "height": 296
    },
    "colab_type": "code",
    "id": "rDPGW4gwHZAn",
    "outputId": "a1f218ab-b2a5-4551-ad58-a57f1f152e60"
   },
   "source": [
    "```python \n",
    "\n",
    "cleandf.plot(kind='scatter', x='LONGITUDE', y='LATITUDE')"
   ]
  },
  {
   "cell_type": "markdown",
   "metadata": {
    "colab_type": "text",
    "id": "Pk35HsKUHZAp"
   },
   "source": [
    "Much better. Let's increase the figuresize a bit, too, just for ease of viewing. "
   ]
  },
  {
   "cell_type": "markdown",
   "metadata": {
    "colab": {
     "base_uri": "https://localhost:8080/",
     "height": 683
    },
    "colab_type": "code",
    "id": "Diq13jCfHZAp",
    "outputId": "c20fa81e-9a94-4e21-b77a-d1612bfdd0f7"
   },
   "source": [
    "```python \n",
    "\n",
    "cleandf.plot(kind='scatter', x='LONGITUDE', y='LATITUDE', figsize=(20, 15)) # increasing the figsize a bit"
   ]
  },
  {
   "cell_type": "markdown",
   "metadata": {
    "colab_type": "text",
    "id": "H9yBhaVIHZAr"
   },
   "source": [
    "# Overplotting\n",
    "\n",
    "Although cool, this isn't exactly helpful, because there are just so many datapoints. This is known as \"Overplotting.\"\n",
    "\n",
    "To get around overplotting, we can sample our data by either specifying the number of points we want to keep, or the percentage of our data set that we want to keep."
   ]
  },
  {
   "cell_type": "markdown",
   "metadata": {
    "colab_type": "text",
    "id": "g8NQRIe4HZAr"
   },
   "source": [
    "## `sample(n= ...)` \n",
    "\n",
    "let's us keep a specified number of data points to plot"
   ]
  },
  {
   "cell_type": "markdown",
   "metadata": {
    "colab": {
     "base_uri": "https://localhost:8080/",
     "height": 680
    },
    "colab_type": "code",
    "id": "T5l8tmNgHZAs",
    "outputId": "452a997e-9ddb-47c2-c2d7-34b0b2aab1fc"
   },
   "source": [
    "```python \n",
    "\n",
    "sample = cleandf.sample(n=10000) # keep 10,000 data points\n",
    "\n",
    "sample.plot(kind='scatter', x='LONGITUDE', y='LATITUDE', figsize=(20, 15))"
   ]
  },
  {
   "cell_type": "markdown",
   "metadata": {
    "colab_type": "text",
    "id": "QWSox4WCHZAu"
   },
   "source": [
    "## `sample(frac= ...)` \n",
    "\n",
    "let's us keep a specified percentage (fraction) of data points to plot"
   ]
  },
  {
   "cell_type": "markdown",
   "metadata": {
    "colab": {
     "base_uri": "https://localhost:8080/",
     "height": 680
    },
    "colab_type": "code",
    "id": "iHahFm06HZAu",
    "outputId": "c5c43547-e1a8-433b-ae14-aaec2dfc67d1"
   },
   "source": [
    "```python \n",
    "\n",
    "sample = cleandf.sample(frac=0.01) # keep 1% of the dataset\n",
    "\n",
    "sample.plot(kind='scatter', x='LONGITUDE', y='LATITUDE', figsize=(20, 15))"
   ]
  },
  {
   "cell_type": "markdown",
   "metadata": {
    "colab_type": "text",
    "id": "tl6MEBBuHZAw"
   },
   "source": [
    "## `s`\n",
    "\n",
    "let's us change the marker size"
   ]
  },
  {
   "cell_type": "markdown",
   "metadata": {
    "colab": {
     "base_uri": "https://localhost:8080/",
     "height": 683
    },
    "colab_type": "code",
    "id": "KmRvnujaHZAw",
    "outputId": "aae2b045-7a62-4c00-f095-fe205a809430"
   },
   "source": [
    "```python \n",
    "\n",
    "cleandf.plot(\n",
    "    kind='scatter', x='LONGITUDE', y='LATITUDE', figsize=(20, 15), s=0.5 ) # changing the marker size ('s')"
   ]
  },
  {
   "cell_type": "markdown",
   "metadata": {
    "colab_type": "text",
    "id": "uywjToFpHZA0"
   },
   "source": [
    "## `alpha`\n",
    "\n",
    "let's us change the transparency of the marker"
   ]
  },
  {
   "cell_type": "markdown",
   "metadata": {
    "colab": {
     "base_uri": "https://localhost:8080/",
     "height": 683
    },
    "colab_type": "code",
    "id": "ihreVpXNHZA1",
    "outputId": "8d6556d5-86a4-45fb-878d-074a90929443"
   },
   "source": [
    "```python \n",
    "\n",
    "cleandf.plot(\n",
    "    kind='scatter',\n",
    "    x='LONGITUDE',\n",
    "    y='LATITUDE',\n",
    "    figsize=(20, 15),\n",
    "    s=0.5,\n",
    "    alpha=0.05) # changing the marker transparency ('alpha')"
   ]
  },
  {
   "cell_type": "markdown",
   "metadata": {
    "colab_type": "text",
    "id": "_N8XJJ59HZA3"
   },
   "source": [
    "---"
   ]
  },
  {
   "cell_type": "markdown",
   "metadata": {
    "colab_type": "text",
    "id": "IoW1mBulHZA4"
   },
   "source": [
    "# Datetimes \n",
    "\n",
    "Now, back to working with datetimes, in particular, time series data (data that is obtained at successive times, often with equal intervals between them).\n",
    "\n",
    "Pandas has proven very successful as a tool for working with time series data, especially in the financial data analysis space. Using the [NumPy](http://www.numpy.org/) `datetime64` and `timedelta64` dtypes, pandas consolidated a large number of features from other Python libraries as well as created a tremendous amount of new functionality for manipulating time series data.\n",
    "\n",
    "To illustrate, let's generate a list of datetime values for 3 neighboring days starting from `01/30/2017` with the interval equals to one hour. \n",
    "\n",
    "The [`date_range`](http://pandas.pydata.org/pandas-docs/version/0.19.1/generated/pandas.date_range.html) function can return such list in [`DatetimeIndex`](http://pandas.pydata.org/pandas-docs/stable/generated/pandas.DatetimeIndex.html) format. \n",
    "\n",
    "We simply should define the left bound for generating dates `start` (`\"01/30/2017\"` in our case), the right bound for generating dates `end` or the amount of intervals `periods` (`3*24` in our case, because we are going to cover three days) and preferable frequency `freq` (`'H'` in our case)"
   ]
  },
  {
   "cell_type": "markdown",
   "metadata": {
    "colab": {
     "base_uri": "https://localhost:8080/",
     "height": 136
    },
    "colab_type": "code",
    "id": "D3X7BgnNHZA4",
    "outputId": "9c8969ee-a547-42fc-b52e-9b0c321b5a33"
   },
   "source": [
    "```python \n",
    "\n",
    "example_range = pd.date_range(start='01/30/2017', periods=3*24, freq='H')\n",
    "\n",
    "print(\"Number of elements:\", len(example_range.values))\n",
    "example_range[:10]"
   ]
  },
  {
   "cell_type": "markdown",
   "metadata": {
    "colab_type": "text",
    "id": "25zc3KNfHZA6"
   },
   "source": [
    "## `pd.to_datetime`"
   ]
  },
  {
   "cell_type": "markdown",
   "metadata": {
    "colab_type": "text",
    "id": "ZsYosVQ8HZA6"
   },
   "source": [
    "To convert a `Series` or list-like object of date-like objects e.g. strings, epochs, or a mixture, you can use the [`to_datetime`](http://pandas.pydata.org/pandas-docs/version/0.19.2/generated/pandas.to_datetime.html) function. When passed a `Series`, this returns a Series (with the same index), while a list-like is converted to a `DatetimeIndex`:"
   ]
  },
  {
   "cell_type": "markdown",
   "metadata": {
    "colab": {
     "base_uri": "https://localhost:8080/",
     "height": 85
    },
    "colab_type": "code",
    "id": "jVqdNKe9HZA7",
    "outputId": "bc0d09ef-66d2-4e4a-a8b9-9d342a0de48b"
   },
   "source": [
    "```python \n",
    "\n",
    "pd.to_datetime(pd.Series(['Jul 31, 2009', '2010-12-10', None])) "
   ]
  },
  {
   "cell_type": "markdown",
   "metadata": {
    "colab_type": "text",
    "id": "SAiJ1mT6HZA9"
   },
   "source": [
    "---"
   ]
  },
  {
   "cell_type": "markdown",
   "metadata": {
    "colab_type": "text",
    "id": "XH5rz2hUHZA9"
   },
   "source": [
    "# New Data!\n",
    "\n",
    "To better illustrate working with datetimes, let's look at the [Daily minimum temperatures in Melbourne data set from Kaggle](https://www.kaggle.com/paulbrabban/daily-minimum-temperatures-in-melbourne) \n",
    "\n",
    "You can download this dataset using the \"Download\" section. "
   ]
  },
  {
   "cell_type": "markdown",
   "metadata": {
    "colab": {
     "base_uri": "https://localhost:8080/",
     "height": 419
    },
    "colab_type": "code",
    "id": "iKF8ZtSOHZA-",
    "outputId": "e934919e-0c60-4099-e432-b43e496e694e",
    "scrolled": true
   },
   "source": [
    "```python \n",
    "\n",
    "melbourne_temp = pd.read_csv(\"./daily-minimum-temperatures-in-melbourne.csv\", \n",
    "                             skiprows=1,  # let's us skip the header\n",
    "                             names=[\"date\", \"temp\"])  # let's name columns as we desire\n",
    "melbourne_temp"
   ]
  },
  {
   "cell_type": "markdown",
   "metadata": {
    "colab_type": "text",
    "id": "CpgZu-eSHZA_"
   },
   "source": [
    "Let's drop that final row (the one that appears to just be a description of the data set)."
   ]
  },
  {
   "cell_type": "markdown",
   "metadata": {
    "colab": {
     "base_uri": "https://localhost:8080/",
     "height": 204
    },
    "colab_type": "code",
    "id": "CMeYCQaxHZBA",
    "outputId": "096df1dd-e2d2-422c-997a-021047ab7c69"
   },
   "source": [
    "```python \n",
    "\n",
    "melbourne_temp.drop(melbourne_temp.tail(1).index,inplace=True) \n",
    "\n",
    "melbourne_temp.tail()"
   ]
  },
  {
   "cell_type": "markdown",
   "metadata": {
    "colab": {
     "base_uri": "https://localhost:8080/",
     "height": 68
    },
    "colab_type": "code",
    "id": "lz7urPXeHZBC",
    "outputId": "1ed90395-4f73-40de-daf0-ddd2a3be7a4b"
   },
   "source": [
    "```python \n",
    "\n",
    "melbourne_temp.dtypes"
   ]
  },
  {
   "cell_type": "markdown",
   "metadata": {
    "colab_type": "text",
    "id": "k8tzi5mIHZBD"
   },
   "source": [
    "## `to_numeric` \n",
    "\n",
    "Along with converting our 'date' column to a datetime dtype, we can also use `pd.to_numeric` to convert the temperatures in our data set to a numeric type. "
   ]
  },
  {
   "cell_type": "markdown",
   "metadata": {
    "colab": {},
    "colab_type": "code",
    "id": "pVH3z8_8HZBE"
   },
   "source": [
    "```python \n",
    "\n",
    "melbourne_temp['temp'] = melbourne_temp['temp'].apply(pd.to_numeric, errors=\"coerce\")\n",
    "melbourne_temp['date'] = pd.to_datetime(melbourne_temp['date'])"
   ]
  },
  {
   "cell_type": "markdown",
   "metadata": {
    "colab": {
     "base_uri": "https://localhost:8080/",
     "height": 68
    },
    "colab_type": "code",
    "id": "ni5-WnhiHZBF",
    "outputId": "5101aeb5-c608-4b1e-e393-25887d519ead"
   },
   "source": [
    "```python \n",
    "\n",
    "melbourne_temp.dtypes"
   ]
  },
  {
   "cell_type": "markdown",
   "metadata": {
    "colab": {},
    "colab_type": "code",
    "id": "xDV2xkCJHZBH"
   },
   "source": [
    "```python \n",
    "\n",
    "import matplotlib.pyplot as plt\n",
    "%matplotlib inline\n",
    "from matplotlib.pylab import rcParams\n",
    "\n",
    "rcParams['figure.figsize'] = (16, 6) # change figsize \n",
    "\n",
    "melbourne_temp.set_index('date', inplace=True)"
   ]
  },
  {
   "cell_type": "markdown",
   "metadata": {
    "colab": {
     "base_uri": "https://localhost:8080/",
     "height": 352
    },
    "colab_type": "code",
    "id": "px1QKgs-HZBJ",
    "outputId": "0608367b-a71f-4411-8b11-9827c2eb448b"
   },
   "source": [
    "melbourne_temp.plot()\n",
    "plt.show()"
   ]
  },
  {
   "cell_type": "markdown",
   "metadata": {
    "colab_type": "text",
    "id": "0WkATaVjHZBK"
   },
   "source": [
    "---"
   ]
  },
  {
   "cell_type": "markdown",
   "metadata": {
    "colab_type": "text",
    "id": "THf6zc5GHZBL"
   },
   "source": [
    "# Exercise 1: Find the minimum temperture for all of the recorded history included in this data set:"
   ]
  },
  {
   "cell_type": "markdown",
   "metadata": {
    "colab": {},
    "colab_type": "code",
    "id": "dnxppTV2HZBL"
   },
   "source": [
    "# your code here"
   ]
  },
  {
   "cell_type": "markdown",
   "metadata": {
    "colab_type": "text",
    "id": "WNW2YOXdHZBN"
   },
   "source": [
    "# Solution"
   ]
  },
  {
   "cell_type": "markdown",
   "metadata": {
    "colab": {
     "base_uri": "https://localhost:8080/",
     "height": 51
    },
    "colab_type": "code",
    "id": "Vx4NIpRnHZBO",
    "outputId": "2bf5b46d-4c36-4673-bfc7-c7f981380df4"
   },
   "source": [
    "melbourne_temp.min()"
   ]
  },
  {
   "cell_type": "markdown",
   "metadata": {
    "colab_type": "text",
    "id": "AUGhi8d2HZBP"
   },
   "source": [
    "# Exercise 2: Find the temperature for every day in January, 1981:"
   ]
  },
  {
   "cell_type": "markdown",
   "metadata": {
    "colab": {},
    "colab_type": "code",
    "id": "MzT6y7O0HZBQ"
   },
   "source": [
    "# your code here"
   ]
  },
  {
   "cell_type": "markdown",
   "metadata": {
    "colab_type": "text",
    "id": "yNc-xfNQHZBR"
   },
   "source": [
    "# Solution"
   ]
  },
  {
   "cell_type": "markdown",
   "metadata": {
    "colab": {
     "base_uri": "https://localhost:8080/",
     "height": 1000
    },
    "colab_type": "code",
    "id": "EhYVCW6dHZBR",
    "outputId": "360a4987-a070-4647-85f1-63c65cdf89ee",
    "scrolled": true
   },
   "source": [
    "melbourne_temp['1981-01']"
   ]
  },
  {
   "cell_type": "markdown",
   "metadata": {
    "colab_type": "text",
    "id": "xWjJCyTCHZBU"
   },
   "source": [
    "# Exercise 3: Find the temperature for every day between Jan. 5, 1990 and Jan. 12, 1990:"
   ]
  },
  {
   "cell_type": "markdown",
   "metadata": {
    "colab": {},
    "colab_type": "code",
    "id": "xXRG3fmcHZBU"
   },
   "source": [
    "# your code here"
   ]
  },
  {
   "cell_type": "markdown",
   "metadata": {
    "colab_type": "text",
    "id": "I3KT_EfxHZBX"
   },
   "source": [
    "# Solution"
   ]
  },
  {
   "cell_type": "markdown",
   "metadata": {
    "colab": {
     "base_uri": "https://localhost:8080/",
     "height": 328
    },
    "colab_type": "code",
    "id": "BcZDS2s7HZBX",
    "outputId": "1eef3416-f866-4eae-e96f-724222be8d78"
   },
   "source": [
    "melbourne_temp['1990-01-05':'1990-01-12']"
   ]
  },
  {
   "cell_type": "markdown",
   "metadata": {
    "colab_type": "text",
    "id": "maCITJtDHZBZ"
   },
   "source": [
    "# Exercise 4: Plot the temperature for every day in February, 1981:"
   ]
  },
  {
   "cell_type": "markdown",
   "metadata": {
    "colab": {},
    "colab_type": "code",
    "id": "VoILVMQ4HZBa"
   },
   "source": [
    "# your code here"
   ]
  },
  {
   "cell_type": "markdown",
   "metadata": {
    "colab_type": "text",
    "id": "WGy1ppwFHZBc"
   },
   "source": [
    "# Solution"
   ]
  },
  {
   "cell_type": "markdown",
   "metadata": {
    "colab": {
     "base_uri": "https://localhost:8080/",
     "height": 391
    },
    "colab_type": "code",
    "id": "uBaD3narHZBc",
    "outputId": "5dc91761-6632-486b-bd1a-b552fe106840"
   },
   "source": [
    "melbourne_temp['1981-02'].plot()\n",
    "plt.show()"
   ]
  },
  {
   "cell_type": "markdown",
   "metadata": {
    "colab_type": "text",
    "id": "e1inMNgHHZBf"
   },
   "source": [
    "# Exercise 5: Find the average temperature in February, 1981:"
   ]
  },
  {
   "cell_type": "markdown",
   "metadata": {
    "colab": {},
    "colab_type": "code",
    "id": "4W3Z53z8HZBf"
   },
   "source": [
    "# your code here"
   ]
  },
  {
   "cell_type": "markdown",
   "metadata": {
    "colab_type": "text",
    "id": "-uUYHQu4HZBh"
   },
   "source": [
    "# Solution"
   ]
  },
  {
   "cell_type": "markdown",
   "metadata": {
    "colab": {
     "base_uri": "https://localhost:8080/",
     "height": 51
    },
    "colab_type": "code",
    "id": "ScUJ_78NHZBh",
    "outputId": "5353ff8e-8ced-487f-f4a7-476c9260a49e"
   },
   "source": [
    "melbourne_temp['1981-02'].mean()"
   ]
  },
  {
   "cell_type": "markdown",
   "metadata": {
    "colab_type": "text",
    "id": "eNN1d0YuHZBj"
   },
   "source": [
    "# Exercise 6: Find how many days the temperature was less than 2 degress across the whole data set:"
   ]
  },
  {
   "cell_type": "markdown",
   "metadata": {
    "colab": {},
    "colab_type": "code",
    "id": "1JxaFQvuHZBj"
   },
   "source": [
    "# your code here"
   ]
  },
  {
   "cell_type": "markdown",
   "metadata": {
    "colab_type": "text",
    "id": "E5Sp4FLiHZBl"
   },
   "source": [
    "# Solution"
   ]
  },
  {
   "cell_type": "markdown",
   "metadata": {
    "colab": {
     "base_uri": "https://localhost:8080/",
     "height": 34
    },
    "colab_type": "code",
    "id": "sTz6viVgHZBm",
    "outputId": "31698293-1873-486a-c552-0da3e293745c"
   },
   "source": [
    "print(\"Days with temperature less than 2 degrees:\", (melbourne_temp < 2).sum().values[0])"
   ]
  },
  {
   "cell_type": "markdown",
   "metadata": {
    "colab_type": "text",
    "id": "J0l4I30WHZBo"
   },
   "source": [
    "---"
   ]
  },
  {
   "cell_type": "markdown",
   "metadata": {
    "colab_type": "text",
    "id": "hGDOFEUEHZBo"
   },
   "source": [
    "# Resampling\n",
    "\n",
    "Resampling involves changing the frequency of your time series observations. \n",
    "\n",
    "- Upsampling means you increase the frequency of the samples (say, from minutes to seconds)\n",
    "- Downsampling means you decrease the frequency of the samples (say, from months to days)\n",
    "\n",
    "Imagine we are trying to determine the average weekly temperture from our Melbourne set, for instance. In that case, we would need to upsample the information from daily to weekly. "
   ]
  },
  {
   "cell_type": "markdown",
   "metadata": {
    "colab": {
     "base_uri": "https://localhost:8080/",
     "height": 390
    },
    "colab_type": "code",
    "id": "BTw8HrRSHZBo",
    "outputId": "999f7025-149a-417b-c0ae-483faae924f1"
   },
   "source": [
    "melbourne_temp.resample('W').mean().head(10)"
   ]
  },
  {
   "cell_type": "markdown",
   "metadata": {
    "colab": {
     "base_uri": "https://localhost:8080/",
     "height": 390
    },
    "colab_type": "code",
    "id": "0ovi3x3xHZBp",
    "outputId": "46b940e5-c90d-4571-848d-804171e082bd"
   },
   "source": [
    "melbourne_temp.resample('A').min() # 'A' means year-end frequency"
   ]
  },
  {
   "cell_type": "markdown",
   "metadata": {
    "colab_type": "text",
    "id": "-rpQ5sr7HZBs"
   },
   "source": [
    "Resampling is also a fast way to smooth in some essence the time series. For instance, the time series of monthly averages has much less peaks or outliers and allows tracking the periodicity. \n",
    "\n",
    "One way to smooth a time series is to calculate a rolling average – the average value of the current point and `N` previous points. It can be calcualted using [`rolling`](http://pandas.pydata.org/pandas-docs/stable/generated/pandas.DataFrame.rolling.html) pandas's method."
   ]
  },
  {
   "cell_type": "markdown",
   "metadata": {
    "colab": {
     "base_uri": "https://localhost:8080/",
     "height": 352
    },
    "colab_type": "code",
    "id": "2gKnfMxTHZBs",
    "outputId": "faa54e7f-8d87-4b7c-df87-6237e9a2bfc3"
   },
   "source": [
    "ax = melbourne_temp.plot(alpha=0.25) # draw initial time series and make it transparent\n",
    "\n",
    "melbourne_temp.resample('M').mean().plot(ax=ax) # draw montly average values\n",
    "\n",
    "melbourne_temp.rolling(25).mean().plot(ax=ax) # draw roling average that takes into account 25 points\n",
    "\n",
    "ax.legend([\"daily data\", \"montly average\", \"roling mean\"])\n",
    "plt.show()"
   ]
  },
  {
   "cell_type": "markdown",
   "metadata": {
    "colab_type": "text",
    "id": "KYvzY5QeHZBw"
   },
   "source": [
    "If you set the hourly frequency in the [`resample()`](http://pandas.pydata.org/pandas-docs/version/0.17.0/generated/pandas.DataFrame.resample.html) function, then `NaN` values will be created, because there are no more tiny distribution of the temperature.\n",
    "\n",
    "This is upsampling."
   ]
  },
  {
   "cell_type": "markdown",
   "metadata": {
    "colab": {
     "base_uri": "https://localhost:8080/",
     "height": 1000
    },
    "colab_type": "code",
    "id": "V1ZGJWPyHZBw",
    "outputId": "6fcb5248-9389-4311-f6a6-30b56a9ad6f5",
    "scrolled": true
   },
   "source": [
    "upsampled = melbourne_temp.resample('H').mean()\n",
    "upsampled.head(30)"
   ]
  },
  {
   "cell_type": "markdown",
   "metadata": {
    "colab_type": "text",
    "id": "73dzLQllHZBx"
   },
   "source": [
    "But we can interpolate the missing values at this new frequency.\n",
    "\n",
    "The `Series` pandas's object provides the [`interpolate`](http://pandas.pydata.org/pandas-docs/stable/generated/pandas.DataFrame.interpolate.html) function to interpolate missing values. A good starting point is to use a `linear interpolation`. This draws a straight line between available data and fills in values at the chosen frequency from this line."
   ]
  },
  {
   "cell_type": "markdown",
   "metadata": {
    "colab": {
     "base_uri": "https://localhost:8080/",
     "height": 1000
    },
    "colab_type": "code",
    "id": "qyI7o4UhHZBx",
    "outputId": "9f2c16c5-5bfb-4620-d0d1-65512e476495",
    "scrolled": true
   },
   "source": [
    "interpolated = upsampled.interpolate(method='linear')\n",
    "interpolated.head(30)"
   ]
  },
  {
   "cell_type": "code",
   "execution_count": null,
   "metadata": {
    "colab": {},
    "colab_type": "code",
    "id": "SClqf16kJMWZ"
   },
   "outputs": [],
   "source": []
  }
 ],
 "metadata": {
  "colab": {
   "name": "Descriptive Analysis in Python Solved.ipynb",
   "provenance": [],
   "toc_visible": true
  },
  "kernelspec": {
   "display_name": "Python 3",
   "language": "python",
   "name": "python3"
  },
  "language_info": {
   "codemirror_mode": {
    "name": "ipython",
    "version": 3
   },
   "file_extension": ".py",
   "mimetype": "text/x-python",
   "name": "python",
   "nbconvert_exporter": "python",
   "pygments_lexer": "ipython3",
   "version": "3.7.3"
  }
 },
 "nbformat": 4,
 "nbformat_minor": 1
}
