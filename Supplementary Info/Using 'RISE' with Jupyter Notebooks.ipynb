{
 "cells": [
  {
   "cell_type": "markdown",
   "metadata": {},
   "source": [
    "## An enormous thank you to damianvila for creating RISE! (https://github.com/damianavila/RISE) \n",
    "\n",
    "### In this notebook we will walk through 'RISE', a Jupyter extension that allows you to turn your Jupyter Notebook into a slideshow! "
   ]
  },
  {
   "cell_type": "code",
   "execution_count": null,
   "metadata": {},
   "outputs": [],
   "source": [
    "# step 1\n",
    "\n",
    "!pip install RISE"
   ]
  },
  {
   "cell_type": "code",
   "execution_count": null,
   "metadata": {},
   "outputs": [],
   "source": [
    "# step 2\n",
    "\n",
    "!jupyter-nbextension install rise --py --sys-prefix"
   ]
  },
  {
   "cell_type": "code",
   "execution_count": null,
   "metadata": {},
   "outputs": [],
   "source": [
    "# step 3\n",
    "\n",
    "!jupyter-nbextension enable rise --py --sys-prefix"
   ]
  },
  {
   "cell_type": "markdown",
   "metadata": {},
   "source": [
    "### Once RISE is installed on your system, you can go to \"View\" on the top of your Jupyter Notebook >> Cell Toolbar >> Slideshow and voila! You're all set. \n",
    "\n",
    "### To view your notebook as a slideshow, click on the symbol at the top of your screen next to the keyboard (the one that looks like a miniature bar chart)."
   ]
  }
 ],
 "metadata": {
  "celltoolbar": "Slideshow",
  "kernelspec": {
   "display_name": "Python 3",
   "language": "python",
   "name": "python3"
  },
  "language_info": {
   "codemirror_mode": {
    "name": "ipython",
    "version": 3
   },
   "file_extension": ".py",
   "mimetype": "text/x-python",
   "name": "python",
   "nbconvert_exporter": "python",
   "pygments_lexer": "ipython3",
   "version": "3.7.1"
  }
 },
 "nbformat": 4,
 "nbformat_minor": 2
}
