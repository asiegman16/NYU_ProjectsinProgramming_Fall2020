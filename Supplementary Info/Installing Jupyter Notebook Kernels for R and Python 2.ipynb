{
 "cells": [
  {
   "cell_type": "markdown",
   "metadata": {},
   "source": [
    "### Below are instructions for installing Jupyter Notebook Kernels for Python 2 and R. \n",
    "\n",
    "#### For more documentation on kernels see: https://ipython.readthedocs.io/en/latest/install/kernel_install.html"
   ]
  },
  {
   "cell_type": "code",
   "execution_count": null,
   "metadata": {},
   "outputs": [],
   "source": [
    "# to install an R kernel: \n",
    "\n",
    "!conda install -c r r-irkernel"
   ]
  },
  {
   "cell_type": "code",
   "execution_count": null,
   "metadata": {},
   "outputs": [],
   "source": [
    "# to install a Python 2 kernel: \n",
    "\n",
    "!python2 -m pip install ipykernel\n",
    "!python2 -m ipykernel install --user\n",
    "\n",
    "# or, using Conda, to create a Python 3 environment: \n",
    "\n",
    "!conda create -n ipykernel_py2 python=2 ipykernel\n",
    "!source activate ipykernel_py2\n",
    "!python -m ipykernel install --user "
   ]
  }
 ],
 "metadata": {
  "kernelspec": {
   "display_name": "Python 3",
   "language": "python",
   "name": "python3"
  },
  "language_info": {
   "codemirror_mode": {
    "name": "ipython",
    "version": 3
   },
   "file_extension": ".py",
   "mimetype": "text/x-python",
   "name": "python",
   "nbconvert_exporter": "python",
   "pygments_lexer": "ipython3",
   "version": "3.7.1"
  }
 },
 "nbformat": 4,
 "nbformat_minor": 2
}
