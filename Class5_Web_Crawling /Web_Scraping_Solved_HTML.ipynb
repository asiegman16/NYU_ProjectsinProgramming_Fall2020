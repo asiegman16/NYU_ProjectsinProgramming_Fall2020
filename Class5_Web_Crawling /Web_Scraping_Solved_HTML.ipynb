{
 "cells": [
  {
   "cell_type": "markdown",
   "metadata": {
    "id": "A3Va3omEkRUT"
   },
   "source": [
    "# Web Scraping"
   ]
  },
  {
   "cell_type": "markdown",
   "metadata": {
    "id": "g9xWGVaFkRUU"
   },
   "source": [
    "---"
   ]
  },
  {
   "cell_type": "markdown",
   "metadata": {
    "id": "zf4eF3jJkRUV"
   },
   "source": [
    "There is a LOT of useful information onthe internet, and as data scientists you'll often need access to that information. \n",
    "\n",
    "Unfortunatley, rarely is that information contained neatly in CSVs or even in tabular form. Rather, you have to really work to get what you need. \n",
    "\n",
    "Lucky for us, there are some useful tools for \"scraping\" the web – in particular, one called BeautifulSoup (https://www.crummy.com/software/BeautifulSoup/bs4/doc/)"
   ]
  },
  {
   "cell_type": "markdown",
   "metadata": {
    "colab": {
     "base_uri": "https://localhost:8080/",
     "height": 34
    },
    "id": "MFem0_PbkRUW",
    "outputId": "b16436cf-187f-4336-f55e-a048887c056d",
    "scrolled": true
   },
   "source": [
    "```python \n",
    "\n",
    "import time\n",
    "import re\n",
    "import csv\n",
    "import requests\n",
    "from bs4 import BeautifulSoup\n",
    "!pip install lxml #https://lxml.de/\n",
    "\n",
    "```"
   ]
  },
  {
   "cell_type": "markdown",
   "metadata": {
    "id": "s2LBai7gkRUZ"
   },
   "source": [
    "## `BeautifulSoup`\n"
   ]
  },
  {
   "cell_type": "markdown",
   "metadata": {
    "colab": {
     "base_uri": "https://localhost:8080/",
     "height": 1000
    },
    "id": "Lv6AjaojkRUZ",
    "outputId": "864f9460-02b2-4b63-d2ca-14cc044467f4"
   },
   "source": [
    "```python \n",
    "\n",
    "url = \"https://www.nytimes.com/news-event/coronavirus\" \n",
    "\n",
    "r = requests.get(url) # the requests library is the easiest way to call to a URL; here we are using a GET command\n",
    "\n",
    "soup = BeautifulSoup(r.text,'html') # we are going to take the result of that GET command and pass it through bs4\n",
    "\n",
    "print(soup.prettify()) # 'prettify' does exactly what you'd think – it prettifies the output of the print statement\n",
    "\n",
    "```"
   ]
  },
  {
   "cell_type": "markdown",
   "metadata": {
    "id": "gudQ3KrEkRUd"
   },
   "source": [
    "What you're seeing above is the HTML for the NYT homepage. Let's continue with a few basics:"
   ]
  },
  {
   "cell_type": "markdown",
   "metadata": {
    "id": "omh7KTHSkRUd"
   },
   "source": [
    "## `soup.title` \n",
    "\n",
    "Finds the title of a page"
   ]
  },
  {
   "cell_type": "markdown",
   "metadata": {
    "colab": {
     "base_uri": "https://localhost:8080/",
     "height": 34
    },
    "id": "FoIg6Xn5kRUe",
    "outputId": "124d2fbd-3506-4c52-928e-d54f07654f7d"
   },
   "source": [
    "```python \n",
    "\n",
    "soup.title \n",
    "\n",
    "```"
   ]
  },
  {
   "cell_type": "markdown",
   "metadata": {
    "id": "Ao_xps8akRUh"
   },
   "source": [
    "## `soup.title.string`\n",
    "\n",
    "Gets a string version of that same title "
   ]
  },
  {
   "cell_type": "markdown",
   "metadata": {
    "colab": {
     "base_uri": "https://localhost:8080/",
     "height": 35
    },
    "id": "nk7vYuJukRUh",
    "outputId": "37360472-800b-4876-ced3-e9027f7fb6a4"
   },
   "source": [
    "```python \n",
    "\n",
    "soup.title.string\n",
    "\n",
    "```"
   ]
  },
  {
   "cell_type": "markdown",
   "metadata": {
    "id": "qFtweQqjkRUn"
   },
   "source": [
    "## `soup.p`\n",
    "\n",
    "Get the first paragraph tag in the HTML"
   ]
  },
  {
   "cell_type": "markdown",
   "metadata": {
    "colab": {
     "base_uri": "https://localhost:8080/",
     "height": 34
    },
    "id": "64RZWSjckRUo",
    "outputId": "36d66788-962b-4bb8-999e-f742e9b76feb"
   },
   "source": [
    "```python \n",
    "\n",
    "soup.p \n",
    "\n",
    "```"
   ]
  },
  {
   "cell_type": "markdown",
   "metadata": {
    "colab": {
     "base_uri": "https://localhost:8080/",
     "height": 34
    },
    "id": "978OxOWDkRUr",
    "outputId": "c972f9cb-1d19-4b6b-8b91-1c8a7722ee73"
   },
   "source": [
    "```python \n",
    "\n",
    "soup.p['class'] # get the class of that <p> tag\n",
    "\n",
    "```"
   ]
  },
  {
   "cell_type": "markdown",
   "metadata": {
    "id": "2njk13l1kRUu"
   },
   "source": [
    "## `soup.find_all`"
   ]
  },
  {
   "cell_type": "markdown",
   "metadata": {
    "colab": {
     "base_uri": "https://localhost:8080/",
     "height": 547
    },
    "id": "RYEYfaPqkRUx",
    "outputId": "8f6eac7e-bafe-4e4a-b810-abab37a1bc1e"
   },
   "source": [
    "```python \n",
    "\n",
    "soup.find_all('p')\n",
    "\n",
    "```"
   ]
  },
  {
   "cell_type": "markdown",
   "metadata": {
    "id": "UfDBfAeXX28k"
   },
   "source": [
    "```python \n",
    "\n",
    "url = \"https://www.nytimes.com/2020/10/01/business/economy/layoffs-unemployment-claims.html\" \n",
    "\n",
    "r = requests.get(url) # the requests library is the easiest way to call to a URL; here we are using a GET command\n",
    "\n",
    "soup = BeautifulSoup(r.text,'html') # we are going to take the result of that GET command and pass it through bs4\n",
    "\n",
    "```"
   ]
  },
  {
   "cell_type": "markdown",
   "metadata": {
    "colab": {
     "base_uri": "https://localhost:8080/",
     "height": 34
    },
    "id": "uIlIAHdZZBj2",
    "outputId": "2ebd63d7-b4a9-41c7-abf9-74006c4ca7e6"
   },
   "source": [
    "```python \n",
    "\n",
    "soup.title\n",
    "\n",
    "```"
   ]
  },
  {
   "cell_type": "markdown",
   "metadata": {
    "colab": {
     "base_uri": "https://localhost:8080/",
     "height": 35
    },
    "id": "znEiAQ3gX_sh",
    "outputId": "1c517a38-b34e-431c-e903-56d6196d1c7e"
   },
   "source": [
    "```python \n",
    "\n",
    "soup.title.string\n",
    "\n",
    "```"
   ]
  },
  {
   "cell_type": "markdown",
   "metadata": {
    "colab": {
     "base_uri": "https://localhost:8080/",
     "height": 734
    },
    "id": "ohMpsSUrYA4S",
    "outputId": "a9e880cb-bbb1-4577-cfe5-1230b7690160"
   },
   "source": [
    "```python \n",
    "\n",
    "content = soup.find_all('p')\n",
    "\n",
    "content\n",
    "\n",
    "```"
   ]
  },
  {
   "cell_type": "markdown",
   "metadata": {
    "id": "6DFPVgY2d-Ho"
   },
   "source": [
    "```python \n",
    "\n",
    "content_list = []\n",
    "\n",
    "for p in content:\n",
    "    content_list.append(p.string)\n",
    "  \n",
    "article = content_list[2:40]\n",
    "\n",
    "```"
   ]
  },
  {
   "cell_type": "markdown",
   "metadata": {
    "colab": {
     "base_uri": "https://localhost:8080/",
     "height": 683
    },
    "id": "nEi03gl0hi59",
    "outputId": "807827ab-1fe0-4950-86d9-23b118e89309"
   },
   "source": [
    "```python \n",
    "\n",
    "article\n",
    "\n",
    "```"
   ]
  },
  {
   "cell_type": "markdown",
   "metadata": {
    "colab": {
     "base_uri": "https://localhost:8080/",
     "height": 683
    },
    "id": "dyHDO4SKgKF_",
    "outputId": "d0da4c70-d7f1-483c-9c18-4cff3b9ffa67"
   },
   "source": [
    "```python \n",
    "\n",
    "for i in article: \n",
    "    print(i)\n",
    "    \n",
    "```"
   ]
  },
  {
   "cell_type": "markdown",
   "metadata": {
    "id": "-NaudqwukRV5"
   },
   "source": [
    "---"
   ]
  },
  {
   "cell_type": "markdown",
   "metadata": {
    "id": "ErmOFA_QkRV6"
   },
   "source": [
    "# RSS Feeds\n",
    "\n",
    "An RSS ('Real Simple Syndication') feed is nothing more than a text file that is updated with information (usually pared down) from a website. For more, check out [this article by Digital Trends](https://www.digitaltrends.com/computing/what-is-an-rss-feed/)"
   ]
  },
  {
   "cell_type": "markdown",
   "metadata": {
    "id": "YVSoIOXdkRV6"
   },
   "source": [
    "In order to flex our RSS Feed skills we are going to be mimicking this brilliant and simple bot, @TwoHeadlines: <br> https://twitter.com/twoheadlines?lang=en\n",
    "\n",
    "<br>\n",
    "\n",
    "The concept is simple. It takes two different headlines from two different outlets via their RSS feeds (which we'll go over in a moment) and combines them to produce often comical and almost always nonsensical news headlines.\n",
    "\n",
    "<br>\n",
    "\n",
    "The first thing we must do to create our own TwoHeadlines bot is import a few libraries. Remember, libraries in Python are collections of functions and methods that allow you to perform various actions without writing your own code.\n",
    "\n",
    "<br>\n",
    "\n",
    "For instance, in our Two Headlines bot we are going to use: \n",
    "\n",
    "#### Feedparser: a library that will allow us to read various RSS feeds (again, we'll get to RSS in a moment)<br>\n",
    "https://pythonhosted.org/feedparser/introduction.html\n",
    "\n",
    "#### Random: a library that will allow us to generate random numbers <br> \n",
    "https://docs.python.org/2/library/random.html\n",
    "\n",
    "#### Time: a library that will allow us to work around traditionally tricky time functions <br>\n",
    "https://docs.python.org/2/library/time.html\n",
    "\n",
    "<br>\n",
    "\n",
    "Thus, your first lines of code will look as follows: <br>"
   ]
  },
  {
   "cell_type": "markdown",
   "metadata": {
    "id": "n84tz19okRV6"
   },
   "source": [
    "```python \n",
    "\n",
    "!pip install feedparser\n",
    "\n",
    "import feedparser\n",
    "import random\n",
    "import time\n",
    "\n",
    "```"
   ]
  },
  {
   "cell_type": "markdown",
   "metadata": {
    "id": "41c6LtCCkRV8"
   },
   "source": [
    "<br> Great! Now, we want to begin by defining our function. <br>\n",
    "\n",
    "Remember, funcitons come in handy when you want to repeat the same task many times using the same _type_ of input. <br>"
   ]
  },
  {
   "cell_type": "markdown",
   "metadata": {
    "id": "eXg-i2p1kRV-"
   },
   "source": [
    "```python \n",
    "\n",
    "# for example\n",
    "\n",
    "def printSentence(sentence):\n",
    "    print(sentence + \" Plus a new sentence.\")\n",
    "    return;\n",
    "\n",
    "```"
   ]
  },
  {
   "cell_type": "markdown",
   "metadata": {
    "id": "2Wdst0SxkRWA"
   },
   "source": [
    "```python \n",
    "\n",
    "printSentence(\"This is the sentence I want to print.\")\n",
    "\n",
    "```"
   ]
  },
  {
   "cell_type": "markdown",
   "metadata": {
    "id": "rbfbE3qAkRWC"
   },
   "source": [
    "In this case, we will call our function 'TwoHeadlines' \n"
   ]
  },
  {
   "cell_type": "markdown",
   "metadata": {
    "id": "TVFyycOLkRWC"
   },
   "source": [
    "```python \n",
    "\n",
    "def TwoHeadlines(): # we are leaving the input blank for now, and you'll see why in a moment\n",
    "    pass            # this 'pass' is here just to avoid an error as we work on our function. To see what happens without it, \n",
    "                    # try removing the 'pass' line and see the error you receive.\n",
    "    \n",
    "```"
   ]
  },
  {
   "cell_type": "markdown",
   "metadata": {
    "id": "ezRmZ0H_kRWE"
   },
   "source": [
    "To best understand what you can get from an RSS feed, take a look at the following examples: \n",
    "\n",
    "http://www.wsj.com/public/page/rss_news_and_feeds.html <br>\n",
    "https://archive.nytimes.com/www.nytimes.com/services/xml/rss/index.html <br>\n",
    "http://rss.cnn.com/rss/cnn_topstories.rss <br>\n",
    "\n",
    "To see how you can actually pull these RSS feeds using Python, we're going to rely on Python. As an example, let's pull two feeds.\n",
    "\n",
    "Note that we first set a variable equal to the desired url for the desired RSS feed. Then, we use feedparser to store that information into a new variable."
   ]
  },
  {
   "cell_type": "markdown",
   "metadata": {
    "id": "KomIottkkRWF"
   },
   "source": [
    "```python \n",
    "\n",
    "nyt_rss_url = 'https://rss.nytimes.com/services/xml/rss/nyt/HomePage.xml' # find the desired rss feed\n",
    "espn_rss_url = 'https://www.espn.com/espn/rss/news' # find a second desired rss feed\n",
    "\n",
    "nyt_feed = feedparser.parse(nyt_rss_url) # use feedparser to, well, parse the feed\n",
    "espn_feed = feedparser.parse(espn_rss_url) # use feedparser to, well, parse the feed\n",
    "\n",
    "```"
   ]
  },
  {
   "cell_type": "markdown",
   "metadata": {
    "id": "R6coVTISkRWH"
   },
   "source": [
    "Next, we need to get a bit creative, because we don't want that entire RSS feed; We just want the headline for the latest article! But if you type the following:"
   ]
  },
  {
   "cell_type": "markdown",
   "metadata": {
    "id": "4QviQ-LokRWH"
   },
   "source": [
    "```python \n",
    "\n",
    "print(nyt_feed) # print the full RSS feed\n",
    "\n",
    "```"
   ]
  },
  {
   "cell_type": "markdown",
   "metadata": {
    "id": "8t5A8mKzkRWI"
   },
   "source": [
    "```python \n",
    "\n",
    "for i in range(0,10): # for the first ten entries in the RSS feed (the ten most recent stories)\n",
    "    print(nyt_feed['entries'][i]['title']) # print the title of said article\n",
    "    \n",
    "```"
   ]
  },
  {
   "cell_type": "markdown",
   "metadata": {
    "id": "myfGv2KfkRWL"
   },
   "source": [
    "But how did we know to use \"['entries'][i]['title']\"?\n",
    "\n",
    "To understand, we need to briefly delve into the world of dictionaries "
   ]
  },
  {
   "cell_type": "markdown",
   "metadata": {
    "id": "yQiu0ffakRWL"
   },
   "source": [
    "```python \n",
    "\n",
    "dictionary = {'favorite_food':'pasta'} # create a new dictionary \n",
    "\n",
    "# consider 'favorite_food' to be the word, and 'pasta' to be the definition, it it helps you\n",
    "\n",
    "```"
   ]
  },
  {
   "cell_type": "markdown",
   "metadata": {
    "id": "GApW2gnbkRWM"
   },
   "source": [
    "```python \n",
    "\n",
    "print(dictionary['favorite_food'])\n",
    "\n",
    "# we then call 'favorite_food' and get the \"definiton\" \n",
    "# in reality, this is known as a Key:Value pair, with \"Key\" being the word, and \"Value\" being the definition\n",
    "\n",
    "```"
   ]
  },
  {
   "cell_type": "markdown",
   "metadata": {
    "id": "6B6bP3pvkRWO"
   },
   "source": [
    "As you may be able to see, our RSS is actually formated quite cleverily. It is a dicitionary (a set of key-value pairs) that includes lists. For example, look at the very top of the feed. It starts \n",
    "\n",
    "#### {'feed': {'title': 'WSJ.com: World News',\n",
    "\n",
    "The best way to read this is - the first entry in the dictionary is 'Feed' and the first value for that entry (also known as a 'key' is 'Title'. \n",
    "\n",
    "Now, 'Title' happens to be another dictionary (you can tell because it begins with a '{'). If we keep searching, we'll see that the headline comes after 'entries' and is paired with the 'title'. \n",
    "\n",
    "I know this is all exceptionally confusing, but just bear with me. The more you practice parsing information from RSS feeds (or HTML in general) the easier it will become, I promise!\n",
    "\n",
    "So, if we want that headline, and that headline only, we are going to: \n",
    "\n",
    "1. Navigate to the entire RSS feed\n",
    "2. Navigate to the 'entries' section\n",
    "3. Navigate to the first 'entries' section (each story is going to have its own, and we want the first headline)\n",
    "4. Navigate to the 'title' section \n",
    "\n",
    "<br>"
   ]
  },
  {
   "cell_type": "markdown",
   "metadata": {
    "id": "hTbUBjZUkRWO"
   },
   "source": [
    "Now, back to replicating 'TwoHeadlinesBot'"
   ]
  },
  {
   "cell_type": "markdown",
   "metadata": {
    "id": "dg6KPhNjkRWO"
   },
   "source": [
    "```python \n",
    "\n",
    "my_list = [] # create a new, empty list called 'my_list'\n",
    "\n",
    "for i in range(0,10): \n",
    "    my_list.append(nyt_feed['entries'][i]['title']) # append the first ten titles to this list\n",
    "    \n",
    "```"
   ]
  },
  {
   "cell_type": "markdown",
   "metadata": {
    "id": "VjjZtZWDkRWQ"
   },
   "source": [
    "```python \n",
    "\n",
    "my_list[3] # select the third index of that list\n",
    "\n",
    "```"
   ]
  },
  {
   "cell_type": "markdown",
   "metadata": {
    "id": "fJCd3lXRkRWT"
   },
   "source": [
    "```python \n",
    "\n",
    "Article4 = my_list[3]\n",
    "\n",
    "```"
   ]
  },
  {
   "cell_type": "markdown",
   "metadata": {
    "id": "7K981K9MkRWV"
   },
   "source": [
    "```python \n",
    "\n",
    "Article4[:25] # get the first 25 characters of the title of the 3rd index (fourth article) in our list\n",
    "\n",
    "```"
   ]
  },
  {
   "cell_type": "markdown",
   "metadata": {
    "id": "u5iA9T6kkRWX"
   },
   "source": [
    "```python \n",
    "\n",
    "len(Article4) # how many characters long is our title? \n",
    "\n",
    "```"
   ]
  },
  {
   "cell_type": "markdown",
   "metadata": {
    "id": "__7AtxbpkRWY"
   },
   "source": [
    "```python \n",
    "\n",
    "len(Article4)/2 # figure out the half-way point of the title \n",
    "\n",
    "```"
   ]
  },
  {
   "cell_type": "markdown",
   "metadata": {
    "id": "YjCq5ZXtkRWa"
   },
   "source": [
    "```python \n",
    "\n",
    "Article4[0:30] # get the first half of our article title\n",
    "\n",
    "```"
   ]
  },
  {
   "cell_type": "markdown",
   "metadata": {
    "id": "7Fs6AUgMkRWb"
   },
   "source": [
    "```python \n",
    "\n",
    "Article5 = my_list[4] # let's see what the next title is in our list\n",
    "print(Article5)\n",
    "\n",
    "```"
   ]
  },
  {
   "cell_type": "markdown",
   "metadata": {
    "collapsed": true,
    "id": "L6yxbHl1kRWd"
   },
   "source": [
    "So, how do we want to mash our headlines together?"
   ]
  },
  {
   "cell_type": "markdown",
   "metadata": {
    "id": "yokdboZQkRWd"
   },
   "source": [
    "```python \n",
    "\n",
    "nyt_first_story = nyt_feed['entries'][0]['title'] #Recall that '0' is actually the first instance\n",
    "print(nyt_first_story)\n",
    "\n",
    "```"
   ]
  },
  {
   "cell_type": "markdown",
   "metadata": {
    "id": "c8Pj7ot0kRWe"
   },
   "source": [
    "```python \n",
    "\n",
    "words = nyt_first_story.split(' ') # remember, I can split that single sentence into a list of individual words \n",
    "print(words) \n",
    "\n",
    "```"
   ]
  },
  {
   "cell_type": "markdown",
   "metadata": {
    "id": "KlRlPJzEkRWg"
   },
   "source": [
    "```python \n",
    "\n",
    "for i in range(0,10): \n",
    "\n",
    "    nyt_first_story = nyt_feed['entries'][i]['title'] # pull the title of the ith story in the first RSS feed\n",
    "    espn_first_story = espn_feed['entries'][i]['title'] # pull the title of the ith story in the second RSS feed\n",
    "\n",
    "    nyt_words = nyt_first_story.split(' ') # split the title by spaces (aka, make every word in the title it's own)\n",
    "    espn_words = espn_first_story.split(' ') # split the title by spaces (aka, make every word in the title it's own)\n",
    "    \n",
    "print(nyt_words) \n",
    "print(\" --- \") # print a line for formatting purposes\n",
    "print(espn_words)\n",
    "\n",
    "```"
   ]
  },
  {
   "cell_type": "markdown",
   "metadata": {
    "id": "miNajJrWkRWi"
   },
   "source": [
    "Let's keep going. Remember, we want to take half of one headline and half of a different headline and mash them together. So, how do we get just the first or second half of a list of words?  <br>"
   ]
  },
  {
   "cell_type": "markdown",
   "metadata": {
    "id": "H_o4gQwikRWi"
   },
   "source": [
    "```python \n",
    "\n",
    "for i in range(0,10): \n",
    "\n",
    "    nyt_first_story = nyt_feed['entries'][i]['title'] # pull the title of the ith story in the first RSS feed\n",
    "    espn_first_story = espn_feed['entries'][i]['title'] # pull the title of the ith story in the second RSS feed\n",
    "\n",
    "    nyt_words = nyt_first_story.split(' ') # split the title by spaces (aka, make every word in the title it's own)\n",
    "    espn_words = espn_first_story.split(' ') # split the title by spaces (aka, make every word in the title it's own)\n",
    "\n",
    "    nyt_words = nyt_words[:int(len(nyt_words)/2)] \n",
    "    espn_words = espn_words[int(len(espn_words)/2):]\n",
    "    \n",
    "print(nyt_words)\n",
    "print(\" --- \")\n",
    "print(espn_words)\n",
    "\n",
    "```"
   ]
  },
  {
   "cell_type": "markdown",
   "metadata": {
    "id": "-j3te4sZkRWm"
   },
   "source": [
    "## Walkthrough of our Code\n",
    "\n",
    "1) First, the `[:`    "
   ]
  },
  {
   "cell_type": "markdown",
   "metadata": {
    "id": "TOnDU3n-kRWm"
   },
   "source": [
    "```python \n",
    "\n",
    "# the ':' at the front of a list means 'everything leading up to this point. For instance: \n",
    "\n",
    "list = ['a','b','c','d','e']\n",
    "list = list[:3]\n",
    "print(list)\n",
    "\n",
    "```"
   ]
  },
  {
   "cell_type": "markdown",
   "metadata": {
    "id": "XtCZcGH8kRWo"
   },
   "source": [
    "In other words, we want to print everything leading up to (but not including!) the third instance in our list."
   ]
  },
  {
   "cell_type": "markdown",
   "metadata": {
    "id": "QaXX7qAHkRWo"
   },
   "source": [
    " 2)  Next, the `int` allows us to ensure we're working with integers so we can do the necessary division at the end of the line of code.  \n"
   ]
  },
  {
   "cell_type": "markdown",
   "metadata": {
    "id": "nNzoNER0kRWo"
   },
   "source": [
    "```python \n",
    "\n",
    "len(nyt_words)/2 # the result is a float, which we don't want\n",
    "\n",
    "```"
   ]
  },
  {
   "cell_type": "markdown",
   "metadata": {
    "id": "uvii6_BwkRWq"
   },
   "source": [
    "```python \n",
    "\n",
    "int(len(nyt_words)/2) # tis gives us an integer\n",
    "\n",
    "```"
   ]
  },
  {
   "cell_type": "markdown",
   "metadata": {
    "id": "LX8BmlO5kRWr"
   },
   "source": [
    "3)  `len` is a function that gives you the number of items in a list. For instance: "
   ]
  },
  {
   "cell_type": "markdown",
   "metadata": {
    "id": "02JYbHl_kRWr"
   },
   "source": [
    "```python \n",
    "\n",
    "list = ['a','b','c','d','e']\n",
    "len(list)\n",
    "\n",
    "```"
   ]
  },
  {
   "cell_type": "markdown",
   "metadata": {
    "id": "H29-1sWqkRWt"
   },
   "source": [
    "4) Finally, we are taking the total number of words in the headline and dividing by two"
   ]
  },
  {
   "cell_type": "markdown",
   "metadata": {
    "id": "wEIprf9FkRWt"
   },
   "source": [
    "In total, we are saying: \"Take the headline, find out how many words are in the headline and divide by two. Then, take the first half of that headline and store it as the new healdine.\" \n",
    "\n",
    "_Note that while for the first healdine we take the first half (by putting the ':' at the beginning of the code) we are taking the second half of the second headline (by putting the ':' at the end of the code)._"
   ]
  },
  {
   "cell_type": "markdown",
   "metadata": {
    "id": "0455_iD9kRWt"
   },
   "source": [
    "## All together, now\n",
    "\n",
    "Finally, we want to join the two halves of our healdine and store it as the variable 'new_headline' "
   ]
  },
  {
   "cell_type": "markdown",
   "metadata": {
    "id": "aPCexKvVkRWt"
   },
   "source": [
    "```python \n",
    "\n",
    "for i in range(0,10): \n",
    "\n",
    "    nyt_first_story = nyt_feed['entries'][i]['title'] # pull the title of the ith story in the first RSS feed\n",
    "    espn_first_story = espn_feed['entries'][i]['title'] # pull the title of the ith story in the second RSS feed\n",
    "\n",
    "    nyt_words = nyt_first_story.split(' ') # split the title by spaces (aka, make every word in the title it's own)\n",
    "    espn_words = espn_first_story.split(' ') # split the title by spaces (aka, make every word in the title it's own)\n",
    "\n",
    "    nyt_words = nyt_words[:int(len(nyt_words)/2)] \n",
    "    espn_words = espn_words[int(len(espn_words)/2):]\n",
    "    \n",
    "    new_headline = nyt_words + espn_words # Take the first half of the title from the first RSS feed and add the second half of the second RSS feed\n",
    "    new_headline = ' '.join(new_headline) # Join the two strings created above with spaces\n",
    "\n",
    "    print(new_headline) # Print your newly created headline\n",
    "    \n",
    "```"
   ]
  }
 ],
 "metadata": {
  "colab": {
   "name": "NEW_Web_Scraping_Solved.ipynb",
   "provenance": []
  },
  "kernelspec": {
   "display_name": "Python 3",
   "language": "python",
   "name": "python3"
  },
  "language_info": {
   "codemirror_mode": {
    "name": "ipython",
    "version": 3
   },
   "file_extension": ".py",
   "mimetype": "text/x-python",
   "name": "python",
   "nbconvert_exporter": "python",
   "pygments_lexer": "ipython3",
   "version": "3.7.3"
  }
 },
 "nbformat": 4,
 "nbformat_minor": 1
}
