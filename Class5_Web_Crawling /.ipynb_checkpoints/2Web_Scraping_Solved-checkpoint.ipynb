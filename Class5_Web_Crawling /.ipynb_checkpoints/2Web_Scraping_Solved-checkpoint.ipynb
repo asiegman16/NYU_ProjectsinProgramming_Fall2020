{
 "cells": [
  {
   "cell_type": "markdown",
   "metadata": {
    "id": "A3Va3omEkRUT"
   },
   "source": [
    "# Web Scraping"
   ]
  },
  {
   "cell_type": "markdown",
   "metadata": {
    "id": "g9xWGVaFkRUU"
   },
   "source": [
    "---"
   ]
  },
  {
   "cell_type": "markdown",
   "metadata": {
    "id": "zf4eF3jJkRUV"
   },
   "source": [
    "There is a LOT of useful information onthe internet, and as data scientists you'll often need access to that information. \n",
    "\n",
    "Unfortunatley, rarely is that information contained neatly in CSVs or even in tabular form. Rather, you have to really work to get what you need. \n",
    "\n",
    "Lucky for us, there are some useful tools for \"scraping\" the web – in particular, one called BeautifulSoup (https://www.crummy.com/software/BeautifulSoup/bs4/doc/)"
   ]
  },
  {
   "cell_type": "markdown",
   "metadata": {
    "colab": {
     "base_uri": "https://localhost:8080/",
     "height": 34
    },
    "id": "MFem0_PbkRUW",
    "outputId": "d49b0c1a-700f-40df-e049-5ea46e2421ae",
    "scrolled": true
   },
   "source": [
    "```python\n",
    "\n",
    "import time\n",
    "import re\n",
    "import csv\n",
    "import requests\n",
    "from bs4 import BeautifulSoup\n",
    "!pip install lxml #https://lxml.de/\n",
    "\n",
    "```"
   ]
  },
  {
   "cell_type": "markdown",
   "metadata": {
    "id": "s2LBai7gkRUZ"
   },
   "source": [
    "## `BeautifulSoup`\n"
   ]
  },
  {
   "cell_type": "markdown",
   "metadata": {
    "colab": {
     "base_uri": "https://localhost:8080/",
     "height": 1000
    },
    "id": "Lv6AjaojkRUZ",
    "outputId": "8a5c0a06-f2ad-46fc-e158-fea1996a2975"
   },
   "source": [
    "```python\n",
    "\n",
    "url = \"https://www.nytimes.com/\" # let's scrape the NYT homepage\n",
    "\n",
    "r = requests.get(url) # the requests library is the easiest way to call to a URL; here we are using a GET command\n",
    "\n",
    "soup = BeautifulSoup(r.text,'html') # we are going to take the result of that GET command and pass it through bs4\n",
    "\n",
    "print(soup.prettify()) # 'prettify' does exactly what you'd think – it prettifies the output of the print statement\n",
    "\n",
    "```"
   ]
  },
  {
   "cell_type": "markdown",
   "metadata": {
    "id": "gudQ3KrEkRUd"
   },
   "source": [
    "What you're seeing above is the HTML for the NYT homepage. Let's continue with a few basics:"
   ]
  },
  {
   "cell_type": "markdown",
   "metadata": {
    "id": "omh7KTHSkRUd"
   },
   "source": [
    "## `soup.title` \n",
    "\n",
    "Finds the title of a page"
   ]
  },
  {
   "cell_type": "markdown",
   "metadata": {
    "colab": {
     "base_uri": "https://localhost:8080/",
     "height": 34
    },
    "id": "FoIg6Xn5kRUe",
    "outputId": "eb105625-1c96-4211-ddac-9ec6dfcb6235"
   },
   "source": [
    "```python\n",
    "\n",
    "soup.title \n",
    "\n",
    "```"
   ]
  },
  {
   "cell_type": "markdown",
   "metadata": {
    "id": "Ao_xps8akRUh"
   },
   "source": [
    "## `soup.title.string`\n",
    "\n",
    "Gets a string version of that same title "
   ]
  },
  {
   "cell_type": "markdown",
   "metadata": {
    "colab": {
     "base_uri": "https://localhost:8080/",
     "height": 35
    },
    "id": "nk7vYuJukRUh",
    "outputId": "64ac07b0-1d22-491d-cc9b-bcb0a6b127d2"
   },
   "source": [
    "```python\n",
    "\n",
    "soup.title.string \n",
    "\n",
    "```"
   ]
  },
  {
   "cell_type": "markdown",
   "metadata": {
    "id": "XhkRUKk6kRUk"
   },
   "source": [
    "## `soup.title.parent.name`"
   ]
  },
  {
   "cell_type": "markdown",
   "metadata": {
    "colab": {
     "base_uri": "https://localhost:8080/",
     "height": 35
    },
    "id": "r4nO1DGAkRUl",
    "outputId": "8ea81504-a189-4c82-84db-3c23db90f283"
   },
   "source": [
    "```python\n",
    "\n",
    "soup.title.parent.name # find the parent of the title \n",
    "                       # this is exceptionally helpful when you're trying to parse an HTML tree\n",
    "    \n",
    "```"
   ]
  },
  {
   "cell_type": "markdown",
   "metadata": {
    "id": "qFtweQqjkRUn"
   },
   "source": [
    "## `soup.p`\n",
    "\n",
    "Get the first paragraph tag in the HTML"
   ]
  },
  {
   "cell_type": "markdown",
   "metadata": {
    "colab": {
     "base_uri": "https://localhost:8080/",
     "height": 34
    },
    "id": "64RZWSjckRUo",
    "outputId": "d37ca523-5347-4936-bbbd-339f33498003"
   },
   "source": [
    "```python\n",
    "\n",
    "soup.p \n",
    "\n",
    "```"
   ]
  },
  {
   "cell_type": "markdown",
   "metadata": {
    "colab": {
     "base_uri": "https://localhost:8080/",
     "height": 34
    },
    "id": "978OxOWDkRUr",
    "outputId": "d82b89aa-2974-4c2f-92ab-7657f2983127"
   },
   "source": [
    "```python\n",
    "\n",
    "soup.p['class'] # get the class of that <p> tag\n",
    "\n",
    "```"
   ]
  },
  {
   "cell_type": "markdown",
   "metadata": {
    "id": "2njk13l1kRUu"
   },
   "source": [
    "## `soup.find_all`"
   ]
  },
  {
   "cell_type": "markdown",
   "metadata": {
    "colab": {
     "base_uri": "https://localhost:8080/",
     "height": 1000
    },
    "id": "ExJ9cwzAkRUu",
    "outputId": "8527e28d-2606-420f-8556-c61efee057e4"
   },
   "source": [
    "```python\n",
    "\n",
    "soup.find_all('a') # find all 'a' tags on the page\n",
    "\n",
    "```"
   ]
  },
  {
   "cell_type": "markdown",
   "metadata": {
    "colab": {
     "base_uri": "https://localhost:8080/",
     "height": 1000
    },
    "id": "RYEYfaPqkRUx",
    "outputId": "4503d49d-e023-4208-edc9-1c98624b1137"
   },
   "source": [
    "```python\n",
    "\n",
    "for link in soup.find_all('a'): # find all 'a' on the page\n",
    "    print(link.get('href')) # get the associated href (hyperlink) for each instance \n",
    "    \n",
    "```"
   ]
  },
  {
   "cell_type": "markdown",
   "metadata": {
    "id": "kryAEEf9kRUz"
   },
   "source": [
    "It's important to know that BeautifulSoup transforms HTMl into a tree of Python objects. The most important objects to know are: \n",
    "\n",
    "1. Tag\n",
    "2. NavigableString\n",
    "3. BeautifulSoup"
   ]
  },
  {
   "cell_type": "markdown",
   "metadata": {
    "id": "tNjvxb6qkRU0"
   },
   "source": [
    "## `Tag`\n",
    "\n",
    "Corresponds to an XML or HTML tag in the original document. For instance:"
   ]
  },
  {
   "cell_type": "markdown",
   "metadata": {
    "colab": {
     "base_uri": "https://localhost:8080/",
     "height": 35
    },
    "id": "Kc0RsTMbkRU1",
    "outputId": "f20a9ab6-66b8-4499-b777-27449cbe0f7e"
   },
   "source": [
    "```python\n",
    "\n",
    "tag = soup.p \n",
    "tag.name\n",
    "\n",
    "```"
   ]
  },
  {
   "cell_type": "markdown",
   "metadata": {
    "colab": {
     "base_uri": "https://localhost:8080/",
     "height": 34
    },
    "id": "qz793o0QkRU3",
    "outputId": "b1948b09-6fe9-41a9-aa1a-dd23ebb3ffa0"
   },
   "source": [
    "```python\n",
    "\n",
    "tag.attrs # you can easily access an attributes tags\n",
    "\n",
    "```"
   ]
  },
  {
   "cell_type": "markdown",
   "metadata": {
    "colab": {
     "base_uri": "https://localhost:8080/",
     "height": 34
    },
    "id": "lEWZn0mfkRU6",
    "outputId": "6642f4df-f5e5-4517-e780-4b871496e531"
   },
   "source": [
    "```python\n",
    "\n",
    "tag['class'] # or, you can search for a corresponding value as you would in a dictionary \n",
    "\n",
    "```"
   ]
  },
  {
   "cell_type": "markdown",
   "metadata": {
    "id": "jnHH2J7XkRU8"
   },
   "source": [
    "## `String` \n",
    "\n",
    "Corresponds to a bit of text within a tag. You use the NavigableString class to access that text."
   ]
  },
  {
   "cell_type": "markdown",
   "metadata": {
    "colab": {
     "base_uri": "https://localhost:8080/",
     "height": 35
    },
    "id": "1YRBCncOkRU9",
    "outputId": "787b62bc-6f0e-41f3-f96c-a4233c080ff5"
   },
   "source": [
    "```python\n",
    "\n",
    "tag.string\n",
    "\n",
    "```"
   ]
  },
  {
   "cell_type": "markdown",
   "metadata": {
    "id": "v3B4uzV8kRU_"
   },
   "source": [
    "## `BeautifulSoup object`\n",
    "\n",
    "Represents the document as a whole."
   ]
  },
  {
   "cell_type": "markdown",
   "metadata": {
    "colab": {
     "base_uri": "https://localhost:8080/",
     "height": 35
    },
    "id": "4KOiMJLOkRVA",
    "outputId": "841b2432-869a-4e51-a898-3383906897b1"
   },
   "source": [
    "```python\n",
    "\n",
    "soup.name\n",
    "\n",
    "```"
   ]
  },
  {
   "cell_type": "markdown",
   "metadata": {
    "id": "HnVOacAvkRVC"
   },
   "source": [
    "---"
   ]
  },
  {
   "cell_type": "markdown",
   "metadata": {
    "id": "Oly2-KIdkRVC"
   },
   "source": [
    "# Exercise 1:\n",
    "\n",
    "Choose any article from NYT.com and find its title.string value "
   ]
  },
  {
   "cell_type": "markdown",
   "metadata": {
    "id": "LdNOs9wxkRVD"
   },
   "source": [
    "```python\n",
    "\n",
    "# your code here\n",
    "\n",
    "```"
   ]
  },
  {
   "cell_type": "markdown",
   "metadata": {
    "id": "KvvadaM1kRVG"
   },
   "source": [
    "# Solution"
   ]
  },
  {
   "cell_type": "markdown",
   "metadata": {
    "colab": {
     "base_uri": "https://localhost:8080/",
     "height": 35
    },
    "id": "vxTQ3tw5kRVG",
    "outputId": "e8e7280f-7b2e-431c-dfb2-bcb5d44cae71"
   },
   "source": [
    "```python\n",
    "\n",
    "url = \"https://www.nytimes.com/interactive/2019/10/31/us/california-fire-evacuees.html?action=click&module=Top%20Stories&pgtype=Homepage\" # let's scrape the NYT homepage\n",
    "\n",
    "r = requests.get(url) # the requests library is the easiest way to call to a URL; here we are using a GET command\n",
    "\n",
    "soup = BeautifulSoup(r.text,'html') # we are going to take the result of that GET command and pass it through bs4\n",
    "\n",
    "soup.title.string \n",
    "\n",
    "```"
   ]
  },
  {
   "cell_type": "markdown",
   "metadata": {
    "id": "puURiHjzkRVI"
   },
   "source": [
    "# Exercise 2\n",
    "\n",
    "Find any and all hyperlinks contained in this article"
   ]
  },
  {
   "cell_type": "markdown",
   "metadata": {
    "id": "iuEq-llwkRVJ"
   },
   "source": [
    "```python\n",
    "\n",
    "# your code here\n",
    "\n",
    "```"
   ]
  },
  {
   "cell_type": "markdown",
   "metadata": {
    "id": "N9im__H5kRVL"
   },
   "source": [
    "# Solution"
   ]
  },
  {
   "cell_type": "markdown",
   "metadata": {
    "colab": {
     "base_uri": "https://localhost:8080/",
     "height": 374
    },
    "id": "T7NAvFpLkRVO",
    "outputId": "f84e0d85-918a-4833-e56a-6f658e19bf5d"
   },
   "source": [
    "```python\n",
    "\n",
    "for link in soup.find_all('a'):\n",
    "    print(link.get('href'))\n",
    "    \n",
    "```"
   ]
  },
  {
   "cell_type": "markdown",
   "metadata": {
    "id": "3syvQ7ZkkRVQ"
   },
   "source": [
    "---"
   ]
  },
  {
   "cell_type": "markdown",
   "metadata": {
    "id": "kTOvXTUVkRVR"
   },
   "source": [
    "## Navigating the Tree\n",
    "\n",
    "The easiest way to navigate the parse tree is to call out the tag you want. "
   ]
  },
  {
   "cell_type": "markdown",
   "metadata": {
    "colab": {
     "base_uri": "https://localhost:8080/",
     "height": 1000
    },
    "id": "xTDPvsupkRVR",
    "outputId": "32b3c9e7-bfd8-4083-ee38-636756be4c7d"
   },
   "source": [
    "```python\n",
    "\n",
    "soup.head # let's just call out for the 'head' tag\n",
    "\n",
    "```"
   ]
  },
  {
   "cell_type": "markdown",
   "metadata": {
    "colab": {
     "base_uri": "https://localhost:8080/",
     "height": 34
    },
    "id": "Rpm_wvdkkRVT",
    "outputId": "c50b3993-64fc-41a0-f266-7829f2c4c429"
   },
   "source": [
    "```python\n",
    "\n",
    "soup.title # or the 'title' tag\n",
    "\n",
    "```"
   ]
  },
  {
   "cell_type": "markdown",
   "metadata": {
    "id": "0ki8y3kWkRVV"
   },
   "source": [
    "You can, of course, delve deeper into the parse tree."
   ]
  },
  {
   "cell_type": "markdown",
   "metadata": {
    "colab": {
     "base_uri": "https://localhost:8080/",
     "height": 119
    },
    "id": "Imm0dMtEkRVW",
    "outputId": "61530487-9e02-4e52-da60-e2c58196f19f"
   },
   "source": [
    "```python\n",
    "\n",
    "soup.body.p # get the first <p> tag beneath the <body> tag\n",
    "\n",
    "```"
   ]
  },
  {
   "cell_type": "markdown",
   "metadata": {
    "colab": {
     "base_uri": "https://localhost:8080/",
     "height": 119
    },
    "id": "qFh6Qf45kRVZ",
    "outputId": "5a1c7b4d-582e-43c1-dbcd-7dae9f2abaef"
   },
   "source": [
    "```python\n",
    "\n",
    "# note that using a tag name as an attribute gets you only the first tag by that name\n",
    "\n",
    "soup.p\n",
    "\n",
    "```"
   ]
  },
  {
   "cell_type": "markdown",
   "metadata": {
    "colab": {
     "base_uri": "https://localhost:8080/",
     "height": 156
    },
    "id": "zUIo4Oo9kRVb",
    "outputId": "3795d58d-4c7a-4c6c-ea85-ee800d2ad6f6"
   },
   "source": [
    "```python\n",
    "\n",
    "# to find all the tags, use something like find_all()\n",
    "\n",
    "soup.find_all('p')\n",
    "\n",
    "```"
   ]
  },
  {
   "cell_type": "markdown",
   "metadata": {
    "id": "AJAeWezjkRVd"
   },
   "source": [
    "As alluded to earlier, it's helpful to be able to navigate the tree step-by-step. A tag's children are available in a list called .contents"
   ]
  },
  {
   "cell_type": "markdown",
   "metadata": {
    "colab": {
     "base_uri": "https://localhost:8080/",
     "height": 1000
    },
    "id": "UiphhMW-kRVe",
    "outputId": "ee0f25b2-e689-4292-cf69-0f3d096c4448"
   },
   "source": [
    "```python\n",
    "\n",
    "head_tag = soup.head\n",
    "head_tag.contents\n",
    "\n",
    "```"
   ]
  },
  {
   "cell_type": "markdown",
   "metadata": {
    "id": "4W1I8-K-kRVf"
   },
   "source": [
    "You can also iterate over a tag's children with the .children generator"
   ]
  },
  {
   "cell_type": "markdown",
   "metadata": {
    "colab": {
     "base_uri": "https://localhost:8080/",
     "height": 1000
    },
    "id": "1uNeYAs6kRVg",
    "outputId": "fea8920c-11d8-4163-fb40-fe5483f12d41"
   },
   "source": [
    "```python\n",
    "\n",
    "for child in head_tag.children:\n",
    "    print(child)\n",
    "    \n",
    "```"
   ]
  },
  {
   "cell_type": "markdown",
   "metadata": {
    "id": "i0DAD4JJkRVi"
   },
   "source": [
    "---"
   ]
  },
  {
   "cell_type": "markdown",
   "metadata": {
    "id": "xYemhbZJkRVi"
   },
   "source": [
    "# Exercise 3:\n",
    "\n",
    "Find the first paragrap tag in the article."
   ]
  },
  {
   "cell_type": "markdown",
   "metadata": {
    "id": "Z6FhotlWkRVi"
   },
   "source": [
    "```python\n",
    "\n",
    "# your code here\n",
    "\n",
    "```"
   ]
  },
  {
   "cell_type": "markdown",
   "metadata": {
    "id": "V6rUsM28kRVm"
   },
   "source": [
    "# Solution"
   ]
  },
  {
   "cell_type": "markdown",
   "metadata": {
    "colab": {
     "base_uri": "https://localhost:8080/",
     "height": 119
    },
    "id": "J9YbbAuFkRVm",
    "outputId": "49ad1fd9-f14e-4860-8130-3637bda4867b"
   },
   "source": [
    "```python\n",
    "\n",
    "soup.body.p\n",
    "\n",
    "```"
   ]
  },
  {
   "cell_type": "markdown",
   "metadata": {
    "id": "644YuLdnkRVo"
   },
   "source": [
    "# Exercise 4: \n",
    "\n",
    "Find all of the paragraph tags contained in the article."
   ]
  },
  {
   "cell_type": "markdown",
   "metadata": {
    "id": "ZRCscGd4kRVo"
   },
   "source": [
    "```python\n",
    "\n",
    "# your code here\n",
    "\n",
    "```"
   ]
  },
  {
   "cell_type": "markdown",
   "metadata": {
    "id": "xY_HHNBbkRVq"
   },
   "source": [
    "# Solution"
   ]
  },
  {
   "cell_type": "markdown",
   "metadata": {
    "colab": {
     "base_uri": "https://localhost:8080/",
     "height": 156
    },
    "id": "yWx0e5FxkRVq",
    "outputId": "3a29e58a-5300-4f7a-8056-5f41f4fcaf56"
   },
   "source": [
    "```python\n",
    "\n",
    "soup.find_all('p')\n",
    "\n",
    "```"
   ]
  },
  {
   "cell_type": "markdown",
   "metadata": {
    "id": "DndN9CWYkRVs"
   },
   "source": [
    "---"
   ]
  },
  {
   "cell_type": "markdown",
   "metadata": {
    "id": "D_oYJSVgkRVt"
   },
   "source": [
    "## Filters"
   ]
  },
  {
   "cell_type": "markdown",
   "metadata": {
    "colab": {
     "base_uri": "https://localhost:8080/",
     "height": 462
    },
    "id": "mAM07k-RkRVt",
    "outputId": "89d37251-51f7-48d0-f3de-170dd43ca05d"
   },
   "source": [
    "```python\n",
    "\n",
    "soup.find_all('a') # simply pass in the string for the tag you're searching for\n",
    "\n",
    "```"
   ]
  },
  {
   "cell_type": "markdown",
   "metadata": {
    "colab": {
     "base_uri": "https://localhost:8080/",
     "height": 1000
    },
    "id": "74DaUPJckRVv",
    "outputId": "9dea6eb7-b86d-484f-93f5-e0f0412337f3",
    "scrolled": true
   },
   "source": [
    "```python\n",
    "\n",
    "import re # you can pass in regular expressions, too\n",
    "\n",
    "for tag in soup.find_all(re.compile(\"p\")): # find all tags whose names start with 'p'\n",
    "    print(tag.name)\n",
    "    \n",
    "```"
   ]
  },
  {
   "cell_type": "markdown",
   "metadata": {
    "colab": {
     "base_uri": "https://localhost:8080/",
     "height": 1000
    },
    "id": "DC4G9xTHkRVx",
    "outputId": "c52febf5-7134-4fa9-d81e-14a9981e84e8"
   },
   "source": [
    "```python\n",
    "\n",
    "for tag in soup.find_all(re.compile(\"t\")): # find all the tags whose names contain the letter 't'\n",
    "    print(tag.name)\n",
    "    \n",
    "```"
   ]
  },
  {
   "cell_type": "markdown",
   "metadata": {
    "colab": {
     "base_uri": "https://localhost:8080/",
     "height": 462
    },
    "id": "qKdp6_YNkRVy",
    "outputId": "094facf2-52d6-4250-fb17-04bd1f04b6cf"
   },
   "source": [
    "```python\n",
    "\n",
    "soup.find_all([\"a\",\"b\"]) # if you pass a list, bs4 will match against any item in that list \n",
    "\n",
    "```"
   ]
  },
  {
   "cell_type": "markdown",
   "metadata": {
    "id": "RAgdIWjbkRV0"
   },
   "source": [
    "Filtering by CSS Class"
   ]
  },
  {
   "cell_type": "markdown",
   "metadata": {
    "colab": {
     "base_uri": "https://localhost:8080/",
     "height": 408
    },
    "id": "tETJmZCWkRV0",
    "outputId": "7f8512cb-8123-4247-fc1f-1d53b0010a25"
   },
   "source": [
    "```python\n",
    "\n",
    "soup.find_all(class_=\"story-meta\")\n",
    "\n",
    "# note the class_, since class is a reserved word in Python\n",
    "\n",
    "```"
   ]
  },
  {
   "cell_type": "markdown",
   "metadata": {
    "colab": {
     "base_uri": "https://localhost:8080/",
     "height": 1000
    },
    "id": "2Cy6dCo8kRV3",
    "outputId": "6a54b638-187b-4f7b-8be1-dbec5e80b207"
   },
   "source": [
    "```python\n",
    "\n",
    "soup.find_all(class_=re.compile(\"ad\"))\n",
    "\n",
    "```"
   ]
  },
  {
   "cell_type": "markdown",
   "metadata": {
    "id": "-NaudqwukRV5"
   },
   "source": [
    "---"
   ]
  },
  {
   "cell_type": "markdown",
   "metadata": {
    "id": "ErmOFA_QkRV6"
   },
   "source": [
    "# RSS Feeds\n",
    "\n",
    "An RSS ('Real Simple Syndication') feed is nothing more than a text file that is updated with information (usually pared down) from a website. For more, check out [this article by Digital Trends](https://www.digitaltrends.com/computing/what-is-an-rss-feed/)"
   ]
  },
  {
   "cell_type": "markdown",
   "metadata": {
    "id": "YVSoIOXdkRV6"
   },
   "source": [
    "In order to flex our RSS Feed skills we are going to be mimicking this brilliant and simple bot, @TwoHeadlines: <br> https://twitter.com/twoheadlines?lang=en\n",
    "\n",
    "<br>\n",
    "\n",
    "The concept is simple. It takes two different headlines from two different outlets via their RSS feeds (which we'll go over in a moment) and combines them to produce often comical and almost always nonsensical news headlines.\n",
    "\n",
    "<br>\n",
    "\n",
    "The first thing we must do to create our own TwoHeadlines bot is import a few libraries. Remember, libraries in Python are collections of functions and methods that allow you to perform various actions without writing your own code.\n",
    "\n",
    "<br>\n",
    "\n",
    "For instance, in our Two Headlines bot we are going to use: \n",
    "\n",
    "#### Feedparser: a library that will allow us to read various RSS feeds (again, we'll get to RSS in a moment)<br>\n",
    "https://pythonhosted.org/feedparser/introduction.html\n",
    "\n",
    "#### Random: a library that will allow us to generate random numbers <br> \n",
    "https://docs.python.org/2/library/random.html\n",
    "\n",
    "#### Time: a library that will allow us to work around traditionally tricky time functions <br>\n",
    "https://docs.python.org/2/library/time.html\n",
    "\n",
    "<br>\n",
    "\n",
    "Thus, your first lines of code will look as follows: <br>"
   ]
  },
  {
   "cell_type": "markdown",
   "metadata": {
    "colab": {
     "base_uri": "https://localhost:8080/",
     "height": 241
    },
    "id": "n84tz19okRV6",
    "outputId": "077a4fbc-866a-49d7-e11b-33ae9c94acae"
   },
   "source": [
    "```python\n",
    "\n",
    "!pip install feedparser\n",
    "\n",
    "import feedparser\n",
    "import random\n",
    "import time\n",
    "\n",
    "```"
   ]
  },
  {
   "cell_type": "markdown",
   "metadata": {
    "id": "41c6LtCCkRV8"
   },
   "source": [
    "<br> Great! Now, we want to begin by defining our function. <br>\n",
    "\n",
    "Remember, funcitons come in handy when you want to repeat the same task many times using the same _type_ of input. <br>"
   ]
  },
  {
   "cell_type": "markdown",
   "metadata": {
    "id": "eXg-i2p1kRV-"
   },
   "source": [
    "```python\n",
    "\n",
    "# for example\n",
    "\n",
    "def printSentence(sentence):\n",
    "    print(sentence + \" Plus a new sentence.\")\n",
    "    return;\n",
    "\n",
    "```"
   ]
  },
  {
   "cell_type": "markdown",
   "metadata": {
    "colab": {
     "base_uri": "https://localhost:8080/",
     "height": 34
    },
    "id": "2Wdst0SxkRWA",
    "outputId": "e527476c-785e-4c96-c36f-6ccd603dcac4"
   },
   "source": [
    "```python\n",
    "\n",
    "printSentence(\"This is the sentence I want to print.\")\n",
    "\n",
    "```"
   ]
  },
  {
   "cell_type": "markdown",
   "metadata": {
    "id": "rbfbE3qAkRWC"
   },
   "source": [
    "In this case, we will call our function 'TwoHeadlines' \n"
   ]
  },
  {
   "cell_type": "markdown",
   "metadata": {
    "id": "TVFyycOLkRWC"
   },
   "source": [
    "```python\n",
    "\n",
    "def TwoHeadlines(): # we are leaving the input blank for now, and you'll see why in a moment\n",
    "    pass            # this 'pass' is here just to avoid an error as we work on our function. To see what happens without it, \n",
    "                    # try removing the 'pass' line and see the error you receive.\n",
    "    \n",
    "```"
   ]
  },
  {
   "cell_type": "markdown",
   "metadata": {
    "id": "ezRmZ0H_kRWE"
   },
   "source": [
    "To best understand what you can get from an RSS feed, take a look at the following examples: \n",
    "\n",
    "http://www.wsj.com/public/page/rss_news_and_feeds.html <br>\n",
    "https://archive.nytimes.com/www.nytimes.com/services/xml/rss/index.html <br>\n",
    "http://rss.cnn.com/rss/cnn_topstories.rss <br>\n",
    "\n",
    "To see how you can actually pull these RSS feeds using Python, we're going to rely on Python. As an example, let's pull two feeds.\n",
    "\n",
    "Note that we first set a variable equal to the desired url for the desired RSS feed. Then, we use feedparser to store that information into a new variable."
   ]
  },
  {
   "cell_type": "markdown",
   "metadata": {
    "id": "KomIottkkRWF"
   },
   "source": [
    "```python\n",
    "\n",
    "nyt_rss_url = 'https://rss.nytimes.com/services/xml/rss/nyt/HomePage.xml' # find the desired rss feed\n",
    "espn_rss_url = 'https://www.espn.com/espn/rss/news' # find a second desired rss feed\n",
    "\n",
    "nyt_feed = feedparser.parse(nyt_rss_url) # use feedparser to, well, parse the feed\n",
    "espn_feed = feedparser.parse(espn_rss_url) # use feedparser to, well, parse the feed\n",
    "\n",
    "```"
   ]
  },
  {
   "cell_type": "markdown",
   "metadata": {
    "id": "R6coVTISkRWH"
   },
   "source": [
    "Next, we need to get a bit creative, because we don't want that entire RSS feed; We just want the headline for the latest article! But if you type the following:"
   ]
  },
  {
   "cell_type": "markdown",
   "metadata": {
    "colab": {
     "base_uri": "https://localhost:8080/",
     "height": 54
    },
    "id": "4QviQ-LokRWH",
    "outputId": "23515d17-b465-489b-b08f-e5bbb8fb0178"
   },
   "source": [
    "```python\n",
    "\n",
    "print(nyt_feed) # print the full RSS feed\n",
    "\n",
    "```"
   ]
  },
  {
   "cell_type": "markdown",
   "metadata": {
    "colab": {
     "base_uri": "https://localhost:8080/",
     "height": 187
    },
    "id": "8t5A8mKzkRWI",
    "outputId": "fe421e5b-8be6-49aa-d238-b1923c2dd046"
   },
   "source": [
    "```python\n",
    "\n",
    "for i in range(0,10): # for the first ten entries in the RSS feed (the ten most recent stories)\n",
    "    print(nyt_feed['entries'][i]['title']) # print the title of said article\n",
    "    \n",
    "```"
   ]
  },
  {
   "cell_type": "markdown",
   "metadata": {
    "id": "myfGv2KfkRWL"
   },
   "source": [
    "But how did we know to use \"['entries'][i]['title']\"?\n",
    "\n",
    "To understand, we need to briefly delve into the world of dictionaries "
   ]
  },
  {
   "cell_type": "markdown",
   "metadata": {
    "id": "yQiu0ffakRWL"
   },
   "source": [
    "```python\n",
    "\n",
    "dictionary = {'favorite_food':'pasta'} # create a new dictionary \n",
    "\n",
    "# consider 'favorite_food' to be the word, and 'pasta' to be the definition, it it helps you\n",
    "\n",
    "```"
   ]
  },
  {
   "cell_type": "markdown",
   "metadata": {
    "colab": {
     "base_uri": "https://localhost:8080/",
     "height": 34
    },
    "id": "GApW2gnbkRWM",
    "outputId": "dcd51504-25ff-40d1-9448-254367d99d0c"
   },
   "source": [
    "```python\n",
    "\n",
    "print(dictionary['favorite_food'])\n",
    "\n",
    "# we then call 'favorite_food' and get the \"definiton\" \n",
    "# in reality, this is known as a Key:Value pair, with \"Key\" being the word, and \"Value\" being the definition\n",
    "\n",
    "```"
   ]
  },
  {
   "cell_type": "markdown",
   "metadata": {
    "id": "6B6bP3pvkRWO"
   },
   "source": [
    "As you may be able to see, our RSS is actually formated quite cleverily. It is a dicitionary (a set of key-value pairs) that includes lists. For example, look at the very top of the feed. It starts \n",
    "\n",
    "#### {'feed': {'title': 'WSJ.com: World News',\n",
    "\n",
    "The best way to read this is - the first entry in the dictionary is 'Feed' and the first value for that entry (also known as a 'key' is 'Title'. \n",
    "\n",
    "Now, 'Title' happens to be another dictionary (you can tell because it begins with a '{'). If we keep searching, we'll see that the headline comes after 'entries' and is paired with the 'title'. \n",
    "\n",
    "I know this is all exceptionally confusing, but just bear with me. The more you practice parsing information from RSS feeds (or HTML in general) the easier it will become, I promise!\n",
    "\n",
    "So, if we want that headline, and that headline only, we are going to: \n",
    "\n",
    "1. Navigate to the entire RSS feed\n",
    "2. Navigate to the 'entries' section\n",
    "3. Navigate to the first 'entries' section (each story is going to have its own, and we want the first headline)\n",
    "4. Navigate to the 'title' section \n",
    "\n",
    "<br>"
   ]
  },
  {
   "cell_type": "markdown",
   "metadata": {
    "id": "hTbUBjZUkRWO"
   },
   "source": [
    "Now, back to replicating 'TwoHeadlinesBot'"
   ]
  },
  {
   "cell_type": "markdown",
   "metadata": {
    "id": "dg6KPhNjkRWO"
   },
   "source": [
    "```python\n",
    "\n",
    "my_list = [] # create a new, empty list called 'my_list'\n",
    "\n",
    "for i in range(0,10): \n",
    "    my_list.append(nyt_feed['entries'][i]['title']) # append the first ten titles to this list\n",
    "    \n",
    "```"
   ]
  },
  {
   "cell_type": "markdown",
   "metadata": {
    "colab": {
     "base_uri": "https://localhost:8080/",
     "height": 35
    },
    "id": "VjjZtZWDkRWQ",
    "outputId": "20d69d77-0fb2-4ce6-84a6-3d035aaa2d16"
   },
   "source": [
    "```python\n",
    "\n",
    "my_list[3] # select the third index of that list\n",
    "\n",
    "```"
   ]
  },
  {
   "cell_type": "markdown",
   "metadata": {
    "id": "fJCd3lXRkRWT"
   },
   "source": [
    "```python\n",
    "\n",
    "Article4 = my_list[3]\n",
    "\n",
    "```"
   ]
  },
  {
   "cell_type": "markdown",
   "metadata": {
    "colab": {
     "base_uri": "https://localhost:8080/",
     "height": 35
    },
    "id": "7K981K9MkRWV",
    "outputId": "0f18c2da-7819-43a1-dba2-2ea90c4c1fbc"
   },
   "source": [
    "```python\n",
    "\n",
    "Article4[:25] # get the first 25 characters of the title of the 3rd index (fourth article) in our list\n",
    "\n",
    "```"
   ]
  },
  {
   "cell_type": "markdown",
   "metadata": {
    "colab": {
     "base_uri": "https://localhost:8080/",
     "height": 34
    },
    "id": "u5iA9T6kkRWX",
    "outputId": "75bcf936-1e64-4ff2-884d-befd02c63004"
   },
   "source": [
    "```python\n",
    "\n",
    "len(Article4) # how many characters long is our title? \n",
    "\n",
    "```"
   ]
  },
  {
   "cell_type": "markdown",
   "metadata": {
    "colab": {
     "base_uri": "https://localhost:8080/",
     "height": 34
    },
    "id": "__7AtxbpkRWY",
    "outputId": "b2be91f5-a805-4b0c-9c13-ed823d7990e0"
   },
   "source": [
    "```python\n",
    "\n",
    "len(Article4)/2 # figure out the half-way point of the title \n",
    "\n",
    "```"
   ]
  },
  {
   "cell_type": "markdown",
   "metadata": {
    "colab": {
     "base_uri": "https://localhost:8080/",
     "height": 35
    },
    "id": "YjCq5ZXtkRWa",
    "outputId": "20ac650e-6589-4a70-b943-e0ade88e48a0"
   },
   "source": [
    "```python\n",
    "\n",
    "Article4[0:30] # get the first half of our article title\n",
    "\n",
    "```"
   ]
  },
  {
   "cell_type": "markdown",
   "metadata": {
    "colab": {
     "base_uri": "https://localhost:8080/",
     "height": 34
    },
    "id": "7Fs6AUgMkRWb",
    "outputId": "f0045c31-d268-4f7b-c344-1fb7edd0474c"
   },
   "source": [
    "```python\n",
    "\n",
    "Article5 = my_list[4] # let's see what the next title is in our list\n",
    "print(Article5)\n",
    "\n",
    "```"
   ]
  },
  {
   "cell_type": "markdown",
   "metadata": {
    "collapsed": true,
    "id": "L6yxbHl1kRWd"
   },
   "source": [
    "So, how do we want to mash our headlines together?"
   ]
  },
  {
   "cell_type": "markdown",
   "metadata": {
    "colab": {
     "base_uri": "https://localhost:8080/",
     "height": 34
    },
    "id": "yokdboZQkRWd",
    "outputId": "dfa68ec6-bfa4-4800-efa1-1a14aac2be9c"
   },
   "source": [
    "```python\n",
    "\n",
    "nyt_first_story = nyt_feed['entries'][0]['title'] #Recall that '0' is actually the first instance\n",
    "print(nyt_first_story)\n",
    "\n",
    "```"
   ]
  },
  {
   "cell_type": "markdown",
   "metadata": {
    "colab": {
     "base_uri": "https://localhost:8080/",
     "height": 34
    },
    "id": "c8Pj7ot0kRWe",
    "outputId": "59d75bc7-ccc4-4117-aa4e-5296f6511e2f"
   },
   "source": [
    "```python\n",
    "\n",
    "words = nyt_first_story.split(' ') # remember, I can split that single sentence into a list of individual words \n",
    "print(words) \n",
    "\n",
    "```"
   ]
  },
  {
   "cell_type": "markdown",
   "metadata": {
    "colab": {
     "base_uri": "https://localhost:8080/",
     "height": 68
    },
    "id": "KlRlPJzEkRWg",
    "outputId": "09845669-1594-4aa8-cc07-ea0a8c5460a5"
   },
   "source": [
    "```python\n",
    "\n",
    "for i in range(0,10): \n",
    "\n",
    "    nyt_first_story = nyt_feed['entries'][i]['title'] # pull the title of the ith story in the first RSS feed\n",
    "    espn_first_story = espn_feed['entries'][i]['title'] # pull the title of the ith story in the second RSS feed\n",
    "\n",
    "    nyt_words = nyt_first_story.split(' ') # split the title by spaces (aka, make every word in the title it's own)\n",
    "    espn_words = espn_first_story.split(' ') # split the title by spaces (aka, make every word in the title it's own)\n",
    "    \n",
    "print(nyt_words) \n",
    "print(\" --- \") # print a line for formatting purposes\n",
    "print(espn_words)\n",
    "\n",
    "```"
   ]
  },
  {
   "cell_type": "markdown",
   "metadata": {
    "id": "miNajJrWkRWi"
   },
   "source": [
    "Let's keep going. Remember, we want to take half of one headline and half of a different headline and mash them together. So, how do we get just the first or second half of a list of words?  <br>"
   ]
  },
  {
   "cell_type": "markdown",
   "metadata": {
    "colab": {
     "base_uri": "https://localhost:8080/",
     "height": 68
    },
    "id": "H_o4gQwikRWi",
    "outputId": "37a82606-1c0b-4799-ff4b-fde4a8342f42"
   },
   "source": [
    "```python\n",
    "\n",
    "for i in range(0,10): \n",
    "\n",
    "    nyt_first_story = nyt_feed['entries'][i]['title'] # pull the title of the ith story in the first RSS feed\n",
    "    espn_first_story = espn_feed['entries'][i]['title'] # pull the title of the ith story in the second RSS feed\n",
    "\n",
    "    nyt_words = nyt_first_story.split(' ') # split the title by spaces (aka, make every word in the title it's own)\n",
    "    espn_words = espn_first_story.split(' ') # split the title by spaces (aka, make every word in the title it's own)\n",
    "\n",
    "    nyt_words = nyt_words[:int(len(nyt_words)/2)] \n",
    "    espn_words = espn_words[int(len(espn_words)/2):]\n",
    "    \n",
    "print(nyt_words)\n",
    "print(\" --- \")\n",
    "print(espn_words)\n",
    "\n",
    "```"
   ]
  },
  {
   "cell_type": "markdown",
   "metadata": {
    "id": "-j3te4sZkRWm"
   },
   "source": [
    "## Walkthrough of our Code\n",
    "\n",
    "1) First, the `[:`    "
   ]
  },
  {
   "cell_type": "markdown",
   "metadata": {
    "colab": {
     "base_uri": "https://localhost:8080/",
     "height": 34
    },
    "id": "TOnDU3n-kRWm",
    "outputId": "80688b79-8748-4a08-9a5b-c916ba8510c3"
   },
   "source": [
    "```python\n",
    "\n",
    "# the ':' at the front of a list means 'everything leading up to this point. For instance: \n",
    "\n",
    "list = ['a','b','c','d','e']\n",
    "list = list[:3]\n",
    "print(list)\n",
    "\n",
    "```"
   ]
  },
  {
   "cell_type": "markdown",
   "metadata": {
    "id": "XtCZcGH8kRWo"
   },
   "source": [
    "In other words, we want to print everything leading up to (but not including!) the third instance in our list."
   ]
  },
  {
   "cell_type": "markdown",
   "metadata": {
    "id": "QaXX7qAHkRWo"
   },
   "source": [
    " 2)  Next, the `int` allows us to ensure we're working with integers so we can do the necessary division at the end of the line of code.  \n"
   ]
  },
  {
   "cell_type": "markdown",
   "metadata": {
    "colab": {
     "base_uri": "https://localhost:8080/",
     "height": 34
    },
    "id": "nNzoNER0kRWo",
    "outputId": "80647beb-d68f-442c-9a7b-2cab7945fa24"
   },
   "source": [
    "```python\n",
    "\n",
    "len(nyt_words)/2 # the result is a float, which we don't want\n",
    "\n",
    "```"
   ]
  },
  {
   "cell_type": "markdown",
   "metadata": {
    "colab": {
     "base_uri": "https://localhost:8080/",
     "height": 34
    },
    "id": "uvii6_BwkRWq",
    "outputId": "a9be706d-e0ff-4c03-d066-6cace5b3a231"
   },
   "source": [
    "```python\n",
    "\n",
    "int(len(nyt_words)/2) # tis gives us an integer\n",
    "\n",
    "```"
   ]
  },
  {
   "cell_type": "markdown",
   "metadata": {
    "id": "LX8BmlO5kRWr"
   },
   "source": [
    "3)  `len` is a function that gives you the number of items in a list. For instance: "
   ]
  },
  {
   "cell_type": "markdown",
   "metadata": {
    "colab": {
     "base_uri": "https://localhost:8080/",
     "height": 34
    },
    "id": "02JYbHl_kRWr",
    "outputId": "ca365989-8390-4d1d-984a-1f3c03129e2a"
   },
   "source": [
    "```python\n",
    "\n",
    "list = ['a','b','c','d','e']\n",
    "len(list)\n",
    "\n",
    "```"
   ]
  },
  {
   "cell_type": "markdown",
   "metadata": {
    "id": "H29-1sWqkRWt"
   },
   "source": [
    "4) Finally, we are taking the total number of words in the headline and dividing by two"
   ]
  },
  {
   "cell_type": "markdown",
   "metadata": {
    "id": "wEIprf9FkRWt"
   },
   "source": [
    "In total, we are saying: \"Take the headline, find out how many words are in the headline and divide by two. Then, take the first half of that headline and store it as the new healdine.\" \n",
    "\n",
    "_Note that while for the first healdine we take the first half (by putting the ':' at the beginning of the code) we are taking the second half of the second headline (by putting the ':' at the end of the code)._"
   ]
  },
  {
   "cell_type": "markdown",
   "metadata": {
    "id": "0455_iD9kRWt"
   },
   "source": [
    "## All together, now\n",
    "\n",
    "Finally, we want to join the two halves of our healdine and store it as the variable 'new_headline' "
   ]
  },
  {
   "cell_type": "markdown",
   "metadata": {
    "colab": {
     "base_uri": "https://localhost:8080/",
     "height": 187
    },
    "id": "aPCexKvVkRWt",
    "outputId": "96cbfac7-4e8d-42b4-fe8d-83d26bb999bc"
   },
   "source": [
    "```python\n",
    "\n",
    "for i in range(0,10): \n",
    "\n",
    "    nyt_first_story = nyt_feed['entries'][i]['title'] # pull the title of the ith story in the first RSS feed\n",
    "    espn_first_story = espn_feed['entries'][i]['title'] # pull the title of the ith story in the second RSS feed\n",
    "\n",
    "    nyt_words = nyt_first_story.split(' ') # split the title by spaces (aka, make every word in the title it's own)\n",
    "    espn_words = espn_first_story.split(' ') # split the title by spaces (aka, make every word in the title it's own)\n",
    "\n",
    "    nyt_words = nyt_words[:int(len(nyt_words)/2)] \n",
    "    espn_words = espn_words[int(len(espn_words)/2):]\n",
    "    \n",
    "    new_headline = nyt_words + espn_words # Take the first half of the title from the first RSS feed and add the second half of the second RSS feed\n",
    "    new_headline = ' '.join(new_headline) # Join the two strings created above with spaces\n",
    "\n",
    "    print(new_headline) # Print your newly created headline\n",
    "    \n",
    "```"
   ]
  }
 ],
 "metadata": {
  "colab": {
   "name": "Web Scraping Solved.ipynb",
   "provenance": []
  },
  "kernelspec": {
   "display_name": "Python 3",
   "language": "python",
   "name": "python3"
  },
  "language_info": {
   "codemirror_mode": {
    "name": "ipython",
    "version": 3
   },
   "file_extension": ".py",
   "mimetype": "text/x-python",
   "name": "python",
   "nbconvert_exporter": "python",
   "pygments_lexer": "ipython3",
   "version": "3.7.3"
  }
 },
 "nbformat": 4,
 "nbformat_minor": 1
}
