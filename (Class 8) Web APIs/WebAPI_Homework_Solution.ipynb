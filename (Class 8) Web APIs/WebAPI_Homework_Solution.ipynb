{
 "cells": [
  {
   "cell_type": "markdown",
   "metadata": {},
   "source": [
    "## 1. Get the .json response for the subject 'horror' as a Python dictionary"
   ]
  },
  {
   "cell_type": "code",
   "execution_count": null,
   "metadata": {
    "scrolled": true
   },
   "outputs": [],
   "source": [
    "import requests\n",
    "\n",
    "url = 'http://openlibrary.org/subjects/horror.json'\n",
    "\n",
    "resp = requests.get(url)\n",
    "\n",
    "data = resp.json()\n",
    "\n",
    "data"
   ]
  },
  {
   "cell_type": "markdown",
   "metadata": {},
   "source": [
    "## 2. Get the .json response for the subject 'horror' as a Python dictionary _if_ the book was released electronically and published between 2000 and 2010"
   ]
  },
  {
   "cell_type": "code",
   "execution_count": null,
   "metadata": {},
   "outputs": [],
   "source": [
    "url = 'http://openlibrary.org/subjects/horror.json'\n",
    "\n",
    "parameters = {\n",
    "    'ebooks'   : True,\n",
    "    'published_in'   : 2000-2010\n",
    "}\n",
    "\n",
    "resp = requests.get(url, params=parameters)\n",
    "\n",
    "data = resp.json()\n",
    "\n",
    "data"
   ]
  },
  {
   "cell_type": "markdown",
   "metadata": {},
   "source": [
    "## 3. Store the title of each book with the 'horror' subject that was released electronically and published between 2000 and 2010 in a list or set"
   ]
  },
  {
   "cell_type": "code",
   "execution_count": null,
   "metadata": {},
   "outputs": [],
   "source": [
    "url = 'http://openlibrary.org/subjects/horror.json'\n",
    "\n",
    "parameters = {\n",
    "    'ebooks'   : True,\n",
    "    'published_in'   : 2000-2010\n",
    "}\n",
    "\n",
    "resp = requests.get(url, params=parameters)\n",
    "\n",
    "data = resp.json()\n",
    "\n",
    "titles = set()\n",
    "\n",
    "for i in range(0, len(data)):\n",
    "    title = data['works'][i]['title']\n",
    "    titles.add(title)\n",
    "    \n",
    "sorted(titles)"
   ]
  },
  {
   "cell_type": "markdown",
   "metadata": {},
   "source": [
    "## 4. Create a basic Flask app that allows a user to choose between 'horror', 'romance', and science'and receive a list of titles published between 2000 and 2019"
   ]
  },
  {
   "cell_type": "markdown",
   "metadata": {},
   "source": [
    "1. Navigate to desired directory\n",
    "2. `mkdir library_app`\n",
    "3. `cd library_app`\n",
    "4. `touch library.py`"
   ]
  },
  {
   "cell_type": "code",
   "execution_count": null,
   "metadata": {},
   "outputs": [],
   "source": [
    "from flask import Flask\n",
    "\n",
    "app = Flask(__name__)\n",
    "\n",
    "# begin our Horror API\n",
    "\n",
    "@app.route('/horror')\n",
    "def horror():\n",
    "\n",
    "    import requests\n",
    "\n",
    "    url = 'http://openlibrary.org/subjects/horror.json'\n",
    "\n",
    "    parameters = {\n",
    "        'published_in'   : 2000-2010\n",
    "    }\n",
    "\n",
    "    resp = requests.get(url, params=parameters)\n",
    "\n",
    "    data = resp.json()\n",
    "\n",
    "    titles = set()\n",
    "\n",
    "    for i in range(0, len(data)):\n",
    "        title = data['works'][i]['title']\n",
    "        titles.add(title)\n",
    "\n",
    "    return 'Titles: {}'.format(sorted(titles))\n",
    "\n",
    "\n",
    "# begin our Romance API\n",
    "\n",
    "@app.route('/romance')\n",
    "def romance(): \n",
    "\n",
    "    import requests \n",
    "    \n",
    "    url = 'http://openlibrary.org/subjects/romance.json'\n",
    "\n",
    "    parameters = {\n",
    "        'published_in'   : 2000-2019\n",
    "    }\n",
    "\n",
    "    resp = requests.get(url, params=parameters)\n",
    "\n",
    "    data = resp.json()\n",
    "\n",
    "    titles = set()\n",
    "\n",
    "    for i in range(0, len(data)):\n",
    "        title = data['works'][i]['title']\n",
    "        titles.add(title)\n",
    "\n",
    "    return 'Titles: {}'.format(sorted(titles))\n",
    "\n",
    "# begin our Science API\n",
    "\n",
    "@app.route('/science')\n",
    "def science():\n",
    "\n",
    "    import requests \n",
    "    \n",
    "    url = 'http://openlibrary.org/subjects/science.json'\n",
    "\n",
    "    parameters = {\n",
    "        'published_in'   : 2000-2019\n",
    "    }\n",
    "\n",
    "    resp = requests.get(url, params=parameters)\n",
    "\n",
    "    data = resp.json()\n",
    "\n",
    "    titles = set()\n",
    "\n",
    "    for i in range(0, len(data)):\n",
    "        title = data['works'][i]['title']\n",
    "        titles.add(title)\n",
    "\n",
    "    return 'Titles: {}'.format(sorted(titles))\n",
    "\n",
    "app.run(host='0.0.0.0', port=5000, debug=True) # anyone can connect, and we're running on port 5000"
   ]
  },
  {
   "cell_type": "markdown",
   "metadata": {},
   "source": [
    "5. `python library.py`"
   ]
  },
  {
   "cell_type": "code",
   "execution_count": null,
   "metadata": {},
   "outputs": [],
   "source": []
  }
 ],
 "metadata": {
  "kernelspec": {
   "display_name": "Python 3",
   "language": "python",
   "name": "python3"
  },
  "language_info": {
   "codemirror_mode": {
    "name": "ipython",
    "version": 3
   },
   "file_extension": ".py",
   "mimetype": "text/x-python",
   "name": "python",
   "nbconvert_exporter": "python",
   "pygments_lexer": "ipython3",
   "version": "3.7.3"
  }
 },
 "nbformat": 4,
 "nbformat_minor": 2
}
