{
 "cells": [
  {
   "cell_type": "markdown",
   "metadata": {},
   "source": [
    "## To submit this assignment, please solve the following problem. Then, save your notebook with the format [YOUR_NAME_HERE]\\_WebAPI_Homework and submit via NYU Classes. "
   ]
  },
  {
   "cell_type": "markdown",
   "metadata": {},
   "source": [
    "---"
   ]
  },
  {
   "cell_type": "markdown",
   "metadata": {},
   "source": [
    "### For this assignment you must:\n",
    "\n",
    "1. Go to https://openlibrary.org/developers/api and read the documentation for the Open Library API, then read the .json response for the subject 'horror' (hint: https://openlibrary.org/dev/docs/api/subjects) as a Python dictionary,\n",
    "2. Get the .json response for the subject 'horror', only if a book was released electronically and published between 2000 and 2010,\n",
    "3. Store the title of each book with the 'horror' subject that was released electronically and published between 2000 and 2010 in a list or set,\n",
    "4. Create a basic Flask app that allows a user to choose between 'horror', 'romance', and science'and receive a list of titles published between 2000 and 2019. "
   ]
  },
  {
   "cell_type": "markdown",
   "metadata": {},
   "source": [
    "---"
   ]
  },
  {
   "cell_type": "markdown",
   "metadata": {},
   "source": [
    "## 1. Get the .json response for the subject 'horror' as a Python dictionary"
   ]
  },
  {
   "cell_type": "code",
   "execution_count": null,
   "metadata": {
    "scrolled": true
   },
   "outputs": [],
   "source": [
    "# your solution here"
   ]
  },
  {
   "cell_type": "markdown",
   "metadata": {},
   "source": [
    "## 2. Get the .json response for the subject 'horror' as a Python dictionary _if_ the book was released electronically and published between 2000 and 2010"
   ]
  },
  {
   "cell_type": "code",
   "execution_count": null,
   "metadata": {},
   "outputs": [],
   "source": [
    "# your solution here"
   ]
  },
  {
   "cell_type": "markdown",
   "metadata": {},
   "source": [
    "## 3. Store the title of each book with the 'horror' subject that was released electronically and published between 2000 and 2010 in a list or set"
   ]
  },
  {
   "cell_type": "code",
   "execution_count": null,
   "metadata": {},
   "outputs": [],
   "source": [
    "# your solution here"
   ]
  },
  {
   "cell_type": "markdown",
   "metadata": {},
   "source": [
    "## 4. Create a basic Flask app that allows a user to choose between 'horror', 'romance', and science'and receive a list of titles published between 2000 and 2019"
   ]
  },
  {
   "cell_type": "code",
   "execution_count": null,
   "metadata": {},
   "outputs": [],
   "source": [
    "# please zip the directory that contains your Flask app and upload it to NYU Classes."
   ]
  }
 ],
 "metadata": {
  "kernelspec": {
   "display_name": "Python 3",
   "language": "python",
   "name": "python3"
  },
  "language_info": {
   "codemirror_mode": {
    "name": "ipython",
    "version": 3
   },
   "file_extension": ".py",
   "mimetype": "text/x-python",
   "name": "python",
   "nbconvert_exporter": "python",
   "pygments_lexer": "ipython3",
   "version": "3.7.3"
  }
 },
 "nbformat": 4,
 "nbformat_minor": 2
}
