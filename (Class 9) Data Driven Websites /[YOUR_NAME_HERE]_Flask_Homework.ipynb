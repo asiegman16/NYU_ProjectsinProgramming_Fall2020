{
 "cells": [
  {
   "cell_type": "markdown",
   "metadata": {},
   "source": [
    "## To submit this assignment, please solve the following problem. Then, save your notebook with the format [YOUR_NAME_HERE]\\_Flask_Homework and submit via NYU Classes. "
   ]
  },
  {
   "cell_type": "markdown",
   "metadata": {},
   "source": [
    "---"
   ]
  },
  {
   "cell_type": "markdown",
   "metadata": {},
   "source": [
    "### For this assignment you must:\n",
    "\n",
    "1. Create a Flask app that displays the most recent articles from Wired's top stories RSS feed (https://www.wired.com/feed/rss) along with their summary and pub-time,\n",
    "2. Use the same Bootstrap elements as we did in class to prettify your table of published stories, \n",
    "3. If a Wired story was published in the last hour, display that title in red; otherwise, in blue, \n",
    "4. Create a histogram of average title length (in characters) and display it via your Flask app."
   ]
  },
  {
   "cell_type": "markdown",
   "metadata": {},
   "source": [
    "---"
   ]
  },
  {
   "cell_type": "markdown",
   "metadata": {},
   "source": [
    "## 1. Create a Flask app that displays the most recent articles from Wired's top stories RSS feed (https://www.wired.com/feed/rss) along with their summary and pub-time. "
   ]
  },
  {
   "cell_type": "markdown",
   "metadata": {
    "scrolled": true
   },
   "source": [
    "#### Below are some hints to get you started:\n",
    "\n",
    "#### `wired.py`\n",
    "```python\n",
    "from flask import Flask, render_template\n",
    "import feedparser\n",
    "import random\n",
    "import time\n",
    "\n",
    "app = Flask(__name__)\n",
    "\n",
    "@app.route('/')\n",
    "    # define your function here and below\n",
    "\n",
    "app.run(host='0.0.0.0', port=5000, debug=True) # anyone can connect, and we're running on port 5000\n",
    "```\n",
    "#### `wired.html`\n",
    "```html\n",
    "<!DOCTYPE html>\n",
    "<html>\n",
    "<body>\n",
    "\n",
    "    <! -- include your table here --> \n",
    "    \n",
    "</body>\n",
    "</html>\n",
    "```"
   ]
  },
  {
   "cell_type": "markdown",
   "metadata": {},
   "source": [
    "## 2. Use the same Bootstrap elements as we did in class to prettify your table of published stories. "
   ]
  },
  {
   "cell_type": "markdown",
   "metadata": {},
   "source": [
    "#### Below are some hints to get you started:\n",
    "\n",
    "#### `wired.html`\n",
    "``` html\n",
    "<!-- your html should go here --> \n",
    "```"
   ]
  },
  {
   "cell_type": "markdown",
   "metadata": {},
   "source": [
    "## 3. If a Wired story was published in the last hour, display that title in red; otherwise, in blue."
   ]
  },
  {
   "cell_type": "markdown",
   "metadata": {},
   "source": [
    "#### Below are some hints to get you started:\n",
    "\n",
    "#### `wired.py`\n",
    "``` python \n",
    "from flask import Flask, render_template\n",
    "import feedparser\n",
    "import random\n",
    "import time\n",
    "from datetime import datetime, timezone\n",
    "from datetime import timedelta\n",
    "import pandas as pd\n",
    "\n",
    "app = Flask(__name__)\n",
    "\n",
    "@app.route('/')\n",
    "    # define your function here and below\n",
    "\n",
    "    return render_template(\"wired.html\", article_data=article_data, now=now, hours=hours)\n",
    "\n",
    "\n",
    "```\n",
    "#### `wired.html`\n",
    "``` html\n",
    "<!DOCTYPE html>\n",
    "<html>\n",
    "<body>\n",
    "  <table>\n",
    "    <thead>\n",
    "      <tr>\n",
    "        <th>Title</th>\n",
    "        <th>Summary</th>\n",
    "        <th>Published</th>\n",
    "      </tr>\n",
    "    </thead>\n",
    "    <tbody>\n",
    "      {% for i in article_data %}\n",
    "      <tr>\n",
    "          \n",
    "       <!-- your if statements will all go here --> \n",
    "          \n",
    "      </tr>\n",
    "      {% endfor %}\n",
    "    </tbody>\n",
    "  </table>\n",
    "</body>\n",
    "</html>\n",
    "```"
   ]
  },
  {
   "cell_type": "markdown",
   "metadata": {},
   "source": [
    "## 4. Create a histogram of average title length (in characters) and display it via your Flask app."
   ]
  },
  {
   "cell_type": "markdown",
   "metadata": {},
   "source": [
    "### Below are some hints to get you started:\n",
    "\n",
    "#### `wired.py`\n",
    "``` python \n",
    "from flask import Flask, render_template\n",
    "import feedparser\n",
    "import random\n",
    "import time\n",
    "from datetime import datetime, timezone\n",
    "from datetime import timedelta\n",
    "import pandas as pd\n",
    "import numpy as np\n",
    "import matplotlib.pyplot as plt\n",
    "from matplotlib.pyplot import *\n",
    "\n",
    "matplotlib.use('Agg')\n",
    "\n",
    "app = Flask(__name__)\n",
    "\n",
    "def create_plot():\n",
    "\n",
    "    # ... \n",
    "    \n",
    "    title_length_list = []\n",
    "\n",
    "    for i in article_data:\n",
    "        title = i['title']\n",
    "        title_length = len(title)\n",
    "        title_length_list.append(title_length)\n",
    "\n",
    "    # ... \n",
    "    \n",
    "    fig = plt.hist(title_length_list, bins=5)\n",
    "\n",
    "    plt.title('Wired Article Title Length')\n",
    "    plt.xlabel(\"Length (In Characters)\")\n",
    "    plt.ylabel(\"Frequency\")\n",
    "\n",
    "    filename = 'static/plot-'+str(datetime.now(timezone.utc))+ '.png'\n",
    "    plt.savefig(filename)\n",
    "\n",
    "    return filename\n",
    "\n",
    "@app.route('/')\n",
    "\n",
    "# ... \n",
    "\n",
    "    # ...\n",
    "\n",
    "    now = datetime.now(timezone.utc)\n",
    "\n",
    "    hours = now + timedelta(hours=-1)\n",
    "\n",
    "    image_filename = create_plot()\n",
    "\n",
    "    return render_template(\"wired.html\", article_data=article_data, now=now, hours=hours, image=image_filename)\n",
    "\n",
    "app.run(host='0.0.0.0', port=5000, debug=True) # anyone can connect, and we're running on port 5000\n",
    "```\n",
    "#### `wired.html`\n",
    "``` html\n",
    "<!-- ... --> \n",
    "    <img class=\"center-block\" src=\"{{image}}\" />\n",
    "<!-- ... -->\n",
    "```"
   ]
  }
 ],
 "metadata": {
  "kernelspec": {
   "display_name": "Python 3",
   "language": "python",
   "name": "python3"
  },
  "language_info": {
   "codemirror_mode": {
    "name": "ipython",
    "version": 3
   },
   "file_extension": ".py",
   "mimetype": "text/x-python",
   "name": "python",
   "nbconvert_exporter": "python",
   "pygments_lexer": "ipython3",
   "version": "3.7.3"
  }
 },
 "nbformat": 4,
 "nbformat_minor": 2
}
