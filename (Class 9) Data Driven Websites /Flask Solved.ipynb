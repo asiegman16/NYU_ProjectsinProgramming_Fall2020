{
 "cells": [
  {
   "cell_type": "markdown",
   "metadata": {},
   "source": [
    "# Data Driven Websites with Flask\n"
   ]
  },
  {
   "cell_type": "markdown",
   "metadata": {},
   "source": [
    "---"
   ]
  },
  {
   "cell_type": "markdown",
   "metadata": {},
   "source": [
    "Let's take our weather API from last class and add a bit of complexity in the form of some formatting. In particular, we'll add some HTML (Hyper-Text Markup Language) – the standard markup language for any document meant to be displayed by a web browser. \n",
    "\n",
    "First things first, let's make sure that our app is up and running."
   ]
  },
  {
   "cell_type": "markdown",
   "metadata": {},
   "source": [
    "1. Navigate to desired directory\n",
    "2. `mkdir library_app`\n",
    "3. `cd library_app`\n",
    "4. `touch library.py`"
   ]
  },
  {
   "cell_type": "markdown",
   "metadata": {},
   "source": [
    "## `library.py`\n",
    "\n",
    "```python \n",
    "\n",
    "from flask import Flask\n",
    "\n",
    "app = Flask(__name__)\n",
    "\n",
    "# begin our Horror API\n",
    "\n",
    "@app.route('/horror')\n",
    "def horror():\n",
    "\n",
    "    import requests\n",
    "\n",
    "    url = 'http://openlibrary.org/subjects/horror.json'\n",
    "\n",
    "    parameters = {\n",
    "        'published_in'   : 2000-2010\n",
    "    }\n",
    "\n",
    "    resp = requests.get(url, params=parameters)\n",
    "\n",
    "    data = resp.json()\n",
    "\n",
    "    titles = set()\n",
    "\n",
    "    for i in range(0, len(data)):\n",
    "        title = data['works'][i]['title']\n",
    "        titles.add(title)\n",
    "\n",
    "    return 'Titles: {}'.format(sorted(titles))\n",
    "\n",
    "app.run(host='0.0.0.0', port=5000, debug=True) # anyone can connect, and we're running on port 5000\n",
    "    ```"
   ]
  },
  {
   "cell_type": "markdown",
   "metadata": {},
   "source": [
    "5. `python library.py`"
   ]
  },
  {
   "cell_type": "markdown",
   "metadata": {},
   "source": [
    "If we go to http://0.0.0.0:5000/horror we'll see our app is up and running. "
   ]
  },
  {
   "cell_type": "markdown",
   "metadata": {},
   "source": [
    "---"
   ]
  },
  {
   "cell_type": "markdown",
   "metadata": {},
   "source": [
    "So far so good. Let's get a bit fancier, though, and add a personalized welcome message to each user that visits the site. In library.py, let's add the following: \n",
    "\n",
    "## `library.py`\n",
    "\n",
    "```python \n",
    "\n",
    "from datetime import * \n",
    "\n",
    "... # keep your /horror route here, but add the '/' below\n",
    "\n",
    "@app.route(\"/\")\n",
    "def hello_visitor():\n",
    "    datetime.now().strftime('%Y-%m-%d %H:%M:%S') # get the current time from datetime\n",
    "    date = datetime.now().strftime('%Y-%m-%d') # get today's date from the current time \n",
    "    time = datetime.now().strftime('%H:%M:%S') # get the current time from the current time \n",
    "    message = \"The date is {d} and the time is {t}\" # create the message telling us the current date and time \n",
    "    return message.format(d=date, t=time) # return our message \n",
    "\n",
    "... # keep the 'app.run' info as well\n",
    "\n",
    "```"
   ]
  },
  {
   "cell_type": "markdown",
   "metadata": {},
   "source": [
    "Go back to http://0.0.0.0:5000/ and we'll see our message. "
   ]
  },
  {
   "cell_type": "markdown",
   "metadata": {},
   "source": [
    "---"
   ]
  },
  {
   "cell_type": "markdown",
   "metadata": {},
   "source": [
    "## HTML\n",
    "\n",
    "In order to prettify (add HTML) to our date and time message, we create a new HTML file in our directory. "
   ]
  },
  {
   "cell_type": "markdown",
   "metadata": {},
   "source": [
    "1. Navigate to our library_app directory\n",
    "2. `mkdir templates`\n",
    "3. `cd templates`\n",
    "4. `touch index.html`"
   ]
  },
  {
   "cell_type": "markdown",
   "metadata": {},
   "source": [
    "## `index.html`\n",
    "\n",
    "```html \n",
    "\n",
    "<!DOCTYPE html>\n",
    "<html>\n",
    "<head>\n",
    "    <title>Welcome Message</title>\n",
    "</head>\n",
    "<body>\n",
    "    <div style=\"color: purple\">\n",
    "    <h1>Hello World! Here's some fun info! {{ message }}</h1>\n",
    "        <strong>Below an image is displayed</strong>\n",
    "        <img width=\"300\" src=\"https://upload.wikimedia.org/wikipedia/en/thumb/5/58/NYU_logo.svg/1280px-NYU_logo.svg.png\"/>\n",
    "    </div>\n",
    "</body>\n",
    "</html> \n",
    "\n",
    "```\n",
    "\n",
    "## `library.py`\n",
    "\n",
    "```python \n",
    "\n",
    "from Flask import render_template\n",
    "\n",
    "# ...\n",
    "\n",
    "@app.route(\"/\")\n",
    "def hello_visitor():\n",
    "    datetime.now().strftime('%Y-%m-%d %H:%M:%S') # get the current time from datetime\n",
    "    date = datetime.now().strftime('%Y-%m-%d') # get today's date from the current time\n",
    "    time = datetime.now().strftime('%H:%M:%S') # get the current time from the current time\n",
    "    message = \"The date is {} and the time is {}\".format(date, time) # create the message\n",
    "    return render_template(\"index.html\",message=message) # return our message\n",
    "\n",
    "```"
   ]
  },
  {
   "cell_type": "markdown",
   "metadata": {},
   "source": [
    "---"
   ]
  },
  {
   "cell_type": "markdown",
   "metadata": {},
   "source": [
    "# Exercise 1\n",
    "\n",
    "Looking back to last week, adjust your library Flask app so that rather than being greated by the date, time, and visitor count, a visitor is told their location, the weather, and temperature. "
   ]
  },
  {
   "cell_type": "code",
   "execution_count": null,
   "metadata": {},
   "outputs": [],
   "source": [
    "# your code here"
   ]
  },
  {
   "cell_type": "markdown",
   "metadata": {},
   "source": [
    "# Solution"
   ]
  },
  {
   "cell_type": "markdown",
   "metadata": {},
   "source": [
    "## `library.py`\n",
    "\n",
    "```python \n",
    "\n",
    "@app.route(\"/\")\n",
    "def hello_visitor(): \n",
    "    \n",
    "    import requests\n",
    "    \n",
    "    geoip_url = 'http://api.ipstack.com/check?access_key=dd4cbbbe9d6b9f2709e5f0533644e547'\n",
    "    resp = requests.get(geoip_url)\n",
    "    data = resp.json()\n",
    "    lon = data[\"longitude\"]\n",
    "    lat = data[\"latitude\"]\n",
    "\n",
    "    openweathermap_url = \"http://api.openweathermap.org/data/2.5/weather\"\n",
    "    parameters = {\n",
    "        'lat'   : str(lat),\n",
    "        'lon'   : str(lon),\n",
    "        'units' : 'imperial',\n",
    "        'mode'  : 'json',\n",
    "        'appid' : 'ffb7b9808e07c9135bdcc7d1e867253d'\n",
    "    }\n",
    "\n",
    "    resp = requests.get(openweathermap_url, params=parameters)\n",
    "    data = resp.json()\n",
    "\n",
    "    location = data['name']\n",
    "    weather = data['weather'][0]['description']\n",
    "    temperature = data['main']['temp']\n",
    "\n",
    "    message = \"Your Location: {}, Your Weather: {}, Your Temp: {}\".format(location, weather, temperature)\n",
    "    \n",
    "    return render_template(\"index.html\", message=message)\n",
    "\n",
    "```"
   ]
  },
  {
   "cell_type": "markdown",
   "metadata": {},
   "source": [
    "---"
   ]
  },
  {
   "cell_type": "markdown",
   "metadata": {},
   "source": [
    "## Jinja Iterators\n",
    "\n",
    "We can also leverage what is known as a \"Jinja iterator\" – basically allowing us to render if / else statements in our template. For example, let's alter index.html file:\n",
    "\n",
    "## `index.html`\n",
    "\n",
    "``` html\n",
    "\n",
    "<!DOCTYPE html>\n",
    "<html>\n",
    "    \n",
    "```\n",
    "\n",
    "`{% if temperature <= 32 %}`\n",
    "\n",
    "``` html\n",
    "\n",
    "<div style = \"color: blue\">\n",
    "<body>\n",
    "  <h1>Hello! {{ message }}. It is below freezing outside, bring a jacket!</h1>\n",
    "</body>\n",
    "</div>\n",
    "\n",
    "```\n",
    "\n",
    "`{% endif %}`\n",
    "\n",
    "`{% if temperature > 32 %}`\n",
    "\n",
    "``` html\n",
    "\n",
    "<div style = \"color: red\">\n",
    "<body>\n",
    "  <h1>Hello! {{ message }}. It is warm outside, awesome!</h1>\n",
    "</body>\n",
    "</div>\n",
    "\n",
    "```\n",
    "\n",
    "`{% endif %}`\n",
    "\n",
    "```  \n",
    "</html> \n",
    "\n",
    "```\n",
    "\n",
    "## `library.py`\n",
    "\n",
    "```python \n",
    "\n",
    "    # ... \n",
    "    \n",
    "    location = data['name']\n",
    "    weather = data['weather'][0]['description']\n",
    "    temperature = data['main']['temp']\n",
    "\n",
    "    message = \"Your Location: {}, Your Weather: {}, Your Temp: {}\".format(location, weather, temperature)\n",
    "    \n",
    "    return render_template(\"index.html\", message=message, location=location, weather=weather, temperature=temperature)\n",
    "\n",
    "```"
   ]
  },
  {
   "cell_type": "markdown",
   "metadata": {},
   "source": [
    "---"
   ]
  },
  {
   "cell_type": "markdown",
   "metadata": {},
   "source": [
    "# Exercise 2\n",
    "\n",
    "Create a new file called horror.html that returns a blue list if there are fewer than 5 books returned and a red list if there are more than 5 books returned. Don't forget to adjust your /horror app route to call this new html file, too. "
   ]
  },
  {
   "cell_type": "code",
   "execution_count": null,
   "metadata": {},
   "outputs": [],
   "source": [
    "# your code here"
   ]
  },
  {
   "cell_type": "markdown",
   "metadata": {},
   "source": [
    "# Solution"
   ]
  },
  {
   "cell_type": "markdown",
   "metadata": {},
   "source": [
    "## `horror.html`\n",
    "\n",
    "``` html\n",
    "\n",
    "<!DOCTYPE html>\n",
    "<html>\n",
    "    \n",
    "```\n",
    "\n",
    "`{% if set_length < 5 %}`\n",
    "\n",
    "``` html\n",
    "\n",
    "<div style = \"color: blue\">\n",
    "<body>\n",
    "  <h1>{{ titles }}</h1>\n",
    "</body>\n",
    "</div>\n",
    "\n",
    "```\n",
    "\n",
    "`{% endif %}`\n",
    "\n",
    "`{% if set_length > 5 %}`\n",
    "\n",
    "``` html\n",
    "\n",
    "<div style = \"color: red\">\n",
    "<body>\n",
    "  <h1>{{ titles }}</h1>\n",
    "</body>\n",
    "</div>\n",
    "\n",
    "```\n",
    "\n",
    "`{% endif %}`\n",
    "\n",
    "```  \n",
    "</html> \n",
    "\n",
    "```\n",
    "\n",
    "## `library.py`\n",
    "\n",
    "```python \n",
    "\n",
    "@app.route('/horror')\n",
    "def horror():\n",
    "\n",
    "    import requests\n",
    "\n",
    "    url = 'http://openlibrary.org/subjects/horror.json'\n",
    "\n",
    "    parameters = {\n",
    "        'published_in'   : 2000-2010\n",
    "    }\n",
    "\n",
    "    resp = requests.get(url, params=parameters)\n",
    "\n",
    "    data = resp.json()\n",
    "\n",
    "    titles = set()\n",
    "\n",
    "    for i in range(0, len(data)):\n",
    "        title = data['works'][i]['title']\n",
    "        titles.add(title)\n",
    "\n",
    "    set_length = len(titles)\n",
    "\n",
    "    return render_template('horror.html', titles=titles, set_length=set_length)\n",
    "\n",
    "```"
   ]
  },
  {
   "cell_type": "markdown",
   "metadata": {},
   "source": [
    "---"
   ]
  },
  {
   "cell_type": "markdown",
   "metadata": {},
   "source": [
    "What happens if we want to call upon a SQL database, such as our Citibike database from Week 1, and display it in a Flask application?"
   ]
  },
  {
   "cell_type": "markdown",
   "metadata": {},
   "source": [
    "## `library.py`\n",
    "\n",
    "``` python\n",
    "@app.route(\"/citibike\")\n",
    "def citibike():\n",
    "\n",
    "    import sqlite3\n",
    "\n",
    "    con = sqlite3.connect('/Users/siegmanA/Desktop/library_app/citibikeDataForFlask.db') # connect to our db\n",
    "    cursor = con.cursor()\n",
    "\n",
    "    # retrieve records of all tables and construct dictionaries for convenient usage at HTML tamplates\n",
    "\n",
    "    station_data = cursor.execute(\"SELECT station_id, stationName, availableBikes, lastCommunicationTime FROM StationsData LIMIT 5\")\n",
    "\n",
    "    station_data = [{\"station_id\": i[0], \"stationName\": i[1], \"availableBikes\": i[2], \"lastCommunicationTime\": i[3]} for i in station_data]\n",
    "\n",
    "    return render_template('citibike.html', station_data=station_data)\n",
    "```"
   ]
  },
  {
   "cell_type": "markdown",
   "metadata": {},
   "source": [
    "## `citibike.html` \n",
    "^ This sould be a new document in our `templates` folder\n",
    "\n",
    "``` html\n",
    "<!DOCTYPE html>\n",
    "<html>\n",
    "<body>\n",
    "  <table>\n",
    "    <thead>\n",
    "      <tr>\n",
    "        <th>Station ID</th>\n",
    "        <th>Station Name</th>\n",
    "        <th>Available Bikes</th>\n",
    "        <th>Last Communication Time</th>\n",
    "      </tr>\n",
    "    </thead>\n",
    "    <tbody>\n",
    "      {% for i in station_data %}\n",
    "\t<tr>\n",
    "        <td>{{ i.station_id }}</td>\n",
    "        <td>{{ i.stationName }}</td>\n",
    "        <td>{{ i.availableBikes }}</td>\n",
    "        <td>{{ i.lastCommunicationTime }}</td>\n",
    "\t</tr>\n",
    "      {% endfor %}\n",
    "    </tbody> \n",
    "  </table>\n",
    "</body>\n",
    "</html>\n",
    "```"
   ]
  },
  {
   "cell_type": "markdown",
   "metadata": {},
   "source": [
    "---"
   ]
  },
  {
   "cell_type": "markdown",
   "metadata": {},
   "source": [
    "## Getting Parameters and Passing to SQL\n",
    "\n",
    "Now let's see how we can query for the status of a Citibike station over time.\n",
    "\n",
    "Here, we want to create a new function, where we will pass the `station_id` as a **parameter**. Then our code will read the value of the parameter `station_id` and then will query the database to get the status of that station."
   ]
  },
  {
   "cell_type": "markdown",
   "metadata": {},
   "source": [
    "## `library.py`\n",
    "\n",
    "``` python\n",
    "from flask import request\n",
    "\n",
    "@app.route(\"/station_status\")\n",
    "def station_status():\n",
    "\n",
    "    import sqlite3\n",
    "\n",
    "    user_station_id = request.args.get('station_id')\n",
    "\n",
    "    con = sqlite3.connect('/Users/siegmanA/Desktop/library_app/citibikeDataForFlask.db') # connect to our db\n",
    "    cursor = con.cursor()\n",
    "\n",
    "    # retrieve records of all tables and construct dictionaries for convenient usage at HTML tamplates\n",
    "\n",
    "    station_data = cursor.execute(\"SELECT station_id, stationName, availableBikes, lastCommunicationTime FROM StationsData WHERE station_id = ? LIMIT 5\", [user_station_id,])\n",
    "\n",
    "    station_data = [{\"station_id\": i[0], \"stationName\": i[1], \"availableBikes\": i[2], \"lastCommunicationTime\": i[3]} for i in station_data]\n",
    "\n",
    "    return render_template('citibike.html', station_data=station_data,user_station_id=user_station_id)\n",
    "```"
   ]
  },
  {
   "cell_type": "markdown",
   "metadata": {},
   "source": [
    "Now we can pass a parameter through our URL, such as http://0.0.0.0:5000/station_status?station_id=72"
   ]
  },
  {
   "cell_type": "markdown",
   "metadata": {},
   "source": [
    "---"
   ]
  },
  {
   "cell_type": "markdown",
   "metadata": {},
   "source": [
    "## Bootstrap\n",
    "\n",
    "Our HTML pages aren't exactly visually pleasing. Lucky for us, [Twitter's Bootstrap](http://getbootstrap.com/) is an excellent set of carefully crafted user interface elements, layouts and JavaScript tools, easily available to use in your web design project. \n",
    "\n",
    "All you need is to create a link to the [Bootstrap resources](http://getbootstrap.com/getting-started/#download-cdn) in the HTML head and use the predefined CSS styles."
   ]
  },
  {
   "cell_type": "markdown",
   "metadata": {},
   "source": [
    "### `templates/citibike.html` \n",
    "\n",
    "```html\n",
    "<!DOCTYPE html>\n",
    "<html>\n",
    "<head>\n",
    "    <link rel=\"stylesheet\" href=\"https://stackpath.bootstrapcdn.com/bootstrap/4.1.3/css/bootstrap.min.css\" integrity=\"sha384-MCw98/SFnGE8fJT3GXwEOngsV7Zt27NXFoaoApmYm81iuXoPkFOJwJ8ERdknLPMO\" crossorigin=\"anonymous\">\n",
    "</head>\n",
    "<body>\n",
    "    <div class=\"container\">\n",
    "        <div class=\"panel panel-info\">\n",
    "            <div class=\"panel-heading\">\n",
    "                <h1 class=\"panel-title\">Citibike Stations</h1>\n",
    "            </div>\n",
    "            <table  class=\"table table-striped table-bordered table-hover\">\n",
    "    <thead>\n",
    "      <tr>\n",
    "        <th>Station ID</th>\n",
    "        <th>Station Name</th>\n",
    "        <th>Available Bikes</th>\n",
    "        <th>Last Communication Time</th>\n",
    "      </tr>\n",
    "    </thead>\n",
    "    <tbody>\n",
    "      {% for i in station_data %}\n",
    "\t<tr>\n",
    "        <td>{{ i.station_id }}</td>\n",
    "        <td>{{ i.stationName }}</td>\n",
    "        <td>{{ i.availableBikes }}</td>\n",
    "        <td>{{ i.lastCommunicationTime }}</td>\n",
    "\t</tr>\n",
    "      {% endfor %}\n",
    "    </tbody>\n",
    "    </table>\n",
    "  </div>\n",
    "</div>\n",
    "</body>\n",
    "</html>\n",
    "```"
   ]
  },
  {
   "cell_type": "markdown",
   "metadata": {},
   "source": [
    "---"
   ]
  },
  {
   "cell_type": "markdown",
   "metadata": {},
   "source": [
    "## Plotting in Flask"
   ]
  },
  {
   "cell_type": "code",
   "execution_count": null,
   "metadata": {},
   "outputs": [],
   "source": [
    "%matplotlib inline\n",
    "%config InlineBackend.figure_format = 'retina'"
   ]
  },
  {
   "cell_type": "code",
   "execution_count": null,
   "metadata": {},
   "outputs": [],
   "source": [
    "import sqlite3\n",
    "import pandas as pd\n",
    "from matplotlib.pyplot import *\n",
    "import matplotlib as plt\n",
    "from flask import request"
   ]
  },
  {
   "cell_type": "code",
   "execution_count": null,
   "metadata": {},
   "outputs": [],
   "source": [
    "con = sqlite3.connect('citibikeDataForFlask.db') # connect to our database\n",
    "\n",
    "user_station_id = 72 # request.args.get('station_id')\n",
    "\n",
    "df = pd.read_sql(\"\"\"SELECT station_id,\n",
    "                    stationName,\n",
    "                    availableBikes,\n",
    "                    availableDocks,\n",
    "                    totalDocks,\n",
    "                    latitude,\n",
    "                    longitude,\n",
    "                    lastCommunicationTime\n",
    "                FROM StationsData WHERE station_id = (?)\"\"\", con, params=[user_station_id])\n",
    "\n",
    "df['lastCommunicationTime'] = pd.to_datetime(df['lastCommunicationTime'], format='%Y-%m-%d %H:%M:%S %p')\n",
    "\n",
    "df['percent_full'] = df['availableBikes']/df['totalDocks']\n",
    "\n",
    "df = df[df.lastCommunicationTime != '1969-12-31 07:00:00']\n",
    "\n",
    "station_timeseries = df.pivot_table(\n",
    "                        index='lastCommunicationTime',\n",
    "                        values='percent_full',\n",
    "                        aggfunc='mean'\n",
    "                    ).interpolate(method='time')\n",
    "\n",
    "plot = station_timeseries.plot(alpha=.5, figsize=(18, 9), ylim=(0,1), xlim=('2019-10-10 06', '2019-10-10 06:30'))"
   ]
  },
  {
   "cell_type": "code",
   "execution_count": null,
   "metadata": {},
   "outputs": [],
   "source": [
    "filename = 'example.png'\n",
    "fig = plot.get_figure()\n",
    "fig.savefig(filename)\n",
    "fig.clear()"
   ]
  },
  {
   "cell_type": "markdown",
   "metadata": {},
   "source": [
    "To display that static image on our site, we need to: \n",
    "\n",
    "1. Create a place to store and serve the image. In our case, we create a folder called 'static' in our directory where Flask will go to find and serve \"_static_\" files\n",
    "2. Store the plot as an image under the static folder\n",
    "3. Modify our HTML code to display the image"
   ]
  },
  {
   "cell_type": "markdown",
   "metadata": {},
   "source": [
    "## `citibike.html`\n",
    "\n",
    "``` html\n",
    "...\n",
    "<img class=\"center-block\" src=\"{{image}}\" />\n",
    "...\n",
    "```\n",
    "\n",
    "## `library.py` \n",
    "\n",
    "```python\n",
    "import sqlite3\n",
    "import pandas as pd\n",
    "from matplotlib.pyplot import *\n",
    "import matplotlib as plt\n",
    "matplotlib.use('Agg')\n",
    "\n",
    "def create_plot(station,con):\n",
    "    con = sqlite3.connect('citibikeDataForFlask.db') # connect to our database\n",
    "    user_station_id = request.args.get('station_id')\n",
    "\n",
    "    df = pd.read_sql(\"\"\"SELECT station_id,\n",
    "                    stationName,\n",
    "                    availableBikes,\n",
    "                    availableDocks,\n",
    "                    totalDocks,\n",
    "                    latitude,\n",
    "                    longitude,\n",
    "                    lastCommunicationTime\n",
    "                FROM StationsData WHERE station_id = (?)\"\"\", con=con, params=[user_station_id])\n",
    "\n",
    "    df['lastCommunicationTime'] = pd.to_datetime(df['lastCommunicationTime'], format='%Y-%m-%d %H:%M:%S %p')\n",
    "\n",
    "    df['percent_full'] = df['availableBikes']/df['totalDocks']\n",
    "\n",
    "    df = df[df.lastCommunicationTime != '1969-12-31 07:00:00']\n",
    "\n",
    "    station_timeseries = df.pivot_table(\n",
    "                        index='lastCommunicationTime',\n",
    "                        values='percent_full',\n",
    "                        aggfunc='mean'\n",
    "                    ).interpolate(method='time')\n",
    "\n",
    "    plot = station_timeseries.plot(alpha=.5, figsize=(18, 9), ylim=(0,1), xlim=('2019-10-10 06', '2019-10-10 06:30'))\n",
    "\n",
    "    filename = 'static/plot-'+str(station)+ '.png'\n",
    "    fig = plot.get_figure()\n",
    "    fig.savefig(filename)\n",
    "    fig.clear()\n",
    "\n",
    "    return filename\n",
    "```\n",
    "\n",
    "## `library.py`\n",
    "\n",
    "```python\n",
    "@app.route(\"/station_status\")\n",
    "def station_status():\n",
    "\n",
    "    con = sqlite3.connect('citibikeDataForFlask.db') # connect to our database\n",
    "\n",
    "    user_station_id = request.args.get('station_id')\n",
    "\n",
    "    con = sqlite3.connect('/Users/siegmanA/Desktop/library_app/citibikeDataForFlask.db') # connect to our db\n",
    "    cursor = con.cursor()\n",
    "\n",
    "    # retrieve records of all tables and construct dictionaries for convenient usage at HTML tamplates\n",
    "\n",
    "    station_data = cursor.execute(\"SELECT station_id, stationName, availableBikes, lastCommunicationTime FROM StationsData WHERE station_id = ? LIMIT 5\", [user_station_id,])\n",
    "\n",
    "    station_data = [{\"station_id\": i[0], \"stationName\": i[1], \"availableBikes\": i[2], \"lastCommunicationTime\": i[3]} for i in station_data]\n",
    "\n",
    "    image_filename = create_plot(user_station_id, con)\n",
    "\n",
    "    return render_template('citibike.html', station_data=station_data, user_station_id=user_station_id, image=image_filename)\n",
    "```\n",
    "\n",
    "\n",
    "\n",
    "\n"
   ]
  },
  {
   "cell_type": "markdown",
   "metadata": {},
   "source": [
    "---"
   ]
  },
  {
   "cell_type": "markdown",
   "metadata": {},
   "source": [
    "## Forms"
   ]
  },
  {
   "cell_type": "markdown",
   "metadata": {},
   "source": [
    "HTML forms allow us to get user entries and then use the submitted values as parameters in our code. (Check out [W3 Schools](https://www.w3schools.com/html/html_forms.asp) for more details.)\n",
    "\n",
    "Imagine we want to search the Citibike stations by their name, and get back a list of the stations that contain that search string. A simple HTML form that can do that is listed below. \n",
    "\n",
    "Save the file  `search_stations.html` in your `templates` folder, and add a new route in library.py so that you can get back this page, when you visit the main page of your website."
   ]
  },
  {
   "cell_type": "markdown",
   "metadata": {},
   "source": [
    "## `search_stations.html`\n",
    "\n",
    "```html\n",
    "<!DOCTYPE html>\n",
    "<html>\n",
    "<head>\n",
    "    <title>Search Citibike Stations</title>\n",
    "</head>\n",
    "<body>\n",
    "      <form action=\"/search\">\n",
    "      Station Name:<br>\n",
    "      <input type=\"text\" name=\"name\"><br>\n",
    "    </form>\n",
    "</body>\n",
    "```\n",
    "\n",
    "## `library.py`\n",
    "\n",
    "```python\n",
    "@app.route('/')\n",
    "def home():\n",
    "    return render_template('search_stations.html')\n",
    "```"
   ]
  },
  {
   "cell_type": "markdown",
   "metadata": {},
   "source": [
    "A key part of the form is the `action` script – it defines what URL we should go to when we submit the form. In our case, it will go to the `http://<your IP>:5000/search` with the parameter `name` having the value of the text that the user entered.\n",
    "\n",
    "For example, if we enter `Bleecker` on the form, the form will direct us to the URL `http://<your IP>:5000/search?name=Bleecker`.\n",
    "\n",
    "Now, we need to specify the corresponding route in our webserver (i.e., the `/search` route) and define what it will do. Add the below code to `library.py` to implement that route. "
   ]
  },
  {
   "cell_type": "markdown",
   "metadata": {},
   "source": [
    "## `library.py`\n",
    "\n",
    "```python\n",
    "@app.route('/search')\n",
    "def search():\n",
    "\n",
    "    name = request.args.get('name')\n",
    "\n",
    "    con = sqlite3.connect('/Users/siegmanA/Desktop/library_app/citibikeDataForFlask.db') # connect to our db\n",
    "    cursor = con.cursor()\n",
    "\n",
    "    station_data = cursor.execute(\"SELECT station_id, stationName, availableBikes, lastCommunicationTime FROM StationsData WHERE stationName = ? LIMIT 5\", [name,])\n",
    "\n",
    "    station_data = [{\"station_id\": i[0], \"stationName\": i[1], \"availableBikes\": i[2], \"lastCommunicationTime\": i[3]} for i in station_data]\n",
    "\n",
    "    return render_template('citibike.html', name=name, station_data=station_data)\n",
    "```"
   ]
  },
  {
   "cell_type": "markdown",
   "metadata": {},
   "source": [
    "---"
   ]
  },
  {
   "cell_type": "markdown",
   "metadata": {},
   "source": [
    "# Exercise 3\n",
    "\n",
    "Adjust the /search app route so that a user can search for stations based on the minimum number of available bikes at a given station. "
   ]
  },
  {
   "cell_type": "code",
   "execution_count": null,
   "metadata": {},
   "outputs": [],
   "source": [
    "# your code here"
   ]
  },
  {
   "cell_type": "markdown",
   "metadata": {},
   "source": [
    "# Solution"
   ]
  },
  {
   "cell_type": "markdown",
   "metadata": {},
   "source": [
    "## `library.py`\n",
    "\n",
    "```python\n",
    "@app.route('/search')\n",
    "def search():\n",
    "\n",
    "    name = request.args.get('name')\n",
    "\n",
    "    con = sqlite3.connect('/Users/siegmanA/Desktop/library_app/citibikeDataForFlask.db') # connect to our db\n",
    "    cursor = con.cursor()\n",
    "\n",
    "    station_data = cursor.execute(\"SELECT station_id, stationName, availableBikes, lastCommunicationTime FROM StationsData WHERE availableBikes > ? LIMIT 5\", [name,])\n",
    "\n",
    "    station_data = [{\"station_id\": i[0], \"stationName\": i[1], \"availableBikes\": i[2], \"lastCommunicationTime\": i[3]} for i in station_data]\n",
    "\n",
    "    return render_template('citibike.html', name=name, station_data=station_data)\n",
    "```\n",
    "\n",
    "## `search_stations.html`\n",
    "\n",
    "``` html\n",
    "<!DOCTYPE html>\n",
    "<html>\n",
    "<head>\n",
    "    <title>Search Citibike Stations</title>\n",
    "</head>\n",
    "<body>\n",
    "      <form action=\"/search\">\n",
    "      Minimum Number of Available Bikes:<br>\n",
    "      <input type=\"number\" name=name><br>\n",
    "    </form>\n",
    "</body>   \n",
    "```"
   ]
  }
 ],
 "metadata": {
  "kernelspec": {
   "display_name": "Python 3",
   "language": "python",
   "name": "python3"
  },
  "language_info": {
   "codemirror_mode": {
    "name": "ipython",
    "version": 3
   },
   "file_extension": ".py",
   "mimetype": "text/x-python",
   "name": "python",
   "nbconvert_exporter": "python",
   "pygments_lexer": "ipython3",
   "version": "3.7.3"
  }
 },
 "nbformat": 4,
 "nbformat_minor": 2
}
