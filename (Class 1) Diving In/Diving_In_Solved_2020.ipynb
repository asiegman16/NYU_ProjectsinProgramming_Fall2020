{
 "cells": [
  {
   "cell_type": "markdown",
   "metadata": {
    "colab_type": "text",
    "id": "myNE5dciGRZI"
   },
   "source": [
    "# Welcome to Projects in Programming & Data Science! "
   ]
  },
  {
   "cell_type": "markdown",
   "metadata": {
    "colab_type": "text",
    "id": "GzO4dncfGRZJ"
   },
   "source": [
    "---"
   ]
  },
  {
   "cell_type": "markdown",
   "metadata": {
    "colab_type": "text",
    "id": "LK3g72vIGRZL"
   },
   "source": [
    "# Laptop Setup\n",
    "\n",
    "### NYU Classes\n",
    "\n",
    "Make sure you are able to access our course page on NYU Classes. This is where I will be posting all of our course content (notebooks, datasets, et. cetera). This is also where all of your assignments will be posted, graded, and returned. \n",
    "\n",
    "### Colab\n",
    "\n",
    "In order to standardize the way we all use Jupyter Notebook (described below) we are going to use Google's Colab (https://colab.research.google.com/notebooks/welcome.ipynb) \n",
    "\n",
    "Think of using Colab as renting a computer via your web browser (I recommend Chrome) that you can use. This is important because that means that in order to save your work, you need to download it from Colab onto your computer (machine) and re-upload it next time you'd like to work with it. \n",
    "\n",
    "For instance, if I want to open today's class notebook in Colab, I: \n",
    "\n",
    "<br>\n",
    "\n",
    "1. **Will go to https://colab.research.google.com/notebooks/welcome.ipynb**\n",
    "\n",
    "<div> \n",
    "    <img src=\"attachment:Screen%20Shot%202019-10-23%20at%201.51.42%20PM.png\" width=600  />\n",
    "</div>\n",
    "\n",
    "2. **Will click \"file\" > \"upload notebook\"** \n",
    "\n",
    "<div> \n",
    "    <img src=\"attachment:Screen%20Shot%202019-10-23%20at%201.54.00%20PM.png\" width=600  />\n",
    "</div>\n",
    "\n",
    "3. **Note that a Jupyter Notebook will always have a .ipynb extension. In Colab I can click \"Upload\" then \"Choose File\" and upload the notebook (that I have downloaded from NYU Classes) to Colab.**\n",
    "\n",
    "<div> \n",
    "    <img src=\"attachment:Screen%20Shot%202019-10-23%20at%201.54.49%20PM.png\" width=600  />\n",
    "</div>\n",
    "\n",
    "4. **Once I click \"Open\" ...**\n",
    "\n",
    "<div> \n",
    "    <img src=\"attachment:Screen%20Shot%202019-10-23%20at%201.55.06%20PM.png\" width=600  />\n",
    "</div>\n",
    "\n",
    "5. **Colab should open the notebook, and voila!**\n",
    "\n",
    "<div> \n",
    "    <img src=\"attachment:Screen%20Shot%202019-10-23%20at%201.55.27%20PM.png\" width=600  />\n",
    "</div>"
   ]
  },
  {
   "cell_type": "markdown",
   "metadata": {
    "colab_type": "text",
    "id": "Uy06siIeGRZM"
   },
   "source": [
    "---"
   ]
  },
  {
   "cell_type": "markdown",
   "metadata": {
    "colab_type": "text",
    "id": "bo3RXty7GRZN"
   },
   "source": [
    "Today we're going to jump right in to the mix and leverage the CitiBike API to populate a sqlite database at regular intervals. Consider this your warm-up for the semester! "
   ]
  },
  {
   "cell_type": "markdown",
   "metadata": {
    "colab_type": "text",
    "id": "Ro8ntRzNGRZO"
   },
   "source": [
    "\n"
   ]
  },
  {
   "cell_type": "markdown",
   "metadata": {
    "colab": {},
    "colab_type": "code",
    "id": "E0f86amjGRZP"
   },
   "source": [
    "```python \n",
    "\n",
    "import sqlite3\n",
    "\n",
    "```"
   ]
  },
  {
   "cell_type": "markdown",
   "metadata": {
    "colab_type": "text",
    "id": "Aa3Tfe4CGRZU"
   },
   "source": [
    "[SQLite](https://www.sqlite.org/index.html) is a library that allows us to create, populate, and call upon a SQL Database. It's also serverless, meaning we don't need to access a separate server where we're storing our data – instead, we can directly access our databse. We can even store that database as a file on our local machine and call upon it. "
   ]
  },
  {
   "cell_type": "markdown",
   "metadata": {
    "colab": {},
    "colab_type": "code",
    "id": "a3zYnkWGGRZU"
   },
   "source": [
    "```python\n",
    "\n",
    "con = sqlite3.connect('citibikeData2020+test.db') # this is how we are going to create our database, \n",
    "                                         # calling it 'citibikeData.db'\n",
    "\n",
    "                                         # note that if the db doesn't exist, this will create it; Otherwise, it will connect\n",
    "\n",
    "# \"con\" stands for \"connection\" – this is telling SQLite what database to use\n",
    "\n",
    "```"
   ]
  },
  {
   "cell_type": "markdown",
   "metadata": {
    "colab_type": "text",
    "id": "uW5lbjOnGRZY"
   },
   "source": [
    "Now, let's check out the API we'll be working with: http://gbfs.citibikenyc.com/gbfs/gbfs.json"
   ]
  },
  {
   "cell_type": "markdown",
   "metadata": {
    "colab_type": "text",
    "id": "ioq4AQ8kGRZZ"
   },
   "source": [
    "---"
   ]
  },
  {
   "cell_type": "markdown",
   "metadata": {
    "colab_type": "text",
    "id": "ivoAw0TDGRZZ"
   },
   "source": [
    "First, we'll request the json from the CitiBike API URL and just print it out to get a quick glimpse"
   ]
  },
  {
   "cell_type": "markdown",
   "metadata": {
    "colab": {
     "base_uri": "https://localhost:8080/",
     "height": 54
    },
    "colab_type": "code",
    "id": "rtXpoI3RGRZa",
    "outputId": "993f8be2-7e91-4be6-e4fe-25c3c6102c9b"
   },
   "source": [
    "```python\n",
    "\n",
    "import json \n",
    "import urllib.request # https://docs.python.org/3/library/urllib.request.html\n",
    "\n",
    "with urllib.request.urlopen(\"https://gbfs.citibikenyc.com/gbfs/en/station_status.json\") as url:\n",
    "    data = json.loads(url.read().decode())\n",
    "    print(data)\n",
    "    \n",
    " ```"
   ]
  },
  {
   "cell_type": "markdown",
   "metadata": {
    "colab_type": "text",
    "id": "l5BPWrFzGRZe"
   },
   "source": [
    "As you can see, the json is a dictionary of lists and other dictionaries containing information about CitiBike stations across New York City. "
   ]
  },
  {
   "cell_type": "markdown",
   "metadata": {
    "colab": {
     "base_uri": "https://localhost:8080/",
     "height": 87
    },
    "colab_type": "code",
    "id": "3Qyc_e1_KcIX",
    "outputId": "4eb2b1f5-9eca-4d92-a21a-a336c1cf33e7"
   },
   "source": [
    "```python\n",
    "\n",
    "for key,value in data.items():\n",
    "    print(\"key: {0} | value: {1}\".format(key, value))\n",
    "    \n",
    "```"
   ]
  },
  {
   "cell_type": "markdown",
   "metadata": {
    "colab": {},
    "colab_type": "code",
    "id": "d3TCtvySN-CB"
   },
   "source": [
    "```python\n",
    "\n",
    "values_list = list(data.values())\n",
    "\n",
    "```"
   ]
  },
  {
   "cell_type": "markdown",
   "metadata": {
    "colab": {
     "base_uri": "https://localhost:8080/",
     "height": 1000
    },
    "colab_type": "code",
    "id": "j29CAwAXPyI-",
    "outputId": "3f64a6ca-654f-40fa-a199-979089b79eed"
   },
   "source": [
    "```python\n",
    "\n",
    "values_list\n",
    "\n",
    "```"
   ]
  },
  {
   "cell_type": "markdown",
   "metadata": {
    "colab": {},
    "colab_type": "code",
    "id": "iSsTli19OBC-"
   },
   "source": [
    "```python\n",
    "\n",
    "clean_data = values_list[0]['stations']\n",
    "\n",
    "```"
   ]
  },
  {
   "cell_type": "markdown",
   "metadata": {
    "colab": {
     "base_uri": "https://localhost:8080/",
     "height": 215
    },
    "colab_type": "code",
    "id": "8r4-_WcAGRZi",
    "outputId": "933a0eb9-1a6f-4781-ada2-9d04c3599e3a"
   },
   "source": [
    "```python\n",
    "\n",
    "import pandas as pd # we'll use pandas just to visualize our data, NOT to query it\n",
    "\n",
    "df_stations = pd.DataFrame(clean_data) # create a new dataframe called 'df_stations' \n",
    "df_stations.head() # check the first five station entries\n",
    "\n",
    "```"
   ]
  },
  {
   "cell_type": "markdown",
   "metadata": {
    "colab": {
     "base_uri": "https://localhost:8080/",
     "height": 235
    },
    "colab_type": "code",
    "id": "XGVfopooTfCX",
    "outputId": "00413010-7239-4d8c-f2b5-0a49a5ef8321"
   },
   "source": [
    "```python\n",
    "\n",
    "clean_data[0]\n",
    "\n",
    "```"
   ]
  },
  {
   "cell_type": "markdown",
   "metadata": {
    "colab": {
     "base_uri": "https://localhost:8080/",
     "height": 35
    },
    "colab_type": "code",
    "id": "aGOK6xt4Sxf7",
    "outputId": "7576f523-df62-44da-dd34-5551fcc2262e"
   },
   "source": [
    "```python\n",
    "\n",
    "clean_data[0]['station_id']\n",
    "\n",
    "```"
   ]
  },
  {
   "cell_type": "markdown",
   "metadata": {
    "colab": {
     "base_uri": "https://localhost:8080/",
     "height": 1000
    },
    "colab_type": "code",
    "id": "jJyNiPx5TydY",
    "outputId": "1b877632-3b7a-48e7-ce2b-61c28863914a"
   },
   "source": [
    "```python\n",
    "\n",
    "for entry in clean_data:\n",
    "    print(entry['station_id'])\n",
    "    \n",
    "```"
   ]
  },
  {
   "cell_type": "markdown",
   "metadata": {
    "colab_type": "text",
    "id": "a6aZV9QBGRZo"
   },
   "source": [
    "So, we have our data from the CitiBike feed, and it looks pretty good! Now we need to create a table within our database (the one we named citibikeData.db). We do that using the 'CREATE TABLE IF NOT EXISTS' statement seen below. \n",
    "\n",
    "In that statement, the 'IF NOT EXISTS' makes clear that we are going to create the table called 'StationsData' only once. That way, if we run that cell again, it's not going to overwrite the work we've previously done. \n",
    "\n",
    "Note that at this point we aren't adding any data to our table. All we're doing is telling SQLite that we want to create a new table, and providing it with a) the column names and b) the data type those columns should be expecting."
   ]
  },
  {
   "cell_type": "markdown",
   "metadata": {
    "colab": {},
    "colab_type": "code",
    "id": "hdSCIt70GRZp"
   },
   "source": [
    "```python\n",
    "\n",
    "sql = \"CREATE TABLE IF NOT EXISTS StationsData (station_id int, num_ebikes_available int, num_bikes_available int, is_installed int, last_reported int, num_docks_disabled int, is_renting int, eightd_has_available_keys varchar(250), num_docks_available int, num_bikes_disabled int, legacy_id int, station_status varchar(250), is_returning int);\" \n",
    "\n",
    "con.execute(sql)\n",
    "con.commit()\n",
    "\n",
    "```"
   ]
  },
  {
   "cell_type": "markdown",
   "metadata": {
    "colab_type": "text",
    "id": "NB2u3V2LGRZr"
   },
   "source": [
    "Now that we have our database and our table, we want to insert our data. \n",
    "\n",
    "Below, we create a \"query template\" where we \"INSERT OR IGNORE INTO\" our table (StationsData) the values associated with each of our columns. \n",
    "\n",
    "We define those values by parsing through the CitiBike json we got earlier, and for each \"row\" of that json, we create a new row in our SQLite table. "
   ]
  },
  {
   "cell_type": "markdown",
   "metadata": {
    "colab": {
     "base_uri": "https://localhost:8080/",
     "height": 1000
    },
    "colab_type": "code",
    "collapsed": true,
    "id": "oQOFU5E3GRZs",
    "outputId": "545c6194-aaff-4b5e-b8b6-6d1974d8fa9c"
   },
   "source": [
    "```python\n",
    "\n",
    "query_template = \"\"\"INSERT OR IGNORE INTO StationsData(station_id, num_ebikes_available, num_bikes_available, \\\n",
    "is_installed, last_reported, num_docks_disabled, is_renting, eightd_has_available_keys, \\\n",
    "num_docks_available, num_bikes_disabled, legacy_id, station_status, is_returning) \\\n",
    "VALUES (?, ?, ?, ?, ?, ?, ?, ?, ?, ?, ?, ?, ?);\"\"\"\n",
    "\n",
    "for entry in clean_data: # for every station entry in the json \n",
    "    station_id = int(entry['station_id']) # find and set station_id\n",
    "    num_ebikes_available = int(entry['num_ebikes_available'])\n",
    "    num_bikes_available = int(entry['num_bikes_available'])\n",
    "    is_installed = int(entry['is_installed'])\n",
    "    last_reported = int(entry['last_reported'])\n",
    "    num_docks_disabled = int(entry['num_docks_disabled'])\n",
    "    is_renting = int(entry['is_renting'])\n",
    "    eightd_has_available_keys = str(entry['eightd_has_available_keys'])\n",
    "    num_docks_available = int(entry['num_docks_available'])\n",
    "    num_bikes_disabled = int(entry['num_bikes_disabled'])\n",
    "    legacy_id = int(entry['legacy_id'])\n",
    "    station_status = str(entry['station_status'])\n",
    "    is_returning = int(entry['is_returning'])\n",
    "                           \n",
    "    print(\"Inserting Station:\", station_id, num_ebikes_available, num_bikes_available, is_installed, last_reported, num_docks_disabled, is_renting, eightd_has_available_keys, num_docks_available, num_bikes_disabled, legacy_id, station_status, is_returning) \n",
    "    \n",
    "    query_parameters = (station_id, num_ebikes_available, num_bikes_available, is_installed, last_reported, num_docks_disabled, is_renting, eightd_has_available_keys, num_docks_available, num_bikes_disabled, legacy_id, station_status, is_returning) \n",
    "    \n",
    "    con.execute(query_template, query_parameters)\n",
    "    \n",
    "con.commit()\n",
    "\n",
    "```"
   ]
  },
  {
   "cell_type": "markdown",
   "metadata": {
    "colab_type": "text",
    "id": "gAVN7kGqGRZv"
   },
   "source": [
    "Now, we can use [pd.read_sql](https://pandas.pydata.org/pandas-docs/stable/reference/api/pandas.read_sql.html) to check that we are properly connected to our database, and the StationsData table within that database:"
   ]
  },
  {
   "cell_type": "markdown",
   "metadata": {
    "colab": {
     "base_uri": "https://localhost:8080/",
     "height": 215
    },
    "colab_type": "code",
    "collapsed": true,
    "id": "iQC7BRwVGRZv",
    "outputId": "f18c3ac9-6949-4765-8772-40bf09b53ce6"
   },
   "source": [
    "```python\n",
    "\n",
    "check = pd.read_sql(\"SELECT * FROM StationsData LIMIT 5\", con=con)\n",
    "check\n",
    "\n",
    "```"
   ]
  },
  {
   "cell_type": "markdown",
   "metadata": {
    "colab_type": "text",
    "id": "pNBv8DFaGRZy"
   },
   "source": [
    "Looks good! Last but not least, let's set things up so that our database automatically updates every 15 seconds. "
   ]
  },
  {
   "cell_type": "markdown",
   "metadata": {
    "colab": {
     "base_uri": "https://localhost:8080/",
     "height": 1000
    },
    "colab_type": "code",
    "collapsed": true,
    "id": "xHUeCi00GRZz",
    "outputId": "b5683a65-9d33-45aa-9064-85b910b4d11f"
   },
   "source": [
    "```python\n",
    "\n",
    "import time \n",
    "import json \n",
    "import urllib.request\n",
    "from datetime import datetime\n",
    "\n",
    "while True:\n",
    "\n",
    "    with urllib.request.urlopen(\"https://gbfs.citibikenyc.com/gbfs/en/station_status.json\") as url:\n",
    "        data = json.loads(url.read().decode())\n",
    "        print(data)\n",
    "\n",
    "    clean_data = values_list[0]['stations']\n",
    "\n",
    "    query_template = \"\"\"INSERT OR IGNORE INTO StationsData(station_id, num_ebikes_available, num_bikes_available, \\is_installed, last_reported, num_docks_disabled, is_renting, eightd_has_available_keys, \\\n",
    "num_docks_available, num_bikes_disabled, legacy_id, station_status, is_returning) \\\n",
    "VALUES (?, ?, ?, ?, ?, ?, ?, ?, ?, ?, ?, ?, ?);\"\"\"\n",
    "\n",
    "    for entry in clean_data: # for every station entry in the json \n",
    "        station_id = int(entry['station_id']) # find and set station_id\n",
    "        num_ebikes_available = int(entry['num_ebikes_available'])\n",
    "        num_bikes_available = int(entry['num_bikes_available'])\n",
    "        is_installed = int(entry['is_installed'])\n",
    "        last_reported = int(entry['last_reported'])\n",
    "        num_docks_disabled = int(entry['num_docks_disabled'])\n",
    "        is_renting = int(entry['is_renting'])\n",
    "        eightd_has_available_keys = str(entry['eightd_has_available_keys'])\n",
    "        num_docks_available = int(entry['num_docks_available'])\n",
    "        num_bikes_disabled = int(entry['num_bikes_disabled'])\n",
    "        legacy_id = int(entry['legacy_id'])\n",
    "        station_status = str(entry['station_status'])\n",
    "        is_returning = int(entry['is_returning'])\n",
    "                              \n",
    "        #print(\"Inserting Station:\", station_id, num_ebikes_available, num_bikes_available, is_installed, last_reported, num_docks_disabled, is_renting, eightd_has_available_keys, num_docks_available, num_bikes_disabled, legacy_id, station_status, is_returning) \n",
    "        \n",
    "        query_parameters = (station_id, num_ebikes_available, num_bikes_available, is_installed, last_reported, num_docks_disabled, is_renting, eightd_has_available_keys, num_docks_available, num_bikes_disabled, legacy_id, station_status, is_returning) \n",
    "        \n",
    "        con.execute(query_template, query_parameters)\n",
    "        \n",
    "    con.commit()\n",
    "        \n",
    "    time.sleep(15)\n",
    "    \n",
    "```"
   ]
  },
  {
   "cell_type": "markdown",
   "metadata": {
    "colab_type": "text",
    "id": "sIVlJs5TGRZ2"
   },
   "source": [
    "---"
   ]
  },
  {
   "cell_type": "markdown",
   "metadata": {
    "colab_type": "text",
    "id": "KU6F9cKtGRZ2"
   },
   "source": [
    "I hope this has helped you find your programming legs! Next week we'll get back to descriptive analytics using Python and Pandas. For now, take time to refresh yourself on the content covered in \"Introduction to Programming\". \n",
    "\n",
    "If you need a referesher on your SQL skills, check out the \"Supplementary Info\" directory in the class repo."
   ]
  }
 ],
 "metadata": {
  "colab": {
   "collapsed_sections": [],
   "name": "Diving_In_Solved_2020.ipynb",
   "provenance": [],
   "toc_visible": true
  },
  "kernelspec": {
   "display_name": "Python 3",
   "language": "python",
   "name": "python3"
  },
  "language_info": {
   "codemirror_mode": {
    "name": "ipython",
    "version": 3
   },
   "file_extension": ".py",
   "mimetype": "text/x-python",
   "name": "python",
   "nbconvert_exporter": "python",
   "pygments_lexer": "ipython3",
   "version": "3.7.3"
  }
 },
 "nbformat": 4,
 "nbformat_minor": 1
}
